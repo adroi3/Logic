{
 "cells": [
  {
   "cell_type": "code",
   "execution_count": null,
   "metadata": {},
   "outputs": [],
   "source": [
    "from IPython.core.display import HTML\n",
    "with open('style.css') as file:\n",
    "    css = file.read()\n",
    "HTML(css)"
   ]
  },
  {
   "cell_type": "markdown",
   "metadata": {},
   "source": [
    "# Evaluation of Formulas from First Order Logic"
   ]
  },
  {
   "cell_type": "markdown",
   "metadata": {},
   "source": [
    "In this notebook we show how formulas from first order logic can be evaluated in Python."
   ]
  },
  {
   "cell_type": "markdown",
   "metadata": {},
   "source": [
    "## The Axioms of Group Theory"
   ]
  },
  {
   "cell_type": "markdown",
   "metadata": {},
   "source": [
    "To have a nontrivial example of formulas, we use the formulas from \n",
    "[group theory](https://en.wikipedia.org/wiki/Group_theory).  \n",
    "A *group* is defined as a triple \n",
    "$$ \\langle G, \\mathrm{e}, * \\rangle $$\n",
    "where \n",
    "- $G$ is a non-empty set,\n",
    "- $\\mathrm{e}$ is an element from $G$, and\n",
    "- $*:G \\times G \\rightarrow G$ is a binary function on $G$.\n",
    "- Furthermore, the following axioms have to be satisfied:\n",
    "  * $\\forall x: \\mathrm{e} * x = x$,\n",
    "  * $\\forall x: \\exists{y}: y * x = \\mathrm{e}$,\n",
    "  * $\\forall x: \\forall y: \\forall z: (x * y) * z = x * (y * z)$.\n",
    "- A group is <em style=\"color:blue\">commutative</em> if, additionally, the following formula is satisfied:\n",
    "  $$\\forall x: \\forall y: x * y = y * x. $$"
   ]
  },
  {
   "cell_type": "code",
   "execution_count": null,
   "metadata": {},
   "outputs": [],
   "source": [
    "import folParser as fp"
   ]
  },
  {
   "cell_type": "markdown",
   "metadata": {},
   "source": [
    "Our parser distinguishes variables and function symbol as follows:\n",
    "- A word starting with a lower case letter is interpreted as a *variable*.\n",
    "- A word starting with an upper case letter is assumed to be a *function* or \n",
    "  *predicate symbol*.\n",
    "\n",
    "Therefore, we represent the symbols from group theory as follows:\n",
    "- The neutral element $\\mathrm{e}$ of group theory is represented as the nullary function symbol `E`.\n",
    "- As our parser does not support using the symbol $*$ as a binary operator, we will use the function symbol     \n",
    "  `Multiply` to represent this operator.\n",
    "- The predicate symbol $=$ is repesented as `Equals`\n",
    "\n",
    "Then the formulas of group theory can be represented as follows:"
   ]
  },
  {
   "cell_type": "code",
   "execution_count": null,
   "metadata": {},
   "outputs": [],
   "source": [
    "G1 = '∀x:Equals(Multiply(E(),x),x)'"
   ]
  },
  {
   "cell_type": "code",
   "execution_count": null,
   "metadata": {},
   "outputs": [],
   "source": [
    "G2 = '∀x:∃y:Equals(Multiply(y,x),E())'"
   ]
  },
  {
   "cell_type": "code",
   "execution_count": null,
   "metadata": {},
   "outputs": [],
   "source": [
    "G3 = '∀x:∀y:∀z:Equals(Multiply(Multiply(x,y),z), Multiply(x,Multiply(y,z)))'"
   ]
  },
  {
   "cell_type": "code",
   "execution_count": null,
   "metadata": {},
   "outputs": [],
   "source": [
    "G4 = '∀x:∀y:Equals(Multiply(x,y), Multiply(y,x))'"
   ]
  },
  {
   "cell_type": "markdown",
   "metadata": {},
   "source": [
    "The function $\\texttt{parse}(s)$ takes a string $s$ and converts it into a nested tuple."
   ]
  },
  {
   "cell_type": "code",
   "execution_count": null,
   "metadata": {},
   "outputs": [],
   "source": [
    "def parse(s):\n",
    "    \"Parse string s as fol formula.\"\n",
    "    p = fp.LogicParser(s, {'x', 'y', 'z'})\n",
    "    return p.parse()"
   ]
  },
  {
   "cell_type": "code",
   "execution_count": null,
   "metadata": {},
   "outputs": [],
   "source": [
    "F1 = parse(G1)\n",
    "F1"
   ]
  },
  {
   "cell_type": "code",
   "execution_count": null,
   "metadata": {},
   "outputs": [],
   "source": [
    "F2 = parse(G2)\n",
    "F2"
   ]
  },
  {
   "cell_type": "code",
   "execution_count": null,
   "metadata": {},
   "outputs": [],
   "source": [
    "F3 = parse(G3)\n",
    "F3"
   ]
  },
  {
   "cell_type": "code",
   "execution_count": null,
   "metadata": {},
   "outputs": [],
   "source": [
    "F4 = parse(G4)\n",
    "F4"
   ]
  },
  {
   "cell_type": "markdown",
   "metadata": {},
   "source": [
    "## A Structure for Group Theory"
   ]
  },
  {
   "cell_type": "markdown",
   "metadata": {},
   "source": [
    "The smallest group has just two elements.  We define these elements to be the numbers `0` and  `1`.  We store these elements in the variables  <tt>a</tt> and <tt>b</tt>.  Then, we can define the universe <tt>U</tt> as follows:"
   ]
  },
  {
   "cell_type": "code",
   "execution_count": null,
   "metadata": {},
   "outputs": [],
   "source": [
    "U = { 0, 1 }"
   ]
  },
  {
   "cell_type": "markdown",
   "metadata": {},
   "source": [
    "Next, we need to define the nullary function that represents the nullary function <tt>E</tt>.  We define this function as a dictionary mapping the empty tuple into the element <tt>a</tt>. "
   ]
  },
  {
   "cell_type": "code",
   "execution_count": null,
   "metadata": {},
   "outputs": [],
   "source": [
    "NeutralElement = { (): 0 }"
   ]
  },
  {
   "cell_type": "markdown",
   "metadata": {},
   "source": [
    "The binary function symbol <tt>Multiply</tt> is implemented as the dictionary <tt>Product</tt>:"
   ]
  },
  {
   "cell_type": "code",
   "execution_count": null,
   "metadata": {},
   "outputs": [],
   "source": [
    "Product = { (0, 0): 0,  (0, 1): 1,  (1, 0): 1,  (1, 1): 0 }"
   ]
  },
  {
   "cell_type": "markdown",
   "metadata": {},
   "source": [
    "The predicate symbol <tt>Equals</tt> is implemented as the binary relation <tt>Identity</tt>."
   ]
  },
  {
   "cell_type": "code",
   "execution_count": null,
   "metadata": {},
   "outputs": [],
   "source": [
    "Identity = { (x, x) for x in U }\n",
    "Identity"
   ]
  },
  {
   "cell_type": "markdown",
   "metadata": {},
   "source": [
    "Now the interpretation $\\mathcal{J}$ can be implemented as a dictionary."
   ]
  },
  {
   "cell_type": "code",
   "execution_count": null,
   "metadata": {},
   "outputs": [],
   "source": [
    "J = { \"E\": NeutralElement, \"Multiply\": Product, \"Equals\": Identity }"
   ]
  },
  {
   "cell_type": "markdown",
   "metadata": {},
   "source": [
    "Next, we define the *first order structure* $\\mathcal{S}$."
   ]
  },
  {
   "cell_type": "code",
   "execution_count": null,
   "metadata": {},
   "outputs": [],
   "source": [
    "S = (U, J)\n",
    "S"
   ]
  },
  {
   "cell_type": "markdown",
   "metadata": {},
   "source": [
    "Finally, we define an *interpretation* $\\mathcal{I}$ of the variables $x$, $y$, and $z$. "
   ]
  },
  {
   "cell_type": "code",
   "execution_count": null,
   "metadata": {},
   "outputs": [],
   "source": [
    "I = { \"x\": 0, \"y\": 1, \"z\": 0 } \n",
    "I"
   ]
  },
  {
   "cell_type": "markdown",
   "metadata": {},
   "source": [
    "## Functions to Evaluate Formulas"
   ]
  },
  {
   "cell_type": "markdown",
   "metadata": {},
   "source": [
    "The procedure $\\texttt{evalTerm}(t, \\mathcal{S}, \\mathcal{I})$ evaluates the term $t$ in the structure $\\mathcal{S}$ using the variable assignment $\\mathcal{I}$."
   ]
  },
  {
   "cell_type": "code",
   "execution_count": null,
   "metadata": {},
   "outputs": [],
   "source": [
    "L = [1, 2, 3, 4]\n",
    "x, *r = L\n",
    "x, r"
   ]
  },
  {
   "cell_type": "code",
   "execution_count": null,
   "metadata": {},
   "outputs": [],
   "source": [
    "def evalTerm(t, S, I):\n",
    "    if isinstance(t, str):  # t is a variable\n",
    "        return I[t]\n",
    "    _, J     = S      # J is the dictionary of interpretations\n",
    "    f, *args = t      # function symbol and arguments\n",
    "    fJ       = J[f]   # interpretation of function symbol\n",
    "    argVals  = evalTermTuple(args, S, I)\n",
    "    return fJ[argVals]"
   ]
  },
  {
   "cell_type": "markdown",
   "metadata": {},
   "source": [
    "The procedure $\\texttt{evalTermTuple}(\\texttt{Ts}, \\mathcal{S}, \\mathcal{I})$ evaluates the tuple of terms $\\texttt{Ts}$, given the structure $\\mathcal{S}$ and the variable assignment $\\mathcal{I}$."
   ]
  },
  {
   "cell_type": "code",
   "execution_count": null,
   "metadata": {},
   "outputs": [],
   "source": [
    "def evalTermTuple(Ts, S, I):\n",
    "    return tuple(evalTerm(t, S, I) for t in Ts)"
   ]
  },
  {
   "cell_type": "code",
   "execution_count": null,
   "metadata": {},
   "outputs": [],
   "source": [
    "t = parse('Multiply(E(),x)')\n",
    "t"
   ]
  },
  {
   "cell_type": "code",
   "execution_count": null,
   "metadata": {},
   "outputs": [],
   "source": [
    "evalTerm(t, S, I)"
   ]
  },
  {
   "cell_type": "markdown",
   "metadata": {},
   "source": [
    "This procedure evaluates the atomic formula a in the structure S using the variable assignment I."
   ]
  },
  {
   "cell_type": "code",
   "execution_count": null,
   "metadata": {},
   "outputs": [],
   "source": [
    "def evalAtomic(a, S, I):\n",
    "    _, J     = S     # J is the dictionary of interpretations\n",
    "    p, *args = a     # predicate symbol and arguments\n",
    "    pJ       = J[p]  # interpretation of predicate symbol\n",
    "    argVals  = evalTermTuple(args, S, I)\n",
    "    return argVals in pJ"
   ]
  },
  {
   "cell_type": "code",
   "execution_count": null,
   "metadata": {},
   "outputs": [],
   "source": [
    "f = parse('Equals(Multiply(E(),x),x)')\n",
    "f"
   ]
  },
  {
   "cell_type": "code",
   "execution_count": null,
   "metadata": {},
   "outputs": [],
   "source": [
    "evalAtomic(f, S, I)"
   ]
  },
  {
   "cell_type": "markdown",
   "metadata": {},
   "source": [
    "Given a variable assignment $\\mathcal{I}$, a variable $x$, and an element $c$ from the universe $\\mathcal{U}$, the function $\\texttt{modify}(\\mathcal{I}, x, c)$ computes the variable assignment $\\mathcal{I}[x/c]$ which is defined for all variables $y$ as follows:\n",
    "$$ I[x/c](y) = \\left\\{ \\begin{array}{ll}\n",
    "                        c     & \\mbox{if $x = y$,}  \\\\\n",
    "                        I(y)  & \\mbox{otherwise.}\n",
    "                        \\end{array}\n",
    "               \\right.\n",
    "$$"
   ]
  },
  {
   "cell_type": "code",
   "execution_count": null,
   "metadata": {},
   "outputs": [],
   "source": [
    "def modify(I, x, c):\n",
    "    J = I.copy() # do not modify I\n",
    "    J[x] = c\n",
    "    return J"
   ]
  },
  {
   "cell_type": "markdown",
   "metadata": {},
   "source": [
    "Given a first order logic formula $F$, a structure $\\mathcal{S}$, and a variable assignment $\\mathcal{I}$, the function $\\texttt{evalFormula}(F, \\mathcal{S}, \\mathcal{I})$ computes the truth value of the formula $F$."
   ]
  },
  {
   "cell_type": "code",
   "execution_count": null,
   "metadata": {},
   "outputs": [],
   "source": [
    "def evalFormula(F, S, I):\n",
    "    U, _ = S # U is the universe\n",
    "    if F[0] == '⊤': return True\n",
    "    if F[0] == '⊥': return False\n",
    "    if F[0] == '¬': return not evalFormula(F[1], S, I)\n",
    "    if F[0] == '∧': return evalFormula(F[1], S, I) and evalFormula(F[2], S, I)\n",
    "    if F[0] == '∨': return evalFormula(F[1], S, I) or evalFormula(F[2], S, I)\n",
    "    if F[0] == '→': return not evalFormula(F[1], S, I) or evalFormula(F[2], S, I)\n",
    "    if F[0] == '↔': return evalFormula(F[1], S, I) == evalFormula(F[2], S, I)\n",
    "    if F[0] == '∀': \n",
    "        x, G = F[1:] \n",
    "        return all({ evalFormula(G, S, modify(I, x, c)) for c in U })\n",
    "    if F[0] == '∃':\n",
    "        x, G = F[1:] \n",
    "        return any({ evalFormula(G, S, modify(I, x, c)) for c in U })\n",
    "    return evalAtomic(F, S, I) "
   ]
  },
  {
   "cell_type": "markdown",
   "metadata": {},
   "source": [
    "## Checking whether $\\mathcal{S}$ is a Group"
   ]
  },
  {
   "cell_type": "code",
   "execution_count": null,
   "metadata": {},
   "outputs": [],
   "source": [
    "print(f\"evalFormula({G1}, S, I) = {evalFormula(F1, S, I)}\")\n",
    "print(f\"evalFormula({G2}, S, I) = {evalFormula(F2, S, I)}\")\n",
    "print(f\"evalFormula({G3}, S, I) = {evalFormula(F3, S, I)}\")\n",
    "print(f\"evalFormula({G4}, S, I) = {evalFormula(F4, S, I)}\")"
   ]
  },
  {
   "cell_type": "markdown",
   "metadata": {},
   "source": [
    "This shows that the structure $\\mathcal{S}$ defined above is indeed a group.  Furthermore, it is a *commutative* group."
   ]
  },
  {
   "cell_type": "markdown",
   "metadata": {},
   "source": [
    "## Another Example\n",
    "\n",
    "Let's show that the formula $\\forall x: \\exists y:p(x,y) \\rightarrow \\exists y:\\forall x:p(x,y)$ is not universally valid, i.e. let's show the following:\n",
    "$$ \\not\\models \\forall x: \\exists y:p(x,y) \\rightarrow \\exists y:\\forall x:p(x,y) $$"
   ]
  },
  {
   "cell_type": "code",
   "execution_count": null,
   "metadata": {},
   "outputs": [],
   "source": [
    "G = '∀x:∃y:P(x,y)→∃y:∀x:P(x,y)'"
   ]
  },
  {
   "cell_type": "code",
   "execution_count": null,
   "metadata": {},
   "outputs": [],
   "source": [
    "F = parse(G)\n",
    "F"
   ]
  },
  {
   "cell_type": "markdown",
   "metadata": {},
   "source": [
    "Our aim is to construct a structure $\\mathcal{S} = \\langle\\mathcal{U}, \\mathcal{J} \\rangle$  such that \n",
    "$$\\mathcal{S}(F) = \\mathtt{False}.$$ "
   ]
  },
  {
   "cell_type": "code",
   "execution_count": null,
   "metadata": {},
   "outputs": [],
   "source": [
    "U = {0, 1}"
   ]
  },
  {
   "cell_type": "code",
   "execution_count": null,
   "metadata": {},
   "outputs": [],
   "source": [
    "pJ = { (0, 0), (1, 1) }"
   ]
  },
  {
   "cell_type": "code",
   "execution_count": null,
   "metadata": {},
   "outputs": [],
   "source": [
    "J = { 'P': pJ }"
   ]
  },
  {
   "cell_type": "code",
   "execution_count": null,
   "metadata": {},
   "outputs": [],
   "source": [
    "S = (U, J)"
   ]
  },
  {
   "cell_type": "code",
   "execution_count": null,
   "metadata": {},
   "outputs": [],
   "source": [
    "I = { 'x': 0, 'y': 0 }"
   ]
  },
  {
   "cell_type": "code",
   "execution_count": null,
   "metadata": {},
   "outputs": [],
   "source": [
    "evalFormula(F, S, I)"
   ]
  },
  {
   "cell_type": "code",
   "execution_count": null,
   "metadata": {},
   "outputs": [],
   "source": []
  }
 ],
 "metadata": {
  "hide_input": false,
  "kernelspec": {
   "display_name": "Python 3",
   "language": "python",
   "name": "python3"
  },
  "language_info": {
   "codemirror_mode": {
    "name": "ipython",
    "version": 3
   },
   "file_extension": ".py",
   "mimetype": "text/x-python",
   "name": "python",
   "nbconvert_exporter": "python",
   "pygments_lexer": "ipython3",
   "version": "3.8.5"
  },
  "toc": {
   "base_numbering": 1,
   "nav_menu": {},
   "number_sections": true,
   "sideBar": true,
   "skip_h1_title": false,
   "title_cell": "Table of Contents",
   "title_sidebar": "Contents",
   "toc_cell": false,
   "toc_position": {},
   "toc_section_display": true,
   "toc_window_display": false
  },
  "varInspector": {
   "cols": {
    "lenName": 16,
    "lenType": 16,
    "lenVar": 40
   },
   "kernels_config": {
    "python": {
     "delete_cmd_postfix": "",
     "delete_cmd_prefix": "del ",
     "library": "var_list.py",
     "varRefreshCmd": "print(var_dic_list())"
    },
    "r": {
     "delete_cmd_postfix": ") ",
     "delete_cmd_prefix": "rm(",
     "library": "var_list.r",
     "varRefreshCmd": "cat(var_dic_list()) "
    }
   },
   "types_to_exclude": [
    "module",
    "function",
    "builtin_function_or_method",
    "instance",
    "_Feature"
   ],
   "window_display": false
  }
 },
 "nbformat": 4,
 "nbformat_minor": 2
}
