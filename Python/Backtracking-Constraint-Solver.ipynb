{
 "cells": [
  {
   "cell_type": "code",
   "execution_count": null,
   "metadata": {},
   "outputs": [],
   "source": [
    "from IPython.core.display import HTML\n",
    "with open('style.css', 'r') as file:\n",
    "    css = file.read()\n",
    "HTML(css)"
   ]
  },
  {
   "cell_type": "markdown",
   "metadata": {},
   "source": [
    "# A simple Backtracking Constraint Solver"
   ]
  },
  {
   "cell_type": "markdown",
   "metadata": {},
   "source": [
    "The module `extractVariables` is implements the function `extractVars`.  This function takes one argument $f$ which is supposed to be a Python expression.  The function returns a set of all variables occuring in $f$. "
   ]
  },
  {
   "cell_type": "code",
   "execution_count": null,
   "metadata": {},
   "outputs": [],
   "source": [
    "import extractVariables as ev"
   ]
  },
  {
   "cell_type": "code",
   "execution_count": null,
   "metadata": {},
   "outputs": [],
   "source": [
    "ev.extractVars(\"A == 𝜋 * r ** 2\")"
   ]
  },
  {
   "cell_type": "markdown",
   "metadata": {},
   "source": [
    "The input to the function `solve` is a *constraint satisfaction problem* `CSP`.  \n",
    "The function `solve` tries to compute a solution of this problem via *backtracking*.\n",
    "Its main purpose is to transform the given *CSP* into an *annotated CSP* where all the variables \n",
    "are *annotated* with their variables, i.e. the third component of the *CSP* is now no longer a set of formulas but rather a set of pairs of the form `(f, V)` where `f` is a formula and `V`is the set of variables occurring in this formula.  It then calls `backtrack_search` to solve the *annotated CSP*."
   ]
  },
  {
   "cell_type": "code",
   "execution_count": null,
   "metadata": {},
   "outputs": [],
   "source": [
    "def solve(CSP):\n",
    "    'Compute a solution for the given constraint satisfaction problem.'\n",
    "    Variables, Values, Constraints = CSP\n",
    "    CSP = (Variables,\n",
    "           Values,\n",
    "           [(f, ev.extractVars(f) & set(Variables)) for f in Constraints]\n",
    "          )\n",
    "    try:\n",
    "        return backtrack_search({}, CSP)\n",
    "    except Backtrack:\n",
    "        return  # no solution found"
   ]
  },
  {
   "cell_type": "markdown",
   "metadata": {},
   "source": [
    "Given a consistent *partial variable assignment* `Assignment` and constraint satisfaction problem `CSP`,\n",
    "this function tries to extend the given assignment recursively and thereby produce a solution of the given CSP."
   ]
  },
  {
   "cell_type": "code",
   "execution_count": null,
   "metadata": {},
   "outputs": [],
   "source": [
    "def backtrack_search(Assignment, CSP):\n",
    "    '''\n",
    "    Given a partial variable assignment, this function tries to complete this \n",
    "    assignment towards a solution of the CSP.\n",
    "    '''\n",
    "    Variables, Values, Constraints = CSP\n",
    "    if len(Assignment) == len(Variables):\n",
    "        return Assignment\n",
    "    var = [x for x in Variables if x not in Assignment][0]\n",
    "    for value in Values:\n",
    "        try:\n",
    "            if isConsistent(var, value, Assignment, Constraints):\n",
    "                NewAssign      = Assignment.copy()\n",
    "                NewAssign[var] = value\n",
    "                return backtrack_search(NewAssign, CSP)\n",
    "        except Backtrack:\n",
    "            continue\n",
    "    # all values have been tried without success, no solution has been found\n",
    "    raise Backtrack()\n",
    "    \n",
    "class Backtrack(Exception):\n",
    "    pass"
   ]
  },
  {
   "cell_type": "markdown",
   "metadata": {},
   "source": [
    "The function `isConsistent` takes four arguments:\n",
    "- `var` is a variable.\n",
    "- `value` is a value that is to be assigned to the variable `var`.\n",
    "- `Assignment` is a partial variable assignment that does not assign a value for `var`\n",
    "  and that is consistent with all constraints in the set `Constraints`.\n",
    "- `Constraints` is a set of logical formulas.\n",
    "\n",
    "The function checks whether the assignment \n",
    "$$ \\texttt{Assignment} \\cup \\{\\texttt{var} \\mapsto \\texttt{value}\\}$$\n",
    "violates any of the formulas in `Constraints`."
   ]
  },
  {
   "cell_type": "code",
   "execution_count": null,
   "metadata": {},
   "outputs": [],
   "source": [
    "def isConsistent(var, value, Assignment, Constraints):\n",
    "    NewAssign      = Assignment.copy()\n",
    "    NewAssign[var] = value\n",
    "    return all(eval(f, NewAssign) for (f, Vs) in Constraints\n",
    "                                  if var in Vs and Vs <= NewAssign.keys()\n",
    "              )"
   ]
  },
  {
   "cell_type": "code",
   "execution_count": null,
   "metadata": {},
   "outputs": [],
   "source": [
    "eval('x + y == 7 * z', { 'x': 5, 'y': 4, 'z': 1 })"
   ]
  },
  {
   "cell_type": "code",
   "execution_count": null,
   "metadata": {},
   "outputs": [],
   "source": [
    "8 ** 8"
   ]
  },
  {
   "cell_type": "code",
   "execution_count": null,
   "metadata": {},
   "outputs": [],
   "source": []
  }
 ],
 "metadata": {
  "kernelspec": {
   "display_name": "Python 3",
   "language": "python",
   "name": "python3"
  },
  "language_info": {
   "codemirror_mode": {
    "name": "ipython",
    "version": 3
   },
   "file_extension": ".py",
   "mimetype": "text/x-python",
   "name": "python",
   "nbconvert_exporter": "python",
   "pygments_lexer": "ipython3",
   "version": "3.9.0"
  }
 },
 "nbformat": 4,
 "nbformat_minor": 4
}
