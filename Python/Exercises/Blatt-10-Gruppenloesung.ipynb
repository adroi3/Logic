{
 "cells": [
  {
   "cell_type": "code",
   "execution_count": 105,
   "metadata": {},
   "outputs": [
    {
     "data": {
      "text/html": [
       "<link href='http://fonts.googleapis.com/css?family=Alegreya+Sans:100,300,400,500,700,800,900,100italic,300italic,400italic,500italic,700italic,800italic,900italic' rel='stylesheet' type='text/css'>\n",
       "<link href='http://fonts.googleapis.com/css?family=Arvo:400,700,400italic' rel='stylesheet' type='text/css'>\n",
       "<link href='http://fonts.googleapis.com/css?family=PT+Mono' rel='stylesheet' type='text/css'>\n",
       "<link href='http://fonts.googleapis.com/css?family=Shadows+Into+Light' rel='stylesheet' type='text/css'>\n",
       "<link href='http://fonts.googleapis.com/css?family=Philosopher:400,700,400italic,700italic' rel='stylesheet' type='text/css'>\n",
       "\n",
       "<style>\n",
       "\n",
       "@font-face {\n",
       "    font-family: \"Computer Modern\";\n",
       "    src: url('http://mirrors.ctan.org/fonts/cm-unicode/fonts/otf/cmunss.otf');\n",
       "}\n",
       "\n",
       ".container { width: 100% }\n",
       "\n",
       "/* Formatting for header cells */\n",
       ".text_cell_render h1 {\n",
       "    font-family: 'Philosopher', sans-serif;\n",
       "    font-weight: 400;\n",
       "    font-size: 2.2em;\n",
       "    line-height: 100%;\n",
       "    color: rgb(0, 80, 120);\n",
       "    margin-bottom: 0.1em;\n",
       "    margin-top: 0.1em;\n",
       "    display: block;\n",
       "}\t\n",
       ".text_cell_render h2 {\n",
       "    font-family: 'Philosopher', serif;\n",
       "    font-weight: 400;\n",
       "    font-size: 1.9em;\n",
       "    line-height: 100%;\n",
       "    color: rgb(200,100,0);\n",
       "    margin-bottom: 0.1em;\n",
       "    margin-top: 0.1em;\n",
       "    display: block;\n",
       "}\t\n",
       "\n",
       ".text_cell_render h3 {\n",
       "    font-family: 'Philosopher', serif;\n",
       "    margin-top:12px;\n",
       "    margin-bottom: 3px;\n",
       "    font-style: italic;\n",
       "    color: rgb(94,127,192);\n",
       "}\n",
       "\n",
       ".text_cell_render h4 {\n",
       "    font-family: 'Philosopher', serif;\n",
       "}\n",
       "\n",
       ".text_cell_render h5 {\n",
       "    font-family: 'Alegreya Sans', sans-serif;\n",
       "    font-weight: 300;\n",
       "    font-size: 16pt;\n",
       "    color: grey;\n",
       "    font-style: italic;\n",
       "    margin-bottom: .1em;\n",
       "    margin-top: 0.1em;\n",
       "    display: block;\n",
       "}\n",
       "\n",
       ".text_cell_render h6 {\n",
       "    font-family: 'PT Mono', sans-serif;\n",
       "    font-weight: 300;\n",
       "    font-size: 10pt;\n",
       "    color: grey;\n",
       "    margin-bottom: 1px;\n",
       "    margin-top: 1px;\n",
       "}\n",
       "\n",
       ".text_cell_render em {\n",
       "    font-family: 'Philosopher', sans-serif;\n",
       "    color:        blue;\n",
       "    background-color: rgb(255,220,180);\n",
       "    font-size:    110%;\n",
       "    margin-left:   2px;\n",
       "    margin-right:  2px;\n",
       "    font-weight:   100;\n",
       "}\n",
       "\n",
       ".text_cell_render b {\n",
       "    color:            rgb(255,195,195);\n",
       "    background-color: rgb(0,0,0);\n",
       "    font-size:    110%;\n",
       "    margin-left:   2px;\n",
       "    margin-right:  2px;\n",
       "    font-weight:   650;\n",
       "}\n",
       "\n",
       ".text_cell_render tt {\n",
       "    font-size:    120%;\n",
       "    margin-left:   2px;\n",
       "    margin-right:  2px;\n",
       "    font-weight:   150;\n",
       "}\n",
       "\n",
       ".Codemirror {\n",
       "    font-family: \"PT Mono\";\n",
       "    font-size: 100%;\n",
       "}\n",
       "\n",
       "</style>\n",
       "\n"
      ],
      "text/plain": [
       "<IPython.core.display.HTML object>"
      ]
     },
     "execution_count": 105,
     "metadata": {},
     "output_type": "execute_result"
    }
   ],
   "source": [
    "from IPython.core.display import HTML\n",
    "with open('../style.css', 'r') as file:\n",
    "    css = file.read()\n",
    "HTML(css)"
   ]
  },
  {
   "cell_type": "markdown",
   "metadata": {},
   "source": [
    "# The Zebra Puzzle"
   ]
  },
  {
   "cell_type": "markdown",
   "metadata": {},
   "source": [
    "The following puzzle appeared in the magazine *Life International* on the 17th of December in the year 1962:\n",
    "<ol>\n",
    "    <li>There are five houses.</li>\n",
    "    <li>The Englishman lives in the red house.</li>\n",
    "    <li>The Spaniard owns the dog.</li>\n",
    "    <li>Coffee is drunk in the green house.</li>\n",
    "    <li>The Ukrainian drinks tea.</li>\n",
    "    <li>The green house is immediately to the right of the ivory house.</li>\n",
    "    <li>The Old Gold smoker owns snails.</li>\n",
    "    <li>Kools are smoked in the yellow house.</li>\n",
    "    <li>Milk is drunk in the middle house.</li>\n",
    "    <li>The Norwegian lives in the first house.</li>\n",
    "    <li>The man who smokes Chesterfields lives in the house next to the man with the fox.</li>\n",
    "    <li>Kools are smoked in the house next to the house where the horse is kept.</li>\n",
    "    <li>The Lucky Strike smoker drinks orange juice.</li>\n",
    "    <li>The Japanese smokes Parliaments.</li>\n",
    "    <li>The Norwegian lives next to the blue house.</li>\n",
    "</ol>\n",
    "Furthermore, each of the five houses is painted in a different colour, their inhabitants are of different nationalities, own different pets, drink different beverages, and smoke different brands of cigarettes.\n",
    "\n",
    "Your task is to write a program that answers the following questions: \n",
    "<ul>\n",
    "    <li><b>Who drinks water?</b></li>\n",
    "    <li><b>Who owns the zebra?</b></li>\n",
    "</ul>"
   ]
  },
  {
   "cell_type": "markdown",
   "metadata": {},
   "source": [
    "## Choosing the Appropriate Variables"
   ]
  },
  {
   "cell_type": "markdown",
   "metadata": {},
   "source": [
    "In order to solve this problem we use the following propositional variables:  \n",
    "<ol>\n",
    "<li> For $i \\in \\{1,\\cdots,5\\}$ the variable $\\texttt{English}\\langle i \\rangle$ expresses the fact\n",
    "     that the Englishman lives in house number $i$.\n",
    "     The remaining nationalities are coded using the variables\n",
    "     $\\texttt{Spanish}\\langle i \\rangle$, $\\texttt{Ukrainian}\\langle i \\rangle$, $\\texttt{Norwegian}\\langle i \\rangle$,      and $\\texttt{Japanese}\\langle i \\rangle$.\n",
    "     </li>\n",
    "<li> For $i \\in \\{1,\\cdots,5\\}$ the variable $\\mathtt{Red}\\langle i \\rangle$ expresses that house number $i$ is red.\n",
    "     We use the variables $\\texttt{Green}\\langle i \\rangle$, $\\texttt{Ivory}\\langle i \\rangle$, $\\texttt{Yellow}\\langle i \\rangle$, and $\\texttt{Blue}\\langle i \\rangle$ to encode the remaining colors.\n",
    "     </li>\n",
    "<li> For $i \\in \\{1,\\cdots,5\\}$ the variable $\\texttt{OldGold}\\langle i \\rangle$ expresses that the inhabitant of house      number $i$ smokes cigarettes of the brand \"Old Gold\".\n",
    "     We use the variables $\\texttt{Kools}\\langle i \\rangle$, $\\texttt{Chesterfields}\\langle i \\rangle$,                      $\\texttt{LuckyStrike}\\langle i \\rangle$, and $\\texttt{Parliaments}\\langle i \\rangle$ to encode the remaining\n",
    "     cigarette brands.\n",
    "     </li>\n",
    "<li> For $i \\in \\{1,\\cdots,5\\}$ the variable $\\texttt{Dog}\\langle i \\rangle$ expresses the fact that the inhabitant \n",
    "     of house number $i$ keeps a dog as his pet. We use the variables\n",
    "     $\\texttt{Snails}\\langle i \\rangle$, $\\texttt{Fox}\\langle i \\rangle$, $\\texttt{Horse}\\langle i \\rangle$, and\n",
    "     $\\texttt{Zebra}\\langle i \\rangle$ to encode the remaining pets.\n",
    "     </li>\n",
    "<li> For $i \\in \\{1,\\cdots,5\\}$ the variable $\\texttt{Coffee}\\langle i \\rangle$ expresses the fact the the \n",
    "     inhabitant of house number $i$ drinks coffee.  We use the variables\n",
    "     $\\texttt{Milk}\\langle i \\rangle$, $\\texttt{OrangeJuice}\\langle i \\rangle$, $\\texttt{Tea}\\langle i \\rangle$, \n",
    "     and $\\texttt{Water}\\langle i \\rangle$ to encode the remaining drinks.\n",
    "     </li>\n",
    "<ol>\n",
    " \n",
    "<p> \n",
    "We are using the angular brackets \"$\\langle$\" and \"$\\rangle$\" because our parser for propositional logic accepts these symbols as part of variable names.  The parser would be confused if we would use the normal parenthesis.\n",
    "</p>"
   ]
  },
  {
   "cell_type": "markdown",
   "metadata": {},
   "source": [
    "## Importing the Necessary Modules"
   ]
  },
  {
   "cell_type": "markdown",
   "metadata": {},
   "source": [
    "Our goal is to solve this puzzle by first coding it as a solvability problem of propositional logic and then to solve the resulting set of clauses using the algorithm of Davis and Putnam."
   ]
  },
  {
   "cell_type": "code",
   "execution_count": 106,
   "metadata": {},
   "outputs": [],
   "source": [
    "import davisPutnam as dp"
   ]
  },
  {
   "cell_type": "markdown",
   "metadata": {},
   "source": [
    "In order to be able to transform formulas from propositional logic into sets of clauses we import the module <tt>cnf</tt> which implements the function <tt>normalize</tt> that takes a formula and transforms it into a set of clauses."
   ]
  },
  {
   "cell_type": "code",
   "execution_count": 107,
   "metadata": {},
   "outputs": [],
   "source": [
    "import cnf"
   ]
  },
  {
   "cell_type": "markdown",
   "metadata": {},
   "source": [
    "In order to write formulas conveniently, we use the parser for propositional logic."
   ]
  },
  {
   "cell_type": "code",
   "execution_count": 108,
   "metadata": {},
   "outputs": [],
   "source": [
    "import propLogParser as plp"
   ]
  },
  {
   "cell_type": "markdown",
   "metadata": {},
   "source": [
    "Using the parser and the module <tt>cnf</tt> we can impement a function $\\texttt{parseCNF}(s)$ that takes a string $s$ representing a formula and transforms $s$ into an equivalent set of clauses."
   ]
  },
  {
   "cell_type": "code",
   "execution_count": 109,
   "metadata": {},
   "outputs": [],
   "source": [
    "def parseCNF(s):\n",
    "    nestedTuple = plp.LogicParser(s).parse()\n",
    "    Clauses     = cnf.normalize(nestedTuple)\n",
    "    return Clauses"
   ]
  },
  {
   "cell_type": "code",
   "execution_count": 110,
   "metadata": {},
   "outputs": [
    {
     "data": {
      "text/plain": [
       "{frozenset({('¬', 'r'), 'q'}), frozenset({('¬', 'p'), 'q'})}"
      ]
     },
     "execution_count": 110,
     "metadata": {},
     "output_type": "execute_result"
    }
   ],
   "source": [
    "parseCNF('p ∨ r → q')"
   ]
  },
  {
   "cell_type": "markdown",
   "metadata": {},
   "source": [
    "## Auxiliary Functions"
   ]
  },
  {
   "cell_type": "markdown",
   "metadata": {},
   "source": [
    "In order to succinctly express the constraints that all houses have different colours, the inhabitants have different nationalities etc., it is convenient to implement a function $\\texttt{atMostOne}(V)$ that takes a set of variables $V$ and returns a set of formulas that is true if and only if all the variables from $V$ have different values."
   ]
  },
  {
   "cell_type": "code",
   "execution_count": 111,
   "metadata": {},
   "outputs": [],
   "source": [
    "def atMostOne(V):\n",
    "    return { frozenset({('¬',p), ('¬', q)}) for p in V\n",
    "                                            for q in V \n",
    "                                            if  p != q \n",
    "           }"
   ]
  },
  {
   "cell_type": "markdown",
   "metadata": {},
   "source": [
    "Given a name $f$ and an index $i \\in\\{1,2,3,4,5\\}$, the function $\\texttt{var}(i)$ creates the string \n",
    "$f\\langle i \\rangle$, e.g. the call <tt>var(\"Japanese\", 2)</tt> returns the following string:\n",
    "\n",
    "<tt>Japanese$\\langle$2$\\rangle$</tt>."
   ]
  },
  {
   "cell_type": "code",
   "execution_count": 112,
   "metadata": {},
   "outputs": [],
   "source": [
    "def var(f, i):\n",
    "    return f + \"<\" + str(i) + \">\" "
   ]
  },
  {
   "cell_type": "code",
   "execution_count": 113,
   "metadata": {},
   "outputs": [
    {
     "data": {
      "text/plain": [
       "'Japanese<2>'"
      ]
     },
     "execution_count": 113,
     "metadata": {},
     "output_type": "execute_result"
    }
   ],
   "source": [
    "var(\"Japanese\", 2)"
   ]
  },
  {
   "cell_type": "markdown",
   "metadata": {},
   "source": [
    "A call of the form $\\texttt{somewhere}(x)$ will return a clause that specifies that the person with property $x$ has to live in one of the houses from $1$ to $5$."
   ]
  },
  {
   "cell_type": "code",
   "execution_count": 114,
   "metadata": {},
   "outputs": [],
   "source": [
    "def somewhere(x):\n",
    "    return frozenset({ var(x, i) for i in range(1, 5+1) })"
   ]
  },
  {
   "cell_type": "code",
   "execution_count": 115,
   "metadata": {},
   "outputs": [
    {
     "data": {
      "text/plain": [
       "frozenset({'a<1>', 'a<2>', 'a<3>', 'a<4>', 'a<5>'})"
      ]
     },
     "execution_count": 115,
     "metadata": {},
     "output_type": "execute_result"
    }
   ],
   "source": [
    "somewhere(\"a\")"
   ]
  },
  {
   "cell_type": "markdown",
   "metadata": {},
   "source": [
    "Given an exclusive set of properties $S$ and a house number $i$, the function $\\texttt{atMostOneAt}(S, i)$ returns a set of clauses that specifies that the person living in house number $i$ has at most one of the properties from the set $S$.  For example, if \n",
    "$S = \\{\\texttt{\"Japanese\"}, \\texttt{\"English\"}, \\texttt{\"Spanish\"}, \\texttt{\"Norwegian\"}, \\texttt{\"Ukrainian\"}\\}$, \n",
    "then $\\texttt{atMostOne}(S, 3)$ specifies that the inhabitant of house number 3 has at most one of the nationalities from the set $S$."
   ]
  },
  {
   "cell_type": "code",
   "execution_count": 116,
   "metadata": {},
   "outputs": [],
   "source": [
    "def atMostOneAt(S, i):\n",
    "    return atMostOne({ var(x, i) for x in S })    "
   ]
  },
  {
   "cell_type": "code",
   "execution_count": 117,
   "metadata": {},
   "outputs": [
    {
     "data": {
      "text/plain": [
       "{frozenset({('¬', 'B<1>'), ('¬', 'C<1>')}),\n",
       " frozenset({('¬', 'A<1>'), ('¬', 'C<1>')}),\n",
       " frozenset({('¬', 'A<1>'), ('¬', 'B<1>')})}"
      ]
     },
     "execution_count": 117,
     "metadata": {},
     "output_type": "execute_result"
    }
   ],
   "source": [
    "atMostOneAt({\"A\", \"B\", \"C\"}, 1)"
   ]
  },
  {
   "cell_type": "markdown",
   "metadata": {},
   "source": [
    "Implement a function $\\texttt{onePerHouse}(S)$ which could be called as follows:\n",
    "$$\\texttt{onePerHouse}(\\{\\texttt{\"Japanese\"},\n",
    "       \\texttt{\"English\"}, \n",
    "       \\texttt{\"Spanish\"}, \\texttt{\"Norwegian\"}, \n",
    "       \\texttt{\"Ukrainian\"}\\})\n",
    "$$\n",
    "This function would create a set of clauses that expresses that there has to be a house where the Japanese lives, a house where the English lives, a house where the Spanish lives, a house where the Norwegian lives, and a house\n",
    "where the Ukrainian lives.  Furthermore, the set of clauses would create clauses that express that these five persons live in **different** houses.\n",
    "\n",
    "When implementing this function, you should use the functions <tt>somewhere</tt> and <tt>atMostOne</tt>."
   ]
  },
  {
   "cell_type": "code",
   "execution_count": 118,
   "metadata": {},
   "outputs": [],
   "source": [
    "def onePerHouse(S):\n",
    "    result = set()\n",
    "    \n",
    "    atMost = set()\n",
    "        \n",
    "    for i in range(1, 5+1):\n",
    "        atMost |= atMostOneAt(S, i)\n",
    "    \n",
    "    result |= atMost\n",
    "    \n",
    "    for s in S:\n",
    "        \n",
    "        result |= { somewhere(s) }\n",
    "        \n",
    "    \n",
    "    return result"
   ]
  },
  {
   "cell_type": "code",
   "execution_count": 119,
   "metadata": {},
   "outputs": [
    {
     "data": {
      "text/plain": [
       "{frozenset({('¬', 'A<3>'), ('¬', 'E<3>')}),\n",
       " frozenset({('¬', 'A<4>'), ('¬', 'C<4>')}),\n",
       " frozenset({('¬', 'B<1>'), ('¬', 'E<1>')}),\n",
       " frozenset({('¬', 'A<4>'), ('¬', 'E<4>')}),\n",
       " frozenset({('¬', 'A<1>'), ('¬', 'C<1>')}),\n",
       " frozenset({('¬', 'B<3>'), ('¬', 'E<3>')}),\n",
       " frozenset({'B<1>', 'B<2>', 'B<3>', 'B<4>', 'B<5>'}),\n",
       " frozenset({('¬', 'B<2>'), ('¬', 'E<2>')}),\n",
       " frozenset({('¬', 'A<1>'), ('¬', 'E<1>')}),\n",
       " frozenset({('¬', 'C<5>'), ('¬', 'D<5>')}),\n",
       " frozenset({'D<1>', 'D<2>', 'D<3>', 'D<4>', 'D<5>'}),\n",
       " frozenset({('¬', 'C<4>'), ('¬', 'D<4>')}),\n",
       " frozenset({('¬', 'A<5>'), ('¬', 'E<5>')}),\n",
       " frozenset({('¬', 'A<3>'), ('¬', 'D<3>')}),\n",
       " frozenset({('¬', 'B<3>'), ('¬', 'C<3>')}),\n",
       " frozenset({('¬', 'B<2>'), ('¬', 'D<2>')}),\n",
       " frozenset({('¬', 'A<4>'), ('¬', 'B<4>')}),\n",
       " frozenset({('¬', 'A<2>'), ('¬', 'C<2>')}),\n",
       " frozenset({('¬', 'A<2>'), ('¬', 'D<2>')}),\n",
       " frozenset({('¬', 'B<5>'), ('¬', 'E<5>')}),\n",
       " frozenset({('¬', 'A<3>'), ('¬', 'C<3>')}),\n",
       " frozenset({('¬', 'A<2>'), ('¬', 'E<2>')}),\n",
       " frozenset({('¬', 'A<4>'), ('¬', 'D<4>')}),\n",
       " frozenset({'C<1>', 'C<2>', 'C<3>', 'C<4>', 'C<5>'}),\n",
       " frozenset({('¬', 'A<1>'), ('¬', 'B<1>')}),\n",
       " frozenset({('¬', 'A<5>'), ('¬', 'D<5>')}),\n",
       " frozenset({('¬', 'D<1>'), ('¬', 'E<1>')}),\n",
       " frozenset({('¬', 'B<4>'), ('¬', 'D<4>')}),\n",
       " frozenset({('¬', 'C<1>'), ('¬', 'E<1>')}),\n",
       " frozenset({('¬', 'C<4>'), ('¬', 'E<4>')}),\n",
       " frozenset({('¬', 'C<5>'), ('¬', 'E<5>')}),\n",
       " frozenset({('¬', 'C<1>'), ('¬', 'D<1>')}),\n",
       " frozenset({('¬', 'B<5>'), ('¬', 'C<5>')}),\n",
       " frozenset({'E<1>', 'E<2>', 'E<3>', 'E<4>', 'E<5>'}),\n",
       " frozenset({('¬', 'B<1>'), ('¬', 'C<1>')}),\n",
       " frozenset({('¬', 'A<2>'), ('¬', 'B<2>')}),\n",
       " frozenset({('¬', 'B<1>'), ('¬', 'D<1>')}),\n",
       " frozenset({('¬', 'D<3>'), ('¬', 'E<3>')}),\n",
       " frozenset({('¬', 'B<2>'), ('¬', 'C<2>')}),\n",
       " frozenset({('¬', 'D<2>'), ('¬', 'E<2>')}),\n",
       " frozenset({('¬', 'C<2>'), ('¬', 'E<2>')}),\n",
       " frozenset({('¬', 'B<3>'), ('¬', 'D<3>')}),\n",
       " frozenset({('¬', 'A<3>'), ('¬', 'B<3>')}),\n",
       " frozenset({('¬', 'C<3>'), ('¬', 'D<3>')}),\n",
       " frozenset({('¬', 'C<2>'), ('¬', 'D<2>')}),\n",
       " frozenset({('¬', 'C<3>'), ('¬', 'E<3>')}),\n",
       " frozenset({('¬', 'B<4>'), ('¬', 'E<4>')}),\n",
       " frozenset({('¬', 'B<4>'), ('¬', 'C<4>')}),\n",
       " frozenset({('¬', 'A<5>'), ('¬', 'B<5>')}),\n",
       " frozenset({('¬', 'D<4>'), ('¬', 'E<4>')}),\n",
       " frozenset({('¬', 'A<5>'), ('¬', 'C<5>')}),\n",
       " frozenset({('¬', 'A<1>'), ('¬', 'D<1>')}),\n",
       " frozenset({('¬', 'D<5>'), ('¬', 'E<5>')}),\n",
       " frozenset({'A<1>', 'A<2>', 'A<3>', 'A<4>', 'A<5>'}),\n",
       " frozenset({('¬', 'B<5>'), ('¬', 'D<5>')})}"
      ]
     },
     "execution_count": 119,
     "metadata": {},
     "output_type": "execute_result"
    }
   ],
   "source": [
    "onePerHouse({\"A\", \"B\", \"C\", \"D\", \"E\"})"
   ]
  },
  {
   "cell_type": "markdown",
   "metadata": {},
   "source": [
    "Given to properties $a$ and $b$ the function $\\texttt{sameHouse}(a, b)$ computes a set of clauses that specifies that if the inhabitant of house number $i$ has the property $a$, then he also has the property $b$ and vice versa.  For example, $\\texttt{sameHouse}(\\texttt{\"Japanese\"}, \\texttt{\"Dog\"})$ specifies that the Japanese guy keeps a dog."
   ]
  },
  {
   "cell_type": "code",
   "execution_count": 120,
   "metadata": {},
   "outputs": [],
   "source": [
    "def sameHouse(a, b):\n",
    "    return { C for i in range(1,5+1)\n",
    "               for C in parseCNF(f\"{var(a, i)} ↔ {var(b, i)}\") \n",
    "           }"
   ]
  },
  {
   "cell_type": "code",
   "execution_count": 121,
   "metadata": {},
   "outputs": [
    {
     "data": {
      "text/plain": [
       "{frozenset({('¬', 'Tea<1>'), 'Red<1>'}),\n",
       " frozenset({('¬', 'Red<1>'), 'Tea<1>'}),\n",
       " frozenset({('¬', 'Red<5>'), 'Tea<5>'}),\n",
       " frozenset({('¬', 'Tea<4>'), 'Red<4>'}),\n",
       " frozenset({('¬', 'Red<2>'), 'Tea<2>'}),\n",
       " frozenset({('¬', 'Tea<5>'), 'Red<5>'}),\n",
       " frozenset({('¬', 'Tea<3>'), 'Red<3>'}),\n",
       " frozenset({('¬', 'Tea<2>'), 'Red<2>'}),\n",
       " frozenset({('¬', 'Red<4>'), 'Tea<4>'}),\n",
       " frozenset({('¬', 'Red<3>'), 'Tea<3>'})}"
      ]
     },
     "execution_count": 121,
     "metadata": {},
     "output_type": "execute_result"
    }
   ],
   "source": [
    "sameHouse(\"Red\", \"Tea\")"
   ]
  },
  {
   "cell_type": "markdown",
   "metadata": {},
   "source": [
    "Given to properties $a$ and $b$ the function $\\texttt{nextTo}(a, b)$ computes a set of clauses that specifies that the inhabitants with properties $a$ and $b$ are direct neighbours.  For example, $\\texttt{nextTo}(\\texttt{'Japanese'}, \\texttt{'Dog'})$ specifies that the Japanese guy lives next to the guy who keeps a dog."
   ]
  },
  {
   "cell_type": "code",
   "execution_count": 141,
   "metadata": {},
   "outputs": [],
   "source": [
    "def nextTo(a, b):\n",
    "    result = set()\n",
    "    \n",
    "    for i in range(1, 5+1):\n",
    "        if i != 1 and i != 5:\n",
    "            result |= parseCNF(f\"{var(a, i)} → {var(b, i+1)} ∨ {var(b, i-1)}\") \n",
    "        \n",
    "        \n",
    "        elif i == 1:\n",
    "            result |= parseCNF(f\"{var(a, i)} → {var(b, i+1)}\")\n",
    "            \n",
    "        elif i == 5:\n",
    "            result |= parseCNF(f\"{var(a, i)} → {var(b, i-1)}\")\n",
    "    \n",
    "    return result"
   ]
  },
  {
   "cell_type": "code",
   "execution_count": 123,
   "metadata": {},
   "outputs": [
    {
     "data": {
      "text/plain": [
       "{frozenset({('¬', 'A<1>'), 'B<2>'}),\n",
       " frozenset({('¬', 'A<3>'), 'B<2>', 'B<4>'}),\n",
       " frozenset({('¬', 'A<2>'), 'B<1>', 'B<3>'}),\n",
       " frozenset({('¬', 'A<5>'), 'B<4>'}),\n",
       " frozenset({('¬', 'A<4>'), 'B<3>', 'B<5>'})}"
      ]
     },
     "execution_count": 123,
     "metadata": {},
     "output_type": "execute_result"
    }
   ],
   "source": [
    "nextTo('A', 'B')"
   ]
  },
  {
   "cell_type": "markdown",
   "metadata": {},
   "source": [
    "Given to properties $a$ and $b$ the function $\\texttt{leftTo}(a, b)$ computes a list of clauses that specifies that the inhabitants with properties $a$ lives in the house to the left of the inhabitant who has property $b$.  For example, $\\texttt{leftTo}(\\texttt{'Japanese'}, \\texttt{'Dog'})$ specifies that the Japanese guy lives in the house to the left of the house where there is a dog."
   ]
  },
  {
   "cell_type": "code",
   "execution_count": 124,
   "metadata": {},
   "outputs": [],
   "source": [
    "def leftTo(a, b):\n",
    "    result = set()\n",
    "    \n",
    "    for i in range(1, 4+1):\n",
    "        \n",
    "        result |= parseCNF(f\"{var(a, i)} → {var(b, i+1)}\")\n",
    "\n",
    "    result |= parseCNF(f\"¬{var(a, 5)}\")\n",
    "    \n",
    "    return result"
   ]
  },
  {
   "cell_type": "code",
   "execution_count": 125,
   "metadata": {},
   "outputs": [
    {
     "data": {
      "text/plain": [
       "{frozenset({('¬', 'A<1>'), 'B<2>'}),\n",
       " frozenset({('¬', 'A<3>'), 'B<4>'}),\n",
       " frozenset({('¬', 'A<4>'), 'B<5>'}),\n",
       " frozenset({('¬', 'A<5>')}),\n",
       " frozenset({('¬', 'A<2>'), 'B<3>'})}"
      ]
     },
     "execution_count": 125,
     "metadata": {},
     "output_type": "execute_result"
    }
   ],
   "source": [
    "leftTo('A', 'B')"
   ]
  },
  {
   "cell_type": "code",
   "execution_count": 126,
   "metadata": {},
   "outputs": [],
   "source": [
    "Nations  = { \"English\", \"Spanish\", \"Ukrainian\", \"Norwegian\", \"Japanese\" }\n",
    "Drinks   = { \"Coffee\", \"Tea\", \"Milk\", \"OrangeJuice\", \"Water\" }\n",
    "Pets     = { \"Dog\", \"Snails\", \"Horse\", \"Fox\", \"Zebra\" }\n",
    "Brands   = { \"LuckyStrike\", \"Parliaments\", \"Kools\", \"Chesterfields\", \"OldGold\" }\n",
    "Colours  = { \"Red\", \"Green\", \"Ivory\", \"Yellow\", \"Blue\" }"
   ]
  },
  {
   "cell_type": "code",
   "execution_count": 127,
   "metadata": {},
   "outputs": [],
   "source": [
    "def allClauses():\n",
    "    # Every house has exactly one inhabitant.  This inhabitant has exactly one\n",
    "    # nationality, one pet, smokes one brand of cigarettes, and has one type\n",
    "    # of drink.  Furthermore, every house has exactly one color.\n",
    "    Clauses  = onePerHouse(Nations)\n",
    "    Clauses |= onePerHouse(Drinks)\n",
    "    Clauses |= onePerHouse(Pets)\n",
    "    Clauses |= onePerHouse(Brands)\n",
    "    Clauses |= onePerHouse(Colours)\n",
    "    # The Englishman lives in the red house.\n",
    "    Clauses |= sameHouse(\"English\", \"Red\")\n",
    "    # The Spaniard owns the dog.\n",
    "    Clauses |= sameHouse(\"Spanish\", \"Dog\")\n",
    "    # Coffee is drunk in the green house.\n",
    "    Clauses |= sameHouse(\"Coffee\", \"Green\")\n",
    "    # The Ukrainian drinks tea.\n",
    "    Clauses |= sameHouse(\"Ukrainian\", \"Tea\")\n",
    "    # The green house is immediately to the right of the ivory house.\n",
    "    Clauses |= leftTo(\"Ivory\", \"Green\")\n",
    "    # The Old Gold smoker owns snails.\n",
    "    Clauses |= sameHouse(\"OldGold\", \"Snails\")\n",
    "    # Kools are smoked in the yellow house.\n",
    "    Clauses |= sameHouse(\"Kools\", \"Yellow\")\n",
    "    # Milk is drunk in the middle house.\n",
    "    Clauses |= parseCNF(f\"{var('Milk', 3)}\") \n",
    "    # The Norwegian lives in the first house.\n",
    "    Clauses |= parseCNF(f\"{var('Norwegian', 1)}\") \n",
    "    # The man who smokes Chesterfields lives in the house next \n",
    "    # to the man with the fox.\n",
    "    Clauses |= nextTo(\"Chesterfields\", \"Fox\")\n",
    "    # Kools are smoked in the house next to the house where the horse is kept.\n",
    "    Clauses |= nextTo(\"Kools\", \"Horse\")\n",
    "    # The Lucky Strike smoker drinks orange juice.\n",
    "    Clauses |= sameHouse(\"LuckyStrike\", \"OrangeJuice\")\n",
    "    # The Japanese smokes Parliaments.\n",
    "    Clauses |= sameHouse(\"Japanese\", \"Parliaments\")\n",
    "    # The Norwegian lives next to the blue house.\n",
    "    Clauses |= nextTo(\"Norwegian\", \"Blue\")\n",
    "    return Clauses"
   ]
  },
  {
   "cell_type": "code",
   "execution_count": 128,
   "metadata": {},
   "outputs": [
    {
     "data": {
      "text/plain": [
       "{frozenset({('¬', 'Kools<2>'), ('¬', 'Parliaments<2>')}),\n",
       " frozenset({('¬', 'Kools<5>'), ('¬', 'LuckyStrike<5>')}),\n",
       " frozenset({('¬', 'Green<3>'), 'Coffee<3>'}),\n",
       " frozenset({('¬', 'Coffee<2>'), 'Green<2>'}),\n",
       " frozenset({('¬', 'Coffee<3>'), 'Green<3>'}),\n",
       " frozenset({('¬', 'English<1>'), ('¬', 'Ukrainian<1>')}),\n",
       " frozenset({('¬', 'Dog<1>'), ('¬', 'Fox<1>')}),\n",
       " frozenset({'Parliaments<1>',\n",
       "            'Parliaments<2>',\n",
       "            'Parliaments<3>',\n",
       "            'Parliaments<4>',\n",
       "            'Parliaments<5>'}),\n",
       " frozenset({('¬', 'Ukrainian<1>'), 'Tea<1>'}),\n",
       " frozenset({('¬', 'Blue<1>'), ('¬', 'Red<1>')}),\n",
       " frozenset({('¬', 'Kools<2>'), 'Yellow<2>'}),\n",
       " frozenset({('¬', 'Green<3>'), ('¬', 'Red<3>')}),\n",
       " frozenset({('¬', 'Norwegian<2>'), 'Blue<1>', 'Blue<3>'}),\n",
       " frozenset({('¬', 'Blue<1>'), ('¬', 'Ivory<1>')}),\n",
       " frozenset({('¬', 'Chesterfields<4>'), 'Fox<3>', 'Fox<5>'}),\n",
       " frozenset({('¬', 'Dog<4>'), ('¬', 'Fox<4>')}),\n",
       " frozenset({('¬', 'Chesterfields<4>'), ('¬', 'LuckyStrike<4>')}),\n",
       " frozenset({('¬', 'Fox<3>'), ('¬', 'Snails<3>')}),\n",
       " frozenset({('¬', 'Ukrainian<3>'), 'Tea<3>'}),\n",
       " frozenset({('¬', 'Japanese<2>'), ('¬', 'Spanish<2>')}),\n",
       " frozenset({('¬', 'Spanish<5>'), 'Dog<5>'}),\n",
       " frozenset({('¬', 'Kools<3>'), 'Yellow<3>'}),\n",
       " frozenset({('¬', 'Parliaments<1>'), 'Japanese<1>'}),\n",
       " frozenset({'Tea<1>', 'Tea<2>', 'Tea<3>', 'Tea<4>', 'Tea<5>'}),\n",
       " frozenset({('¬', 'LuckyStrike<1>'), ('¬', 'Parliaments<1>')}),\n",
       " frozenset({'Zebra<1>', 'Zebra<2>', 'Zebra<3>', 'Zebra<4>', 'Zebra<5>'}),\n",
       " frozenset({('¬', 'Milk<2>'), ('¬', 'Tea<2>')}),\n",
       " frozenset({('¬', 'Chesterfields<2>'), ('¬', 'LuckyStrike<2>')}),\n",
       " frozenset({('¬', 'Blue<2>'), ('¬', 'Red<2>')}),\n",
       " frozenset({('¬', 'Ivory<4>'), ('¬', 'Yellow<4>')}),\n",
       " frozenset({('¬', 'OldGold<1>'), 'Snails<1>'}),\n",
       " frozenset({('¬', 'Chesterfields<4>'), ('¬', 'Kools<4>')}),\n",
       " frozenset({('¬', 'Tea<5>'), ('¬', 'Water<5>')}),\n",
       " frozenset({'English<1>',\n",
       "            'English<2>',\n",
       "            'English<3>',\n",
       "            'English<4>',\n",
       "            'English<5>'}),\n",
       " frozenset({('¬', 'Coffee<5>'), ('¬', 'Water<5>')}),\n",
       " frozenset({('¬', 'OldGold<2>'), ('¬', 'Parliaments<2>')}),\n",
       " frozenset({('¬', 'Yellow<4>'), 'Kools<4>'}),\n",
       " frozenset({('¬', 'LuckyStrike<1>'), ('¬', 'OldGold<1>')}),\n",
       " frozenset({('¬', 'Japanese<3>'), ('¬', 'Spanish<3>')}),\n",
       " frozenset({('¬', 'Green<1>'), ('¬', 'Yellow<1>')}),\n",
       " frozenset({('¬', 'Horse<5>'), ('¬', 'Zebra<5>')}),\n",
       " frozenset({('¬', 'Fox<5>'), ('¬', 'Zebra<5>')}),\n",
       " frozenset({('¬', 'Japanese<5>'), ('¬', 'Norwegian<5>')}),\n",
       " frozenset({('¬', 'LuckyStrike<2>'), 'OrangeJuice<2>'}),\n",
       " frozenset({('¬', 'Milk<2>'), ('¬', 'Water<2>')}),\n",
       " frozenset({('¬', 'Green<4>'), ('¬', 'Yellow<4>')}),\n",
       " frozenset({('¬', 'Blue<4>'), ('¬', 'Green<4>')}),\n",
       " frozenset({('¬', 'Blue<5>'), ('¬', 'Ivory<5>')}),\n",
       " frozenset({('¬', 'Green<1>'), 'Coffee<1>'}),\n",
       " frozenset({('¬', 'Coffee<1>'), 'Green<1>'}),\n",
       " frozenset({('¬', 'Parliaments<3>'), 'Japanese<3>'}),\n",
       " frozenset({('¬', 'Ukrainian<4>'), 'Tea<4>'}),\n",
       " frozenset({('¬', 'Chesterfields<2>'), ('¬', 'Parliaments<2>')}),\n",
       " frozenset({('¬', 'Dog<3>'), ('¬', 'Horse<3>')}),\n",
       " frozenset({('¬', 'Blue<1>'), ('¬', 'Green<1>')}),\n",
       " frozenset({('¬', 'Tea<1>'), ('¬', 'Water<1>')}),\n",
       " frozenset({('¬', 'English<2>'), 'Red<2>'}),\n",
       " frozenset({('¬', 'Red<3>'), ('¬', 'Yellow<3>')}),\n",
       " frozenset({'OldGold<1>',\n",
       "            'OldGold<2>',\n",
       "            'OldGold<3>',\n",
       "            'OldGold<4>',\n",
       "            'OldGold<5>'}),\n",
       " frozenset({('¬', 'Fox<5>'), ('¬', 'Horse<5>')}),\n",
       " frozenset({('¬', 'Dog<2>'), ('¬', 'Zebra<2>')}),\n",
       " frozenset({('¬', 'Blue<4>'), ('¬', 'Red<4>')}),\n",
       " frozenset({('¬', 'Green<5>'), ('¬', 'Red<5>')}),\n",
       " frozenset({'LuckyStrike<1>',\n",
       "            'LuckyStrike<2>',\n",
       "            'LuckyStrike<3>',\n",
       "            'LuckyStrike<4>',\n",
       "            'LuckyStrike<5>'}),\n",
       " frozenset({('¬', 'LuckyStrike<4>'), 'OrangeJuice<4>'}),\n",
       " frozenset({('¬', 'Red<3>'), 'English<3>'}),\n",
       " frozenset({('¬', 'Coffee<3>'), ('¬', 'Water<3>')}),\n",
       " frozenset({('¬', 'English<5>'), ('¬', 'Spanish<5>')}),\n",
       " frozenset({('¬', 'OldGold<5>'), 'Snails<5>'}),\n",
       " frozenset({('¬', 'Snails<5>'), ('¬', 'Zebra<5>')}),\n",
       " frozenset({('¬', 'Coffee<4>'), ('¬', 'Milk<4>')}),\n",
       " frozenset({('¬', 'Japanese<2>'), 'Parliaments<2>'}),\n",
       " frozenset({('¬', 'Blue<3>'), ('¬', 'Red<3>')}),\n",
       " frozenset({('¬', 'English<5>'), ('¬', 'Norwegian<5>')}),\n",
       " frozenset({('¬', 'Milk<5>'), ('¬', 'OrangeJuice<5>')}),\n",
       " frozenset({('¬', 'Japanese<3>'), ('¬', 'Ukrainian<3>')}),\n",
       " frozenset({('¬', 'Blue<3>'), ('¬', 'Yellow<3>')}),\n",
       " frozenset({('¬', 'Snails<4>'), ('¬', 'Zebra<4>')}),\n",
       " frozenset({('¬', 'Chesterfields<3>'), ('¬', 'LuckyStrike<3>')}),\n",
       " frozenset({('¬', 'Red<1>'), ('¬', 'Yellow<1>')}),\n",
       " frozenset({('¬', 'OldGold<4>'), ('¬', 'Parliaments<4>')}),\n",
       " frozenset({('¬', 'Green<2>'), ('¬', 'Red<2>')}),\n",
       " frozenset({('¬', 'Dog<2>'), ('¬', 'Snails<2>')}),\n",
       " frozenset({('¬', 'English<1>'), ('¬', 'Japanese<1>')}),\n",
       " frozenset({'Norwegian<1>',\n",
       "            'Norwegian<2>',\n",
       "            'Norwegian<3>',\n",
       "            'Norwegian<4>',\n",
       "            'Norwegian<5>'}),\n",
       " frozenset({('¬', 'English<4>'), ('¬', 'Spanish<4>')}),\n",
       " frozenset({('¬', 'Yellow<3>'), 'Kools<3>'}),\n",
       " frozenset({('¬', 'Parliaments<5>'), 'Japanese<5>'}),\n",
       " frozenset({('¬', 'Coffee<2>'), ('¬', 'Water<2>')}),\n",
       " frozenset({('¬', 'Milk<1>'), ('¬', 'Water<1>')}),\n",
       " frozenset({('¬', 'Dog<3>'), 'Spanish<3>'}),\n",
       " frozenset({('¬', 'Fox<2>'), ('¬', 'Horse<2>')}),\n",
       " frozenset({('¬', 'Japanese<3>'), 'Parliaments<3>'}),\n",
       " frozenset({('¬', 'Coffee<4>'), ('¬', 'Tea<4>')}),\n",
       " frozenset({('¬', 'OrangeJuice<5>'), ('¬', 'Water<5>')}),\n",
       " frozenset({('¬', 'English<4>'), ('¬', 'Ukrainian<4>')}),\n",
       " frozenset({('¬', 'Red<4>'), ('¬', 'Yellow<4>')}),\n",
       " frozenset({('¬', 'Norwegian<1>'), ('¬', 'Spanish<1>')}),\n",
       " frozenset({'Milk<3>'}),\n",
       " frozenset({('¬', 'LuckyStrike<2>'), ('¬', 'Parliaments<2>')}),\n",
       " frozenset({('¬', 'Chesterfields<5>'), ('¬', 'OldGold<5>')}),\n",
       " frozenset({('¬', 'Dog<3>'), ('¬', 'Zebra<3>')}),\n",
       " frozenset({('¬', 'Blue<2>'), ('¬', 'Yellow<2>')}),\n",
       " frozenset({('¬', 'Red<4>'), 'English<4>'}),\n",
       " frozenset({('¬', 'Red<5>'), ('¬', 'Yellow<5>')}),\n",
       " frozenset({'Ivory<1>', 'Ivory<2>', 'Ivory<3>', 'Ivory<4>', 'Ivory<5>'}),\n",
       " frozenset({('¬', 'Kools<2>'), ('¬', 'OldGold<2>')}),\n",
       " frozenset({('¬', 'OrangeJuice<2>'), ('¬', 'Tea<2>')}),\n",
       " frozenset({('¬', 'Japanese<5>'), ('¬', 'Ukrainian<5>')}),\n",
       " frozenset({('¬', 'Norwegian<2>'), ('¬', 'Spanish<2>')}),\n",
       " frozenset({('¬', 'Coffee<2>'), ('¬', 'Milk<2>')}),\n",
       " frozenset({('¬', 'Norwegian<1>'), 'Blue<2>'}),\n",
       " frozenset({('¬', 'Japanese<3>'), ('¬', 'Norwegian<3>')}),\n",
       " frozenset({('¬', 'Coffee<5>'), 'Green<5>'}),\n",
       " frozenset({('¬', 'Red<1>'), 'English<1>'}),\n",
       " frozenset({('¬', 'English<1>'), ('¬', 'Spanish<1>')}),\n",
       " frozenset({'Snails<1>', 'Snails<2>', 'Snails<3>', 'Snails<4>', 'Snails<5>'}),\n",
       " frozenset({('¬', 'Kools<4>'), 'Horse<3>', 'Horse<5>'}),\n",
       " frozenset({('¬', 'English<5>'), 'Red<5>'}),\n",
       " frozenset({('¬', 'English<4>'), 'Red<4>'}),\n",
       " frozenset({('¬', 'Japanese<5>'), ('¬', 'Spanish<5>')}),\n",
       " frozenset({('¬', 'Milk<4>'), ('¬', 'Tea<4>')}),\n",
       " frozenset({('¬', 'Japanese<1>'), ('¬', 'Spanish<1>')}),\n",
       " frozenset({('¬', 'English<2>'), ('¬', 'Ukrainian<2>')}),\n",
       " frozenset({'OrangeJuice<1>',\n",
       "            'OrangeJuice<2>',\n",
       "            'OrangeJuice<3>',\n",
       "            'OrangeJuice<4>',\n",
       "            'OrangeJuice<5>'}),\n",
       " frozenset({('¬', 'Green<4>'), 'Coffee<4>'}),\n",
       " frozenset({('¬', 'Dog<5>'), 'Spanish<5>'}),\n",
       " frozenset({('¬', 'Spanish<4>'), ('¬', 'Ukrainian<4>')}),\n",
       " frozenset({('¬', 'OrangeJuice<1>'), ('¬', 'Tea<1>')}),\n",
       " frozenset({('¬', 'LuckyStrike<1>'), 'OrangeJuice<1>'}),\n",
       " frozenset({('¬', 'Norwegian<3>'), ('¬', 'Ukrainian<3>')}),\n",
       " frozenset({('¬', 'Kools<5>'), ('¬', 'Parliaments<5>')}),\n",
       " frozenset({('¬', 'Snails<2>'), ('¬', 'Zebra<2>')}),\n",
       " frozenset({('¬', 'OldGold<3>'), 'Snails<3>'}),\n",
       " frozenset({('¬', 'Norwegian<5>'), ('¬', 'Spanish<5>')}),\n",
       " frozenset({('¬', 'Dog<2>'), ('¬', 'Horse<2>')}),\n",
       " frozenset({('¬', 'English<3>'), 'Red<3>'}),\n",
       " frozenset({('¬', 'Chesterfields<5>'), 'Fox<4>'}),\n",
       " frozenset({('¬', 'Ivory<1>'), ('¬', 'Yellow<1>')}),\n",
       " frozenset({('¬', 'Dog<2>'), 'Spanish<2>'}),\n",
       " frozenset({('¬', 'Blue<2>'), ('¬', 'Green<2>')}),\n",
       " frozenset({('¬', 'Japanese<4>'), 'Parliaments<4>'}),\n",
       " frozenset({('¬', 'Norwegian<3>'), ('¬', 'Spanish<3>')}),\n",
       " frozenset({('¬', 'Tea<2>'), ('¬', 'Water<2>')}),\n",
       " frozenset({('¬', 'Coffee<4>'), ('¬', 'Water<4>')}),\n",
       " frozenset({('¬', 'LuckyStrike<3>'), ('¬', 'Parliaments<3>')}),\n",
       " frozenset({('¬', 'Green<1>'), ('¬', 'Red<1>')}),\n",
       " frozenset({('¬', 'Green<3>'), ('¬', 'Yellow<3>')}),\n",
       " frozenset({('¬', 'Chesterfields<3>'), 'Fox<2>', 'Fox<4>'}),\n",
       " frozenset({('¬', 'English<5>'), ('¬', 'Ukrainian<5>')}),\n",
       " frozenset({'Green<1>', 'Green<2>', 'Green<3>', 'Green<4>', 'Green<5>'}),\n",
       " frozenset({('¬', 'Kools<1>'), ('¬', 'OldGold<1>')}),\n",
       " frozenset({('¬', 'English<5>'), ('¬', 'Japanese<5>')}),\n",
       " frozenset({('¬', 'Coffee<4>'), ('¬', 'OrangeJuice<4>')}),\n",
       " frozenset({('¬', 'Green<5>'), ('¬', 'Ivory<5>')}),\n",
       " frozenset({('¬', 'Yellow<5>'), 'Kools<5>'}),\n",
       " frozenset({('¬', 'Horse<3>'), ('¬', 'Zebra<3>')}),\n",
       " frozenset({('¬', 'Milk<1>'), ('¬', 'OrangeJuice<1>')}),\n",
       " frozenset({('¬', 'Japanese<4>'), ('¬', 'Norwegian<4>')}),\n",
       " frozenset({('¬', 'Dog<1>'), ('¬', 'Snails<1>')}),\n",
       " frozenset({('¬', 'Chesterfields<1>'), 'Fox<2>'}),\n",
       " frozenset({('¬', 'Dog<4>'), ('¬', 'Snails<4>')}),\n",
       " frozenset({('¬', 'Dog<5>'), ('¬', 'Snails<5>')}),\n",
       " frozenset({('¬', 'Japanese<4>'), ('¬', 'Spanish<4>')}),\n",
       " frozenset({('¬', 'Fox<5>'), ('¬', 'Snails<5>')}),\n",
       " frozenset({('¬', 'Milk<1>'), ('¬', 'Tea<1>')}),\n",
       " frozenset({('¬', 'Coffee<1>'), ('¬', 'Milk<1>')}),\n",
       " frozenset({('¬', 'Red<2>'), 'English<2>'}),\n",
       " frozenset({('¬', 'Horse<5>'), ('¬', 'Snails<5>')}),\n",
       " frozenset({('¬', 'LuckyStrike<4>'), ('¬', 'OldGold<4>')}),\n",
       " frozenset({('¬', 'Tea<3>'), 'Ukrainian<3>'}),\n",
       " frozenset({('¬', 'Norwegian<5>'), 'Blue<4>'}),\n",
       " frozenset({('¬', 'Milk<3>'), ('¬', 'Tea<3>')}),\n",
       " frozenset({('¬', 'OldGold<5>'), ('¬', 'Parliaments<5>')}),\n",
       " frozenset({('¬', 'Snails<2>'), 'OldGold<2>'}),\n",
       " frozenset({('¬', 'Japanese<4>'), ('¬', 'Ukrainian<4>')}),\n",
       " frozenset({('¬', 'OrangeJuice<3>'), 'LuckyStrike<3>'}),\n",
       " frozenset({'Horse<1>', 'Horse<2>', 'Horse<3>', 'Horse<4>', 'Horse<5>'}),\n",
       " frozenset({'Japanese<1>',\n",
       "            'Japanese<2>',\n",
       "            'Japanese<3>',\n",
       "            'Japanese<4>',\n",
       "            'Japanese<5>'}),\n",
       " frozenset({('¬', 'Blue<5>'), ('¬', 'Green<5>')}),\n",
       " frozenset({('¬', 'Green<2>'), ('¬', 'Ivory<2>')}),\n",
       " frozenset({('¬', 'Blue<2>'), ('¬', 'Ivory<2>')}),\n",
       " frozenset({('¬', 'Blue<5>'), ('¬', 'Red<5>')}),\n",
       " frozenset({('¬', 'Kools<2>'), ('¬', 'LuckyStrike<2>')}),\n",
       " frozenset({('¬', 'Green<2>'), ('¬', 'Yellow<2>')}),\n",
       " frozenset({('¬', 'Spanish<3>'), ('¬', 'Ukrainian<3>')}),\n",
       " frozenset({('¬', 'Kools<3>'), ('¬', 'OldGold<3>')}),\n",
       " frozenset({('¬', 'Chesterfields<5>'), ('¬', 'LuckyStrike<5>')}),\n",
       " frozenset({('¬', 'Snails<3>'), 'OldGold<3>'}),\n",
       " frozenset({('¬', 'Dog<4>'), ('¬', 'Horse<4>')}),\n",
       " frozenset({('¬', 'Ivory<5>'), ('¬', 'Yellow<5>')}),\n",
       " frozenset({('¬', 'OrangeJuice<4>'), ('¬', 'Water<4>')}),\n",
       " frozenset({'Fox<1>', 'Fox<2>', 'Fox<3>', 'Fox<4>', 'Fox<5>'}),\n",
       " frozenset({('¬', 'Coffee<5>'), ('¬', 'Milk<5>')}),\n",
       " frozenset({('¬', 'Parliaments<4>'), 'Japanese<4>'}),\n",
       " frozenset({('¬', 'Japanese<2>'), ('¬', 'Norwegian<2>')}),\n",
       " frozenset({('¬', 'Fox<1>'), ('¬', 'Zebra<1>')}),\n",
       " frozenset({('¬', 'Japanese<2>'), ('¬', 'Ukrainian<2>')}),\n",
       " frozenset({('¬', 'Kools<2>'), 'Horse<1>', 'Horse<3>'}),\n",
       " frozenset({('¬', 'Chesterfields<5>'), ('¬', 'Kools<5>')}),\n",
       " frozenset({('¬', 'Japanese<5>'), 'Parliaments<5>'}),\n",
       " frozenset({('¬', 'OrangeJuice<4>'), ('¬', 'Tea<4>')}),\n",
       " frozenset({('¬', 'Ivory<4>'), ('¬', 'Red<4>')}),\n",
       " frozenset({('¬', 'Dog<5>'), ('¬', 'Horse<5>')}),\n",
       " frozenset({('¬', 'Ivory<1>'), ('¬', 'Red<1>')}),\n",
       " frozenset({('¬', 'Dog<3>'), ('¬', 'Fox<3>')}),\n",
       " frozenset({('¬', 'Ivory<5>'), ('¬', 'Red<5>')}),\n",
       " frozenset({('¬', 'Chesterfields<1>'), ('¬', 'OldGold<1>')}),\n",
       " frozenset({('¬', 'Chesterfields<3>'), ('¬', 'OldGold<3>')}),\n",
       " frozenset({('¬', 'Spanish<5>'), ('¬', 'Ukrainian<5>')}),\n",
       " frozenset({('¬', 'Milk<4>'), ('¬', 'Water<4>')}),\n",
       " frozenset({('¬', 'OldGold<1>'), ('¬', 'Parliaments<1>')}),\n",
       " frozenset({('¬', 'Dog<5>'), ('¬', 'Fox<5>')}),\n",
       " frozenset({('¬', 'Ivory<3>'), ('¬', 'Red<3>')}),\n",
       " frozenset({('¬', 'Spanish<3>'), 'Dog<3>'}),\n",
       " frozenset({('¬', 'Coffee<1>'), ('¬', 'Tea<1>')}),\n",
       " frozenset({('¬', 'Horse<1>'), ('¬', 'Snails<1>')}),\n",
       " frozenset({('¬', 'Coffee<5>'), ('¬', 'OrangeJuice<5>')}),\n",
       " frozenset({('¬', 'Coffee<4>'), 'Green<4>'}),\n",
       " frozenset({('¬', 'OrangeJuice<5>'), ('¬', 'Tea<5>')}),\n",
       " frozenset({('¬', 'Dog<2>'), ('¬', 'Fox<2>')}),\n",
       " frozenset({('¬', 'Chesterfields<1>'), ('¬', 'Parliaments<1>')}),\n",
       " frozenset({('¬', 'Chesterfields<5>'), ('¬', 'Parliaments<5>')}),\n",
       " frozenset({'Kools<1>', 'Kools<2>', 'Kools<3>', 'Kools<4>', 'Kools<5>'}),\n",
       " frozenset({('¬', 'Green<2>'), 'Coffee<2>'}),\n",
       " frozenset({('¬', 'Snails<4>'), 'OldGold<4>'}),\n",
       " frozenset({('¬', 'Tea<1>'), 'Ukrainian<1>'}),\n",
       " frozenset({('¬', 'Snails<5>'), 'OldGold<5>'}),\n",
       " frozenset({'Milk<1>', 'Milk<2>', 'Milk<3>', 'Milk<4>', 'Milk<5>'}),\n",
       " frozenset({('¬', 'LuckyStrike<3>'), ('¬', 'OldGold<3>')}),\n",
       " frozenset({('¬', 'Chesterfields<1>'), ('¬', 'Kools<1>')}),\n",
       " frozenset({('¬', 'Milk<4>'), ('¬', 'OrangeJuice<4>')}),\n",
       " frozenset({('¬', 'English<2>'), ('¬', 'Japanese<2>')}),\n",
       " frozenset({('¬', 'Green<4>'), ('¬', 'Ivory<4>')}),\n",
       " frozenset({('¬', 'Green<3>'), ('¬', 'Ivory<3>')}),\n",
       " frozenset({('¬', 'Coffee<3>'), ('¬', 'Milk<3>')}),\n",
       " frozenset({('¬', 'Red<5>'), 'English<5>'}),\n",
       " frozenset({('¬', 'Tea<5>'), 'Ukrainian<5>'}),\n",
       " frozenset({('¬', 'Chesterfields<2>'), ('¬', 'Kools<2>')}),\n",
       " frozenset({('¬', 'LuckyStrike<5>'), 'OrangeJuice<5>'}),\n",
       " frozenset({('¬', 'Green<4>'), ('¬', 'Red<4>')}),\n",
       " frozenset({('¬', 'Kools<4>'), ('¬', 'LuckyStrike<4>')}),\n",
       " frozenset({('¬', 'Horse<3>'), ('¬', 'Snails<3>')}),\n",
       " frozenset({('¬', 'Japanese<1>'), ('¬', 'Ukrainian<1>')}),\n",
       " frozenset({('¬', 'Chesterfields<2>'), ('¬', 'OldGold<2>')}),\n",
       " frozenset({('¬', 'Yellow<1>'), 'Kools<1>'}),\n",
       " frozenset({('¬', 'Yellow<2>'), 'Kools<2>'}),\n",
       " frozenset({('¬', 'Fox<3>'), ('¬', 'Zebra<3>')}),\n",
       " frozenset({('¬', 'Dog<1>'), ('¬', 'Horse<1>')}),\n",
       " frozenset({('¬', 'Coffee<2>'), ('¬', 'OrangeJuice<2>')}),\n",
       " frozenset({('¬', 'Horse<2>'), ('¬', 'Zebra<2>')}),\n",
       " frozenset({('¬', 'English<3>'), ('¬', 'Norwegian<3>')}),\n",
       " frozenset({('¬', 'Coffee<1>'), ('¬', 'Water<1>')}),\n",
       " frozenset({('¬', 'English<4>'), ('¬', 'Norwegian<4>')}),\n",
       " frozenset({('¬', 'Blue<4>'), ('¬', 'Ivory<4>')}),\n",
       " frozenset({('¬', 'Dog<4>'), 'Spanish<4>'}),\n",
       " frozenset({('¬', 'OrangeJuice<2>'), 'LuckyStrike<2>'}),\n",
       " frozenset({('¬', 'OrangeJuice<2>'), ('¬', 'Water<2>')}),\n",
       " frozenset({('¬', 'Blue<4>'), ('¬', 'Yellow<4>')}),\n",
       " frozenset({('¬', 'Spanish<1>'), ('¬', 'Ukrainian<1>')}),\n",
       " frozenset({('¬', 'Ukrainian<5>'), 'Tea<5>'}),\n",
       " frozenset({('¬', 'Norwegian<4>'), ('¬', 'Spanish<4>')}),\n",
       " frozenset({('¬', 'OrangeJuice<4>'), 'LuckyStrike<4>'}),\n",
       " frozenset({('¬', 'Horse<2>'), ('¬', 'Snails<2>')}),\n",
       " frozenset({('¬', 'OrangeJuice<1>'), ('¬', 'Water<1>')}),\n",
       " frozenset({'Blue<1>', 'Blue<2>', 'Blue<3>', 'Blue<4>', 'Blue<5>'}),\n",
       " frozenset({('¬', 'Horse<4>'), ('¬', 'Snails<4>')}),\n",
       " frozenset({('¬', 'Tea<2>'), 'Ukrainian<2>'}),\n",
       " frozenset({('¬', 'Coffee<3>'), ('¬', 'Tea<3>')}),\n",
       " frozenset({('¬', 'Fox<4>'), ('¬', 'Snails<4>')}),\n",
       " frozenset({('¬', 'LuckyStrike<5>'), ('¬', 'Parliaments<5>')}),\n",
       " frozenset({('¬', 'Japanese<1>'), ('¬', 'Norwegian<1>')}),\n",
       " frozenset({('¬', 'Kools<4>'), ('¬', 'OldGold<4>')}),\n",
       " frozenset({('¬', 'Chesterfields<4>'), ('¬', 'OldGold<4>')}),\n",
       " frozenset({('¬', 'Milk<5>'), ('¬', 'Water<5>')}),\n",
       " frozenset({('¬', 'Fox<1>'), ('¬', 'Horse<1>')}),\n",
       " frozenset({('¬', 'Milk<5>'), ('¬', 'Tea<5>')}),\n",
       " frozenset({('¬', 'OrangeJuice<1>'), 'LuckyStrike<1>'}),\n",
       " frozenset({('¬', 'OrangeJuice<5>'), 'LuckyStrike<5>'}),\n",
       " frozenset({('¬', 'Spanish<2>'), 'Dog<2>'}),\n",
       " frozenset({('¬', 'English<2>'), ('¬', 'Norwegian<2>')}),\n",
       " frozenset({('¬', 'Fox<2>'), ('¬', 'Snails<2>')}),\n",
       " frozenset({'Spanish<1>',\n",
       "            'Spanish<2>',\n",
       "            'Spanish<3>',\n",
       "            'Spanish<4>',\n",
       "            'Spanish<5>'}),\n",
       " frozenset({('¬', 'Ivory<2>'), 'Green<3>'}),\n",
       " frozenset({('¬', 'Kools<3>'), 'Horse<2>', 'Horse<4>'}),\n",
       " frozenset({('¬', 'Kools<5>'), ('¬', 'OldGold<5>')}),\n",
       " frozenset({('¬', 'OrangeJuice<3>'), ('¬', 'Water<3>')}),\n",
       " frozenset({('¬', 'Spanish<1>'), 'Dog<1>'}),\n",
       " frozenset({('¬', 'Horse<1>'), ('¬', 'Zebra<1>')}),\n",
       " frozenset({('¬', 'Coffee<5>'), ('¬', 'Tea<5>')}),\n",
       " frozenset({('¬', 'Fox<4>'), ('¬', 'Horse<4>')}),\n",
       " frozenset({('¬', 'LuckyStrike<2>'), ('¬', 'OldGold<2>')}),\n",
       " frozenset({('¬', 'Norwegian<4>'), 'Blue<3>', 'Blue<5>'}),\n",
       " frozenset({('¬', 'Ivory<2>'), ('¬', 'Yellow<2>')}),\n",
       " frozenset({('¬', 'Kools<1>'), ('¬', 'Parliaments<1>')}),\n",
       " frozenset({('¬', 'Dog<4>'), ('¬', 'Zebra<4>')}),\n",
       " frozenset({('¬', 'English<1>'), ('¬', 'Norwegian<1>')}),\n",
       " frozenset({('¬', 'Chesterfields<4>'), ('¬', 'Parliaments<4>')}),\n",
       " frozenset({('¬', 'Snails<3>'), ('¬', 'Zebra<3>')}),\n",
       " frozenset({('¬', 'Kools<1>'), 'Horse<2>'}),\n",
       " frozenset({('¬', 'Chesterfields<3>'), ('¬', 'Kools<3>')}),\n",
       " frozenset({('¬', 'Norwegian<2>'), ('¬', 'Ukrainian<2>')}),\n",
       " frozenset({'Coffee<1>', 'Coffee<2>', 'Coffee<3>', 'Coffee<4>', 'Coffee<5>'}),\n",
       " frozenset({('¬', 'Ivory<3>'), 'Green<4>'}),\n",
       " frozenset({('¬', 'Japanese<1>'), 'Parliaments<1>'}),\n",
       " frozenset({('¬', 'Ivory<2>'), ('¬', 'Red<2>')}),\n",
       " frozenset({'Ukrainian<1>',\n",
       "            'Ukrainian<2>',\n",
       "            'Ukrainian<3>',\n",
       "            'Ukrainian<4>',\n",
       "            'Ukrainian<5>'}),\n",
       " frozenset({('¬', 'English<3>'), ('¬', 'Spanish<3>')}),\n",
       " frozenset({('¬', 'Coffee<3>'), ('¬', 'OrangeJuice<3>')}),\n",
       " frozenset({('¬', 'Dog<5>'), ('¬', 'Zebra<5>')}),\n",
       " frozenset({'Red<1>', 'Red<2>', 'Red<3>', 'Red<4>', 'Red<5>'}),\n",
       " frozenset({('¬', 'English<1>'), 'Red<1>'}),\n",
       " frozenset({('¬', 'Kools<5>'), 'Yellow<5>'}),\n",
       " frozenset({'Dog<1>', 'Dog<2>', 'Dog<3>', 'Dog<4>', 'Dog<5>'}),\n",
       " frozenset({('¬', 'Red<2>'), ('¬', 'Yellow<2>')}),\n",
       " frozenset({('¬', 'English<2>'), ('¬', 'Spanish<2>')}),\n",
       " frozenset({('¬', 'Kools<3>'), ('¬', 'LuckyStrike<3>')}),\n",
       " frozenset({('¬', 'Coffee<1>'), ('¬', 'OrangeJuice<1>')}),\n",
       " frozenset({('¬', 'Milk<3>'), ('¬', 'OrangeJuice<3>')}),\n",
       " frozenset({('¬', 'Dog<1>'), ('¬', 'Zebra<1>')}),\n",
       " frozenset({('¬', 'Fox<4>'), ('¬', 'Zebra<4>')}),\n",
       " frozenset({('¬', 'OrangeJuice<3>'), ('¬', 'Tea<3>')}),\n",
       " frozenset({('¬', 'OldGold<2>'), 'Snails<2>'}),\n",
       " frozenset({('¬', 'Chesterfields<1>'), ('¬', 'LuckyStrike<1>')}),\n",
       " frozenset({('¬', 'Tea<3>'), ('¬', 'Water<3>')}),\n",
       " frozenset({('¬', 'Ukrainian<2>'), 'Tea<2>'}),\n",
       " frozenset({('¬', 'Fox<3>'), ('¬', 'Horse<3>')}),\n",
       " frozenset({('¬', 'Spanish<2>'), ('¬', 'Ukrainian<2>')}),\n",
       " frozenset({('¬', 'Kools<5>'), 'Horse<4>'}),\n",
       " frozenset({('¬', 'Ivory<4>'), 'Green<5>'}),\n",
       " frozenset({('¬', 'English<3>'), ('¬', 'Ukrainian<3>')}),\n",
       " frozenset({('¬', 'Blue<3>'), ('¬', 'Green<3>')}),\n",
       " frozenset({('¬', 'Chesterfields<3>'), ('¬', 'Parliaments<3>')}),\n",
       " frozenset({('¬', 'Tea<4>'), 'Ukrainian<4>'}),\n",
       " frozenset({('¬', 'Kools<3>'), ('¬', 'Parliaments<3>')}),\n",
       " frozenset({('¬', 'OldGold<4>'), 'Snails<4>'}),\n",
       " frozenset({('¬', 'Dog<3>'), ('¬', 'Snails<3>')}),\n",
       " frozenset({('¬', 'Kools<4>'), ('¬', 'Parliaments<4>')}),\n",
       " frozenset({('¬', 'Blue<3>'), ('¬', 'Ivory<3>')}),\n",
       " frozenset({'Water<1>', 'Water<2>', 'Water<3>', 'Water<4>', 'Water<5>'}),\n",
       " frozenset({('¬', 'Green<1>'), ('¬', 'Ivory<1>')}),\n",
       " frozenset({('¬', 'Kools<1>'), 'Yellow<1>'}),\n",
       " frozenset({('¬', 'Tea<4>'), ('¬', 'Water<4>')}),\n",
       " frozenset({('¬', 'Green<5>'), ('¬', 'Yellow<5>')}),\n",
       " frozenset({('¬', 'Spanish<4>'), 'Dog<4>'}),\n",
       " frozenset({('¬', 'Milk<2>'), ('¬', 'OrangeJuice<2>')}),\n",
       " frozenset({('¬', 'English<3>'), ('¬', 'Japanese<3>')}),\n",
       " frozenset({('¬', 'Coffee<2>'), ('¬', 'Tea<2>')}),\n",
       " frozenset({('¬', 'Kools<1>'), ('¬', 'LuckyStrike<1>')}),\n",
       " frozenset({('¬', 'LuckyStrike<5>'), ('¬', 'OldGold<5>')}),\n",
       " frozenset({'Yellow<1>', 'Yellow<2>', 'Yellow<3>', 'Yellow<4>', 'Yellow<5>'}),\n",
       " frozenset({('¬', 'Ivory<5>')}),\n",
       " frozenset({('¬', 'LuckyStrike<3>'), 'OrangeJuice<3>'}),\n",
       " frozenset({('¬', 'Fox<1>'), ('¬', 'Snails<1>')}),\n",
       " frozenset({('¬', 'Blue<1>'), ('¬', 'Yellow<1>')}),\n",
       " frozenset({('¬', 'Kools<4>'), 'Yellow<4>'}),\n",
       " frozenset({('¬', 'Snails<1>'), 'OldGold<1>'}),\n",
       " frozenset({('¬', 'Chesterfields<2>'), 'Fox<1>', 'Fox<3>'}),\n",
       " frozenset({('¬', 'OldGold<3>'), ('¬', 'Parliaments<3>')}),\n",
       " frozenset({('¬', 'Green<5>'), 'Coffee<5>'}),\n",
       " frozenset({('¬', 'Norwegian<4>'), ('¬', 'Ukrainian<4>')}),\n",
       " frozenset({('¬', 'LuckyStrike<4>'), ('¬', 'Parliaments<4>')}),\n",
       " frozenset({('¬', 'Horse<4>'), ('¬', 'Zebra<4>')}),\n",
       " frozenset({('¬', 'Ivory<3>'), ('¬', 'Yellow<3>')}),\n",
       " frozenset({('¬', 'Ivory<1>'), 'Green<2>'}),\n",
       " frozenset({'Norwegian<1>'}),\n",
       " frozenset({('¬', 'Snails<1>'), ('¬', 'Zebra<1>')}),\n",
       " frozenset({('¬', 'Fox<2>'), ('¬', 'Zebra<2>')}),\n",
       " frozenset({('¬', 'Norwegian<5>'), ('¬', 'Ukrainian<5>')}),\n",
       " frozenset({('¬', 'Norwegian<3>'), 'Blue<2>', 'Blue<4>'}),\n",
       " frozenset({('¬', 'Dog<1>'), 'Spanish<1>'}),\n",
       " frozenset({('¬', 'Milk<3>'), ('¬', 'Water<3>')}),\n",
       " frozenset({('¬', 'English<4>'), ('¬', 'Japanese<4>')}),\n",
       " frozenset({'Chesterfields<1>',\n",
       "            'Chesterfields<2>',\n",
       "            'Chesterfields<3>',\n",
       "            'Chesterfields<4>',\n",
       "            'Chesterfields<5>'}),\n",
       " frozenset({('¬', 'Parliaments<2>'), 'Japanese<2>'}),\n",
       " frozenset({('¬', 'Norwegian<1>'), ('¬', 'Ukrainian<1>')}),\n",
       " frozenset({('¬', 'Blue<5>'), ('¬', 'Yellow<5>')})}"
      ]
     },
     "execution_count": 128,
     "metadata": {},
     "output_type": "execute_result"
    }
   ],
   "source": [
    "Clauses = allClauses()\n",
    "Clauses"
   ]
  },
  {
   "cell_type": "markdown",
   "metadata": {},
   "source": [
    "There should be 396 clauses."
   ]
  },
  {
   "cell_type": "code",
   "execution_count": 129,
   "metadata": {},
   "outputs": [
    {
     "data": {
      "text/plain": [
       "377"
      ]
     },
     "execution_count": 129,
     "metadata": {},
     "output_type": "execute_result"
    }
   ],
   "source": [
    "len(Clauses)"
   ]
  },
  {
   "cell_type": "code",
   "execution_count": 142,
   "metadata": {},
   "outputs": [],
   "source": [
    "def solve():\n",
    "    Clauses = allClauses()\n",
    "    return dp.solve(Clauses, set())"
   ]
  },
  {
   "cell_type": "markdown",
   "metadata": {},
   "source": [
    "Solving the problem takes about 0.1 seconds on my computer."
   ]
  },
  {
   "cell_type": "code",
   "execution_count": 143,
   "metadata": {},
   "outputs": [
    {
     "name": "stdout",
     "output_type": "stream",
     "text": [
      "CPU times: user 1.34 s, sys: 0 ns, total: 1.34 s\n",
      "Wall time: 1.35 s\n"
     ]
    },
    {
     "data": {
      "text/plain": [
       "{frozenset({('¬', 'Tea<5>')}),\n",
       " frozenset({('¬', 'Spanish<3>')}),\n",
       " frozenset({('¬', 'Red<1>')}),\n",
       " frozenset({('¬', 'OrangeJuice<1>')}),\n",
       " frozenset({('¬', 'Fox<3>')}),\n",
       " frozenset({('¬', 'Fox<2>')}),\n",
       " frozenset({'Chesterfields<2>'}),\n",
       " frozenset({('¬', 'Dog<1>')}),\n",
       " frozenset({('¬', 'Parliaments<3>')}),\n",
       " frozenset({('¬', 'Japanese<2>')}),\n",
       " frozenset({'Japanese<5>'}),\n",
       " frozenset({('¬', 'Zebra<4>')}),\n",
       " frozenset({('¬', 'Norwegian<3>')}),\n",
       " frozenset({('¬', 'Snails<2>')}),\n",
       " frozenset({'Horse<2>'}),\n",
       " frozenset({('¬', 'Kools<4>')}),\n",
       " frozenset({'Fox<1>'}),\n",
       " frozenset({('¬', 'Green<2>')}),\n",
       " frozenset({('¬', 'Horse<1>')}),\n",
       " frozenset({('¬', 'Zebra<1>')}),\n",
       " frozenset({'Green<5>'}),\n",
       " frozenset({('¬', 'LuckyStrike<2>')}),\n",
       " frozenset({('¬', 'Norwegian<4>')}),\n",
       " frozenset({('¬', 'Green<3>')}),\n",
       " frozenset({('¬', 'Snails<4>')}),\n",
       " frozenset({'Red<3>'}),\n",
       " frozenset({('¬', 'Green<4>')}),\n",
       " frozenset({('¬', 'Red<2>')}),\n",
       " frozenset({'Parliaments<5>'}),\n",
       " frozenset({('¬', 'Milk<5>')}),\n",
       " frozenset({('¬', 'Milk<2>')}),\n",
       " frozenset({'Yellow<1>'}),\n",
       " frozenset({('¬', 'Parliaments<2>')}),\n",
       " frozenset({('¬', 'Milk<1>')}),\n",
       " frozenset({'English<3>'}),\n",
       " frozenset({'Milk<3>'}),\n",
       " frozenset({('¬', 'Coffee<2>')}),\n",
       " frozenset({('¬', 'Tea<3>')}),\n",
       " frozenset({('¬', 'LuckyStrike<5>')}),\n",
       " frozenset({'Ivory<4>'}),\n",
       " frozenset({('¬', 'Coffee<4>')}),\n",
       " frozenset({('¬', 'Blue<5>')}),\n",
       " frozenset({('¬', 'Tea<4>')}),\n",
       " frozenset({('¬', 'LuckyStrike<1>')}),\n",
       " frozenset({('¬', 'Norwegian<2>')}),\n",
       " frozenset({('¬', 'Horse<3>')}),\n",
       " frozenset({('¬', 'OrangeJuice<5>')}),\n",
       " frozenset({('¬', 'OldGold<1>')}),\n",
       " frozenset({'LuckyStrike<4>'}),\n",
       " frozenset({'Ukrainian<2>'}),\n",
       " frozenset({('¬', 'Yellow<2>')}),\n",
       " frozenset({('¬', 'Green<1>')}),\n",
       " frozenset({'Snails<3>'}),\n",
       " frozenset({'Dog<4>'}),\n",
       " frozenset({('¬', 'Yellow<4>')}),\n",
       " frozenset({('¬', 'Blue<4>')}),\n",
       " frozenset({('¬', 'Japanese<4>')}),\n",
       " frozenset({('¬', 'Coffee<3>')}),\n",
       " frozenset({('¬', 'Ivory<2>')}),\n",
       " frozenset({('¬', 'LuckyStrike<3>')}),\n",
       " frozenset({('¬', 'Yellow<5>')}),\n",
       " frozenset({('¬', 'OldGold<4>')}),\n",
       " frozenset({('¬', 'OldGold<5>')}),\n",
       " frozenset({('¬', 'Horse<4>')}),\n",
       " frozenset({('¬', 'Fox<5>')}),\n",
       " frozenset({'Zebra<5>'}),\n",
       " frozenset({('¬', 'OldGold<2>')}),\n",
       " frozenset({('¬', 'Water<3>')}),\n",
       " frozenset({('¬', 'Blue<1>')}),\n",
       " frozenset({('¬', 'Ivory<1>')}),\n",
       " frozenset({'Coffee<5>'}),\n",
       " frozenset({('¬', 'Ukrainian<5>')}),\n",
       " frozenset({('¬', 'Kools<2>')}),\n",
       " frozenset({('¬', 'Red<4>')}),\n",
       " frozenset({('¬', 'Water<5>')}),\n",
       " frozenset({('¬', 'Ukrainian<4>')}),\n",
       " frozenset({('¬', 'Zebra<2>')}),\n",
       " frozenset({'Kools<1>'}),\n",
       " frozenset({('¬', 'Ukrainian<3>')}),\n",
       " frozenset({('¬', 'English<5>')}),\n",
       " frozenset({('¬', 'English<1>')}),\n",
       " frozenset({('¬', 'Kools<5>')}),\n",
       " frozenset({('¬', 'Spanish<1>')}),\n",
       " frozenset({('¬', 'Zebra<3>')}),\n",
       " frozenset({('¬', 'Chesterfields<4>')}),\n",
       " frozenset({('¬', 'English<2>')}),\n",
       " frozenset({('¬', 'Ivory<5>')}),\n",
       " frozenset({('¬', 'Spanish<2>')}),\n",
       " frozenset({('¬', 'Milk<4>')}),\n",
       " frozenset({('¬', 'Ivory<3>')}),\n",
       " frozenset({('¬', 'Kools<3>')}),\n",
       " frozenset({('¬', 'Dog<3>')}),\n",
       " frozenset({('¬', 'Spanish<5>')}),\n",
       " frozenset({('¬', 'Chesterfields<5>')}),\n",
       " frozenset({('¬', 'Yellow<3>')}),\n",
       " frozenset({('¬', 'Red<5>')}),\n",
       " frozenset({('¬', 'Parliaments<4>')}),\n",
       " frozenset({'Blue<2>'}),\n",
       " frozenset({('¬', 'Dog<2>')}),\n",
       " frozenset({('¬', 'Chesterfields<3>')}),\n",
       " frozenset({('¬', 'English<4>')}),\n",
       " frozenset({'Spanish<4>'}),\n",
       " frozenset({('¬', 'Water<4>')}),\n",
       " frozenset({('¬', 'OrangeJuice<3>')}),\n",
       " frozenset({('¬', 'Dog<5>')}),\n",
       " frozenset({('¬', 'Blue<3>')}),\n",
       " frozenset({'OrangeJuice<4>'}),\n",
       " frozenset({'OldGold<3>'}),\n",
       " frozenset({'Water<1>'}),\n",
       " frozenset({('¬', 'Water<2>')}),\n",
       " frozenset({('¬', 'Japanese<3>')}),\n",
       " frozenset({('¬', 'OrangeJuice<2>')}),\n",
       " frozenset({'Norwegian<1>'}),\n",
       " frozenset({('¬', 'Horse<5>')}),\n",
       " frozenset({('¬', 'Tea<1>')}),\n",
       " frozenset({('¬', 'Coffee<1>')}),\n",
       " frozenset({('¬', 'Fox<4>')}),\n",
       " frozenset({('¬', 'Snails<1>')}),\n",
       " frozenset({('¬', 'Parliaments<1>')}),\n",
       " frozenset({('¬', 'Ukrainian<1>')}),\n",
       " frozenset({('¬', 'Snails<5>')}),\n",
       " frozenset({('¬', 'Japanese<1>')}),\n",
       " frozenset({('¬', 'Chesterfields<1>')}),\n",
       " frozenset({'Tea<2>'}),\n",
       " frozenset({('¬', 'Norwegian<5>')})}"
      ]
     },
     "execution_count": 143,
     "metadata": {},
     "output_type": "execute_result"
    }
   ],
   "source": [
    "%%time\n",
    "Solution = solve()\n",
    "Solution"
   ]
  },
  {
   "cell_type": "markdown",
   "metadata": {},
   "source": [
    "## Functions to PrettyPrint the Solution"
   ]
  },
  {
   "cell_type": "code",
   "execution_count": 132,
   "metadata": {},
   "outputs": [],
   "source": [
    "def arb(S):\n",
    "    for x in S:\n",
    "        return x"
   ]
  },
  {
   "cell_type": "code",
   "execution_count": 133,
   "metadata": {},
   "outputs": [],
   "source": [
    "def extractAssignment(Solution):\n",
    "    Assignment = {}\n",
    "    for Unit in Solution:\n",
    "        Literal = arb(Unit)\n",
    "        if isinstance(Literal, str):\n",
    "            number = int(Literal[-2])\n",
    "            name   = Literal[:-3]\n",
    "            Assignment[name] = number\n",
    "    return Assignment"
   ]
  },
  {
   "cell_type": "code",
   "execution_count": 134,
   "metadata": {},
   "outputs": [],
   "source": [
    "def showHTML(Solution):\n",
    "    Assignment = extractAssignment(Solution)\n",
    "    result  = '<table style=\"border:2px solid blue\">\\n'\n",
    "    result += '<tr>'\n",
    "    for name in ['House', 'Nationality',  'Drink', 'Animal', 'Brand', 'Colour']:\n",
    "        result += '<th style=\"color:gold; background-color:blue\">' + name + '</th>'\n",
    "    result += '</tr>\\n'\n",
    "    for chair in range(1, 5+1):\n",
    "        result += '<tr><td style=\"border:1px solid green\">' + str(chair) + '</td>'\n",
    "        for Class in [Nations, Drinks, Pets, Brands, Colours]:\n",
    "            for x in Class:\n",
    "                if Assignment[x] == chair:\n",
    "                    result += '<td  style=\"border:1px solid green\">' + x + '</td>'\n",
    "        result += '</tr>\\n'\n",
    "    result += '</table>'\n",
    "    display(HTML(result))"
   ]
  },
  {
   "cell_type": "code",
   "execution_count": 135,
   "metadata": {},
   "outputs": [
    {
     "data": {
      "text/html": [
       "<table style=\"border:2px solid blue\">\n",
       "<tr><th style=\"color:gold; background-color:blue\">House</th><th style=\"color:gold; background-color:blue\">Nationality</th><th style=\"color:gold; background-color:blue\">Drink</th><th style=\"color:gold; background-color:blue\">Animal</th><th style=\"color:gold; background-color:blue\">Brand</th><th style=\"color:gold; background-color:blue\">Colour</th></tr>\n",
       "<tr><td style=\"border:1px solid green\">1</td><td  style=\"border:1px solid green\">Norwegian</td><td  style=\"border:1px solid green\">Water</td><td  style=\"border:1px solid green\">Fox</td><td  style=\"border:1px solid green\">Kools</td><td  style=\"border:1px solid green\">Yellow</td></tr>\n",
       "<tr><td style=\"border:1px solid green\">2</td><td  style=\"border:1px solid green\">Ukrainian</td><td  style=\"border:1px solid green\">Tea</td><td  style=\"border:1px solid green\">Horse</td><td  style=\"border:1px solid green\">Chesterfields</td><td  style=\"border:1px solid green\">Blue</td></tr>\n",
       "<tr><td style=\"border:1px solid green\">3</td><td  style=\"border:1px solid green\">English</td><td  style=\"border:1px solid green\">Milk</td><td  style=\"border:1px solid green\">Snails</td><td  style=\"border:1px solid green\">OldGold</td><td  style=\"border:1px solid green\">Red</td></tr>\n",
       "<tr><td style=\"border:1px solid green\">4</td><td  style=\"border:1px solid green\">Spanish</td><td  style=\"border:1px solid green\">OrangeJuice</td><td  style=\"border:1px solid green\">Dog</td><td  style=\"border:1px solid green\">LuckyStrike</td><td  style=\"border:1px solid green\">Ivory</td></tr>\n",
       "<tr><td style=\"border:1px solid green\">5</td><td  style=\"border:1px solid green\">Japanese</td><td  style=\"border:1px solid green\">Coffee</td><td  style=\"border:1px solid green\">Zebra</td><td  style=\"border:1px solid green\">Parliaments</td><td  style=\"border:1px solid green\">Green</td></tr>\n",
       "</table>"
      ],
      "text/plain": [
       "<IPython.core.display.HTML object>"
      ]
     },
     "metadata": {},
     "output_type": "display_data"
    }
   ],
   "source": [
    "showHTML(Solution)"
   ]
  },
  {
   "cell_type": "markdown",
   "metadata": {},
   "source": [
    "## Checking the Uniqueness of the Solution"
   ]
  },
  {
   "cell_type": "markdown",
   "metadata": {},
   "source": [
    "Given a set of unit clauses $U$, the function $\\texttt{checkUniqueness}(U)$ returns a clause that is the negation of the set $U$."
   ]
  },
  {
   "cell_type": "code",
   "execution_count": 144,
   "metadata": {},
   "outputs": [],
   "source": [
    "def negateSolution(UnitClauses):\n",
    "    return { dp.complement(arb(unit)) for unit in UnitClauses }"
   ]
  },
  {
   "cell_type": "code",
   "execution_count": 145,
   "metadata": {},
   "outputs": [
    {
     "data": {
      "text/plain": [
       "{('¬', 'a'), 'b'}"
      ]
     },
     "execution_count": 145,
     "metadata": {},
     "output_type": "execute_result"
    }
   ],
   "source": [
    "negateSolution({ frozenset({'a'}), frozenset({('¬', 'b')}) }) "
   ]
  },
  {
   "cell_type": "code",
   "execution_count": 146,
   "metadata": {},
   "outputs": [],
   "source": [
    "def checkUniqueness(Solution, Clauses):\n",
    "    negation = negateSolution(Solution)\n",
    "    Clauses.add(frozenset(negation))\n",
    "    alternative = dp.solve(Clauses, set())\n",
    "    if alternative == { frozenset() }:\n",
    "        print(\"Well done: The solution is unique!\")\n",
    "    else:\n",
    "        print(\"ERROR: The solution is not unique!\")"
   ]
  },
  {
   "cell_type": "code",
   "execution_count": 147,
   "metadata": {},
   "outputs": [
    {
     "name": "stdout",
     "output_type": "stream",
     "text": [
      "Well done: The solution is unique!\n"
     ]
    }
   ],
   "source": [
    "checkUniqueness(Solution, Clauses)"
   ]
  },
  {
   "cell_type": "code",
   "execution_count": null,
   "metadata": {},
   "outputs": [],
   "source": []
  }
 ],
 "metadata": {
  "hide_input": false,
  "kernelspec": {
   "display_name": "Python 3",
   "language": "python",
   "name": "python3"
  },
  "language_info": {
   "codemirror_mode": {
    "name": "ipython",
    "version": 3
   },
   "file_extension": ".py",
   "mimetype": "text/x-python",
   "name": "python",
   "nbconvert_exporter": "python",
   "pygments_lexer": "ipython3",
   "version": "3.8.2"
  },
  "toc": {
   "base_numbering": 1,
   "nav_menu": {},
   "number_sections": true,
   "sideBar": true,
   "skip_h1_title": false,
   "title_cell": "Table of Contents",
   "title_sidebar": "Contents",
   "toc_cell": false,
   "toc_position": {},
   "toc_section_display": true,
   "toc_window_display": false
  },
  "varInspector": {
   "cols": {
    "lenName": 16,
    "lenType": 16,
    "lenVar": 40
   },
   "kernels_config": {
    "python": {
     "delete_cmd_postfix": "",
     "delete_cmd_prefix": "del ",
     "library": "var_list.py",
     "varRefreshCmd": "print(var_dic_list())"
    },
    "r": {
     "delete_cmd_postfix": ") ",
     "delete_cmd_prefix": "rm(",
     "library": "var_list.r",
     "varRefreshCmd": "cat(var_dic_list()) "
    }
   },
   "types_to_exclude": [
    "module",
    "function",
    "builtin_function_or_method",
    "instance",
    "_Feature"
   ],
   "window_display": false
  }
 },
 "nbformat": 4,
 "nbformat_minor": 2
}
