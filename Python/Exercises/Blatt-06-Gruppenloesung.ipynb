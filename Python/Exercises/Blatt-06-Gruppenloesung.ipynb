{
 "cells": [
  {
   "cell_type": "code",
   "execution_count": null,
   "metadata": {},
   "outputs": [],
   "source": [
    "from IPython.core.display import HTML\n",
    "with open('style.css', 'r') as file:\n",
    "    css = file.read()\n",
    "HTML(css)"
   ]
  },
  {
   "cell_type": "markdown",
   "metadata": {},
   "source": [
    "# The $3 \\times 3$ Sliding Puzzle"
   ]
  },
  {
   "cell_type": "markdown",
   "metadata": {},
   "source": [
    "<img src=\"8-puzzle.png\">"
   ]
  },
  {
   "cell_type": "markdown",
   "metadata": {},
   "source": [
    "The picture above shows an instance of the $3 \\times 3$ \n",
    "<a href=\"https://en.wikipedia.org/wiki/Sliding_puzzle\">sliding puzzle</a>:\n",
    "There is a board of size $3 \\times 3$ with 8 tiles on it. These tiles are numbered with digits from the set $\\{1,\\cdots, 8\\}$.  As the the $3 \\times 3$ board has an area of $9$ but there are only $8$ tiles, there is an empty square on the board.  Tiles adjacent to the empty square can be moved into the square, thereby emptying the space that was previously occupied by theses tiles.  The goal of the $3 \\times 3$ puzzle is to transform the state shown on the left of the picture above into the state shown on the right.\n",
    "\n",
    "In order to get an idea of the sliding puzzle, you can play it online at <a href=\"http://mypuzzle.org/sliding\">http://mypuzzle.org/sliding</a>."
   ]
  },
  {
   "cell_type": "markdown",
   "metadata": {},
   "source": [
    "## Utilities to Display the Solution"
   ]
  },
  {
   "cell_type": "markdown",
   "metadata": {},
   "source": [
    "We use a different color for each tile."
   ]
  },
  {
   "cell_type": "code",
   "execution_count": 1,
   "metadata": {},
   "outputs": [],
   "source": [
    "Colors = ['white', 'lightblue', 'pink', 'magenta', \n",
    "          'orange', 'red', 'yellow', 'lightgreen', 'salmon'\n",
    "         ]"
   ]
  },
  {
   "cell_type": "code",
   "execution_count": 2,
   "metadata": {},
   "outputs": [],
   "source": [
    "def get_style(n):\n",
    "    return 'background-color: ' + Colors[n] + ';\">'"
   ]
  },
  {
   "cell_type": "code",
   "execution_count": 3,
   "metadata": {},
   "outputs": [],
   "source": [
    "CSS_Table = { 'border'      : '2px solid darkblue',\n",
    "              'border-style': 'double',\n",
    "              'border-width': '4px'\n",
    "            }"
   ]
  },
  {
   "cell_type": "code",
   "execution_count": 4,
   "metadata": {},
   "outputs": [],
   "source": [
    "CSS_TD = { 'border'      : '2px solid black', \n",
    "           'border-style': 'groove',\n",
    "           'border-width': '8px',\n",
    "           'padding'     : '15px',\n",
    "           'font-size'   : '150%', \n",
    "         }"
   ]
  },
  {
   "cell_type": "code",
   "execution_count": 5,
   "metadata": {},
   "outputs": [],
   "source": [
    "def css_style(Dictionary):\n",
    "    result = ''\n",
    "    for k, v in Dictionary.items():\n",
    "        result += k + ':' + v + ';'\n",
    "    return result"
   ]
  },
  {
   "cell_type": "markdown",
   "metadata": {},
   "source": [
    "The function `state_to_html` displays a given state as an `Html` tabel."
   ]
  },
  {
   "cell_type": "code",
   "execution_count": 6,
   "metadata": {},
   "outputs": [],
   "source": [
    "def state_to_html(State):\n",
    "    result = '<table style=\"' + css_style(CSS_Table) + '\">\\n'\n",
    "    for row in State:\n",
    "        result += '<tr>'\n",
    "        for number in row:\n",
    "            result += '<td style=\"' + css_style(CSS_TD)\n",
    "            if number > 0:\n",
    "                result += get_style(number) + str(number)\n",
    "            else:\n",
    "                result += get_style(number)\n",
    "            result += '</td>'\n",
    "        result += '</tr>\\n'\n",
    "    result += '</table>'\n",
    "    return result"
   ]
  },
  {
   "cell_type": "markdown",
   "metadata": {},
   "source": [
    "Given a non-empty set `S`, the function `arb` returns an arbitrary element of `S`.\n",
    "The set `S` is left unchanged."
   ]
  },
  {
   "cell_type": "code",
   "execution_count": 7,
   "metadata": {},
   "outputs": [],
   "source": [
    "def arb(S):\n",
    "    for x in S:\n",
    "        return x"
   ]
  },
  {
   "cell_type": "code",
   "execution_count": 8,
   "metadata": {},
   "outputs": [],
   "source": [
    "%run Breadth-First-Fast.ipynb"
   ]
  },
  {
   "cell_type": "markdown",
   "metadata": {},
   "source": [
    "## Problem Specific Code"
   ]
  },
  {
   "cell_type": "markdown",
   "metadata": {},
   "source": [
    "We will represent states as tuples of tuples.  For example, the start state that is shown in the picture at the beginnning of this notebook is represented as follows:"
   ]
  },
  {
   "cell_type": "code",
   "execution_count": 9,
   "metadata": {},
   "outputs": [],
   "source": [
    "start = ((8, 0, 6),\n",
    "         (5, 4, 7),\n",
    "         (2, 3, 1)\n",
    "        )"
   ]
  },
  {
   "cell_type": "markdown",
   "metadata": {},
   "source": [
    "Note that the empty tile is represented by the digit $0$.  "
   ]
  },
  {
   "cell_type": "markdown",
   "metadata": {},
   "source": [
    "**Exercise 1**: Define the goal state below."
   ]
  },
  {
   "cell_type": "code",
   "execution_count": 10,
   "metadata": {},
   "outputs": [],
   "source": [
    "goal = ((0, 1, 2),\n",
    "         (3, 4, 5),\n",
    "         (6, 7, 8)\n",
    "        )"
   ]
  },
  {
   "cell_type": "markdown",
   "metadata": {},
   "source": [
    "**Exercise 2:** \n",
    "The function $\\texttt{findZero}(S)$ takes a state $S$ and returns a pair $(r, c)$ that specifies the row and the column of the blank in the state $S$.  For example, we should have:\n",
    "$$ \\texttt{findZero}(\\texttt{start}) = (0, 1) \\quad\\mbox{and}\\quad \n",
    "   \\texttt{findZero}(\\texttt{goal}) = (0, 0) \n",
    "$$"
   ]
  },
  {
   "cell_type": "code",
   "execution_count": 13,
   "metadata": {},
   "outputs": [],
   "source": [
    "def findZero(State):\n",
    "    for i in range(len(State)):\n",
    "        for j in range(len(State[i])):\n",
    "            if State[i][j] == 0:\n",
    "                return (i, j)"
   ]
  },
  {
   "cell_type": "code",
   "execution_count": 14,
   "metadata": {},
   "outputs": [
    {
     "data": {
      "text/plain": [
       "(0, 1)"
      ]
     },
     "execution_count": 14,
     "metadata": {},
     "output_type": "execute_result"
    }
   ],
   "source": [
    "findZero(start)"
   ]
  },
  {
   "cell_type": "code",
   "execution_count": 15,
   "metadata": {},
   "outputs": [
    {
     "data": {
      "text/plain": [
       "(0, 0)"
      ]
     },
     "execution_count": 15,
     "metadata": {},
     "output_type": "execute_result"
    }
   ],
   "source": [
    "findZero(goal)"
   ]
  },
  {
   "cell_type": "markdown",
   "metadata": {},
   "source": [
    "We have to represent states as tuples of tuples in order to be able to insert them into sets.  However, as tuples are immutable, we need to be able to convert them to lists in order to change them.  The function $\\texttt{listOfLists}(S)$ takes a state $S$ and transforms it into a list of lists."
   ]
  },
  {
   "cell_type": "code",
   "execution_count": 16,
   "metadata": {},
   "outputs": [],
   "source": [
    "def listOfLists(S):\n",
    "    'Transform a tuple of tuples into a list of lists.'\n",
    "    return [ [x for x in row] for row in S ]"
   ]
  },
  {
   "cell_type": "code",
   "execution_count": 17,
   "metadata": {},
   "outputs": [
    {
     "data": {
      "text/plain": [
       "[[8, 0, 6], [5, 4, 7], [2, 3, 1]]"
      ]
     },
     "execution_count": 17,
     "metadata": {},
     "output_type": "execute_result"
    }
   ],
   "source": [
    "listOfLists(start)"
   ]
  },
  {
   "cell_type": "markdown",
   "metadata": {},
   "source": [
    "As lists can not be inserted into sets, we also need a function that takes a list of list and transforms it back into a tuple of tuple."
   ]
  },
  {
   "cell_type": "code",
   "execution_count": 18,
   "metadata": {},
   "outputs": [],
   "source": [
    "def tupleOfTuples(S):\n",
    "    'Transform a list of lists into a tuple of tuples.'\n",
    "    return tuple(tuple(x for x in row) for row in S)"
   ]
  },
  {
   "cell_type": "code",
   "execution_count": 19,
   "metadata": {},
   "outputs": [
    {
     "data": {
      "text/plain": [
       "((8, 0, 6), (5, 4, 7), (2, 3, 1))"
      ]
     },
     "execution_count": 19,
     "metadata": {},
     "output_type": "execute_result"
    }
   ],
   "source": [
    "tupleOfTuples([[8, 0, 6], [5, 4, 7], [2, 3, 1]])"
   ]
  },
  {
   "cell_type": "markdown",
   "metadata": {},
   "source": [
    "**Exercise 3**: Implement a function $\\texttt{moveUp}(S, r, c)$ that computes the state that results from moving the tile below the blank space **up** in state $S$.  The variables $r$ and $c$ specify the location of the *row* and *column* of the blank tile.  Therefore we have $S[r][c] = 0$.\n",
    "\n",
    "In your implementation you may assume that there is indeed a tile below the blank space, i.e. we have $r < 2$.  "
   ]
  },
  {
   "cell_type": "code",
   "execution_count": 99,
   "metadata": {},
   "outputs": [],
   "source": [
    "def moveUp(S, r, c):\n",
    "    SasList = listOfLists(S)\n",
    "    'Move the tile below the blank up.'\n",
    "    \"your code here\"    \n",
    "    SasList[r][c] = S[r+1][c]\n",
    "    SasList[r+1][c] = 0\n",
    "    return tupleOfTuples(SasList)"
   ]
  },
  {
   "cell_type": "code",
   "execution_count": 100,
   "metadata": {},
   "outputs": [
    {
     "data": {
      "text/html": [
       "<table style=\"border:2px solid darkblue;border-style:double;border-width:4px;\">\n",
       "<tr><td style=\"border:2px solid black;border-style:groove;border-width:8px;padding:15px;font-size:150%;background-color: salmon;\">8</td><td style=\"border:2px solid black;border-style:groove;border-width:8px;padding:15px;font-size:150%;background-color: white;\"></td><td style=\"border:2px solid black;border-style:groove;border-width:8px;padding:15px;font-size:150%;background-color: yellow;\">6</td></tr>\n",
       "<tr><td style=\"border:2px solid black;border-style:groove;border-width:8px;padding:15px;font-size:150%;background-color: red;\">5</td><td style=\"border:2px solid black;border-style:groove;border-width:8px;padding:15px;font-size:150%;background-color: orange;\">4</td><td style=\"border:2px solid black;border-style:groove;border-width:8px;padding:15px;font-size:150%;background-color: lightgreen;\">7</td></tr>\n",
       "<tr><td style=\"border:2px solid black;border-style:groove;border-width:8px;padding:15px;font-size:150%;background-color: pink;\">2</td><td style=\"border:2px solid black;border-style:groove;border-width:8px;padding:15px;font-size:150%;background-color: magenta;\">3</td><td style=\"border:2px solid black;border-style:groove;border-width:8px;padding:15px;font-size:150%;background-color: lightblue;\">1</td></tr>\n",
       "</table>"
      ],
      "text/plain": [
       "<IPython.core.display.HTML object>"
      ]
     },
     "execution_count": 100,
     "metadata": {},
     "output_type": "execute_result"
    }
   ],
   "source": [
    "HTML(state_to_html(start))"
   ]
  },
  {
   "cell_type": "code",
   "execution_count": 101,
   "metadata": {},
   "outputs": [
    {
     "data": {
      "text/html": [
       "<table style=\"border:2px solid darkblue;border-style:double;border-width:4px;\">\n",
       "<tr><td style=\"border:2px solid black;border-style:groove;border-width:8px;padding:15px;font-size:150%;background-color: salmon;\">8</td><td style=\"border:2px solid black;border-style:groove;border-width:8px;padding:15px;font-size:150%;background-color: orange;\">4</td><td style=\"border:2px solid black;border-style:groove;border-width:8px;padding:15px;font-size:150%;background-color: yellow;\">6</td></tr>\n",
       "<tr><td style=\"border:2px solid black;border-style:groove;border-width:8px;padding:15px;font-size:150%;background-color: red;\">5</td><td style=\"border:2px solid black;border-style:groove;border-width:8px;padding:15px;font-size:150%;background-color: white;\"></td><td style=\"border:2px solid black;border-style:groove;border-width:8px;padding:15px;font-size:150%;background-color: lightgreen;\">7</td></tr>\n",
       "<tr><td style=\"border:2px solid black;border-style:groove;border-width:8px;padding:15px;font-size:150%;background-color: pink;\">2</td><td style=\"border:2px solid black;border-style:groove;border-width:8px;padding:15px;font-size:150%;background-color: magenta;\">3</td><td style=\"border:2px solid black;border-style:groove;border-width:8px;padding:15px;font-size:150%;background-color: lightblue;\">1</td></tr>\n",
       "</table>"
      ],
      "text/plain": [
       "<IPython.core.display.HTML object>"
      ]
     },
     "execution_count": 101,
     "metadata": {},
     "output_type": "execute_result"
    }
   ],
   "source": [
    "HTML(state_to_html(moveUp(start, 0, 1)))"
   ]
  },
  {
   "cell_type": "markdown",
   "metadata": {},
   "source": [
    "**Exercise 4**: Implement a function $\\texttt{moveDown}(S, r, c)$ that computes the state that results from moving the tile below the blank space **down** in state $S$.  The variables $r$ and $c$ specify the location of the *row* and *column* of the blank tile.  Therefore we have $S[r][c] = 0$.\n",
    "\n",
    "In your implementation you may assume that there is indeed a tile above the blank space, i.e. we have $r > 0$.  "
   ]
  },
  {
   "cell_type": "code",
   "execution_count": 102,
   "metadata": {},
   "outputs": [],
   "source": [
    "def moveDown(S, r, c):\n",
    "    SasList = listOfLists(S)\n",
    "    'Move the tile below the blank up.'\n",
    "    \"your code here\"    \n",
    "    SasList[r][c] = S[r-1][c]\n",
    "    SasList[r-1][c] = 0\n",
    "    return tupleOfTuples(SasList)"
   ]
  },
  {
   "cell_type": "code",
   "execution_count": 103,
   "metadata": {},
   "outputs": [
    {
     "data": {
      "text/html": [
       "<table style=\"border:2px solid darkblue;border-style:double;border-width:4px;\">\n",
       "<tr><td style=\"border:2px solid black;border-style:groove;border-width:8px;padding:15px;font-size:150%;background-color: salmon;\">8</td><td style=\"border:2px solid black;border-style:groove;border-width:8px;padding:15px;font-size:150%;background-color: orange;\">4</td><td style=\"border:2px solid black;border-style:groove;border-width:8px;padding:15px;font-size:150%;background-color: yellow;\">6</td></tr>\n",
       "<tr><td style=\"border:2px solid black;border-style:groove;border-width:8px;padding:15px;font-size:150%;background-color: red;\">5</td><td style=\"border:2px solid black;border-style:groove;border-width:8px;padding:15px;font-size:150%;background-color: white;\"></td><td style=\"border:2px solid black;border-style:groove;border-width:8px;padding:15px;font-size:150%;background-color: lightgreen;\">7</td></tr>\n",
       "<tr><td style=\"border:2px solid black;border-style:groove;border-width:8px;padding:15px;font-size:150%;background-color: pink;\">2</td><td style=\"border:2px solid black;border-style:groove;border-width:8px;padding:15px;font-size:150%;background-color: magenta;\">3</td><td style=\"border:2px solid black;border-style:groove;border-width:8px;padding:15px;font-size:150%;background-color: lightblue;\">1</td></tr>\n",
       "</table>"
      ],
      "text/plain": [
       "<IPython.core.display.HTML object>"
      ]
     },
     "execution_count": 103,
     "metadata": {},
     "output_type": "execute_result"
    }
   ],
   "source": [
    "HTML(state_to_html(moveUp(start, 0, 1)))"
   ]
  },
  {
   "cell_type": "markdown",
   "metadata": {},
   "source": [
    "**Exercise 5:**\n",
    "Similarly to the previous exercise, implement functions $\\texttt{moveRight}(S, r, c)$ and $\\texttt{moveLeft}(S, r, c)$."
   ]
  },
  {
   "cell_type": "code",
   "execution_count": 104,
   "metadata": {},
   "outputs": [],
   "source": [
    "def moveRight(S, r, c):\n",
    "    SasList = listOfLists(S)\n",
    "    'Move the tile below the blank up.'\n",
    "    \"your code here\"    \n",
    "    SasList[r][c] = S[r][c-1]\n",
    "    SasList[r][c-1] = 0\n",
    "    return tupleOfTuples(SasList)"
   ]
  },
  {
   "cell_type": "code",
   "execution_count": 105,
   "metadata": {},
   "outputs": [
    {
     "data": {
      "text/html": [
       "<table style=\"border:2px solid darkblue;border-style:double;border-width:4px;\">\n",
       "<tr><td style=\"border:2px solid black;border-style:groove;border-width:8px;padding:15px;font-size:150%;background-color: white;\"></td><td style=\"border:2px solid black;border-style:groove;border-width:8px;padding:15px;font-size:150%;background-color: salmon;\">8</td><td style=\"border:2px solid black;border-style:groove;border-width:8px;padding:15px;font-size:150%;background-color: yellow;\">6</td></tr>\n",
       "<tr><td style=\"border:2px solid black;border-style:groove;border-width:8px;padding:15px;font-size:150%;background-color: red;\">5</td><td style=\"border:2px solid black;border-style:groove;border-width:8px;padding:15px;font-size:150%;background-color: orange;\">4</td><td style=\"border:2px solid black;border-style:groove;border-width:8px;padding:15px;font-size:150%;background-color: lightgreen;\">7</td></tr>\n",
       "<tr><td style=\"border:2px solid black;border-style:groove;border-width:8px;padding:15px;font-size:150%;background-color: pink;\">2</td><td style=\"border:2px solid black;border-style:groove;border-width:8px;padding:15px;font-size:150%;background-color: magenta;\">3</td><td style=\"border:2px solid black;border-style:groove;border-width:8px;padding:15px;font-size:150%;background-color: lightblue;\">1</td></tr>\n",
       "</table>"
      ],
      "text/plain": [
       "<IPython.core.display.HTML object>"
      ]
     },
     "execution_count": 105,
     "metadata": {},
     "output_type": "execute_result"
    }
   ],
   "source": [
    "HTML(state_to_html(moveRight(start, 0, 1)))"
   ]
  },
  {
   "cell_type": "code",
   "execution_count": 106,
   "metadata": {},
   "outputs": [],
   "source": [
    "def moveLeft(S, r, c):\n",
    "    'Move the tile right of the blank to the left.'\n",
    "    \"your code here\"\n",
    "    SasList = listOfLists(S)\n",
    "    'Move the tile below the blank up.'\n",
    "    \"your code here\"    \n",
    "    SasList[r][c] = S[r][c+1]\n",
    "    SasList[r][c+1] = 0\n",
    "    return tupleOfTuples(SasList)"
   ]
  },
  {
   "cell_type": "code",
   "execution_count": 107,
   "metadata": {},
   "outputs": [
    {
     "data": {
      "text/html": [
       "<table style=\"border:2px solid darkblue;border-style:double;border-width:4px;\">\n",
       "<tr><td style=\"border:2px solid black;border-style:groove;border-width:8px;padding:15px;font-size:150%;background-color: salmon;\">8</td><td style=\"border:2px solid black;border-style:groove;border-width:8px;padding:15px;font-size:150%;background-color: yellow;\">6</td><td style=\"border:2px solid black;border-style:groove;border-width:8px;padding:15px;font-size:150%;background-color: white;\"></td></tr>\n",
       "<tr><td style=\"border:2px solid black;border-style:groove;border-width:8px;padding:15px;font-size:150%;background-color: red;\">5</td><td style=\"border:2px solid black;border-style:groove;border-width:8px;padding:15px;font-size:150%;background-color: orange;\">4</td><td style=\"border:2px solid black;border-style:groove;border-width:8px;padding:15px;font-size:150%;background-color: lightgreen;\">7</td></tr>\n",
       "<tr><td style=\"border:2px solid black;border-style:groove;border-width:8px;padding:15px;font-size:150%;background-color: pink;\">2</td><td style=\"border:2px solid black;border-style:groove;border-width:8px;padding:15px;font-size:150%;background-color: magenta;\">3</td><td style=\"border:2px solid black;border-style:groove;border-width:8px;padding:15px;font-size:150%;background-color: lightblue;\">1</td></tr>\n",
       "</table>"
      ],
      "text/plain": [
       "<IPython.core.display.HTML object>"
      ]
     },
     "execution_count": 107,
     "metadata": {},
     "output_type": "execute_result"
    }
   ],
   "source": [
    "HTML(state_to_html(moveLeft(start, 0, 1)))"
   ]
  },
  {
   "cell_type": "markdown",
   "metadata": {},
   "source": [
    "**Exercise 6:**. Implement a function $\\texttt{nextStates}(S)$ that takes a state $S$ representet as a tuple of tuple and that computes the set of states that are reachable from $S$ in one step.  Remember to use the previously defined functions `findZero`, `moveUp`, $\\cdots$, `moveLeft`.  However, when you do use the function `moveUp`, then you should also check that it is possible to move a tile up."
   ]
  },
  {
   "cell_type": "code",
   "execution_count": 111,
   "metadata": {},
   "outputs": [],
   "source": [
    "def nextStates(State):\n",
    "    'Compute the set of states reachable in one step from the state S.'\n",
    "    \"your code here\"\n",
    "    zero = findZero(State)\n",
    "    \n",
    "    possibleStates = set()\n",
    "    \n",
    "    if zero[0] != 2:\n",
    "        possibleStates.add(moveUp(State, zero[0], zero[1]))\n",
    "    if zero[0] != 0:\n",
    "        possibleStates.add(moveDown(State, zero[0], zero[1]))\n",
    "    if zero[1] != 0:\n",
    "        possibleStates.add(moveRight(State, zero[0], zero[1]))\n",
    "    if zero[1] != 2:\n",
    "        possibleStates.add(moveLeft(State, zero[0], zero[1]))\n",
    "    \n",
    "    #possibleStates = { moveUp(State, zero[0], zero[1]), moveDown(State, zero[0], zero[1]), moveRight(State, zero[0], zero[1]), moveLeft(State, zero[0], zero[1]) }\n",
    "    #return { x for x in possibleStates if x != State }\n",
    "    return possibleStates"
   ]
  },
  {
   "cell_type": "code",
   "execution_count": 112,
   "metadata": {},
   "outputs": [
    {
     "data": {
      "text/plain": [
       "{((0, 8, 6), (5, 4, 7), (2, 3, 1)),\n",
       " ((8, 4, 6), (5, 0, 7), (2, 3, 1)),\n",
       " ((8, 6, 0), (5, 4, 7), (2, 3, 1))}"
      ]
     },
     "execution_count": 112,
     "metadata": {},
     "output_type": "execute_result"
    }
   ],
   "source": [
    "nextStates(start)"
   ]
  },
  {
   "cell_type": "markdown",
   "metadata": {},
   "source": [
    "The computation of the relation `R` might take about 10 seconds. The reason is that `R` contains $967,680$ different pairs."
   ]
  },
  {
   "cell_type": "markdown",
   "metadata": {},
   "source": [
    "The following computation takes about 3 seconds on my desktop computer, which has an 3,4 GHz Quad-Core Intel Core i5 (7500) Prozessor.   "
   ]
  },
  {
   "cell_type": "code",
   "execution_count": 113,
   "metadata": {},
   "outputs": [
    {
     "name": "stdout",
     "output_type": "stream",
     "text": [
      "Iteration 1: 3 new states found.\n",
      "Iteration 2: 5 new states found.\n",
      "Iteration 3: 10 new states found.\n",
      "Iteration 4: 14 new states found.\n",
      "Iteration 5: 28 new states found.\n",
      "Iteration 6: 42 new states found.\n",
      "Iteration 7: 80 new states found.\n",
      "Iteration 8: 108 new states found.\n",
      "Iteration 9: 202 new states found.\n",
      "Iteration 10: 278 new states found.\n",
      "Iteration 11: 524 new states found.\n",
      "Iteration 12: 726 new states found.\n",
      "Iteration 13: 1348 new states found.\n",
      "Iteration 14: 1804 new states found.\n",
      "Iteration 15: 3283 new states found.\n",
      "Iteration 16: 4193 new states found.\n",
      "Iteration 17: 7322 new states found.\n",
      "Iteration 18: 8596 new states found.\n",
      "Iteration 19: 13930 new states found.\n",
      "Iteration 20: 14713 new states found.\n",
      "Iteration 21: 21721 new states found.\n",
      "Iteration 22: 19827 new states found.\n",
      "Iteration 23: 25132 new states found.\n",
      "Iteration 24: 18197 new states found.\n",
      "Iteration 25: 18978 new states found.\n",
      "Iteration 26: 9929 new states found.\n",
      "Iteration 27: 7359 new states found.\n",
      "Iteration 28: 2081 new states found.\n",
      "Iteration 29: 878 new states found.\n",
      "Iteration 30: 126 new states found.\n",
      "CPU times: user 4.49 s, sys: 60 ms, total: 4.55 s\n",
      "Wall time: 4.54 s\n"
     ]
    }
   ],
   "source": [
    "%%time\n",
    "Path = search(nextStates, start, goal)"
   ]
  },
  {
   "cell_type": "markdown",
   "metadata": {},
   "source": [
    "The tuple Path that is a solution to the sliding problem has a length of **32**.  If your path is shorter, then you have to inspect it carefully to identify the problem.  In order to do this, use the function <tt>printPath</tt> that is implemented at the bottom of this notebook."
   ]
  },
  {
   "cell_type": "code",
   "execution_count": 114,
   "metadata": {},
   "outputs": [
    {
     "data": {
      "text/plain": [
       "32"
      ]
     },
     "execution_count": 114,
     "metadata": {},
     "output_type": "execute_result"
    }
   ],
   "source": [
    "len(Path)"
   ]
  },
  {
   "cell_type": "markdown",
   "metadata": {},
   "source": [
    "Print the solution via `HTML` tables."
   ]
  },
  {
   "cell_type": "code",
   "execution_count": 115,
   "metadata": {
    "scrolled": false
   },
   "outputs": [
    {
     "data": {
      "text/html": [
       "<table style=\"border:2px solid darkblue;border-style:double;border-width:4px;\">\n",
       "<tr><td style=\"border:2px solid black;border-style:groove;border-width:8px;padding:15px;font-size:150%;background-color: salmon;\">8</td><td style=\"border:2px solid black;border-style:groove;border-width:8px;padding:15px;font-size:150%;background-color: white;\"></td><td style=\"border:2px solid black;border-style:groove;border-width:8px;padding:15px;font-size:150%;background-color: yellow;\">6</td></tr>\n",
       "<tr><td style=\"border:2px solid black;border-style:groove;border-width:8px;padding:15px;font-size:150%;background-color: red;\">5</td><td style=\"border:2px solid black;border-style:groove;border-width:8px;padding:15px;font-size:150%;background-color: orange;\">4</td><td style=\"border:2px solid black;border-style:groove;border-width:8px;padding:15px;font-size:150%;background-color: lightgreen;\">7</td></tr>\n",
       "<tr><td style=\"border:2px solid black;border-style:groove;border-width:8px;padding:15px;font-size:150%;background-color: pink;\">2</td><td style=\"border:2px solid black;border-style:groove;border-width:8px;padding:15px;font-size:150%;background-color: magenta;\">3</td><td style=\"border:2px solid black;border-style:groove;border-width:8px;padding:15px;font-size:150%;background-color: lightblue;\">1</td></tr>\n",
       "</table>"
      ],
      "text/plain": [
       "<IPython.core.display.HTML object>"
      ]
     },
     "metadata": {},
     "output_type": "display_data"
    },
    {
     "data": {
      "text/html": [
       "<table style=\"border:2px solid darkblue;border-style:double;border-width:4px;\">\n",
       "<tr><td style=\"border:2px solid black;border-style:groove;border-width:8px;padding:15px;font-size:150%;background-color: white;\"></td><td style=\"border:2px solid black;border-style:groove;border-width:8px;padding:15px;font-size:150%;background-color: salmon;\">8</td><td style=\"border:2px solid black;border-style:groove;border-width:8px;padding:15px;font-size:150%;background-color: yellow;\">6</td></tr>\n",
       "<tr><td style=\"border:2px solid black;border-style:groove;border-width:8px;padding:15px;font-size:150%;background-color: red;\">5</td><td style=\"border:2px solid black;border-style:groove;border-width:8px;padding:15px;font-size:150%;background-color: orange;\">4</td><td style=\"border:2px solid black;border-style:groove;border-width:8px;padding:15px;font-size:150%;background-color: lightgreen;\">7</td></tr>\n",
       "<tr><td style=\"border:2px solid black;border-style:groove;border-width:8px;padding:15px;font-size:150%;background-color: pink;\">2</td><td style=\"border:2px solid black;border-style:groove;border-width:8px;padding:15px;font-size:150%;background-color: magenta;\">3</td><td style=\"border:2px solid black;border-style:groove;border-width:8px;padding:15px;font-size:150%;background-color: lightblue;\">1</td></tr>\n",
       "</table>"
      ],
      "text/plain": [
       "<IPython.core.display.HTML object>"
      ]
     },
     "metadata": {},
     "output_type": "display_data"
    },
    {
     "data": {
      "text/html": [
       "<table style=\"border:2px solid darkblue;border-style:double;border-width:4px;\">\n",
       "<tr><td style=\"border:2px solid black;border-style:groove;border-width:8px;padding:15px;font-size:150%;background-color: red;\">5</td><td style=\"border:2px solid black;border-style:groove;border-width:8px;padding:15px;font-size:150%;background-color: salmon;\">8</td><td style=\"border:2px solid black;border-style:groove;border-width:8px;padding:15px;font-size:150%;background-color: yellow;\">6</td></tr>\n",
       "<tr><td style=\"border:2px solid black;border-style:groove;border-width:8px;padding:15px;font-size:150%;background-color: white;\"></td><td style=\"border:2px solid black;border-style:groove;border-width:8px;padding:15px;font-size:150%;background-color: orange;\">4</td><td style=\"border:2px solid black;border-style:groove;border-width:8px;padding:15px;font-size:150%;background-color: lightgreen;\">7</td></tr>\n",
       "<tr><td style=\"border:2px solid black;border-style:groove;border-width:8px;padding:15px;font-size:150%;background-color: pink;\">2</td><td style=\"border:2px solid black;border-style:groove;border-width:8px;padding:15px;font-size:150%;background-color: magenta;\">3</td><td style=\"border:2px solid black;border-style:groove;border-width:8px;padding:15px;font-size:150%;background-color: lightblue;\">1</td></tr>\n",
       "</table>"
      ],
      "text/plain": [
       "<IPython.core.display.HTML object>"
      ]
     },
     "metadata": {},
     "output_type": "display_data"
    },
    {
     "data": {
      "text/html": [
       "<table style=\"border:2px solid darkblue;border-style:double;border-width:4px;\">\n",
       "<tr><td style=\"border:2px solid black;border-style:groove;border-width:8px;padding:15px;font-size:150%;background-color: red;\">5</td><td style=\"border:2px solid black;border-style:groove;border-width:8px;padding:15px;font-size:150%;background-color: salmon;\">8</td><td style=\"border:2px solid black;border-style:groove;border-width:8px;padding:15px;font-size:150%;background-color: yellow;\">6</td></tr>\n",
       "<tr><td style=\"border:2px solid black;border-style:groove;border-width:8px;padding:15px;font-size:150%;background-color: pink;\">2</td><td style=\"border:2px solid black;border-style:groove;border-width:8px;padding:15px;font-size:150%;background-color: orange;\">4</td><td style=\"border:2px solid black;border-style:groove;border-width:8px;padding:15px;font-size:150%;background-color: lightgreen;\">7</td></tr>\n",
       "<tr><td style=\"border:2px solid black;border-style:groove;border-width:8px;padding:15px;font-size:150%;background-color: white;\"></td><td style=\"border:2px solid black;border-style:groove;border-width:8px;padding:15px;font-size:150%;background-color: magenta;\">3</td><td style=\"border:2px solid black;border-style:groove;border-width:8px;padding:15px;font-size:150%;background-color: lightblue;\">1</td></tr>\n",
       "</table>"
      ],
      "text/plain": [
       "<IPython.core.display.HTML object>"
      ]
     },
     "metadata": {},
     "output_type": "display_data"
    },
    {
     "data": {
      "text/html": [
       "<table style=\"border:2px solid darkblue;border-style:double;border-width:4px;\">\n",
       "<tr><td style=\"border:2px solid black;border-style:groove;border-width:8px;padding:15px;font-size:150%;background-color: red;\">5</td><td style=\"border:2px solid black;border-style:groove;border-width:8px;padding:15px;font-size:150%;background-color: salmon;\">8</td><td style=\"border:2px solid black;border-style:groove;border-width:8px;padding:15px;font-size:150%;background-color: yellow;\">6</td></tr>\n",
       "<tr><td style=\"border:2px solid black;border-style:groove;border-width:8px;padding:15px;font-size:150%;background-color: pink;\">2</td><td style=\"border:2px solid black;border-style:groove;border-width:8px;padding:15px;font-size:150%;background-color: orange;\">4</td><td style=\"border:2px solid black;border-style:groove;border-width:8px;padding:15px;font-size:150%;background-color: lightgreen;\">7</td></tr>\n",
       "<tr><td style=\"border:2px solid black;border-style:groove;border-width:8px;padding:15px;font-size:150%;background-color: magenta;\">3</td><td style=\"border:2px solid black;border-style:groove;border-width:8px;padding:15px;font-size:150%;background-color: white;\"></td><td style=\"border:2px solid black;border-style:groove;border-width:8px;padding:15px;font-size:150%;background-color: lightblue;\">1</td></tr>\n",
       "</table>"
      ],
      "text/plain": [
       "<IPython.core.display.HTML object>"
      ]
     },
     "metadata": {},
     "output_type": "display_data"
    },
    {
     "data": {
      "text/html": [
       "<table style=\"border:2px solid darkblue;border-style:double;border-width:4px;\">\n",
       "<tr><td style=\"border:2px solid black;border-style:groove;border-width:8px;padding:15px;font-size:150%;background-color: red;\">5</td><td style=\"border:2px solid black;border-style:groove;border-width:8px;padding:15px;font-size:150%;background-color: salmon;\">8</td><td style=\"border:2px solid black;border-style:groove;border-width:8px;padding:15px;font-size:150%;background-color: yellow;\">6</td></tr>\n",
       "<tr><td style=\"border:2px solid black;border-style:groove;border-width:8px;padding:15px;font-size:150%;background-color: pink;\">2</td><td style=\"border:2px solid black;border-style:groove;border-width:8px;padding:15px;font-size:150%;background-color: orange;\">4</td><td style=\"border:2px solid black;border-style:groove;border-width:8px;padding:15px;font-size:150%;background-color: lightgreen;\">7</td></tr>\n",
       "<tr><td style=\"border:2px solid black;border-style:groove;border-width:8px;padding:15px;font-size:150%;background-color: magenta;\">3</td><td style=\"border:2px solid black;border-style:groove;border-width:8px;padding:15px;font-size:150%;background-color: lightblue;\">1</td><td style=\"border:2px solid black;border-style:groove;border-width:8px;padding:15px;font-size:150%;background-color: white;\"></td></tr>\n",
       "</table>"
      ],
      "text/plain": [
       "<IPython.core.display.HTML object>"
      ]
     },
     "metadata": {},
     "output_type": "display_data"
    },
    {
     "data": {
      "text/html": [
       "<table style=\"border:2px solid darkblue;border-style:double;border-width:4px;\">\n",
       "<tr><td style=\"border:2px solid black;border-style:groove;border-width:8px;padding:15px;font-size:150%;background-color: red;\">5</td><td style=\"border:2px solid black;border-style:groove;border-width:8px;padding:15px;font-size:150%;background-color: salmon;\">8</td><td style=\"border:2px solid black;border-style:groove;border-width:8px;padding:15px;font-size:150%;background-color: yellow;\">6</td></tr>\n",
       "<tr><td style=\"border:2px solid black;border-style:groove;border-width:8px;padding:15px;font-size:150%;background-color: pink;\">2</td><td style=\"border:2px solid black;border-style:groove;border-width:8px;padding:15px;font-size:150%;background-color: orange;\">4</td><td style=\"border:2px solid black;border-style:groove;border-width:8px;padding:15px;font-size:150%;background-color: white;\"></td></tr>\n",
       "<tr><td style=\"border:2px solid black;border-style:groove;border-width:8px;padding:15px;font-size:150%;background-color: magenta;\">3</td><td style=\"border:2px solid black;border-style:groove;border-width:8px;padding:15px;font-size:150%;background-color: lightblue;\">1</td><td style=\"border:2px solid black;border-style:groove;border-width:8px;padding:15px;font-size:150%;background-color: lightgreen;\">7</td></tr>\n",
       "</table>"
      ],
      "text/plain": [
       "<IPython.core.display.HTML object>"
      ]
     },
     "metadata": {},
     "output_type": "display_data"
    },
    {
     "data": {
      "text/html": [
       "<table style=\"border:2px solid darkblue;border-style:double;border-width:4px;\">\n",
       "<tr><td style=\"border:2px solid black;border-style:groove;border-width:8px;padding:15px;font-size:150%;background-color: red;\">5</td><td style=\"border:2px solid black;border-style:groove;border-width:8px;padding:15px;font-size:150%;background-color: salmon;\">8</td><td style=\"border:2px solid black;border-style:groove;border-width:8px;padding:15px;font-size:150%;background-color: white;\"></td></tr>\n",
       "<tr><td style=\"border:2px solid black;border-style:groove;border-width:8px;padding:15px;font-size:150%;background-color: pink;\">2</td><td style=\"border:2px solid black;border-style:groove;border-width:8px;padding:15px;font-size:150%;background-color: orange;\">4</td><td style=\"border:2px solid black;border-style:groove;border-width:8px;padding:15px;font-size:150%;background-color: yellow;\">6</td></tr>\n",
       "<tr><td style=\"border:2px solid black;border-style:groove;border-width:8px;padding:15px;font-size:150%;background-color: magenta;\">3</td><td style=\"border:2px solid black;border-style:groove;border-width:8px;padding:15px;font-size:150%;background-color: lightblue;\">1</td><td style=\"border:2px solid black;border-style:groove;border-width:8px;padding:15px;font-size:150%;background-color: lightgreen;\">7</td></tr>\n",
       "</table>"
      ],
      "text/plain": [
       "<IPython.core.display.HTML object>"
      ]
     },
     "metadata": {},
     "output_type": "display_data"
    },
    {
     "data": {
      "text/html": [
       "<table style=\"border:2px solid darkblue;border-style:double;border-width:4px;\">\n",
       "<tr><td style=\"border:2px solid black;border-style:groove;border-width:8px;padding:15px;font-size:150%;background-color: red;\">5</td><td style=\"border:2px solid black;border-style:groove;border-width:8px;padding:15px;font-size:150%;background-color: white;\"></td><td style=\"border:2px solid black;border-style:groove;border-width:8px;padding:15px;font-size:150%;background-color: salmon;\">8</td></tr>\n",
       "<tr><td style=\"border:2px solid black;border-style:groove;border-width:8px;padding:15px;font-size:150%;background-color: pink;\">2</td><td style=\"border:2px solid black;border-style:groove;border-width:8px;padding:15px;font-size:150%;background-color: orange;\">4</td><td style=\"border:2px solid black;border-style:groove;border-width:8px;padding:15px;font-size:150%;background-color: yellow;\">6</td></tr>\n",
       "<tr><td style=\"border:2px solid black;border-style:groove;border-width:8px;padding:15px;font-size:150%;background-color: magenta;\">3</td><td style=\"border:2px solid black;border-style:groove;border-width:8px;padding:15px;font-size:150%;background-color: lightblue;\">1</td><td style=\"border:2px solid black;border-style:groove;border-width:8px;padding:15px;font-size:150%;background-color: lightgreen;\">7</td></tr>\n",
       "</table>"
      ],
      "text/plain": [
       "<IPython.core.display.HTML object>"
      ]
     },
     "metadata": {},
     "output_type": "display_data"
    },
    {
     "data": {
      "text/html": [
       "<table style=\"border:2px solid darkblue;border-style:double;border-width:4px;\">\n",
       "<tr><td style=\"border:2px solid black;border-style:groove;border-width:8px;padding:15px;font-size:150%;background-color: white;\"></td><td style=\"border:2px solid black;border-style:groove;border-width:8px;padding:15px;font-size:150%;background-color: red;\">5</td><td style=\"border:2px solid black;border-style:groove;border-width:8px;padding:15px;font-size:150%;background-color: salmon;\">8</td></tr>\n",
       "<tr><td style=\"border:2px solid black;border-style:groove;border-width:8px;padding:15px;font-size:150%;background-color: pink;\">2</td><td style=\"border:2px solid black;border-style:groove;border-width:8px;padding:15px;font-size:150%;background-color: orange;\">4</td><td style=\"border:2px solid black;border-style:groove;border-width:8px;padding:15px;font-size:150%;background-color: yellow;\">6</td></tr>\n",
       "<tr><td style=\"border:2px solid black;border-style:groove;border-width:8px;padding:15px;font-size:150%;background-color: magenta;\">3</td><td style=\"border:2px solid black;border-style:groove;border-width:8px;padding:15px;font-size:150%;background-color: lightblue;\">1</td><td style=\"border:2px solid black;border-style:groove;border-width:8px;padding:15px;font-size:150%;background-color: lightgreen;\">7</td></tr>\n",
       "</table>"
      ],
      "text/plain": [
       "<IPython.core.display.HTML object>"
      ]
     },
     "metadata": {},
     "output_type": "display_data"
    },
    {
     "data": {
      "text/html": [
       "<table style=\"border:2px solid darkblue;border-style:double;border-width:4px;\">\n",
       "<tr><td style=\"border:2px solid black;border-style:groove;border-width:8px;padding:15px;font-size:150%;background-color: pink;\">2</td><td style=\"border:2px solid black;border-style:groove;border-width:8px;padding:15px;font-size:150%;background-color: red;\">5</td><td style=\"border:2px solid black;border-style:groove;border-width:8px;padding:15px;font-size:150%;background-color: salmon;\">8</td></tr>\n",
       "<tr><td style=\"border:2px solid black;border-style:groove;border-width:8px;padding:15px;font-size:150%;background-color: white;\"></td><td style=\"border:2px solid black;border-style:groove;border-width:8px;padding:15px;font-size:150%;background-color: orange;\">4</td><td style=\"border:2px solid black;border-style:groove;border-width:8px;padding:15px;font-size:150%;background-color: yellow;\">6</td></tr>\n",
       "<tr><td style=\"border:2px solid black;border-style:groove;border-width:8px;padding:15px;font-size:150%;background-color: magenta;\">3</td><td style=\"border:2px solid black;border-style:groove;border-width:8px;padding:15px;font-size:150%;background-color: lightblue;\">1</td><td style=\"border:2px solid black;border-style:groove;border-width:8px;padding:15px;font-size:150%;background-color: lightgreen;\">7</td></tr>\n",
       "</table>"
      ],
      "text/plain": [
       "<IPython.core.display.HTML object>"
      ]
     },
     "metadata": {},
     "output_type": "display_data"
    },
    {
     "data": {
      "text/html": [
       "<table style=\"border:2px solid darkblue;border-style:double;border-width:4px;\">\n",
       "<tr><td style=\"border:2px solid black;border-style:groove;border-width:8px;padding:15px;font-size:150%;background-color: pink;\">2</td><td style=\"border:2px solid black;border-style:groove;border-width:8px;padding:15px;font-size:150%;background-color: red;\">5</td><td style=\"border:2px solid black;border-style:groove;border-width:8px;padding:15px;font-size:150%;background-color: salmon;\">8</td></tr>\n",
       "<tr><td style=\"border:2px solid black;border-style:groove;border-width:8px;padding:15px;font-size:150%;background-color: orange;\">4</td><td style=\"border:2px solid black;border-style:groove;border-width:8px;padding:15px;font-size:150%;background-color: white;\"></td><td style=\"border:2px solid black;border-style:groove;border-width:8px;padding:15px;font-size:150%;background-color: yellow;\">6</td></tr>\n",
       "<tr><td style=\"border:2px solid black;border-style:groove;border-width:8px;padding:15px;font-size:150%;background-color: magenta;\">3</td><td style=\"border:2px solid black;border-style:groove;border-width:8px;padding:15px;font-size:150%;background-color: lightblue;\">1</td><td style=\"border:2px solid black;border-style:groove;border-width:8px;padding:15px;font-size:150%;background-color: lightgreen;\">7</td></tr>\n",
       "</table>"
      ],
      "text/plain": [
       "<IPython.core.display.HTML object>"
      ]
     },
     "metadata": {},
     "output_type": "display_data"
    },
    {
     "data": {
      "text/html": [
       "<table style=\"border:2px solid darkblue;border-style:double;border-width:4px;\">\n",
       "<tr><td style=\"border:2px solid black;border-style:groove;border-width:8px;padding:15px;font-size:150%;background-color: pink;\">2</td><td style=\"border:2px solid black;border-style:groove;border-width:8px;padding:15px;font-size:150%;background-color: red;\">5</td><td style=\"border:2px solid black;border-style:groove;border-width:8px;padding:15px;font-size:150%;background-color: salmon;\">8</td></tr>\n",
       "<tr><td style=\"border:2px solid black;border-style:groove;border-width:8px;padding:15px;font-size:150%;background-color: orange;\">4</td><td style=\"border:2px solid black;border-style:groove;border-width:8px;padding:15px;font-size:150%;background-color: yellow;\">6</td><td style=\"border:2px solid black;border-style:groove;border-width:8px;padding:15px;font-size:150%;background-color: white;\"></td></tr>\n",
       "<tr><td style=\"border:2px solid black;border-style:groove;border-width:8px;padding:15px;font-size:150%;background-color: magenta;\">3</td><td style=\"border:2px solid black;border-style:groove;border-width:8px;padding:15px;font-size:150%;background-color: lightblue;\">1</td><td style=\"border:2px solid black;border-style:groove;border-width:8px;padding:15px;font-size:150%;background-color: lightgreen;\">7</td></tr>\n",
       "</table>"
      ],
      "text/plain": [
       "<IPython.core.display.HTML object>"
      ]
     },
     "metadata": {},
     "output_type": "display_data"
    },
    {
     "data": {
      "text/html": [
       "<table style=\"border:2px solid darkblue;border-style:double;border-width:4px;\">\n",
       "<tr><td style=\"border:2px solid black;border-style:groove;border-width:8px;padding:15px;font-size:150%;background-color: pink;\">2</td><td style=\"border:2px solid black;border-style:groove;border-width:8px;padding:15px;font-size:150%;background-color: red;\">5</td><td style=\"border:2px solid black;border-style:groove;border-width:8px;padding:15px;font-size:150%;background-color: white;\"></td></tr>\n",
       "<tr><td style=\"border:2px solid black;border-style:groove;border-width:8px;padding:15px;font-size:150%;background-color: orange;\">4</td><td style=\"border:2px solid black;border-style:groove;border-width:8px;padding:15px;font-size:150%;background-color: yellow;\">6</td><td style=\"border:2px solid black;border-style:groove;border-width:8px;padding:15px;font-size:150%;background-color: salmon;\">8</td></tr>\n",
       "<tr><td style=\"border:2px solid black;border-style:groove;border-width:8px;padding:15px;font-size:150%;background-color: magenta;\">3</td><td style=\"border:2px solid black;border-style:groove;border-width:8px;padding:15px;font-size:150%;background-color: lightblue;\">1</td><td style=\"border:2px solid black;border-style:groove;border-width:8px;padding:15px;font-size:150%;background-color: lightgreen;\">7</td></tr>\n",
       "</table>"
      ],
      "text/plain": [
       "<IPython.core.display.HTML object>"
      ]
     },
     "metadata": {},
     "output_type": "display_data"
    },
    {
     "data": {
      "text/html": [
       "<table style=\"border:2px solid darkblue;border-style:double;border-width:4px;\">\n",
       "<tr><td style=\"border:2px solid black;border-style:groove;border-width:8px;padding:15px;font-size:150%;background-color: pink;\">2</td><td style=\"border:2px solid black;border-style:groove;border-width:8px;padding:15px;font-size:150%;background-color: white;\"></td><td style=\"border:2px solid black;border-style:groove;border-width:8px;padding:15px;font-size:150%;background-color: red;\">5</td></tr>\n",
       "<tr><td style=\"border:2px solid black;border-style:groove;border-width:8px;padding:15px;font-size:150%;background-color: orange;\">4</td><td style=\"border:2px solid black;border-style:groove;border-width:8px;padding:15px;font-size:150%;background-color: yellow;\">6</td><td style=\"border:2px solid black;border-style:groove;border-width:8px;padding:15px;font-size:150%;background-color: salmon;\">8</td></tr>\n",
       "<tr><td style=\"border:2px solid black;border-style:groove;border-width:8px;padding:15px;font-size:150%;background-color: magenta;\">3</td><td style=\"border:2px solid black;border-style:groove;border-width:8px;padding:15px;font-size:150%;background-color: lightblue;\">1</td><td style=\"border:2px solid black;border-style:groove;border-width:8px;padding:15px;font-size:150%;background-color: lightgreen;\">7</td></tr>\n",
       "</table>"
      ],
      "text/plain": [
       "<IPython.core.display.HTML object>"
      ]
     },
     "metadata": {},
     "output_type": "display_data"
    },
    {
     "data": {
      "text/html": [
       "<table style=\"border:2px solid darkblue;border-style:double;border-width:4px;\">\n",
       "<tr><td style=\"border:2px solid black;border-style:groove;border-width:8px;padding:15px;font-size:150%;background-color: white;\"></td><td style=\"border:2px solid black;border-style:groove;border-width:8px;padding:15px;font-size:150%;background-color: pink;\">2</td><td style=\"border:2px solid black;border-style:groove;border-width:8px;padding:15px;font-size:150%;background-color: red;\">5</td></tr>\n",
       "<tr><td style=\"border:2px solid black;border-style:groove;border-width:8px;padding:15px;font-size:150%;background-color: orange;\">4</td><td style=\"border:2px solid black;border-style:groove;border-width:8px;padding:15px;font-size:150%;background-color: yellow;\">6</td><td style=\"border:2px solid black;border-style:groove;border-width:8px;padding:15px;font-size:150%;background-color: salmon;\">8</td></tr>\n",
       "<tr><td style=\"border:2px solid black;border-style:groove;border-width:8px;padding:15px;font-size:150%;background-color: magenta;\">3</td><td style=\"border:2px solid black;border-style:groove;border-width:8px;padding:15px;font-size:150%;background-color: lightblue;\">1</td><td style=\"border:2px solid black;border-style:groove;border-width:8px;padding:15px;font-size:150%;background-color: lightgreen;\">7</td></tr>\n",
       "</table>"
      ],
      "text/plain": [
       "<IPython.core.display.HTML object>"
      ]
     },
     "metadata": {},
     "output_type": "display_data"
    },
    {
     "data": {
      "text/html": [
       "<table style=\"border:2px solid darkblue;border-style:double;border-width:4px;\">\n",
       "<tr><td style=\"border:2px solid black;border-style:groove;border-width:8px;padding:15px;font-size:150%;background-color: orange;\">4</td><td style=\"border:2px solid black;border-style:groove;border-width:8px;padding:15px;font-size:150%;background-color: pink;\">2</td><td style=\"border:2px solid black;border-style:groove;border-width:8px;padding:15px;font-size:150%;background-color: red;\">5</td></tr>\n",
       "<tr><td style=\"border:2px solid black;border-style:groove;border-width:8px;padding:15px;font-size:150%;background-color: white;\"></td><td style=\"border:2px solid black;border-style:groove;border-width:8px;padding:15px;font-size:150%;background-color: yellow;\">6</td><td style=\"border:2px solid black;border-style:groove;border-width:8px;padding:15px;font-size:150%;background-color: salmon;\">8</td></tr>\n",
       "<tr><td style=\"border:2px solid black;border-style:groove;border-width:8px;padding:15px;font-size:150%;background-color: magenta;\">3</td><td style=\"border:2px solid black;border-style:groove;border-width:8px;padding:15px;font-size:150%;background-color: lightblue;\">1</td><td style=\"border:2px solid black;border-style:groove;border-width:8px;padding:15px;font-size:150%;background-color: lightgreen;\">7</td></tr>\n",
       "</table>"
      ],
      "text/plain": [
       "<IPython.core.display.HTML object>"
      ]
     },
     "metadata": {},
     "output_type": "display_data"
    },
    {
     "data": {
      "text/html": [
       "<table style=\"border:2px solid darkblue;border-style:double;border-width:4px;\">\n",
       "<tr><td style=\"border:2px solid black;border-style:groove;border-width:8px;padding:15px;font-size:150%;background-color: orange;\">4</td><td style=\"border:2px solid black;border-style:groove;border-width:8px;padding:15px;font-size:150%;background-color: pink;\">2</td><td style=\"border:2px solid black;border-style:groove;border-width:8px;padding:15px;font-size:150%;background-color: red;\">5</td></tr>\n",
       "<tr><td style=\"border:2px solid black;border-style:groove;border-width:8px;padding:15px;font-size:150%;background-color: yellow;\">6</td><td style=\"border:2px solid black;border-style:groove;border-width:8px;padding:15px;font-size:150%;background-color: white;\"></td><td style=\"border:2px solid black;border-style:groove;border-width:8px;padding:15px;font-size:150%;background-color: salmon;\">8</td></tr>\n",
       "<tr><td style=\"border:2px solid black;border-style:groove;border-width:8px;padding:15px;font-size:150%;background-color: magenta;\">3</td><td style=\"border:2px solid black;border-style:groove;border-width:8px;padding:15px;font-size:150%;background-color: lightblue;\">1</td><td style=\"border:2px solid black;border-style:groove;border-width:8px;padding:15px;font-size:150%;background-color: lightgreen;\">7</td></tr>\n",
       "</table>"
      ],
      "text/plain": [
       "<IPython.core.display.HTML object>"
      ]
     },
     "metadata": {},
     "output_type": "display_data"
    },
    {
     "data": {
      "text/html": [
       "<table style=\"border:2px solid darkblue;border-style:double;border-width:4px;\">\n",
       "<tr><td style=\"border:2px solid black;border-style:groove;border-width:8px;padding:15px;font-size:150%;background-color: orange;\">4</td><td style=\"border:2px solid black;border-style:groove;border-width:8px;padding:15px;font-size:150%;background-color: pink;\">2</td><td style=\"border:2px solid black;border-style:groove;border-width:8px;padding:15px;font-size:150%;background-color: red;\">5</td></tr>\n",
       "<tr><td style=\"border:2px solid black;border-style:groove;border-width:8px;padding:15px;font-size:150%;background-color: yellow;\">6</td><td style=\"border:2px solid black;border-style:groove;border-width:8px;padding:15px;font-size:150%;background-color: lightblue;\">1</td><td style=\"border:2px solid black;border-style:groove;border-width:8px;padding:15px;font-size:150%;background-color: salmon;\">8</td></tr>\n",
       "<tr><td style=\"border:2px solid black;border-style:groove;border-width:8px;padding:15px;font-size:150%;background-color: magenta;\">3</td><td style=\"border:2px solid black;border-style:groove;border-width:8px;padding:15px;font-size:150%;background-color: white;\"></td><td style=\"border:2px solid black;border-style:groove;border-width:8px;padding:15px;font-size:150%;background-color: lightgreen;\">7</td></tr>\n",
       "</table>"
      ],
      "text/plain": [
       "<IPython.core.display.HTML object>"
      ]
     },
     "metadata": {},
     "output_type": "display_data"
    },
    {
     "data": {
      "text/html": [
       "<table style=\"border:2px solid darkblue;border-style:double;border-width:4px;\">\n",
       "<tr><td style=\"border:2px solid black;border-style:groove;border-width:8px;padding:15px;font-size:150%;background-color: orange;\">4</td><td style=\"border:2px solid black;border-style:groove;border-width:8px;padding:15px;font-size:150%;background-color: pink;\">2</td><td style=\"border:2px solid black;border-style:groove;border-width:8px;padding:15px;font-size:150%;background-color: red;\">5</td></tr>\n",
       "<tr><td style=\"border:2px solid black;border-style:groove;border-width:8px;padding:15px;font-size:150%;background-color: yellow;\">6</td><td style=\"border:2px solid black;border-style:groove;border-width:8px;padding:15px;font-size:150%;background-color: lightblue;\">1</td><td style=\"border:2px solid black;border-style:groove;border-width:8px;padding:15px;font-size:150%;background-color: salmon;\">8</td></tr>\n",
       "<tr><td style=\"border:2px solid black;border-style:groove;border-width:8px;padding:15px;font-size:150%;background-color: white;\"></td><td style=\"border:2px solid black;border-style:groove;border-width:8px;padding:15px;font-size:150%;background-color: magenta;\">3</td><td style=\"border:2px solid black;border-style:groove;border-width:8px;padding:15px;font-size:150%;background-color: lightgreen;\">7</td></tr>\n",
       "</table>"
      ],
      "text/plain": [
       "<IPython.core.display.HTML object>"
      ]
     },
     "metadata": {},
     "output_type": "display_data"
    },
    {
     "data": {
      "text/html": [
       "<table style=\"border:2px solid darkblue;border-style:double;border-width:4px;\">\n",
       "<tr><td style=\"border:2px solid black;border-style:groove;border-width:8px;padding:15px;font-size:150%;background-color: orange;\">4</td><td style=\"border:2px solid black;border-style:groove;border-width:8px;padding:15px;font-size:150%;background-color: pink;\">2</td><td style=\"border:2px solid black;border-style:groove;border-width:8px;padding:15px;font-size:150%;background-color: red;\">5</td></tr>\n",
       "<tr><td style=\"border:2px solid black;border-style:groove;border-width:8px;padding:15px;font-size:150%;background-color: white;\"></td><td style=\"border:2px solid black;border-style:groove;border-width:8px;padding:15px;font-size:150%;background-color: lightblue;\">1</td><td style=\"border:2px solid black;border-style:groove;border-width:8px;padding:15px;font-size:150%;background-color: salmon;\">8</td></tr>\n",
       "<tr><td style=\"border:2px solid black;border-style:groove;border-width:8px;padding:15px;font-size:150%;background-color: yellow;\">6</td><td style=\"border:2px solid black;border-style:groove;border-width:8px;padding:15px;font-size:150%;background-color: magenta;\">3</td><td style=\"border:2px solid black;border-style:groove;border-width:8px;padding:15px;font-size:150%;background-color: lightgreen;\">7</td></tr>\n",
       "</table>"
      ],
      "text/plain": [
       "<IPython.core.display.HTML object>"
      ]
     },
     "metadata": {},
     "output_type": "display_data"
    },
    {
     "data": {
      "text/html": [
       "<table style=\"border:2px solid darkblue;border-style:double;border-width:4px;\">\n",
       "<tr><td style=\"border:2px solid black;border-style:groove;border-width:8px;padding:15px;font-size:150%;background-color: orange;\">4</td><td style=\"border:2px solid black;border-style:groove;border-width:8px;padding:15px;font-size:150%;background-color: pink;\">2</td><td style=\"border:2px solid black;border-style:groove;border-width:8px;padding:15px;font-size:150%;background-color: red;\">5</td></tr>\n",
       "<tr><td style=\"border:2px solid black;border-style:groove;border-width:8px;padding:15px;font-size:150%;background-color: lightblue;\">1</td><td style=\"border:2px solid black;border-style:groove;border-width:8px;padding:15px;font-size:150%;background-color: white;\"></td><td style=\"border:2px solid black;border-style:groove;border-width:8px;padding:15px;font-size:150%;background-color: salmon;\">8</td></tr>\n",
       "<tr><td style=\"border:2px solid black;border-style:groove;border-width:8px;padding:15px;font-size:150%;background-color: yellow;\">6</td><td style=\"border:2px solid black;border-style:groove;border-width:8px;padding:15px;font-size:150%;background-color: magenta;\">3</td><td style=\"border:2px solid black;border-style:groove;border-width:8px;padding:15px;font-size:150%;background-color: lightgreen;\">7</td></tr>\n",
       "</table>"
      ],
      "text/plain": [
       "<IPython.core.display.HTML object>"
      ]
     },
     "metadata": {},
     "output_type": "display_data"
    },
    {
     "data": {
      "text/html": [
       "<table style=\"border:2px solid darkblue;border-style:double;border-width:4px;\">\n",
       "<tr><td style=\"border:2px solid black;border-style:groove;border-width:8px;padding:15px;font-size:150%;background-color: orange;\">4</td><td style=\"border:2px solid black;border-style:groove;border-width:8px;padding:15px;font-size:150%;background-color: pink;\">2</td><td style=\"border:2px solid black;border-style:groove;border-width:8px;padding:15px;font-size:150%;background-color: red;\">5</td></tr>\n",
       "<tr><td style=\"border:2px solid black;border-style:groove;border-width:8px;padding:15px;font-size:150%;background-color: lightblue;\">1</td><td style=\"border:2px solid black;border-style:groove;border-width:8px;padding:15px;font-size:150%;background-color: magenta;\">3</td><td style=\"border:2px solid black;border-style:groove;border-width:8px;padding:15px;font-size:150%;background-color: salmon;\">8</td></tr>\n",
       "<tr><td style=\"border:2px solid black;border-style:groove;border-width:8px;padding:15px;font-size:150%;background-color: yellow;\">6</td><td style=\"border:2px solid black;border-style:groove;border-width:8px;padding:15px;font-size:150%;background-color: white;\"></td><td style=\"border:2px solid black;border-style:groove;border-width:8px;padding:15px;font-size:150%;background-color: lightgreen;\">7</td></tr>\n",
       "</table>"
      ],
      "text/plain": [
       "<IPython.core.display.HTML object>"
      ]
     },
     "metadata": {},
     "output_type": "display_data"
    },
    {
     "data": {
      "text/html": [
       "<table style=\"border:2px solid darkblue;border-style:double;border-width:4px;\">\n",
       "<tr><td style=\"border:2px solid black;border-style:groove;border-width:8px;padding:15px;font-size:150%;background-color: orange;\">4</td><td style=\"border:2px solid black;border-style:groove;border-width:8px;padding:15px;font-size:150%;background-color: pink;\">2</td><td style=\"border:2px solid black;border-style:groove;border-width:8px;padding:15px;font-size:150%;background-color: red;\">5</td></tr>\n",
       "<tr><td style=\"border:2px solid black;border-style:groove;border-width:8px;padding:15px;font-size:150%;background-color: lightblue;\">1</td><td style=\"border:2px solid black;border-style:groove;border-width:8px;padding:15px;font-size:150%;background-color: magenta;\">3</td><td style=\"border:2px solid black;border-style:groove;border-width:8px;padding:15px;font-size:150%;background-color: salmon;\">8</td></tr>\n",
       "<tr><td style=\"border:2px solid black;border-style:groove;border-width:8px;padding:15px;font-size:150%;background-color: yellow;\">6</td><td style=\"border:2px solid black;border-style:groove;border-width:8px;padding:15px;font-size:150%;background-color: lightgreen;\">7</td><td style=\"border:2px solid black;border-style:groove;border-width:8px;padding:15px;font-size:150%;background-color: white;\"></td></tr>\n",
       "</table>"
      ],
      "text/plain": [
       "<IPython.core.display.HTML object>"
      ]
     },
     "metadata": {},
     "output_type": "display_data"
    },
    {
     "data": {
      "text/html": [
       "<table style=\"border:2px solid darkblue;border-style:double;border-width:4px;\">\n",
       "<tr><td style=\"border:2px solid black;border-style:groove;border-width:8px;padding:15px;font-size:150%;background-color: orange;\">4</td><td style=\"border:2px solid black;border-style:groove;border-width:8px;padding:15px;font-size:150%;background-color: pink;\">2</td><td style=\"border:2px solid black;border-style:groove;border-width:8px;padding:15px;font-size:150%;background-color: red;\">5</td></tr>\n",
       "<tr><td style=\"border:2px solid black;border-style:groove;border-width:8px;padding:15px;font-size:150%;background-color: lightblue;\">1</td><td style=\"border:2px solid black;border-style:groove;border-width:8px;padding:15px;font-size:150%;background-color: magenta;\">3</td><td style=\"border:2px solid black;border-style:groove;border-width:8px;padding:15px;font-size:150%;background-color: white;\"></td></tr>\n",
       "<tr><td style=\"border:2px solid black;border-style:groove;border-width:8px;padding:15px;font-size:150%;background-color: yellow;\">6</td><td style=\"border:2px solid black;border-style:groove;border-width:8px;padding:15px;font-size:150%;background-color: lightgreen;\">7</td><td style=\"border:2px solid black;border-style:groove;border-width:8px;padding:15px;font-size:150%;background-color: salmon;\">8</td></tr>\n",
       "</table>"
      ],
      "text/plain": [
       "<IPython.core.display.HTML object>"
      ]
     },
     "metadata": {},
     "output_type": "display_data"
    },
    {
     "data": {
      "text/html": [
       "<table style=\"border:2px solid darkblue;border-style:double;border-width:4px;\">\n",
       "<tr><td style=\"border:2px solid black;border-style:groove;border-width:8px;padding:15px;font-size:150%;background-color: orange;\">4</td><td style=\"border:2px solid black;border-style:groove;border-width:8px;padding:15px;font-size:150%;background-color: pink;\">2</td><td style=\"border:2px solid black;border-style:groove;border-width:8px;padding:15px;font-size:150%;background-color: white;\"></td></tr>\n",
       "<tr><td style=\"border:2px solid black;border-style:groove;border-width:8px;padding:15px;font-size:150%;background-color: lightblue;\">1</td><td style=\"border:2px solid black;border-style:groove;border-width:8px;padding:15px;font-size:150%;background-color: magenta;\">3</td><td style=\"border:2px solid black;border-style:groove;border-width:8px;padding:15px;font-size:150%;background-color: red;\">5</td></tr>\n",
       "<tr><td style=\"border:2px solid black;border-style:groove;border-width:8px;padding:15px;font-size:150%;background-color: yellow;\">6</td><td style=\"border:2px solid black;border-style:groove;border-width:8px;padding:15px;font-size:150%;background-color: lightgreen;\">7</td><td style=\"border:2px solid black;border-style:groove;border-width:8px;padding:15px;font-size:150%;background-color: salmon;\">8</td></tr>\n",
       "</table>"
      ],
      "text/plain": [
       "<IPython.core.display.HTML object>"
      ]
     },
     "metadata": {},
     "output_type": "display_data"
    },
    {
     "data": {
      "text/html": [
       "<table style=\"border:2px solid darkblue;border-style:double;border-width:4px;\">\n",
       "<tr><td style=\"border:2px solid black;border-style:groove;border-width:8px;padding:15px;font-size:150%;background-color: orange;\">4</td><td style=\"border:2px solid black;border-style:groove;border-width:8px;padding:15px;font-size:150%;background-color: white;\"></td><td style=\"border:2px solid black;border-style:groove;border-width:8px;padding:15px;font-size:150%;background-color: pink;\">2</td></tr>\n",
       "<tr><td style=\"border:2px solid black;border-style:groove;border-width:8px;padding:15px;font-size:150%;background-color: lightblue;\">1</td><td style=\"border:2px solid black;border-style:groove;border-width:8px;padding:15px;font-size:150%;background-color: magenta;\">3</td><td style=\"border:2px solid black;border-style:groove;border-width:8px;padding:15px;font-size:150%;background-color: red;\">5</td></tr>\n",
       "<tr><td style=\"border:2px solid black;border-style:groove;border-width:8px;padding:15px;font-size:150%;background-color: yellow;\">6</td><td style=\"border:2px solid black;border-style:groove;border-width:8px;padding:15px;font-size:150%;background-color: lightgreen;\">7</td><td style=\"border:2px solid black;border-style:groove;border-width:8px;padding:15px;font-size:150%;background-color: salmon;\">8</td></tr>\n",
       "</table>"
      ],
      "text/plain": [
       "<IPython.core.display.HTML object>"
      ]
     },
     "metadata": {},
     "output_type": "display_data"
    },
    {
     "data": {
      "text/html": [
       "<table style=\"border:2px solid darkblue;border-style:double;border-width:4px;\">\n",
       "<tr><td style=\"border:2px solid black;border-style:groove;border-width:8px;padding:15px;font-size:150%;background-color: white;\"></td><td style=\"border:2px solid black;border-style:groove;border-width:8px;padding:15px;font-size:150%;background-color: orange;\">4</td><td style=\"border:2px solid black;border-style:groove;border-width:8px;padding:15px;font-size:150%;background-color: pink;\">2</td></tr>\n",
       "<tr><td style=\"border:2px solid black;border-style:groove;border-width:8px;padding:15px;font-size:150%;background-color: lightblue;\">1</td><td style=\"border:2px solid black;border-style:groove;border-width:8px;padding:15px;font-size:150%;background-color: magenta;\">3</td><td style=\"border:2px solid black;border-style:groove;border-width:8px;padding:15px;font-size:150%;background-color: red;\">5</td></tr>\n",
       "<tr><td style=\"border:2px solid black;border-style:groove;border-width:8px;padding:15px;font-size:150%;background-color: yellow;\">6</td><td style=\"border:2px solid black;border-style:groove;border-width:8px;padding:15px;font-size:150%;background-color: lightgreen;\">7</td><td style=\"border:2px solid black;border-style:groove;border-width:8px;padding:15px;font-size:150%;background-color: salmon;\">8</td></tr>\n",
       "</table>"
      ],
      "text/plain": [
       "<IPython.core.display.HTML object>"
      ]
     },
     "metadata": {},
     "output_type": "display_data"
    },
    {
     "data": {
      "text/html": [
       "<table style=\"border:2px solid darkblue;border-style:double;border-width:4px;\">\n",
       "<tr><td style=\"border:2px solid black;border-style:groove;border-width:8px;padding:15px;font-size:150%;background-color: lightblue;\">1</td><td style=\"border:2px solid black;border-style:groove;border-width:8px;padding:15px;font-size:150%;background-color: orange;\">4</td><td style=\"border:2px solid black;border-style:groove;border-width:8px;padding:15px;font-size:150%;background-color: pink;\">2</td></tr>\n",
       "<tr><td style=\"border:2px solid black;border-style:groove;border-width:8px;padding:15px;font-size:150%;background-color: white;\"></td><td style=\"border:2px solid black;border-style:groove;border-width:8px;padding:15px;font-size:150%;background-color: magenta;\">3</td><td style=\"border:2px solid black;border-style:groove;border-width:8px;padding:15px;font-size:150%;background-color: red;\">5</td></tr>\n",
       "<tr><td style=\"border:2px solid black;border-style:groove;border-width:8px;padding:15px;font-size:150%;background-color: yellow;\">6</td><td style=\"border:2px solid black;border-style:groove;border-width:8px;padding:15px;font-size:150%;background-color: lightgreen;\">7</td><td style=\"border:2px solid black;border-style:groove;border-width:8px;padding:15px;font-size:150%;background-color: salmon;\">8</td></tr>\n",
       "</table>"
      ],
      "text/plain": [
       "<IPython.core.display.HTML object>"
      ]
     },
     "metadata": {},
     "output_type": "display_data"
    },
    {
     "data": {
      "text/html": [
       "<table style=\"border:2px solid darkblue;border-style:double;border-width:4px;\">\n",
       "<tr><td style=\"border:2px solid black;border-style:groove;border-width:8px;padding:15px;font-size:150%;background-color: lightblue;\">1</td><td style=\"border:2px solid black;border-style:groove;border-width:8px;padding:15px;font-size:150%;background-color: orange;\">4</td><td style=\"border:2px solid black;border-style:groove;border-width:8px;padding:15px;font-size:150%;background-color: pink;\">2</td></tr>\n",
       "<tr><td style=\"border:2px solid black;border-style:groove;border-width:8px;padding:15px;font-size:150%;background-color: magenta;\">3</td><td style=\"border:2px solid black;border-style:groove;border-width:8px;padding:15px;font-size:150%;background-color: white;\"></td><td style=\"border:2px solid black;border-style:groove;border-width:8px;padding:15px;font-size:150%;background-color: red;\">5</td></tr>\n",
       "<tr><td style=\"border:2px solid black;border-style:groove;border-width:8px;padding:15px;font-size:150%;background-color: yellow;\">6</td><td style=\"border:2px solid black;border-style:groove;border-width:8px;padding:15px;font-size:150%;background-color: lightgreen;\">7</td><td style=\"border:2px solid black;border-style:groove;border-width:8px;padding:15px;font-size:150%;background-color: salmon;\">8</td></tr>\n",
       "</table>"
      ],
      "text/plain": [
       "<IPython.core.display.HTML object>"
      ]
     },
     "metadata": {},
     "output_type": "display_data"
    },
    {
     "data": {
      "text/html": [
       "<table style=\"border:2px solid darkblue;border-style:double;border-width:4px;\">\n",
       "<tr><td style=\"border:2px solid black;border-style:groove;border-width:8px;padding:15px;font-size:150%;background-color: lightblue;\">1</td><td style=\"border:2px solid black;border-style:groove;border-width:8px;padding:15px;font-size:150%;background-color: white;\"></td><td style=\"border:2px solid black;border-style:groove;border-width:8px;padding:15px;font-size:150%;background-color: pink;\">2</td></tr>\n",
       "<tr><td style=\"border:2px solid black;border-style:groove;border-width:8px;padding:15px;font-size:150%;background-color: magenta;\">3</td><td style=\"border:2px solid black;border-style:groove;border-width:8px;padding:15px;font-size:150%;background-color: orange;\">4</td><td style=\"border:2px solid black;border-style:groove;border-width:8px;padding:15px;font-size:150%;background-color: red;\">5</td></tr>\n",
       "<tr><td style=\"border:2px solid black;border-style:groove;border-width:8px;padding:15px;font-size:150%;background-color: yellow;\">6</td><td style=\"border:2px solid black;border-style:groove;border-width:8px;padding:15px;font-size:150%;background-color: lightgreen;\">7</td><td style=\"border:2px solid black;border-style:groove;border-width:8px;padding:15px;font-size:150%;background-color: salmon;\">8</td></tr>\n",
       "</table>"
      ],
      "text/plain": [
       "<IPython.core.display.HTML object>"
      ]
     },
     "metadata": {},
     "output_type": "display_data"
    },
    {
     "data": {
      "text/html": [
       "<table style=\"border:2px solid darkblue;border-style:double;border-width:4px;\">\n",
       "<tr><td style=\"border:2px solid black;border-style:groove;border-width:8px;padding:15px;font-size:150%;background-color: white;\"></td><td style=\"border:2px solid black;border-style:groove;border-width:8px;padding:15px;font-size:150%;background-color: lightblue;\">1</td><td style=\"border:2px solid black;border-style:groove;border-width:8px;padding:15px;font-size:150%;background-color: pink;\">2</td></tr>\n",
       "<tr><td style=\"border:2px solid black;border-style:groove;border-width:8px;padding:15px;font-size:150%;background-color: magenta;\">3</td><td style=\"border:2px solid black;border-style:groove;border-width:8px;padding:15px;font-size:150%;background-color: orange;\">4</td><td style=\"border:2px solid black;border-style:groove;border-width:8px;padding:15px;font-size:150%;background-color: red;\">5</td></tr>\n",
       "<tr><td style=\"border:2px solid black;border-style:groove;border-width:8px;padding:15px;font-size:150%;background-color: yellow;\">6</td><td style=\"border:2px solid black;border-style:groove;border-width:8px;padding:15px;font-size:150%;background-color: lightgreen;\">7</td><td style=\"border:2px solid black;border-style:groove;border-width:8px;padding:15px;font-size:150%;background-color: salmon;\">8</td></tr>\n",
       "</table>"
      ],
      "text/plain": [
       "<IPython.core.display.HTML object>"
      ]
     },
     "metadata": {},
     "output_type": "display_data"
    }
   ],
   "source": [
    "for State in Path:\n",
    "    display(HTML(state_to_html(State)))"
   ]
  },
  {
   "cell_type": "code",
   "execution_count": null,
   "metadata": {},
   "outputs": [],
   "source": []
  }
 ],
 "metadata": {
  "hide_input": false,
  "kernelspec": {
   "display_name": "Python 3",
   "language": "python",
   "name": "python3"
  },
  "language_info": {
   "codemirror_mode": {
    "name": "ipython",
    "version": 3
   },
   "file_extension": ".py",
   "mimetype": "text/x-python",
   "name": "python",
   "nbconvert_exporter": "python",
   "pygments_lexer": "ipython3",
   "version": "3.8.2"
  },
  "toc": {
   "base_numbering": 1,
   "nav_menu": {},
   "number_sections": true,
   "sideBar": true,
   "skip_h1_title": false,
   "title_cell": "Table of Contents",
   "title_sidebar": "Contents",
   "toc_cell": false,
   "toc_position": {},
   "toc_section_display": true,
   "toc_window_display": false
  },
  "varInspector": {
   "cols": {
    "lenName": 16,
    "lenType": 16,
    "lenVar": 40
   },
   "kernels_config": {
    "python": {
     "delete_cmd_postfix": "",
     "delete_cmd_prefix": "del ",
     "library": "var_list.py",
     "varRefreshCmd": "print(var_dic_list())"
    },
    "r": {
     "delete_cmd_postfix": ") ",
     "delete_cmd_prefix": "rm(",
     "library": "var_list.r",
     "varRefreshCmd": "cat(var_dic_list()) "
    }
   },
   "types_to_exclude": [
    "module",
    "function",
    "builtin_function_or_method",
    "instance",
    "_Feature"
   ],
   "window_display": false
  }
 },
 "nbformat": 4,
 "nbformat_minor": 2
}
