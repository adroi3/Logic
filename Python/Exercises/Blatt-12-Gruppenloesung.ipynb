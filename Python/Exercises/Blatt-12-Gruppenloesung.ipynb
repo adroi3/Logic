{
 "cells": [
  {
   "cell_type": "code",
   "execution_count": 66,
   "metadata": {},
   "outputs": [
    {
     "data": {
      "text/html": [
       "<link href='http://fonts.googleapis.com/css?family=Alegreya+Sans:100,300,400,500,700,800,900,100italic,300italic,400italic,500italic,700italic,800italic,900italic' rel='stylesheet' type='text/css'>\n",
       "<link href='http://fonts.googleapis.com/css?family=Arvo:400,700,400italic' rel='stylesheet' type='text/css'>\n",
       "<link href='http://fonts.googleapis.com/css?family=PT+Mono' rel='stylesheet' type='text/css'>\n",
       "<link href='http://fonts.googleapis.com/css?family=Shadows+Into+Light' rel='stylesheet' type='text/css'>\n",
       "<link href='http://fonts.googleapis.com/css?family=Philosopher:400,700,400italic,700italic' rel='stylesheet' type='text/css'>\n",
       "\n",
       "<style>\n",
       "\n",
       "@font-face {\n",
       "    font-family: \"Computer Modern\";\n",
       "    src: url('http://mirrors.ctan.org/fonts/cm-unicode/fonts/otf/cmunss.otf');\n",
       "}\n",
       "\n",
       ".container { width: 100% }\n",
       "\n",
       "/* Formatting for header cells */\n",
       ".text_cell_render h1 {\n",
       "    font-family: 'Philosopher', sans-serif;\n",
       "    font-weight: 400;\n",
       "    font-size: 2.2em;\n",
       "    line-height: 100%;\n",
       "    color: rgb(0, 80, 120);\n",
       "    margin-bottom: 0.1em;\n",
       "    margin-top: 0.1em;\n",
       "    display: block;\n",
       "}\t\n",
       ".text_cell_render h2 {\n",
       "    font-family: 'Philosopher', serif;\n",
       "    font-weight: 400;\n",
       "    font-size: 1.9em;\n",
       "    line-height: 100%;\n",
       "    color: rgb(200,100,0);\n",
       "    margin-bottom: 0.1em;\n",
       "    margin-top: 0.1em;\n",
       "    display: block;\n",
       "}\t\n",
       "\n",
       ".text_cell_render h3 {\n",
       "    font-family: 'Philosopher', serif;\n",
       "    margin-top:12px;\n",
       "    margin-bottom: 3px;\n",
       "    font-style: italic;\n",
       "    color: rgb(94,127,192);\n",
       "}\n",
       "\n",
       ".text_cell_render h4 {\n",
       "    font-family: 'Philosopher', serif;\n",
       "}\n",
       "\n",
       ".text_cell_render h5 {\n",
       "    font-family: 'Alegreya Sans', sans-serif;\n",
       "    font-weight: 300;\n",
       "    font-size: 16pt;\n",
       "    color: grey;\n",
       "    font-style: italic;\n",
       "    margin-bottom: .1em;\n",
       "    margin-top: 0.1em;\n",
       "    display: block;\n",
       "}\n",
       "\n",
       ".text_cell_render h6 {\n",
       "    font-family: 'PT Mono', sans-serif;\n",
       "    font-weight: 300;\n",
       "    font-size: 10pt;\n",
       "    color: grey;\n",
       "    margin-bottom: 1px;\n",
       "    margin-top: 1px;\n",
       "}\n",
       "\n",
       ".text_cell_render em {\n",
       "    font-family: 'Philosopher', sans-serif;\n",
       "    color:        blue;\n",
       "    background-color: rgb(255,220,180);\n",
       "    font-size:    110%;\n",
       "    margin-left:   2px;\n",
       "    margin-right:  2px;\n",
       "    font-weight:   100;\n",
       "}\n",
       "\n",
       ".text_cell_render b {\n",
       "    color:            rgb(255,195,195);\n",
       "    background-color: rgb(0,0,0);\n",
       "    font-size:    110%;\n",
       "    margin-left:   2px;\n",
       "    margin-right:  2px;\n",
       "    font-weight:   650;\n",
       "}\n",
       "\n",
       ".text_cell_render tt {\n",
       "    font-size:    120%;\n",
       "    margin-left:   2px;\n",
       "    margin-right:  2px;\n",
       "    font-weight:   150;\n",
       "}\n",
       "\n",
       ".Codemirror {\n",
       "    font-family: \"PT Mono\";\n",
       "    font-size: 100%;\n",
       "}\n",
       "\n",
       "</style>\n",
       "\n"
      ],
      "text/plain": [
       "<IPython.core.display.HTML object>"
      ]
     },
     "execution_count": 66,
     "metadata": {},
     "output_type": "execute_result"
    }
   ],
   "source": [
    "from IPython.core.display import HTML\n",
    "with open('../style.css', 'r') as file:\n",
    "    css = file.read()\n",
    "HTML(css)"
   ]
  },
  {
   "cell_type": "markdown",
   "metadata": {},
   "source": [
    "# The Zebra Puzzle"
   ]
  },
  {
   "cell_type": "markdown",
   "metadata": {},
   "source": [
    "The following puzzle appeared in the magazine *Life International* on the 17th of December in the year 1962:\n",
    "<ol>\n",
    "    <li>There are five houses.</li>\n",
    "    <li>The Englishman lives in the red house.</li>\n",
    "    <li>The Spaniard owns the dog.</li>\n",
    "    <li>Coffee is drunk in the green house.</li>\n",
    "    <li>The Ukrainian drinks tea.</li>\n",
    "    <li>The green house is immediately to the right of the ivory house.</li>\n",
    "    <li>The Old Gold smoker owns snails.</li>\n",
    "    <li>Kools are smoked in the yellow house.</li>\n",
    "    <li>Milk is drunk in the middle house.</li>\n",
    "    <li>The Norwegian lives in the first house.</li>\n",
    "    <li>The man who smokes Chesterfields lives in the house next to the man with the fox.</li>\n",
    "    <li>Kools are smoked in the house next to the house where the horse is kept.</li>\n",
    "    <li>The Lucky Strike smoker drinks orange juice.</li>\n",
    "    <li>The Japanese smokes Parliaments.</li>\n",
    "    <li>The Norwegian lives next to the blue house.</li>\n",
    "</ol>\n",
    "Furthermore, each of the five houses is painted in a different colour, their inhabitants are of different nationalities, own different pets, drink different beverages, and smoke different brands of cigarettes.\n",
    "\n",
    "Your task is to write a program that answers the following questions: \n",
    "<ul>\n",
    "    <li><b>Who drinks water?</b></li>\n",
    "    <li><b>Who owns the zebra?</b></li>\n",
    "</ul>"
   ]
  },
  {
   "cell_type": "markdown",
   "metadata": {},
   "source": [
    "First, we have to import the CSP solver."
   ]
  },
  {
   "cell_type": "code",
   "execution_count": 67,
   "metadata": {},
   "outputs": [],
   "source": [
    "import cspSolver"
   ]
  },
  {
   "cell_type": "markdown",
   "metadata": {},
   "source": [
    "In order to succinctly express the constraints that all houses have different colours, the inhabitants have different nationalities etc., it is convenient to implement a function $\\texttt{allDifferent}(V)$ that takes a set of variables $V$ and returns a set of formulas that is true if and only if all the variables from $V$ have different values."
   ]
  },
  {
   "cell_type": "code",
   "execution_count": 68,
   "metadata": {},
   "outputs": [],
   "source": [
    "def allDifferent(Variables):\n",
    "    temp=list(Variables)\n",
    "    return {f'{temp[i]} != {temp[j]}' for i in range(0,len(Variables)-1) for j in range(i+1,len(Variables))}\n",
    "\n",
    "#def allDifferent(Variables):\n",
    "    \n",
    "    \n",
    "    #tempVariables = list(Variables)\n",
    "    #\n",
    "    #result = set()\n",
    "    #\n",
    "    #for i in range(0, len(tempVariables)):\n",
    "    #    for j in range(0, len(tempVariables)):\n",
    "    #        if i != j and not (f'{tempVariables[j]} != {tempVariables[i]}' in result):\n",
    "    #            result |= { f'{tempVariables[i]} != {tempVariables[j]}' }\n",
    "    #            \n",
    "    #return result\n",
    "    \n",
    "    #return { f'{v1} != {v2}'\n",
    "    #        for v1 in Variables\n",
    "    #        for v2 in Variables \n",
    "    #            if v1 != v2 }"
   ]
  },
  {
   "cell_type": "markdown",
   "metadata": {},
   "source": [
    "The function $\\texttt{zebraCSP}()$ returns a CSP that codes the zebra problem.  When implementing this function it is important to order the variables in a way that variables that are connected to each other by a constraint are tried in succession, for otherwise the CSP solver will take much longer."
   ]
  },
  {
   "cell_type": "code",
   "execution_count": 69,
   "metadata": {},
   "outputs": [],
   "source": [
    "Nations   = { \"English\", \"Spanish\", \"Ukrainian\", \"Norwegian\", \"Japanese\" }\n",
    "Drinks    = { \"Coffee\" , \"Tea\", \"Milk\", \"OrangeJuice\", \"Water\" }\n",
    "Pets      = { \"Dog\", \"Snails\", \"Horse\", \"Fox\", \"Zebra\" }\n",
    "Brands    = { \"LuckyStrike\", \"Parliaments\", \"Kools\", \"Chesterfields\", \"OldGold\" }\n",
    "Colours   = { \"Red\", \"Green\", \"Ivory\", \"Yellow\", \"Blue\" }"
   ]
  },
  {
   "cell_type": "code",
   "execution_count": 70,
   "metadata": {},
   "outputs": [
    {
     "data": {
      "text/plain": [
       "{'English != Norwegian',\n",
       " 'Japanese != English',\n",
       " 'Japanese != Norwegian',\n",
       " 'Japanese != Spanish',\n",
       " 'Spanish != English',\n",
       " 'Spanish != Norwegian',\n",
       " 'Ukrainian != English',\n",
       " 'Ukrainian != Japanese',\n",
       " 'Ukrainian != Norwegian',\n",
       " 'Ukrainian != Spanish'}"
      ]
     },
     "execution_count": 70,
     "metadata": {},
     "output_type": "execute_result"
    }
   ],
   "source": [
    "allDifferent(Nations)"
   ]
  },
  {
   "cell_type": "markdown",
   "metadata": {},
   "source": [
    "<ol>\n",
    "    <li>There are five houses.</li>\n",
    "    <li>The Englishman lives in the red house.</li>\n",
    "    <li>The Spaniard owns the dog.</li>\n",
    "    <li>Coffee is drunk in the green house.</li>\n",
    "    <li>The Ukrainian drinks tea.</li>\n",
    "    <li>The green house is immediately to the right of the ivory house.</li>\n",
    "    <li>The Old Gold smoker owns snails.</li>\n",
    "    <li>Kools are smoked in the yellow house.</li>\n",
    "    <li>Milk is drunk in the middle house.</li>\n",
    "    <li>The Norwegian lives in the first house.</li>\n",
    "    <li>The man who smokes Chesterfields lives in the house next to the man with the fox.</li>\n",
    "    <li>Kools are smoked in the house next to the house where the horse is kept.</li>\n",
    "    <li>The Lucky Strike smoker drinks orange juice.</li>\n",
    "    <li>The Japanese smokes Parliaments.</li>\n",
    "    <li>The Norwegian lives next to the blue house.</li>\n",
    "</ol>"
   ]
  },
  {
   "cell_type": "code",
   "execution_count": 71,
   "metadata": {},
   "outputs": [],
   "source": [
    "def zebraCSP():\n",
    "    Values = { 1, 2, 3, 4, 5 }\n",
    "    Variables = Nations | Drinks | Pets | Brands | Colours\n",
    "    \n",
    "    c1 = allDifferent(Nations) | allDifferent(Drinks) | allDifferent(Pets) | allDifferent(Brands) | allDifferent(Colours)\n",
    "    c2 = { 'English == Red' }\n",
    "    c3 = { 'Spanish == Dog' }\n",
    "    c4 = { 'Coffee == Green' }\n",
    "    c5 = { 'Ukrainian == Tea' }\n",
    "    c6 = { '(Green - Ivory == 1)' }\n",
    "    c7 = { 'OldGold == Snails' }\n",
    "    c8 = { 'Kools == Yellow' }\n",
    "    c9 = { 'Milk == 3' }\n",
    "    c10 = { 'Norwegian == 1' }\n",
    "    c11 = { '(Chesterfields - Fox == 1) or (Chesterfields - Fox == -1)' }\n",
    "    c12 = { '(Kools - Horse == 1) or (Kools - Horse == -1)' }\n",
    "    c13 = { 'LuckyStrike == OrangeJuice' }\n",
    "    c14 = { 'Japanese == Parliaments' }\n",
    "    c15 = { '(Norwegian - Blue == 1) or (Norwegian - Blue == -1)' }\n",
    "    \n",
    "    Clauses = c1 | c2 | c3 | c4 | c5 | c6 | c7 | c8 | c9 |c10 |c11 |c12 |c13 |c14 |c15\n",
    "    \n",
    "    return Variables, Values, Clauses"
   ]
  },
  {
   "cell_type": "code",
   "execution_count": null,
   "metadata": {},
   "outputs": [],
   "source": []
  },
  {
   "cell_type": "code",
   "execution_count": 72,
   "metadata": {},
   "outputs": [],
   "source": [
    "zebra = zebraCSP()"
   ]
  },
  {
   "cell_type": "code",
   "execution_count": 73,
   "metadata": {},
   "outputs": [
    {
     "data": {
      "text/plain": [
       "({'Blue',\n",
       "  'Chesterfields',\n",
       "  'Coffee',\n",
       "  'Dog',\n",
       "  'English',\n",
       "  'Fox',\n",
       "  'Green',\n",
       "  'Horse',\n",
       "  'Ivory',\n",
       "  'Japanese',\n",
       "  'Kools',\n",
       "  'LuckyStrike',\n",
       "  'Milk',\n",
       "  'Norwegian',\n",
       "  'OldGold',\n",
       "  'OrangeJuice',\n",
       "  'Parliaments',\n",
       "  'Red',\n",
       "  'Snails',\n",
       "  'Spanish',\n",
       "  'Tea',\n",
       "  'Ukrainian',\n",
       "  'Water',\n",
       "  'Yellow',\n",
       "  'Zebra'},\n",
       " {1, 2, 3, 4, 5},\n",
       " {'(Chesterfields - Fox == 1) or (Chesterfields - Fox == -1)',\n",
       "  '(Green - Ivory == 1)',\n",
       "  '(Kools - Horse == 1) or (Kools - Horse == -1)',\n",
       "  '(Norwegian - Blue == 1) or (Norwegian - Blue == -1)',\n",
       "  'Blue != Green',\n",
       "  'Blue != Ivory',\n",
       "  'Chesterfields != Kools',\n",
       "  'Coffee == Green',\n",
       "  'English != Norwegian',\n",
       "  'English == Red',\n",
       "  'Fox != Dog',\n",
       "  'Horse != Dog',\n",
       "  'Horse != Fox',\n",
       "  'Ivory != Green',\n",
       "  'Japanese != English',\n",
       "  'Japanese != Norwegian',\n",
       "  'Japanese != Spanish',\n",
       "  'Japanese == Parliaments',\n",
       "  'Kools == Yellow',\n",
       "  'LuckyStrike != Chesterfields',\n",
       "  'LuckyStrike != Kools',\n",
       "  'LuckyStrike == OrangeJuice',\n",
       "  'Milk != Coffee',\n",
       "  'Milk != OrangeJuice',\n",
       "  'Milk != Tea',\n",
       "  'Milk == 3',\n",
       "  'Norwegian == 1',\n",
       "  'OldGold != Chesterfields',\n",
       "  'OldGold != Kools',\n",
       "  'OldGold != LuckyStrike',\n",
       "  'OldGold != Parliaments',\n",
       "  'OldGold == Snails',\n",
       "  'OrangeJuice != Coffee',\n",
       "  'OrangeJuice != Tea',\n",
       "  'Parliaments != Chesterfields',\n",
       "  'Parliaments != Kools',\n",
       "  'Parliaments != LuckyStrike',\n",
       "  'Red != Blue',\n",
       "  'Red != Green',\n",
       "  'Red != Ivory',\n",
       "  'Snails != Dog',\n",
       "  'Snails != Fox',\n",
       "  'Snails != Horse',\n",
       "  'Spanish != English',\n",
       "  'Spanish != Norwegian',\n",
       "  'Spanish == Dog',\n",
       "  'Tea != Coffee',\n",
       "  'Ukrainian != English',\n",
       "  'Ukrainian != Japanese',\n",
       "  'Ukrainian != Norwegian',\n",
       "  'Ukrainian != Spanish',\n",
       "  'Ukrainian == Tea',\n",
       "  'Water != Coffee',\n",
       "  'Water != Milk',\n",
       "  'Water != OrangeJuice',\n",
       "  'Water != Tea',\n",
       "  'Yellow != Blue',\n",
       "  'Yellow != Green',\n",
       "  'Yellow != Ivory',\n",
       "  'Yellow != Red',\n",
       "  'Zebra != Dog',\n",
       "  'Zebra != Fox',\n",
       "  'Zebra != Horse',\n",
       "  'Zebra != Snails'})"
      ]
     },
     "execution_count": 73,
     "metadata": {},
     "output_type": "execute_result"
    }
   ],
   "source": [
    "zebra"
   ]
  },
  {
   "cell_type": "markdown",
   "metadata": {},
   "source": [
    "When the variables are ordered in a sensible way, the problem can be solved in less than a second.  If the variables are ordered randomly, you can expect your computaion to take several minutes."
   ]
  },
  {
   "cell_type": "code",
   "execution_count": 74,
   "metadata": {},
   "outputs": [
    {
     "name": "stdout",
     "output_type": "stream",
     "text": [
      "CPU times: user 1min 23s, sys: 51.9 ms, total: 1min 23s\n",
      "Wall time: 1min 24s\n"
     ]
    }
   ],
   "source": [
    "%%time\n",
    "solution = cspSolver.solve(zebra)"
   ]
  },
  {
   "cell_type": "code",
   "execution_count": 75,
   "metadata": {},
   "outputs": [
    {
     "data": {
      "text/plain": [
       "{'Ukrainian': 2,\n",
       " 'OldGold': 3,\n",
       " 'Yellow': 1,\n",
       " 'Parliaments': 5,\n",
       " 'Water': 1,\n",
       " 'Snails': 3,\n",
       " 'LuckyStrike': 4,\n",
       " 'Milk': 3,\n",
       " 'Red': 3,\n",
       " 'Spanish': 4,\n",
       " 'Chesterfields': 2,\n",
       " 'Fox': 1,\n",
       " 'Tea': 2,\n",
       " 'Coffee': 5,\n",
       " 'Dog': 4,\n",
       " 'Kools': 1,\n",
       " 'Zebra': 5,\n",
       " 'Japanese': 5,\n",
       " 'Blue': 2,\n",
       " 'Horse': 2,\n",
       " 'Ivory': 4,\n",
       " 'OrangeJuice': 4,\n",
       " 'English': 3,\n",
       " 'Norwegian': 1,\n",
       " 'Green': 5}"
      ]
     },
     "execution_count": 75,
     "metadata": {},
     "output_type": "execute_result"
    }
   ],
   "source": [
    "solution"
   ]
  },
  {
   "cell_type": "markdown",
   "metadata": {},
   "source": [
    "## Functions to Print the Solution"
   ]
  },
  {
   "cell_type": "code",
   "execution_count": 76,
   "metadata": {},
   "outputs": [],
   "source": [
    "from IPython.display import HTML"
   ]
  },
  {
   "cell_type": "code",
   "execution_count": 77,
   "metadata": {},
   "outputs": [],
   "source": [
    "def showHTML(Solution):\n",
    "    result  = '<table style=\"border:2px solid blue\">\\n'\n",
    "    result += '<tr>'\n",
    "    for name in ['House', 'Nationality',  'Drink', 'Animal', 'Brand', 'Colour']:\n",
    "        result += '<th style=\"color:gold; background-color:blue\">' + name + '</th>'\n",
    "    result += '</tr>\\n'\n",
    "    for chair in range(1, 5+1):\n",
    "        result += '<tr><td style=\"border:1px solid green\">' + str(chair) + '</td>'\n",
    "        for Class in [Nations, Drinks, Pets, Brands, Colours]:\n",
    "            for x in Class:\n",
    "                if Solution[x] == chair:\n",
    "                    result += '<td  style=\"border:1px solid green\">' + x + '</td>'\n",
    "        result += '</tr>\\n'\n",
    "    result += '</table>'\n",
    "    display(HTML(result))"
   ]
  },
  {
   "cell_type": "code",
   "execution_count": 78,
   "metadata": {},
   "outputs": [
    {
     "data": {
      "text/html": [
       "<table style=\"border:2px solid blue\">\n",
       "<tr><th style=\"color:gold; background-color:blue\">House</th><th style=\"color:gold; background-color:blue\">Nationality</th><th style=\"color:gold; background-color:blue\">Drink</th><th style=\"color:gold; background-color:blue\">Animal</th><th style=\"color:gold; background-color:blue\">Brand</th><th style=\"color:gold; background-color:blue\">Colour</th></tr>\n",
       "<tr><td style=\"border:1px solid green\">1</td><td  style=\"border:1px solid green\">Norwegian</td><td  style=\"border:1px solid green\">Water</td><td  style=\"border:1px solid green\">Fox</td><td  style=\"border:1px solid green\">Kools</td><td  style=\"border:1px solid green\">Yellow</td></tr>\n",
       "<tr><td style=\"border:1px solid green\">2</td><td  style=\"border:1px solid green\">Ukrainian</td><td  style=\"border:1px solid green\">Tea</td><td  style=\"border:1px solid green\">Horse</td><td  style=\"border:1px solid green\">Chesterfields</td><td  style=\"border:1px solid green\">Blue</td></tr>\n",
       "<tr><td style=\"border:1px solid green\">3</td><td  style=\"border:1px solid green\">English</td><td  style=\"border:1px solid green\">Milk</td><td  style=\"border:1px solid green\">Snails</td><td  style=\"border:1px solid green\">OldGold</td><td  style=\"border:1px solid green\">Red</td></tr>\n",
       "<tr><td style=\"border:1px solid green\">4</td><td  style=\"border:1px solid green\">Spanish</td><td  style=\"border:1px solid green\">OrangeJuice</td><td  style=\"border:1px solid green\">Dog</td><td  style=\"border:1px solid green\">LuckyStrike</td><td  style=\"border:1px solid green\">Ivory</td></tr>\n",
       "<tr><td style=\"border:1px solid green\">5</td><td  style=\"border:1px solid green\">Japanese</td><td  style=\"border:1px solid green\">Coffee</td><td  style=\"border:1px solid green\">Zebra</td><td  style=\"border:1px solid green\">Parliaments</td><td  style=\"border:1px solid green\">Green</td></tr>\n",
       "</table>"
      ],
      "text/plain": [
       "<IPython.core.display.HTML object>"
      ]
     },
     "metadata": {},
     "output_type": "display_data"
    }
   ],
   "source": [
    "showHTML(solution)"
   ]
  },
  {
   "cell_type": "code",
   "execution_count": null,
   "metadata": {},
   "outputs": [],
   "source": []
  }
 ],
 "metadata": {
  "hide_input": false,
  "kernelspec": {
   "display_name": "Python 3",
   "language": "python",
   "name": "python3"
  },
  "language_info": {
   "codemirror_mode": {
    "name": "ipython",
    "version": 3
   },
   "file_extension": ".py",
   "mimetype": "text/x-python",
   "name": "python",
   "nbconvert_exporter": "python",
   "pygments_lexer": "ipython3",
   "version": "3.8.2"
  },
  "toc": {
   "base_numbering": 1,
   "nav_menu": {},
   "number_sections": true,
   "sideBar": true,
   "skip_h1_title": false,
   "title_cell": "Table of Contents",
   "title_sidebar": "Contents",
   "toc_cell": false,
   "toc_position": {},
   "toc_section_display": true,
   "toc_window_display": false
  },
  "varInspector": {
   "cols": {
    "lenName": 16,
    "lenType": 16,
    "lenVar": 40
   },
   "kernels_config": {
    "python": {
     "delete_cmd_postfix": "",
     "delete_cmd_prefix": "del ",
     "library": "var_list.py",
     "varRefreshCmd": "print(var_dic_list())"
    },
    "r": {
     "delete_cmd_postfix": ") ",
     "delete_cmd_prefix": "rm(",
     "library": "var_list.r",
     "varRefreshCmd": "cat(var_dic_list()) "
    }
   },
   "types_to_exclude": [
    "module",
    "function",
    "builtin_function_or_method",
    "instance",
    "_Feature"
   ],
   "window_display": false
  }
 },
 "nbformat": 4,
 "nbformat_minor": 2
}
