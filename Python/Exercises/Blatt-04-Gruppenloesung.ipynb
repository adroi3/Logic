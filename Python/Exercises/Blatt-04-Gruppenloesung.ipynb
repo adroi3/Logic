{
 "cells": [
  {
   "cell_type": "code",
   "execution_count": null,
   "metadata": {},
   "outputs": [],
   "source": [
    "from IPython.core.display import HTML\n",
    "with open ('style.css', 'r') as file:\n",
    "    css = file.read()\n",
    "HTML(css)"
   ]
  },
  {
   "cell_type": "markdown",
   "metadata": {},
   "source": [
    "# The Wine Merchant"
   ]
  },
  {
   "cell_type": "markdown",
   "metadata": {},
   "source": [
    "A wine merchant has a large barrel of wine and two buckets.  One of these bucket measures 3 liters while the other bucket measures 5 litres.  The merchant has to fill the bigger of the buckets with 4 litres of wine.  The merchant can perform the following operations:\n",
    "<ol>\n",
    "    <li> A bucket can be filled with wine from the barrel.  \n",
    "         Afterwards, this bucket is completely filled.\n",
    "    </li>\n",
    "    <li> The contents of one bucket can be poured back into the barrel. \n",
    "         Afterwards this bucket is empty.\n",
    "    </li>\n",
    "    <li> The contents of one bucket can be refilled into the other bucket. \n",
    "        However, if the content of bucket <b>A</b> is poured into bucket <b>B</b>,\n",
    "         then there are two cases to consider:\n",
    "         <ul>\n",
    "             <li>There is enough room in bucket <b>B</b> for all of the wine currently in\n",
    "                 bucket <b>A</b>.  In this case, bucket <b>A</b> will be emptied completely.\n",
    "             </li>\n",
    "             <li>There is not enough room in bucket <b>B</b> to hold all the wine \n",
    "                 that is currently in bucket <b>A</b>.  In this case bucket <b>B</b> is filled,\n",
    "                 while some wine still remains in bucket <b>A</b>.\n",
    "             </li>\n",
    "         </ul>\n",
    "     </li>\n",
    "</ol>"
   ]
  },
  {
   "cell_type": "code",
   "execution_count": 1,
   "metadata": {},
   "outputs": [],
   "source": [
    "%run Graphviz.ipynb"
   ]
  },
  {
   "cell_type": "code",
   "execution_count": 2,
   "metadata": {},
   "outputs": [],
   "source": [
    "%run Breadth-First-Search.ipynb"
   ]
  },
  {
   "cell_type": "markdown",
   "metadata": {},
   "source": [
    "## Problem Specific Code"
   ]
  },
  {
   "cell_type": "markdown",
   "metadata": {},
   "source": [
    "`States` is the set of states.  A state is represented as a pair \n",
    "$\\langle b, s \\rangle$, where $b$ is the amount of wine in the big bucket, while $s$ is the amount of wine the small bucket."
   ]
  },
  {
   "cell_type": "code",
   "execution_count": 5,
   "metadata": {},
   "outputs": [],
   "source": [
    "States = { (b, s) for b in range(0,6)\n",
    "                    for s in range(0, 4) }"
   ]
  },
  {
   "cell_type": "markdown",
   "metadata": {},
   "source": [
    "There are 24 different states."
   ]
  },
  {
   "cell_type": "code",
   "execution_count": 6,
   "metadata": {},
   "outputs": [
    {
     "data": {
      "text/plain": [
       "24"
      ]
     },
     "execution_count": 6,
     "metadata": {},
     "output_type": "execute_result"
    }
   ],
   "source": [
    "len(States)"
   ]
  },
  {
   "cell_type": "markdown",
   "metadata": {},
   "source": [
    "`R1` describes transitions where the big bucket is poured into the small bucket and there is enough room in the small bucket for all the wine currently in the big bucket. `R1` has 6 elements."
   ]
  },
  {
   "cell_type": "code",
   "execution_count": 38,
   "metadata": {},
   "outputs": [
    {
     "data": {
      "text/plain": [
       "{((1, 0), (0, 1)),\n",
       " ((1, 1), (0, 2)),\n",
       " ((1, 2), (0, 3)),\n",
       " ((2, 0), (0, 2)),\n",
       " ((2, 1), (0, 3)),\n",
       " ((3, 0), (0, 3))}"
      ]
     },
     "execution_count": 38,
     "metadata": {},
     "output_type": "execute_result"
    }
   ],
   "source": [
    "R1 = { ((b, s), (0, b+s)) for (b, s) in States\n",
    "                 if b+s <= 3 and b != 0 }\n",
    "R1"
   ]
  },
  {
   "cell_type": "code",
   "execution_count": 39,
   "metadata": {},
   "outputs": [
    {
     "data": {
      "text/plain": [
       "6"
      ]
     },
     "execution_count": 39,
     "metadata": {},
     "output_type": "execute_result"
    }
   ],
   "source": [
    "len(R1)"
   ]
  },
  {
   "cell_type": "markdown",
   "metadata": {},
   "source": [
    "`R2` describes transitions where the big bucket is poured into the small bucket but there is **not** enough room in the small bucket for all the wine currently in the big bucket. `R2` has 9 elements."
   ]
  },
  {
   "cell_type": "code",
   "execution_count": 40,
   "metadata": {},
   "outputs": [
    {
     "data": {
      "text/plain": [
       "{((2, 2), (1, 3)),\n",
       " ((3, 1), (1, 3)),\n",
       " ((3, 2), (2, 3)),\n",
       " ((4, 0), (1, 3)),\n",
       " ((4, 1), (2, 3)),\n",
       " ((4, 2), (3, 3)),\n",
       " ((5, 0), (2, 3)),\n",
       " ((5, 1), (3, 3)),\n",
       " ((5, 2), (4, 3))}"
      ]
     },
     "execution_count": 40,
     "metadata": {},
     "output_type": "execute_result"
    }
   ],
   "source": [
    "R2 = { ((b, s), (b+s-3, 3)) for (b, s) in States\n",
    "                 if s+b > 3 and s < 3 }\n",
    "R2"
   ]
  },
  {
   "cell_type": "code",
   "execution_count": 41,
   "metadata": {},
   "outputs": [
    {
     "data": {
      "text/plain": [
       "9"
      ]
     },
     "execution_count": 41,
     "metadata": {},
     "output_type": "execute_result"
    }
   ],
   "source": [
    "len(R2)"
   ]
  },
  {
   "cell_type": "markdown",
   "metadata": {},
   "source": [
    "`R3` describes transitions where the small bucket is poured into the big bucket and there is enough room in the big bucket for all the wine currently in the small bucket. `R3` has 12 elements."
   ]
  },
  {
   "cell_type": "code",
   "execution_count": 15,
   "metadata": {},
   "outputs": [
    {
     "data": {
      "text/plain": [
       "{((0, 1), (1, 0)),\n",
       " ((0, 2), (2, 0)),\n",
       " ((0, 3), (3, 0)),\n",
       " ((1, 1), (2, 0)),\n",
       " ((1, 2), (3, 0)),\n",
       " ((1, 3), (4, 0)),\n",
       " ((2, 1), (3, 0)),\n",
       " ((2, 2), (4, 0)),\n",
       " ((2, 3), (5, 0)),\n",
       " ((3, 1), (4, 0)),\n",
       " ((3, 2), (5, 0)),\n",
       " ((4, 1), (5, 0))}"
      ]
     },
     "execution_count": 15,
     "metadata": {},
     "output_type": "execute_result"
    }
   ],
   "source": [
    "R3 = { ((b, s), (b+s, 0)) for (b, s) in States\n",
    "                 if b+s <= 5 and s != 0 }\n",
    "R3"
   ]
  },
  {
   "cell_type": "code",
   "execution_count": 16,
   "metadata": {},
   "outputs": [
    {
     "data": {
      "text/plain": [
       "12"
      ]
     },
     "execution_count": 16,
     "metadata": {},
     "output_type": "execute_result"
    }
   ],
   "source": [
    "len(R3)"
   ]
  },
  {
   "cell_type": "markdown",
   "metadata": {},
   "source": [
    "`R4` describes transitions where the small bucket is poured into the big bucket but there is **not** enough room in the big bucket for all the wine currently in the small bucket. `R4` has 3 elements."
   ]
  },
  {
   "cell_type": "code",
   "execution_count": 42,
   "metadata": {},
   "outputs": [
    {
     "data": {
      "text/plain": [
       "{((3, 3), (5, 1)), ((4, 2), (5, 1)), ((4, 3), (5, 2))}"
      ]
     },
     "execution_count": 42,
     "metadata": {},
     "output_type": "execute_result"
    }
   ],
   "source": [
    "R4 = { ((b, s), (5, s+b-5)) for (b, s) in States\n",
    "                 if b < 5 and b+s > 5 }\n",
    "R4"
   ]
  },
  {
   "cell_type": "code",
   "execution_count": 43,
   "metadata": {},
   "outputs": [
    {
     "data": {
      "text/plain": [
       "3"
      ]
     },
     "execution_count": 43,
     "metadata": {},
     "output_type": "execute_result"
    }
   ],
   "source": [
    "len(R4)"
   ]
  },
  {
   "cell_type": "markdown",
   "metadata": {},
   "source": [
    "`R5` describes transitions where the big bucket is emptied. `R5` has 20 elements."
   ]
  },
  {
   "cell_type": "code",
   "execution_count": 23,
   "metadata": {},
   "outputs": [
    {
     "data": {
      "text/plain": [
       "{((1, 0), (0, 0)),\n",
       " ((1, 1), (0, 1)),\n",
       " ((1, 2), (0, 2)),\n",
       " ((1, 3), (0, 3)),\n",
       " ((2, 0), (0, 0)),\n",
       " ((2, 1), (0, 1)),\n",
       " ((2, 2), (0, 2)),\n",
       " ((2, 3), (0, 3)),\n",
       " ((3, 0), (0, 0)),\n",
       " ((3, 1), (0, 1)),\n",
       " ((3, 2), (0, 2)),\n",
       " ((3, 3), (0, 3)),\n",
       " ((4, 0), (0, 0)),\n",
       " ((4, 1), (0, 1)),\n",
       " ((4, 2), (0, 2)),\n",
       " ((4, 3), (0, 3)),\n",
       " ((5, 0), (0, 0)),\n",
       " ((5, 1), (0, 1)),\n",
       " ((5, 2), (0, 2)),\n",
       " ((5, 3), (0, 3))}"
      ]
     },
     "execution_count": 23,
     "metadata": {},
     "output_type": "execute_result"
    }
   ],
   "source": [
    "R5 = { ((b, s), (0, s)) for (b, s) in States\n",
    "                         if b != 0 }\n",
    "R5"
   ]
  },
  {
   "cell_type": "code",
   "execution_count": 24,
   "metadata": {},
   "outputs": [
    {
     "data": {
      "text/plain": [
       "20"
      ]
     },
     "execution_count": 24,
     "metadata": {},
     "output_type": "execute_result"
    }
   ],
   "source": [
    "len(R5)"
   ]
  },
  {
   "cell_type": "markdown",
   "metadata": {},
   "source": [
    "`R6` describes transitions where the small bucket is emptied. `R6` has 18 different elements."
   ]
  },
  {
   "cell_type": "code",
   "execution_count": 26,
   "metadata": {},
   "outputs": [
    {
     "data": {
      "text/plain": [
       "{((0, 1), (0, 0)),\n",
       " ((0, 2), (0, 0)),\n",
       " ((0, 3), (0, 0)),\n",
       " ((1, 1), (1, 0)),\n",
       " ((1, 2), (1, 0)),\n",
       " ((1, 3), (1, 0)),\n",
       " ((2, 1), (2, 0)),\n",
       " ((2, 2), (2, 0)),\n",
       " ((2, 3), (2, 0)),\n",
       " ((3, 1), (3, 0)),\n",
       " ((3, 2), (3, 0)),\n",
       " ((3, 3), (3, 0)),\n",
       " ((4, 1), (4, 0)),\n",
       " ((4, 2), (4, 0)),\n",
       " ((4, 3), (4, 0)),\n",
       " ((5, 1), (5, 0)),\n",
       " ((5, 2), (5, 0)),\n",
       " ((5, 3), (5, 0))}"
      ]
     },
     "execution_count": 26,
     "metadata": {},
     "output_type": "execute_result"
    }
   ],
   "source": [
    "R6 = { ((b, s), (b, 0)) for (b, s) in States\n",
    "                         if s != 0 }\n",
    "R6"
   ]
  },
  {
   "cell_type": "code",
   "execution_count": 27,
   "metadata": {},
   "outputs": [
    {
     "data": {
      "text/plain": [
       "18"
      ]
     },
     "execution_count": 27,
     "metadata": {},
     "output_type": "execute_result"
    }
   ],
   "source": [
    "len(R6)"
   ]
  },
  {
   "cell_type": "markdown",
   "metadata": {},
   "source": [
    "`R7` describes transitions where the big bucket is filled. `R7` has 20 different elements."
   ]
  },
  {
   "cell_type": "code",
   "execution_count": 28,
   "metadata": {},
   "outputs": [
    {
     "data": {
      "text/plain": [
       "{((0, 0), (5, 0)),\n",
       " ((0, 1), (5, 1)),\n",
       " ((0, 2), (5, 2)),\n",
       " ((0, 3), (5, 3)),\n",
       " ((1, 0), (5, 0)),\n",
       " ((1, 1), (5, 1)),\n",
       " ((1, 2), (5, 2)),\n",
       " ((1, 3), (5, 3)),\n",
       " ((2, 0), (5, 0)),\n",
       " ((2, 1), (5, 1)),\n",
       " ((2, 2), (5, 2)),\n",
       " ((2, 3), (5, 3)),\n",
       " ((3, 0), (5, 0)),\n",
       " ((3, 1), (5, 1)),\n",
       " ((3, 2), (5, 2)),\n",
       " ((3, 3), (5, 3)),\n",
       " ((4, 0), (5, 0)),\n",
       " ((4, 1), (5, 1)),\n",
       " ((4, 2), (5, 2)),\n",
       " ((4, 3), (5, 3))}"
      ]
     },
     "execution_count": 28,
     "metadata": {},
     "output_type": "execute_result"
    }
   ],
   "source": [
    "R7 = { ((b, s), (5, s)) for (b, s) in States\n",
    "                         if b != 5 }\n",
    "R7"
   ]
  },
  {
   "cell_type": "code",
   "execution_count": 29,
   "metadata": {},
   "outputs": [
    {
     "data": {
      "text/plain": [
       "20"
      ]
     },
     "execution_count": 29,
     "metadata": {},
     "output_type": "execute_result"
    }
   ],
   "source": [
    "len(R7)"
   ]
  },
  {
   "cell_type": "markdown",
   "metadata": {},
   "source": [
    "`R8` describes transitions where the small bucket is filled. `R8` has 18 different elements."
   ]
  },
  {
   "cell_type": "code",
   "execution_count": 30,
   "metadata": {},
   "outputs": [
    {
     "data": {
      "text/plain": [
       "{((0, 0), (0, 3)),\n",
       " ((0, 1), (0, 3)),\n",
       " ((0, 2), (0, 3)),\n",
       " ((1, 0), (1, 3)),\n",
       " ((1, 1), (1, 3)),\n",
       " ((1, 2), (1, 3)),\n",
       " ((2, 0), (2, 3)),\n",
       " ((2, 1), (2, 3)),\n",
       " ((2, 2), (2, 3)),\n",
       " ((3, 0), (3, 3)),\n",
       " ((3, 1), (3, 3)),\n",
       " ((3, 2), (3, 3)),\n",
       " ((4, 0), (4, 3)),\n",
       " ((4, 1), (4, 3)),\n",
       " ((4, 2), (4, 3)),\n",
       " ((5, 0), (5, 3)),\n",
       " ((5, 1), (5, 3)),\n",
       " ((5, 2), (5, 3))}"
      ]
     },
     "execution_count": 30,
     "metadata": {},
     "output_type": "execute_result"
    }
   ],
   "source": [
    "R8 = { ((b, s), (b, 3)) for (b, s) in States\n",
    "                         if s != 3 }\n",
    "R8"
   ]
  },
  {
   "cell_type": "code",
   "execution_count": 31,
   "metadata": {},
   "outputs": [
    {
     "data": {
      "text/plain": [
       "18"
      ]
     },
     "execution_count": 31,
     "metadata": {},
     "output_type": "execute_result"
    }
   ],
   "source": [
    "len(R8)"
   ]
  },
  {
   "cell_type": "markdown",
   "metadata": {},
   "source": [
    "The relation `R` contains all possible transitions.  It has 106 different elements."
   ]
  },
  {
   "cell_type": "code",
   "execution_count": 32,
   "metadata": {},
   "outputs": [],
   "source": [
    "R = R1 | R2 | R3 | R4 | R5 | R6 | R7 | R8"
   ]
  },
  {
   "cell_type": "code",
   "execution_count": 33,
   "metadata": {},
   "outputs": [
    {
     "data": {
      "text/plain": [
       "106"
      ]
     },
     "execution_count": 33,
     "metadata": {},
     "output_type": "execute_result"
    }
   ],
   "source": [
    "len(R)"
   ]
  },
  {
   "cell_type": "code",
   "execution_count": 34,
   "metadata": {},
   "outputs": [
    {
     "data": {
      "text/plain": [
       "'wine.pdf'"
      ]
     },
     "execution_count": 34,
     "metadata": {},
     "output_type": "execute_result"
    }
   ],
   "source": [
    "d = dot_graph(R)\n",
    "d.render('wine', view=True)"
   ]
  },
  {
   "cell_type": "markdown",
   "metadata": {},
   "source": [
    "At the beginning both buckets are empty. The goal is to fill the bigger bucket with 4 litres of wine.\n",
    "The small bucket shoiuld then be empty."
   ]
  },
  {
   "cell_type": "code",
   "execution_count": 35,
   "metadata": {},
   "outputs": [
    {
     "name": "stdout",
     "output_type": "stream",
     "text": [
      "Iteration 1: 2 new states found.\n",
      "Iteration 2: 3 new states found.\n",
      "Iteration 3: 2 new states found.\n",
      "Iteration 4: 2 new states found.\n",
      "Iteration 5: 2 new states found.\n",
      "Iteration 6: 2 new states found.\n"
     ]
    },
    {
     "data": {
      "text/plain": [
       "((0, 0), (5, 0), (2, 3), (2, 0), (0, 2), (5, 2), (4, 3), (4, 0))"
      ]
     },
     "execution_count": 35,
     "metadata": {},
     "output_type": "execute_result"
    }
   ],
   "source": [
    "start = (0, 0)\n",
    "goal  = (4, 0)\n",
    "Path  = search(R, start, goal)\n",
    "Path"
   ]
  },
  {
   "cell_type": "markdown",
   "metadata": {},
   "source": [
    "## Auxiliary Code for Pretty Printing"
   ]
  },
  {
   "cell_type": "markdown",
   "metadata": {},
   "source": [
    "The following code is used for printing the path that has been found.  We won't discuss the details of these functions."
   ]
  },
  {
   "cell_type": "code",
   "execution_count": 36,
   "metadata": {},
   "outputs": [],
   "source": [
    "def printPath(Path):\n",
    "    for (b, s) in Path:\n",
    "        print()\n",
    "        print(\"5 Liter Eimer: \" + str(b) + 20 * \" \" + \"3 Liter Eimer: \" + str(s))\n",
    "        for j in range(1, 5+1):\n",
    "            if j <= 2:\n",
    "                if 5-b >= j:\n",
    "                    print(\"|\" + 10 * \" \" + \"|\")\n",
    "                else:\n",
    "                    print(\"|\" + 10 * \"~\" + \"|\")\n",
    "            else:\n",
    "                if 5-b >= j: \n",
    "                    if 3-s >= j-2:\n",
    "                        print(\"|\" + 10 * \" \" + \"|\" + 25 * \" \" + \"|\" + 10 * \" \" + \"|\")\n",
    "                    else:\n",
    "                        print(\"|\" + 10 * \" \" + \"|\" + 25 * \" \" + \"|\" + 10 * \"~\" + \"|\")\n",
    "                else:\n",
    "                    if 3-s >= j-2:\n",
    "                        print(\"|\" + 10 * \"~\" + \"|\" + 25 * \" \" + \"|\" + 10 * \" \" + \"|\")\n",
    "                    else:\n",
    "                        print(\"|\" + 10 * \"~\" + \"|\" + 25 * \" \" + \"|\" + 10 * \"~\" + \"|\")\n",
    "        print(12 * \"-\" + 25 * \" \" + 12 * \"-\")"
   ]
  },
  {
   "cell_type": "markdown",
   "metadata": {},
   "source": [
    "You should visually check that your solution works out."
   ]
  },
  {
   "cell_type": "code",
   "execution_count": 37,
   "metadata": {},
   "outputs": [
    {
     "name": "stdout",
     "output_type": "stream",
     "text": [
      "\n",
      "5 Liter Eimer: 0                    3 Liter Eimer: 0\n",
      "|          |\n",
      "|          |\n",
      "|          |                         |          |\n",
      "|          |                         |          |\n",
      "|          |                         |          |\n",
      "------------                         ------------\n",
      "\n",
      "5 Liter Eimer: 5                    3 Liter Eimer: 0\n",
      "|~~~~~~~~~~|\n",
      "|~~~~~~~~~~|\n",
      "|~~~~~~~~~~|                         |          |\n",
      "|~~~~~~~~~~|                         |          |\n",
      "|~~~~~~~~~~|                         |          |\n",
      "------------                         ------------\n",
      "\n",
      "5 Liter Eimer: 2                    3 Liter Eimer: 3\n",
      "|          |\n",
      "|          |\n",
      "|          |                         |~~~~~~~~~~|\n",
      "|~~~~~~~~~~|                         |~~~~~~~~~~|\n",
      "|~~~~~~~~~~|                         |~~~~~~~~~~|\n",
      "------------                         ------------\n",
      "\n",
      "5 Liter Eimer: 2                    3 Liter Eimer: 0\n",
      "|          |\n",
      "|          |\n",
      "|          |                         |          |\n",
      "|~~~~~~~~~~|                         |          |\n",
      "|~~~~~~~~~~|                         |          |\n",
      "------------                         ------------\n",
      "\n",
      "5 Liter Eimer: 0                    3 Liter Eimer: 2\n",
      "|          |\n",
      "|          |\n",
      "|          |                         |          |\n",
      "|          |                         |~~~~~~~~~~|\n",
      "|          |                         |~~~~~~~~~~|\n",
      "------------                         ------------\n",
      "\n",
      "5 Liter Eimer: 5                    3 Liter Eimer: 2\n",
      "|~~~~~~~~~~|\n",
      "|~~~~~~~~~~|\n",
      "|~~~~~~~~~~|                         |          |\n",
      "|~~~~~~~~~~|                         |~~~~~~~~~~|\n",
      "|~~~~~~~~~~|                         |~~~~~~~~~~|\n",
      "------------                         ------------\n",
      "\n",
      "5 Liter Eimer: 4                    3 Liter Eimer: 3\n",
      "|          |\n",
      "|~~~~~~~~~~|\n",
      "|~~~~~~~~~~|                         |~~~~~~~~~~|\n",
      "|~~~~~~~~~~|                         |~~~~~~~~~~|\n",
      "|~~~~~~~~~~|                         |~~~~~~~~~~|\n",
      "------------                         ------------\n",
      "\n",
      "5 Liter Eimer: 4                    3 Liter Eimer: 0\n",
      "|          |\n",
      "|~~~~~~~~~~|\n",
      "|~~~~~~~~~~|                         |          |\n",
      "|~~~~~~~~~~|                         |          |\n",
      "|~~~~~~~~~~|                         |          |\n",
      "------------                         ------------\n"
     ]
    }
   ],
   "source": [
    "printPath(Path)"
   ]
  },
  {
   "cell_type": "code",
   "execution_count": null,
   "metadata": {},
   "outputs": [],
   "source": []
  }
 ],
 "metadata": {
  "hide_input": false,
  "kernelspec": {
   "display_name": "Python 3",
   "language": "python",
   "name": "python3"
  },
  "language_info": {
   "codemirror_mode": {
    "name": "ipython",
    "version": 3
   },
   "file_extension": ".py",
   "mimetype": "text/x-python",
   "name": "python",
   "nbconvert_exporter": "python",
   "pygments_lexer": "ipython3",
   "version": "3.8.2"
  },
  "toc": {
   "base_numbering": 1,
   "nav_menu": {},
   "number_sections": true,
   "sideBar": true,
   "skip_h1_title": false,
   "title_cell": "Table of Contents",
   "title_sidebar": "Contents",
   "toc_cell": false,
   "toc_position": {},
   "toc_section_display": true,
   "toc_window_display": false
  },
  "varInspector": {
   "cols": {
    "lenName": 16,
    "lenType": 16,
    "lenVar": 40
   },
   "kernels_config": {
    "python": {
     "delete_cmd_postfix": "",
     "delete_cmd_prefix": "del ",
     "library": "var_list.py",
     "varRefreshCmd": "print(var_dic_list())"
    },
    "r": {
     "delete_cmd_postfix": ") ",
     "delete_cmd_prefix": "rm(",
     "library": "var_list.r",
     "varRefreshCmd": "cat(var_dic_list()) "
    }
   },
   "types_to_exclude": [
    "module",
    "function",
    "builtin_function_or_method",
    "instance",
    "_Feature"
   ],
   "window_display": false
  }
 },
 "nbformat": 4,
 "nbformat_minor": 2
}
