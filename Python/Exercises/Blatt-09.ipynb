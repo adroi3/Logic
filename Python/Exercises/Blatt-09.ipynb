{
 "cells": [
  {
   "cell_type": "code",
   "execution_count": null,
   "metadata": {},
   "outputs": [],
   "source": [
    "from IPython.core.display import HTML\n",
    "with open('../style.css', 'r') as file:\n",
    "    css = file.read()\n",
    "HTML(css)"
   ]
  },
  {
   "cell_type": "markdown",
   "metadata": {},
   "source": [
    "# Prinz und Tiger"
   ]
  },
  {
   "cell_type": "markdown",
   "metadata": {},
   "source": [
    "Es war einmal ein König, der seine Tochter mit einem Prinzen vermählen wollte.  Er ließ im ganzen Land verkünden, dass er einen Gemahl für seine Tochter suche.  Eines Tages kam nun ein Prinz vorbei, um sich zu bewerben.  Da der König seine Tochter nicht mit irgendeiner Dumpfbacke vermählen wollte, führte der König den Prinzen in einen Raum mit 9 Türen.  Der König teilte dem Prinzen mit, dass die Prinzessin sich in einem der Zimmer befinden würde,  dass es aber andere Zimmer gäbe, hinter denen hungrige Tiger warten würden. Einige Zimmer wären auch leer.  Wenn nun der Prinz eine Tür mit einem Tiger dahinter öffnen würde, so wäre dies vermutlich sein letzter Fehler.  \n",
    "\n",
    "Weiter sagte der König, dass an allen Türen Schilder angebracht wären, auf denen eine Aussage steht.  Mit diesen Aussagen verhält es sich wie folgt:\n",
    "<ul>\n",
    "<li>In den Zimmern, wo ein Tiger drin ist, ist die Aussage, die auf dem Schild steht, falsch. </li>\n",
    "<li>In dem Zimmer, in dem sich die Prinzessin befinde, ist die Aussage richtig.  </li>\n",
    "<li>Bei den leeren Zimmer ist die Sachlage etwas komplizierter, denn hier gibt es zwei Möglichkeiten:\n",
    "    <ol>\n",
    "        <li>Entweder sind <b>alle</b> Aufschriften an  leeren Zimmern wahr,</li>\n",
    "        <li>oder <b>alle</b> Aufschriften an leeren Zimmern sind falsch.  </li>\n",
    "    </ol>\n",
    "</ul>    \n",
    "Daraufhin laß der Prinz die Aufschriften.  Diese waren wie folgt:\n",
    "<ol>\n",
    "<li> Zimmer: Die Prinzessin ist in einem Zimmer mit ungerader Zimmernummer.\n",
    "      In den Zimmern mit gerader Nummer ist kein Tiger.</li>\n",
    "<li> Zimmer: Dieses Zimmer ist leer.</li>\n",
    "<li> Zimmer: Die Aufschrift an Zimmer Nr. 5 ist wahr, die Aufschrift an Zimmer Nr. 7 \n",
    "      ist falsch und in Zimmer Nr. 3 ist ein Tiger. </li>\n",
    "<li> Zimmer: Die Aufschrift an Zimmer Nr. 1 ist falsch, in Zimmer Nr. 8 ist kein Tiger,\n",
    "      und die Aufschrift an Zimmer Nr. 9 ist wahr.</li>\n",
    "<li> Zimmer: Wenn die Aufschrift an Zimmer Nr. 2 oder an Zimmer Nr. 4 wahr ist,\n",
    "      dann ist kein Tiger im Zimmer Nr. 1.</li>\n",
    "<li> Zimmer: Die Aufschrift an Zimmer Nr. 3 ist falsch, die Prinzessin ist im Zimmer Nr. 2 \n",
    "      und im Zimmer Nr. 2 ist kein Tiger.</li>\n",
    "<li> Zimmer: Die Prinzessin ist im Zimmer Nr. 1 und die Aufschrift an Zimmer Nr. 5 ist wahr.</li>\n",
    "\n",
    "<li> Zimmer: In diesem Zimmer ist kein Tiger und Zimmer Nr. 9 ist leer.</li>\n",
    "\n",
    "<li> Zimmer: Weder in diesem Zimmer noch in Zimmer Nr. 1 ist ein Tiger und außerdem ist\n",
    "      die Aufschrift an Zimmer Nr. 6 wahr.</li>\n",
    "</ol>\n",
    "\n",
    "<b>Hinweis:</b> Die Aufgabe wird einfach, wenn Sie die richtigen aussagenlogischen Variablen verwenden, um die Aussagen des Königs und die Aufschriften an den Zimmern zu kodieren.  In meiner Lösung habe ich die folgende Variablen verwendet:\n",
    "<ol>\n",
    "<li> $\\texttt{Prinzessin<}i\\texttt{>}$ ist genau dann wahr, wenn die Prinzessin im $i$-ten Zimmer ist.  Der Index $i$ ist dabei ein\n",
    "      Element der Menge $\\{1,\\cdots,9\\}$.</li>\n",
    "<li> $\\texttt{Tiger<}i\\texttt{>}$ ist genau dann wahr, wenn im $i$-ten Zimmer ein Tiger ist.</li>\n",
    "<li> $\\texttt{Zimmer<}i\\texttt{>}$ ist genau dann wahr, wenn die Aufschrift im $i$-ten Zimmer wahr ist.</li>\n",
    "    <li> $\\texttt{empty}$ ist genau dann wahr, wenn <b>alle</b> Aufschriften an leeren Zimmern wahr sind.</li>\n",
    "</ol>"
   ]
  },
  {
   "cell_type": "markdown",
   "metadata": {},
   "source": [
    "## Setting up Required Modules"
   ]
  },
  {
   "cell_type": "markdown",
   "metadata": {},
   "source": [
    "We will use the parser for propositional logic which is implemented in the module <tt>propLogParser</tt>."
   ]
  },
  {
   "cell_type": "code",
   "execution_count": null,
   "metadata": {},
   "outputs": [],
   "source": [
    "import propLogParser as plp"
   ]
  },
  {
   "cell_type": "markdown",
   "metadata": {},
   "source": [
    "We will also need a function that turns a formula given as a nested tuple into *conjunctive normal form*.  Therefore we import the module <tt>cnf</tt>."
   ]
  },
  {
   "cell_type": "code",
   "execution_count": null,
   "metadata": {},
   "outputs": [],
   "source": [
    "import cnf"
   ]
  },
  {
   "cell_type": "markdown",
   "metadata": {},
   "source": [
    "The function $\\texttt{parseAndNormalize}(s)$ takes a string $s$ that represents a formula from propositional logic, parses this string as a propositional formula and then turns this formula into a set of clauses.  We have used this function already in the previous exercise sheet."
   ]
  },
  {
   "cell_type": "code",
   "execution_count": null,
   "metadata": {},
   "outputs": [],
   "source": [
    "def parseKNF(s):\n",
    "    nestedTuple = plp.LogicParser(s).parse()\n",
    "    Clauses     = cnf.normalize(nestedTuple)\n",
    "    return Clauses"
   ]
  },
  {
   "cell_type": "code",
   "execution_count": null,
   "metadata": {},
   "outputs": [],
   "source": [
    "parseKNF('(p ∧ ¬q → r) ↔ ¬r ∨ p ∨ q')"
   ]
  },
  {
   "cell_type": "markdown",
   "metadata": {},
   "source": [
    "Finally, we use the Davis-Putnam algorithm to find a solution for a given set of clauses.  This algorithm is provided by the module <tt>davisPutnam</tt>."
   ]
  },
  {
   "cell_type": "code",
   "execution_count": null,
   "metadata": {},
   "outputs": [],
   "source": [
    "import davisPutnam as dp"
   ]
  },
  {
   "cell_type": "markdown",
   "metadata": {},
   "source": [
    "## Auxilliary Functions"
   ]
  },
  {
   "cell_type": "markdown",
   "metadata": {},
   "source": [
    "The functions defined below make it convenient to create the propositional variables $\\texttt{Prinzessin<}i\\texttt{>}$, $\\texttt{Tiger<}i\\texttt{>}$, and $\\texttt{Zimmer<}i\\texttt{>}$ for $i \\in \\{1,\\cdots,n\\}$."
   ]
  },
  {
   "cell_type": "code",
   "execution_count": null,
   "metadata": {},
   "outputs": [],
   "source": [
    "def P(i):\n",
    "    \"Return the string 'P<i>'\"\n",
    "    return f'Prinzessin<{i}>'"
   ]
  },
  {
   "cell_type": "code",
   "execution_count": null,
   "metadata": {},
   "outputs": [],
   "source": [
    "P(1)"
   ]
  },
  {
   "cell_type": "code",
   "execution_count": null,
   "metadata": {},
   "outputs": [],
   "source": [
    "parseKNF(f'{P(1)} ∨ {P(2)}')"
   ]
  },
  {
   "cell_type": "code",
   "execution_count": null,
   "metadata": {},
   "outputs": [],
   "source": [
    "def T(i):\n",
    "    \"Return the string 'T<i>'\"\n",
    "    return f'Tiger<{i}>'"
   ]
  },
  {
   "cell_type": "code",
   "execution_count": null,
   "metadata": {},
   "outputs": [],
   "source": [
    "T(2)"
   ]
  },
  {
   "cell_type": "code",
   "execution_count": null,
   "metadata": {},
   "outputs": [],
   "source": [
    "def Z(i):\n",
    "    \"Return the string 'Z<i>'\"\n",
    "    return f'Zimmer<{i}>'"
   ]
  },
  {
   "cell_type": "code",
   "execution_count": null,
   "metadata": {},
   "outputs": [],
   "source": [
    "Z(3)"
   ]
  },
  {
   "cell_type": "markdown",
   "metadata": {},
   "source": [
    "Given a set of propositional variables $S$, the function $\\texttt{atMostOne}(S)$ computes a set of clauses expressing the fact that at most one of the variables of $S$ is <tt>True</tt>."
   ]
  },
  {
   "cell_type": "code",
   "execution_count": null,
   "metadata": {},
   "outputs": [],
   "source": [
    "def atMostOne(S): \n",
    "    return { frozenset({('¬',p), ('¬', q)}) for p in S\n",
    "                                            for q in S \n",
    "                                            if  p != q \n",
    "           }"
   ]
  },
  {
   "cell_type": "markdown",
   "metadata": {},
   "source": [
    "## Generating the set of Clauses describing the Problem"
   ]
  },
  {
   "cell_type": "markdown",
   "metadata": {},
   "source": [
    "##### Below, you might need the following symbols: ¬ ∧ ∨ → ↔"
   ]
  },
  {
   "cell_type": "markdown",
   "metadata": {},
   "source": [
    "The function $\\texttt{computeClauses}$ computes the set of clauses that encode the given problem."
   ]
  },
  {
   "cell_type": "code",
   "execution_count": null,
   "metadata": {},
   "outputs": [],
   "source": [
    "def computeClauses():\n",
    "    # The princess has to be somewhere, i.e. there is a room containing the princess.\n",
    "    Clauses  = \"your code here\"\n",
    "    # There is just one princess.\n",
    "    Clauses |= \"your code here\"\n",
    "    for i in range(1, 9+1):\n",
    "        # In the room containing the princess, the label at the door is true.\n",
    "        Clauses |= \"your code here\"\n",
    "        # In thoses rooms where there are tigers, the label is false.\n",
    "        Clauses |= \"your code here\"\n",
    "        # Either all labels of empty rooms are true or all those labels are false.\n",
    "        Clauses |= parseKNF(f'¬{P(i)}∧¬{T(i)}→({Z(i)}↔empty)') \n",
    "    # Room Nr.1: The princess is in a room with an odd room number.\n",
    "    #            The rooms with even numbers do not have tigers.\n",
    "    s = \"your code here\"\n",
    "    Clauses |= parseKNF(s)\n",
    "    # Room Nr.2: This room is empty.\n",
    "    Clauses |= \"your code here\"\n",
    "    # Room Nr.3: The label at room number 5 is true, the label at room number 7 is false \n",
    "    #            and there is a tiger in room number 3\n",
    "    Clauses |= \"your code here\"\n",
    "    # Room Nr.4: The label at room number 1 is false, there is no tiger in room number 8\n",
    "    #            and the label at room number 9 is true.\n",
    "    Clauses |= \"your code here\"\n",
    "    # Room Nr.5: If the label at room number 2 or room number 4 is true, \n",
    "    #            then there is no tiger in room number 1.\n",
    "    Clauses |= \"your code here\"\n",
    "    # Room Nr.6: The label on room number 3 is false, the princess is in room number 2\n",
    "    #            and there is no tiger in room number 2.\n",
    "    Clauses |= \"your code here\"\n",
    "    # Room Nr.7: The princess is in room number 1 and the label of room number 5 is true.\n",
    "    Clauses |= \"your code here\"\n",
    "    # Room Nr.8: There is no tiger in this room and room number 9 is empty.\n",
    "    Clauses |= \"your code here\"\n",
    "    # Room Nr.9: Neither this room nor room number 1 has a tiger and \n",
    "    #            the label of room number 6 is true.\n",
    "    Clauses |= \"your code here\"\n",
    "    return Clauses"
   ]
  },
  {
   "cell_type": "code",
   "execution_count": null,
   "metadata": {},
   "outputs": [],
   "source": [
    "Clauses = computeClauses()\n",
    "Clauses"
   ]
  },
  {
   "cell_type": "markdown",
   "metadata": {},
   "source": [
    "There are 110 clauses."
   ]
  },
  {
   "cell_type": "code",
   "execution_count": null,
   "metadata": {},
   "outputs": [],
   "source": [
    "len(Clauses)"
   ]
  },
  {
   "cell_type": "markdown",
   "metadata": {},
   "source": [
    "Finally, we call the function <tt>solve</tt> from the module <tt>davisPutnam</tt> to solve the problem."
   ]
  },
  {
   "cell_type": "code",
   "execution_count": null,
   "metadata": {},
   "outputs": [],
   "source": [
    "solution = dp.solve(Clauses, set())"
   ]
  },
  {
   "cell_type": "markdown",
   "metadata": {},
   "source": [
    "The function $\\texttt{getSolution}(S)$ takes a set of unit clauses representing the solution of the problem and returns the room where the princess is located."
   ]
  },
  {
   "cell_type": "code",
   "execution_count": null,
   "metadata": {},
   "outputs": [],
   "source": [
    "def getSolution(S):\n",
    "    \"Print only the positive literals from the set S.\"\n",
    "    for Unit in S:\n",
    "        for l in Unit:\n",
    "            if isinstance(l, str) and l[:10] == 'Prinzessin':\n",
    "                return l"
   ]
  },
  {
   "cell_type": "markdown",
   "metadata": {},
   "source": [
    "We print the solution."
   ]
  },
  {
   "cell_type": "code",
   "execution_count": null,
   "metadata": {},
   "outputs": [],
   "source": [
    "princess = getSolution(solution)\n",
    "print(f'Die Prinzessin ist im Zimmer Nummer {princess[11]}.')"
   ]
  },
  {
   "cell_type": "markdown",
   "metadata": {},
   "source": [
    "Finally, we check whether the solution is unique.  If the solution is not unique, then you have missed to code some of the requirements."
   ]
  },
  {
   "cell_type": "code",
   "execution_count": null,
   "metadata": {},
   "outputs": [],
   "source": [
    "def checkUniqueness(Clauses, princess):\n",
    "    Clauses.add(frozenset({('¬', princess)}))\n",
    "    alternative = dp.solve(Clauses, set())\n",
    "    if alternative == { frozenset() }:\n",
    "        print('The solution is unique.')\n",
    "    else:\n",
    "        print('ERROR: The solution is not unique.')"
   ]
  },
  {
   "cell_type": "code",
   "execution_count": null,
   "metadata": {},
   "outputs": [],
   "source": [
    "checkUniqueness(Clauses, princess)"
   ]
  }
 ],
 "metadata": {
  "hide_input": false,
  "kernelspec": {
   "display_name": "Python 3",
   "language": "python",
   "name": "python3"
  },
  "language_info": {
   "codemirror_mode": {
    "name": "ipython",
    "version": 3
   },
   "file_extension": ".py",
   "mimetype": "text/x-python",
   "name": "python",
   "nbconvert_exporter": "python",
   "pygments_lexer": "ipython3",
   "version": "3.8.5"
  },
  "toc": {
   "base_numbering": 1,
   "nav_menu": {},
   "number_sections": true,
   "sideBar": true,
   "skip_h1_title": false,
   "title_cell": "Table of Contents",
   "title_sidebar": "Contents",
   "toc_cell": false,
   "toc_position": {},
   "toc_section_display": true,
   "toc_window_display": false
  },
  "varInspector": {
   "cols": {
    "lenName": 16,
    "lenType": 16,
    "lenVar": 40
   },
   "kernels_config": {
    "python": {
     "delete_cmd_postfix": "",
     "delete_cmd_prefix": "del ",
     "library": "var_list.py",
     "varRefreshCmd": "print(var_dic_list())"
    },
    "r": {
     "delete_cmd_postfix": ") ",
     "delete_cmd_prefix": "rm(",
     "library": "var_list.r",
     "varRefreshCmd": "cat(var_dic_list()) "
    }
   },
   "types_to_exclude": [
    "module",
    "function",
    "builtin_function_or_method",
    "instance",
    "_Feature"
   ],
   "window_display": false
  }
 },
 "nbformat": 4,
 "nbformat_minor": 2
}
