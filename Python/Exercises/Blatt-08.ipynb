{
 "cells": [
  {
   "cell_type": "code",
   "execution_count": null,
   "metadata": {},
   "outputs": [],
   "source": [
    "from IPython.core.display import HTML\n",
    "with open('../style.css', 'r') as file:\n",
    "    css = file.read()\n",
    "HTML(css)"
   ]
  },
  {
   "cell_type": "markdown",
   "metadata": {},
   "source": [
    "# Eine Logelei"
   ]
  },
  {
   "cell_type": "markdown",
   "metadata": {},
   "source": [
    "The following exercise is taken from the book \n",
    "<a href=\"https://www.amazon.de/Logeleien-Zweistein-ihren-Antworten-Wegner/dp/B006YF0VUE\">\"99 Logeleien von Zweistein\"</a>.\n",
    "This book has been published 1968.  It is written by \n",
    "<a href=\"http://de.wikipedia.org/wiki/Thomas_von_Randow\">Thomas von Randow</a>."
   ]
  },
  {
   "cell_type": "markdown",
   "metadata": {},
   "source": [
    "---\n",
    "The gentlemen Amann, Bemann, Cemann and Demann are called - not necessarily in the same order - by their first names Erich, Fritz, Gustav and Heiner. They are all married to exactly one woman. We also know the following about them and their wives:\n",
    "\n",
    "- Either Amann's first name is Heiner, or Bemann's wife is Inge.\n",
    "- If Cemann is married to Josefa, then - **and only in this case** - Klara's husband is **not** called Fritz.\n",
    "- If Josefa's husband is **not** called Erich, then Inge is married to Fritz.\n",
    "- If Luise's husband is called Fritz, then Klara's husband's first name is **not** Gustav.\n",
    "- If the wife of Fritz is called Inge, then Erich is **not** married to Josefa.\n",
    "- If Fritz is **not** married to Luise, then Gustav's wife's name is Klara.\n",
    "- Either Demann is married to Luise, or Cemann is called Gustav.\n",
    "\n",
    "*What are the full fullnames of these gentlemen, and what are their wives' first names?*\n",
    "\n",
    "---"
   ]
  },
  {
   "cell_type": "markdown",
   "metadata": {},
   "source": [
    "We are going to solve this problem by coding it in propositional logic and we will solve the resulting set of clauses using the Davis-Putnam algorithm.  In order to code the problem, we will use the following propositional variables:\n",
    "\n",
    "- $\\texttt{Name<}x\\texttt{,}z\\texttt{>}$ for any male first name $x$ and any surname $z$ expresses\n",
    "  that the gentleman with first name $x$ has surname $z$.\n",
    "- $\\texttt{Ehe<}x\\texttt{,}y\\texttt{>}$ for any male first name $x$ and any female first name $y$ expresses\n",
    "  that the gentleman with first name $x$ is married to the woman with first name $y$."
   ]
  },
  {
   "cell_type": "markdown",
   "metadata": {},
   "source": [
    "We are using the symbols $\\texttt{<}$ and $\\texttt{>}$ as part of the propositional variables because we want to show the structure of these variables and the parser for propositional logic accepts these symbols as part of propositional variables."
   ]
  },
  {
   "cell_type": "code",
   "execution_count": null,
   "metadata": {},
   "outputs": [],
   "source": [
    "Vornamen  = { \"Erich\",  \"Fritz\", \"Gustav\", \"Heiner\" }\n",
    "Nachnamen = { \"Amann\", \"Bemann\", \"Cemann\", \"Demann\" }\n",
    "Frauen    = { \"Inge\",  \"Josefa\", \"Klara\",  \"Luise\"  }"
   ]
  },
  {
   "cell_type": "code",
   "execution_count": null,
   "metadata": {},
   "outputs": [],
   "source": [
    "%run ../Davis-Putnam.ipynb"
   ]
  },
  {
   "cell_type": "markdown",
   "metadata": {},
   "source": [
    "The function $\\texttt{makeVar}(f, x, y)$ creates a propositional variable of the form $\\texttt{f<}x\\texttt{,}y\\texttt{>}$."
   ]
  },
  {
   "cell_type": "code",
   "execution_count": null,
   "metadata": {},
   "outputs": [],
   "source": [
    "def makeVar(f, x, y):\n",
    "    return f + '<' + x + ',' + y + '>'"
   ]
  },
  {
   "cell_type": "code",
   "execution_count": null,
   "metadata": {},
   "outputs": [],
   "source": [
    "makeVar('Ehe', 'Heiner', 'Klara')"
   ]
  },
  {
   "cell_type": "markdown",
   "metadata": {},
   "source": [
    "Given a set of propositional variables $S$, the function $\\texttt{atMostOne}(S)$ computes a set of clauses expressing the fact that at most one of the variables of $S$ is <tt>True</tt>."
   ]
  },
  {
   "cell_type": "code",
   "execution_count": null,
   "metadata": {},
   "outputs": [],
   "source": [
    "def atMostOne(S): \n",
    "    return { frozenset({('¬',p), ('¬', q)}) for p in S\n",
    "                                            for q in S \n",
    "                                            if  p != q \n",
    "           }"
   ]
  },
  {
   "cell_type": "markdown",
   "metadata": {},
   "source": [
    "Given a set of propositional variables $S$, the function $\\texttt{atLeastOne}(S)$ computes a set of clauses expressing the fact that at least one of the variables of $S$ is <tt>True</tt>."
   ]
  },
  {
   "cell_type": "code",
   "execution_count": null,
   "metadata": {},
   "outputs": [],
   "source": [
    "def atLeastOne(S):\n",
    "    return { frozenset(S) }"
   ]
  },
  {
   "cell_type": "markdown",
   "metadata": {},
   "source": [
    "$S$ is a set of propositional variables. The expression $\\texttt{exactlyOne}(S)$ creates a set of clauses.  This set expresses the fact that exactly one of the variables in the set $S$ is true."
   ]
  },
  {
   "cell_type": "code",
   "execution_count": null,
   "metadata": {},
   "outputs": [],
   "source": [
    "def exactlyOne(S):\n",
    "    return atMostOne(S) | atLeastOne(S)"
   ]
  },
  {
   "cell_type": "markdown",
   "metadata": {},
   "source": [
    "For two sets $A$ and $B$ that have the same number of elements and a function symbol $f$, the procedure $\\texttt{bijective}(A, B, f)$ computes a set of clauses that is equivalent to the formula\n",
    "$$   \\bigl(\\forall x \\in A: \\exists! y \\in B: f\\langle x, y\\rangle\\bigr) \\wedge\n",
    "     \\bigl(\\forall y \\in B: \\exists! x \\in A: f\\langle x, y\\rangle\\bigr)\n",
    "$$\n",
    "Here the expression $f\\langle x,y\\rangle$ is the name of a propositional variable and the expression $\\exists!x:p(x)$ is to be read as \"There exists exactly one $x$ such that $p(x)$ holds\"."
   ]
  },
  {
   "cell_type": "code",
   "execution_count": null,
   "metadata": {},
   "outputs": [],
   "source": [
    "def bijective(A, B, f):\n",
    "    \"your code here\""
   ]
  },
  {
   "cell_type": "markdown",
   "metadata": {},
   "source": [
    "For example, the function call `bijective({'a', 'b'}, {'x', 'y'}, 'f')` returns the following set of clauses:\n",
    "```\n",
    "{frozenset({('¬', 'f<b,x>'), ('¬', 'f<b,y>')}),\n",
    " frozenset({('¬', 'f<a,x>'), ('¬', 'f<b,x>')}),\n",
    " frozenset({'f<a,y>', 'f<b,y>'}),\n",
    " frozenset({'f<b,x>', 'f<b,y>'}),\n",
    " frozenset({'f<a,x>', 'f<a,y>'}),\n",
    " frozenset({'f<a,x>', 'f<b,x>'}),\n",
    " frozenset({('¬', 'f<a,x>'), ('¬', 'f<a,y>')}),\n",
    " frozenset({('¬', 'f<a,y>'), ('¬', 'f<b,y>')})}\n",
    "```"
   ]
  },
  {
   "cell_type": "markdown",
   "metadata": {},
   "source": [
    "The function $\\texttt{setToFormula}(S)$ converts the set of formulas $S$ from propositional logic into a conjunction of these formulas.  Since the formulas in $S$ can be complex, we have to ensure that everything is properly parenthesized."
   ]
  },
  {
   "cell_type": "code",
   "execution_count": null,
   "metadata": {},
   "outputs": [],
   "source": [
    "def setToFormula(S):\n",
    "    if len(S) == 1:\n",
    "        return '(' + S.pop() + ')'\n",
    "    formula = S.pop()\n",
    "    return f'({formula})' + ' ∧ ' + setToFormula(S)"
   ]
  },
  {
   "cell_type": "code",
   "execution_count": null,
   "metadata": {},
   "outputs": [],
   "source": [
    "setToFormula({'a', 'b', 'c'})"
   ]
  },
  {
   "cell_type": "markdown",
   "metadata": {},
   "source": [
    "The function $\\texttt{isWifeOf}(y, z)$ returns a formula that is true if $y$ is the wife of $z$.  Here, $y$ is the first name of a woman, while $z$ is the last name of a man. The formula is returned as a string.  "
   ]
  },
  {
   "cell_type": "code",
   "execution_count": null,
   "metadata": {},
   "outputs": [],
   "source": [
    "def isWifeOf(y, z):\n",
    "    return setToFormula({f\"Name<{x},{z}> → Ehe<{x},{y}>\" for x in Vornamen })"
   ]
  },
  {
   "cell_type": "code",
   "execution_count": null,
   "metadata": {
    "scrolled": true
   },
   "outputs": [],
   "source": [
    "isWifeOf(\"Inge\", \"Amann\")"
   ]
  },
  {
   "cell_type": "code",
   "execution_count": null,
   "metadata": {},
   "outputs": [],
   "source": [
    "import propLogParser as plp"
   ]
  },
  {
   "cell_type": "code",
   "execution_count": null,
   "metadata": {},
   "outputs": [],
   "source": [
    "run ../CNF.ipynb"
   ]
  },
  {
   "cell_type": "markdown",
   "metadata": {},
   "source": [
    "The function $\\texttt{parseAndNormalize}(s)$ takes a string $s$, parses this string as a propositional formula and then turns this formula into a set of clauses."
   ]
  },
  {
   "cell_type": "code",
   "execution_count": null,
   "metadata": {},
   "outputs": [],
   "source": [
    "def parseAndNormalize(s):\n",
    "    nestedTuple = plp.LogicParser(s).parse()\n",
    "    Clauses     = normalize(nestedTuple)\n",
    "    return Clauses"
   ]
  },
  {
   "cell_type": "code",
   "execution_count": null,
   "metadata": {},
   "outputs": [],
   "source": [
    "parseAndNormalize('a ↔ ¬b')"
   ]
  },
  {
   "cell_type": "markdown",
   "metadata": {},
   "source": [
    "The function `exclusiveOr(a, b)` computes the *exclusive or* of the formulas $a$ and $b$, which are given as strings. The resulting formula itself is converted into CNF."
   ]
  },
  {
   "cell_type": "code",
   "execution_count": null,
   "metadata": {},
   "outputs": [],
   "source": [
    "def exclusiveOr(a, b):\n",
    "    formula     = f'(({a}) ↔ ¬({b}))'\n",
    "    return parseAndNormalize(formula)"
   ]
  },
  {
   "cell_type": "code",
   "execution_count": null,
   "metadata": {},
   "outputs": [],
   "source": [
    "exclusiveOr('p', 'q')"
   ]
  },
  {
   "cell_type": "markdown",
   "metadata": {},
   "source": [
    "Below, you might need the following symbols: ¬, ∧, ∨, →, ↔"
   ]
  },
  {
   "cell_type": "code",
   "execution_count": null,
   "metadata": {},
   "outputs": [],
   "source": [
    "def computeClauses():\n",
    "    # Jedem männlichen Vornamen ist genau ein Nachname zugeordnet und umgekehrt.\n",
    "    Clauses  = \"your code here\"\n",
    "    # Jeder Mann ist mit genau einer Frau verheiratet und umgekehrt.\n",
    "    Clauses |= \"your code here\"\n",
    "    # Entweder ist Amanns Vorname Heiner, oder Bemanns Frau heisst Inge.\n",
    "    Clauses |= \"your code here\"\n",
    "    # Wenn Cemann mit Josefa verheiratet ist, dann – und nur in diesem Falle –\n",
    "    # heisst Klaras Mann nicht Fritz.\n",
    "    Clauses |= \"your code here\"\n",
    "    # Wenn Josefas Mann nicht Erich heisst, dann ist Inge mit Fritz verheiratet.\n",
    "    Clauses |= \"your code here\"\n",
    "    # Wenn Luises Mann Fritz heisst, dann ist der Vorname von Klaras Mann nicht Gustav.\n",
    "    Clauses |= \"your code here\"\n",
    "    # Wenn die Frau von Fritz Inge heisst, dann ist Erich nicht mit Josefa verheiratet.\n",
    "    Clauses |= \"your code here\"\n",
    "    # Wenn Fritz nicht mit Luise verheiratet ist, dann heisst Gustavs Frau Klara.\n",
    "    Clauses |= \"your code here\"\n",
    "    # Entweder ist Demann mit Luise verheiratet, oder Cemann heisst Gustav.\n",
    "    Clauses |= \"your code here\"\n",
    "    return Clauses"
   ]
  },
  {
   "cell_type": "code",
   "execution_count": null,
   "metadata": {},
   "outputs": [],
   "source": [
    "Clauses = computeClauses()\n",
    "Clauses"
   ]
  },
  {
   "cell_type": "markdown",
   "metadata": {},
   "source": [
    "There are 176 different clauses."
   ]
  },
  {
   "cell_type": "code",
   "execution_count": null,
   "metadata": {},
   "outputs": [],
   "source": [
    "len(Clauses)"
   ]
  },
  {
   "cell_type": "code",
   "execution_count": null,
   "metadata": {},
   "outputs": [],
   "source": [
    "def compute_solution():\n",
    "    Clauses = computeClauses()\n",
    "    Result  = solve(Clauses, set())\n",
    "    return Result"
   ]
  },
  {
   "cell_type": "code",
   "execution_count": null,
   "metadata": {},
   "outputs": [],
   "source": [
    "Solution = compute_solution()"
   ]
  },
  {
   "cell_type": "code",
   "execution_count": null,
   "metadata": {},
   "outputs": [],
   "source": [
    "import re\n",
    "\n",
    "def extractFirst(s):\n",
    "        m = re.search('<([A-Za-z]+),', s)\n",
    "        return m.group(1)\n",
    "\n",
    "def extractSecond(s):\n",
    "        m = re.search(',([A-Za-z]+)>', s)\n",
    "        return m.group(1)"
   ]
  },
  {
   "cell_type": "code",
   "execution_count": null,
   "metadata": {},
   "outputs": [],
   "source": [
    "def displaySolution(Solution):\n",
    "    Married = {}\n",
    "    Names   = {}\n",
    "    for Unit in Solution:\n",
    "        for l in Unit:\n",
    "            if isinstance(l, str):\n",
    "                if l[:3] == \"Ehe\":\n",
    "                    x = extractFirst(l)\n",
    "                    y = extractSecond(l)\n",
    "                    Married[x] = y\n",
    "                elif l[:4] == \"Name\":\n",
    "                    x = extractFirst(l)\n",
    "                    y = extractSecond(l)\n",
    "                    Names[x] = y\n",
    "    for x in Married:\n",
    "        print(f\"{x} {Names[x]} is married to {Married[x]}.\")"
   ]
  },
  {
   "cell_type": "code",
   "execution_count": null,
   "metadata": {},
   "outputs": [],
   "source": [
    "displaySolution(Solution)"
   ]
  },
  {
   "cell_type": "markdown",
   "metadata": {},
   "source": [
    "## Checking the Uniqueness of the Solution"
   ]
  },
  {
   "cell_type": "code",
   "execution_count": null,
   "metadata": {},
   "outputs": [],
   "source": [
    "def arb(S):\n",
    "    for x in S:\n",
    "        return x"
   ]
  },
  {
   "cell_type": "markdown",
   "metadata": {},
   "source": [
    "Given a set of unit clauses $U$, the function $\\texttt{checkUniqueness}(U)$ returns a clause that is the negation of the set $U$."
   ]
  },
  {
   "cell_type": "code",
   "execution_count": null,
   "metadata": {},
   "outputs": [],
   "source": [
    "def negateSolution(UnitClauses):\n",
    "    return { complement(arb(unit)) for unit in UnitClauses }"
   ]
  },
  {
   "cell_type": "code",
   "execution_count": null,
   "metadata": {},
   "outputs": [],
   "source": [
    "negateSolution({ frozenset({'a'}), frozenset({('¬', 'b')}) }) "
   ]
  },
  {
   "cell_type": "code",
   "execution_count": null,
   "metadata": {},
   "outputs": [],
   "source": [
    "def checkUniqueness(Solution, Clauses):\n",
    "    negation = negateSolution(Solution)\n",
    "    Clauses.add(frozenset(negation))\n",
    "    alternative = solve(Clauses, set())\n",
    "    if alternative == { frozenset() }:\n",
    "        print(\"Well done: The solution is unique!\")\n",
    "    else:\n",
    "        print(\"ERROR: The solution is not unique!\")"
   ]
  },
  {
   "cell_type": "code",
   "execution_count": null,
   "metadata": {},
   "outputs": [],
   "source": [
    "checkUniqueness(Solution, Clauses)"
   ]
  }
 ],
 "metadata": {
  "hide_input": false,
  "kernelspec": {
   "display_name": "Python 3",
   "language": "python",
   "name": "python3"
  },
  "language_info": {
   "codemirror_mode": {
    "name": "ipython",
    "version": 3
   },
   "file_extension": ".py",
   "mimetype": "text/x-python",
   "name": "python",
   "nbconvert_exporter": "python",
   "pygments_lexer": "ipython3",
   "version": "3.8.5"
  },
  "toc": {
   "base_numbering": 1,
   "nav_menu": {},
   "number_sections": true,
   "sideBar": true,
   "skip_h1_title": false,
   "title_cell": "Table of Contents",
   "title_sidebar": "Contents",
   "toc_cell": false,
   "toc_position": {},
   "toc_section_display": true,
   "toc_window_display": false
  },
  "varInspector": {
   "cols": {
    "lenName": 16,
    "lenType": 16,
    "lenVar": 40
   },
   "kernels_config": {
    "python": {
     "delete_cmd_postfix": "",
     "delete_cmd_prefix": "del ",
     "library": "var_list.py",
     "varRefreshCmd": "print(var_dic_list())"
    },
    "r": {
     "delete_cmd_postfix": ") ",
     "delete_cmd_prefix": "rm(",
     "library": "var_list.r",
     "varRefreshCmd": "cat(var_dic_list()) "
    }
   },
   "types_to_exclude": [
    "module",
    "function",
    "builtin_function_or_method",
    "instance",
    "_Feature"
   ],
   "window_display": false
  }
 },
 "nbformat": 4,
 "nbformat_minor": 2
}
