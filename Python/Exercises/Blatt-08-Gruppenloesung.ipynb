{
 "cells": [
  {
   "cell_type": "code",
   "execution_count": 35,
   "metadata": {},
   "outputs": [
    {
     "data": {
      "text/html": [
       "<link href='http://fonts.googleapis.com/css?family=Alegreya+Sans:100,300,400,500,700,800,900,100italic,300italic,400italic,500italic,700italic,800italic,900italic' rel='stylesheet' type='text/css'>\n",
       "<link href='http://fonts.googleapis.com/css?family=Arvo:400,700,400italic' rel='stylesheet' type='text/css'>\n",
       "<link href='http://fonts.googleapis.com/css?family=PT+Mono' rel='stylesheet' type='text/css'>\n",
       "<link href='http://fonts.googleapis.com/css?family=Shadows+Into+Light' rel='stylesheet' type='text/css'>\n",
       "<link href='http://fonts.googleapis.com/css?family=Philosopher:400,700,400italic,700italic' rel='stylesheet' type='text/css'>\n",
       "\n",
       "<style>\n",
       "\n",
       "@font-face {\n",
       "    font-family: \"Computer Modern\";\n",
       "    src: url('http://mirrors.ctan.org/fonts/cm-unicode/fonts/otf/cmunss.otf');\n",
       "}\n",
       "\n",
       ".container { width: 100% }\n",
       "\n",
       "/* Formatting for header cells */\n",
       ".text_cell_render h1 {\n",
       "    font-family: 'Philosopher', sans-serif;\n",
       "    font-weight: 400;\n",
       "    font-size: 2.2em;\n",
       "    line-height: 100%;\n",
       "    color: rgb(0, 80, 120);\n",
       "    margin-bottom: 0.1em;\n",
       "    margin-top: 0.1em;\n",
       "    display: block;\n",
       "}\t\n",
       ".text_cell_render h2 {\n",
       "    font-family: 'Philosopher', serif;\n",
       "    font-weight: 400;\n",
       "    font-size: 1.9em;\n",
       "    line-height: 100%;\n",
       "    color: rgb(200,100,0);\n",
       "    margin-bottom: 0.1em;\n",
       "    margin-top: 0.1em;\n",
       "    display: block;\n",
       "}\t\n",
       "\n",
       ".text_cell_render h3 {\n",
       "    font-family: 'Philosopher', serif;\n",
       "    margin-top:12px;\n",
       "    margin-bottom: 3px;\n",
       "    font-style: italic;\n",
       "    color: rgb(94,127,192);\n",
       "}\n",
       "\n",
       ".text_cell_render h4 {\n",
       "    font-family: 'Philosopher', serif;\n",
       "}\n",
       "\n",
       ".text_cell_render h5 {\n",
       "    font-family: 'Alegreya Sans', sans-serif;\n",
       "    font-weight: 300;\n",
       "    font-size: 16pt;\n",
       "    color: grey;\n",
       "    font-style: italic;\n",
       "    margin-bottom: .1em;\n",
       "    margin-top: 0.1em;\n",
       "    display: block;\n",
       "}\n",
       "\n",
       ".text_cell_render h6 {\n",
       "    font-family: 'PT Mono', sans-serif;\n",
       "    font-weight: 300;\n",
       "    font-size: 10pt;\n",
       "    color: grey;\n",
       "    margin-bottom: 1px;\n",
       "    margin-top: 1px;\n",
       "}\n",
       "\n",
       ".text_cell_render em {\n",
       "    font-family: 'Philosopher', sans-serif;\n",
       "    color:        blue;\n",
       "    background-color: rgb(255,220,180);\n",
       "    font-size:    110%;\n",
       "    margin-left:   2px;\n",
       "    margin-right:  2px;\n",
       "    font-weight:   100;\n",
       "}\n",
       "\n",
       ".text_cell_render b {\n",
       "    color:            rgb(255,195,195);\n",
       "    background-color: rgb(0,0,0);\n",
       "    font-size:    110%;\n",
       "    margin-left:   2px;\n",
       "    margin-right:  2px;\n",
       "    font-weight:   650;\n",
       "}\n",
       "\n",
       ".text_cell_render tt {\n",
       "    font-size:    120%;\n",
       "    margin-left:   2px;\n",
       "    margin-right:  2px;\n",
       "    font-weight:   150;\n",
       "}\n",
       "\n",
       ".Codemirror {\n",
       "    font-family: \"PT Mono\";\n",
       "    font-size: 100%;\n",
       "}\n",
       "\n",
       "</style>\n",
       "\n"
      ],
      "text/plain": [
       "<IPython.core.display.HTML object>"
      ]
     },
     "execution_count": 35,
     "metadata": {},
     "output_type": "execute_result"
    }
   ],
   "source": [
    "from IPython.core.display import HTML\n",
    "with open('../style.css', 'r') as file:\n",
    "    css = file.read()\n",
    "HTML(css)"
   ]
  },
  {
   "cell_type": "markdown",
   "metadata": {},
   "source": [
    "\n",
    "\n",
    "# Eine Logelei"
   ]
  },
  {
   "cell_type": "markdown",
   "metadata": {},
   "source": [
    "The following exercise is taken from the book \n",
    "<a href=\"https://www.amazon.de/Logeleien-Zweistein-ihren-Antworten-Wegner/dp/B006YF0VUE\">\"99 Logeleien von Zweistein\"</a>.\n",
    "This book has been published 1968.  It is written by \n",
    "<a href=\"http://de.wikipedia.org/wiki/Thomas_von_Randow\">Thomas von Randow</a>."
   ]
  },
  {
   "cell_type": "markdown",
   "metadata": {},
   "source": [
    "---\n",
    "The gentlemen Amann, Bemann, Cemann and Demann are called - not necessarily in the same order - by their first names Erich, Fritz, Gustav and Heiner. They are all married to exactly one woman. We also know the following about them and their wives:\n",
    "\n",
    "- Either Amann's first name is Heiner, or Amann's wife is Inge.\n",
    "- If Cemann is married to Josefa, then - **and only in this case** - Klara's husband is **not** called Fritz.\n",
    "- If Josefa's husband is **not** called Erich, then Inge is married to Fritz.\n",
    "- If Luise's husband is called Fritz, then Klara's husband's first name is **not** Gustav.\n",
    "- If the wife of Fritz is called Inge, then Erich is **not** married to Josefa.\n",
    "- If Fritz is **not** married to Luise, then Gustav's wife's name is Klara.\n",
    "- Either Demann is married to Luise, or Cemann is called Gustav.\n",
    "\n",
    "*What are the full fullnames of these gentlemen, and what are their wives' first names?*\n",
    "\n",
    "---"
   ]
  },
  {
   "cell_type": "markdown",
   "metadata": {},
   "source": [
    "We are going to solve this problem by coding it in propositional logic and we will solve the resulting set of clauses using the Davis-Putnam algorithm.  In order to code the problem, we will use the following propositional variables:\n",
    "\n",
    "- $\\texttt{Name<}x\\texttt{,}z\\texttt{>}$ for any male first name $x$ and any surname $z$ expresses\n",
    "  that the gentleman with first name $x$ has surname $z$.\n",
    "- $\\texttt{Ehe<}x\\texttt{,}y\\texttt{>}$ for any male first name $x$ and any female first name $y$ expresses\n",
    "  that the gentleman with first name $x$ is married to the woman with first name $y$."
   ]
  },
  {
   "cell_type": "markdown",
   "metadata": {},
   "source": [
    "We are using the symbols $\\texttt{<}$ and $\\texttt{>}$ as part of the propositional variables because we want to show the structure of these variables and the parser for propositional logic accepts these symbols as part of propositional variables."
   ]
  },
  {
   "cell_type": "code",
   "execution_count": 36,
   "metadata": {},
   "outputs": [],
   "source": [
    "Vornamen  = { \"Erich\",  \"Fritz\", \"Gustav\", \"Heiner\" }\n",
    "Nachnamen = { \"Amann\", \"Bemann\", \"Cemann\", \"Demann\" }\n",
    "Frauen    = { \"Inge\",  \"Josefa\", \"Klara\",  \"Luise\"  }"
   ]
  },
  {
   "cell_type": "code",
   "execution_count": 37,
   "metadata": {},
   "outputs": [],
   "source": [
    "%run ../Davis-Putnam.ipynb"
   ]
  },
  {
   "cell_type": "markdown",
   "metadata": {},
   "source": [
    "The function $\\texttt{makeVar}(f, x, y)$ creates a propositional variable of the form $\\texttt{f<}x\\texttt{,}y\\texttt{>}$."
   ]
  },
  {
   "cell_type": "code",
   "execution_count": 38,
   "metadata": {},
   "outputs": [],
   "source": [
    "def makeVar(f, x, y):\n",
    "    return f + '<' + x + ',' + y + '>'"
   ]
  },
  {
   "cell_type": "code",
   "execution_count": 39,
   "metadata": {},
   "outputs": [
    {
     "data": {
      "text/plain": [
       "'Ehe<Heiner,Klara>'"
      ]
     },
     "execution_count": 39,
     "metadata": {},
     "output_type": "execute_result"
    }
   ],
   "source": [
    "makeVar('Ehe', 'Heiner', 'Klara')"
   ]
  },
  {
   "cell_type": "markdown",
   "metadata": {},
   "source": [
    "Given a set of propositional variables $S$, the function $\\texttt{atMostOne}(S)$ computes a set of clauses expressing the fact that at most one of the variables of $S$ is <tt>True</tt>."
   ]
  },
  {
   "cell_type": "code",
   "execution_count": 40,
   "metadata": {},
   "outputs": [],
   "source": [
    "def atMostOne(S): \n",
    "    return { frozenset({('¬',p), ('¬', q)}) for p in S\n",
    "                                            for q in S \n",
    "                                            if  p != q \n",
    "           }"
   ]
  },
  {
   "cell_type": "markdown",
   "metadata": {},
   "source": [
    "Given a set of propositional variables $S$, the function $\\texttt{atLeastOne}(S)$ computes a set of clauses expressing the fact that at least one of the variables of $S$ is <tt>True</tt>."
   ]
  },
  {
   "cell_type": "code",
   "execution_count": 41,
   "metadata": {},
   "outputs": [],
   "source": [
    "def atLeastOne(S):\n",
    "    return { frozenset(S) }"
   ]
  },
  {
   "cell_type": "markdown",
   "metadata": {},
   "source": [
    "$S$ is a set of propositional variables. The expression $\\texttt{exactlyOne}(S)$ creates a set of clauses.  This set expresses the fact that exactly one of the variables in the set $S$ is true."
   ]
  },
  {
   "cell_type": "code",
   "execution_count": 42,
   "metadata": {},
   "outputs": [],
   "source": [
    "def exactlyOne(S):\n",
    "    return atMostOne(S) | atLeastOne(S)"
   ]
  },
  {
   "cell_type": "markdown",
   "metadata": {},
   "source": [
    "For two sets $A$ and $B$ that have the same number of elements and a function symbol $f$, the procedure $\\texttt{bijective}(A, B, f)$ computes a set of clauses that is equivalent to the formula\n",
    "$$   \\bigl(\\forall x \\in A: \\exists! y \\in B: f\\langle x, y\\rangle\\bigr) \\wedge\n",
    "     \\bigl(\\forall y \\in B: \\exists! x \\in A: f\\langle x, y\\rangle\\bigr)\n",
    "$$\n",
    "Here the expression $f\\langle x,y\\rangle$ is the name of a propositional variable and the expression $\\exists!x:p(x)$ is to be read as \"There exists exactly one $x$ such that $p(x)$ holds\"."
   ]
  },
  {
   "cell_type": "code",
   "execution_count": 43,
   "metadata": {},
   "outputs": [],
   "source": [
    "def bijective(A, B, f):\n",
    "    bijClauses = set()\n",
    "    for a in A:\n",
    "        tempClauses = set()\n",
    "        for b in B:\n",
    "            tempClauses |= frozenset( { makeVar(f, a, b) } )\n",
    "        bijClauses |= exactlyOne(tempClauses)\n",
    "    for b in B:\n",
    "        tempClauses = set()\n",
    "        for a in A:\n",
    "            tempClauses |= frozenset( { makeVar(f, a, b) } )\n",
    "        bijClauses |= exactlyOne(tempClauses)\n",
    "        \n",
    "    return bijClauses"
   ]
  },
  {
   "cell_type": "code",
   "execution_count": 44,
   "metadata": {},
   "outputs": [
    {
     "data": {
      "text/plain": [
       "{frozenset({('¬', 'f<b,x>'), ('¬', 'f<b,y>')}),\n",
       " frozenset({('¬', 'f<a,x>'), ('¬', 'f<a,y>')}),\n",
       " frozenset({'f<a,x>', 'f<b,x>'}),\n",
       " frozenset({'f<a,x>', 'f<a,y>'}),\n",
       " frozenset({('¬', 'f<a,x>'), ('¬', 'f<b,x>')}),\n",
       " frozenset({('¬', 'f<a,y>'), ('¬', 'f<b,y>')}),\n",
       " frozenset({'f<b,x>', 'f<b,y>'}),\n",
       " frozenset({'f<a,y>', 'f<b,y>'})}"
      ]
     },
     "execution_count": 44,
     "metadata": {},
     "output_type": "execute_result"
    }
   ],
   "source": [
    "bijective({'a', 'b'}, {'x', 'y'}, 'f')"
   ]
  },
  {
   "cell_type": "markdown",
   "metadata": {},
   "source": [
    "For example, the function call `bijective({'a', 'b'}, {'x', 'y'}, 'f')` returns the following set of clauses:\n",
    "```\n",
    "{frozenset({('¬', 'f<b,x>'), ('¬', 'f<b,y>')}),\n",
    " frozenset({('¬', 'f<a,x>'), ('¬', 'f<b,x>')}),\n",
    " frozenset({'f<a,y>', 'f<b,y>'}),\n",
    " frozenset({'f<b,x>', 'f<b,y>'}),\n",
    " frozenset({'f<a,x>', 'f<a,y>'}),\n",
    " frozenset({'f<a,x>', 'f<b,x>'}),\n",
    " frozenset({('¬', 'f<a,x>'), ('¬', 'f<a,y>')}),\n",
    " frozenset({('¬', 'f<a,y>'), ('¬', 'f<b,y>')})}\n",
    "```"
   ]
  },
  {
   "cell_type": "markdown",
   "metadata": {},
   "source": [
    "The function $\\texttt{setToFormula}(S)$ converts the set of formulas $S$ from propositional logic into a conjunction of these formulas.  Since the formulas in $S$ can be complex, we have to ensure that everything is properly parenthesized."
   ]
  },
  {
   "cell_type": "code",
   "execution_count": 45,
   "metadata": {},
   "outputs": [],
   "source": [
    "def setToFormula(S):\n",
    "    if len(S) == 1:\n",
    "        return '(' + S.pop() + ')'\n",
    "    formula = S.pop()\n",
    "    return f'({formula})' + ' ∧ ' + setToFormula(S)"
   ]
  },
  {
   "cell_type": "code",
   "execution_count": 46,
   "metadata": {},
   "outputs": [
    {
     "data": {
      "text/plain": [
       "'(b) ∧ (c) ∧ (a)'"
      ]
     },
     "execution_count": 46,
     "metadata": {},
     "output_type": "execute_result"
    }
   ],
   "source": [
    "setToFormula({'a', 'b', 'c'})"
   ]
  },
  {
   "cell_type": "markdown",
   "metadata": {},
   "source": [
    "The function $\\texttt{isWifeOf}(y, z)$ returns a formula that is true if $y$ is the wife of $z$.  Here, $y$ is the first name of a woman, while $z$ is the last name of a man. The formula is returned as a string.  "
   ]
  },
  {
   "cell_type": "code",
   "execution_count": 47,
   "metadata": {},
   "outputs": [],
   "source": [
    "def isWifeOf(y, z):\n",
    "    return setToFormula({f\"Name<{x},{z}> → Ehe<{x},{y}>\" for x in Vornamen })"
   ]
  },
  {
   "cell_type": "code",
   "execution_count": 48,
   "metadata": {},
   "outputs": [
    {
     "data": {
      "text/plain": [
       "'(Name<Fritz,Amann> → Ehe<Fritz,Inge>) ∧ (Name<Gustav,Amann> → Ehe<Gustav,Inge>) ∧ (Name<Heiner,Amann> → Ehe<Heiner,Inge>) ∧ (Name<Erich,Amann> → Ehe<Erich,Inge>)'"
      ]
     },
     "execution_count": 48,
     "metadata": {},
     "output_type": "execute_result"
    }
   ],
   "source": [
    "isWifeOf(\"Inge\", \"Amann\")"
   ]
  },
  {
   "cell_type": "code",
   "execution_count": 49,
   "metadata": {},
   "outputs": [],
   "source": [
    "import propLogParser as plp"
   ]
  },
  {
   "cell_type": "code",
   "execution_count": 50,
   "metadata": {},
   "outputs": [
    {
     "name": "stdout",
     "output_type": "stream",
     "text": [
      "The knf of ¬(a ∧ b) ↔ ¬a ∨ ¬b is:\n",
      "{}\n",
      "The knf of (a → b) ↔ (¬a ∧ ¬b) is:\n",
      "{{('¬', 'b')}, {('¬', 'b'), 'a'}, {('¬', 'a'), ('¬', 'b')}}\n",
      "The knf of (p ∧ q → r) ∨ ¬r → ¬p is:\n",
      "{{('¬', 'p'), 'r'}, {('¬', 'p'), ('¬', 'r')}, {('¬', 'p'), 'q'}}\n",
      "The knf of ⊤ is:\n",
      "{}\n",
      "The knf of ⊥ is:\n",
      "{{}}\n"
     ]
    }
   ],
   "source": [
    "run ../CNF.ipynb"
   ]
  },
  {
   "cell_type": "markdown",
   "metadata": {},
   "source": [
    "The function $\\texttt{parseAndNormalize}(s)$ takes a string $s$, parses this string as a propositional formula and then turns this formula into a set of clauses."
   ]
  },
  {
   "cell_type": "code",
   "execution_count": 51,
   "metadata": {},
   "outputs": [],
   "source": [
    "def parseAndNormalize(s):\n",
    "    nestedTuple = plp.LogicParser(s).parse()\n",
    "    Clauses     = normalize(nestedTuple)\n",
    "    return Clauses"
   ]
  },
  {
   "cell_type": "markdown",
   "metadata": {},
   "source": [
    "The function `exclusiveOr(a, b)` computes the *exclusive or* of the formulas $a$ and $b$, which are given as strings. The resulting formula itself is converted into CNF."
   ]
  },
  {
   "cell_type": "code",
   "execution_count": 52,
   "metadata": {},
   "outputs": [],
   "source": [
    "def exclusiveOr(a, b):\n",
    "    formula     = f'(({a}) ↔ ¬({b}))'\n",
    "    return parseAndNormalize(formula)"
   ]
  },
  {
   "cell_type": "code",
   "execution_count": 53,
   "metadata": {},
   "outputs": [
    {
     "data": {
      "text/plain": [
       "{frozenset({('¬', 'p'), ('¬', 'q')}), frozenset({'p', 'q'})}"
      ]
     },
     "execution_count": 53,
     "metadata": {},
     "output_type": "execute_result"
    }
   ],
   "source": [
    "exclusiveOr('p', 'q')"
   ]
  },
  {
   "cell_type": "markdown",
   "metadata": {},
   "source": [
    "Below, you might need the following symbols: ¬, ∧, ∨, →, ↔"
   ]
  },
  {
   "cell_type": "code",
   "execution_count": 54,
   "metadata": {},
   "outputs": [],
   "source": [
    "def computeClauses():\n",
    "    # Jedem männlichen Vornamen ist genau ein Nachname zugeordnet und umgekehrt.\n",
    "    Clauses  = bijective(Vornamen, Nachnamen, 'Name')\n",
    "    # Jeder Mann ist mit genau einer Frau verheiratet und umgekehrt.\n",
    "    Clauses |= bijective(Vornamen, Frauen, 'Ehe')\n",
    "    # Entweder ist Amanns Vorname Heiner, oder Bemanns Frau heisst Inge.\n",
    "    Clauses |= exclusiveOr(makeVar('Name', 'Heiner', 'Amann'), isWifeOf('Inge', 'Bemann'))\n",
    "    # Wenn Cemann mit Josefa verheiratet ist, dann – und nur in diesem Falle –\n",
    "    # heisst Klaras Mann nicht Fritz.\n",
    "    Clauses |= parseAndNormalize( f\"{isWifeOf('Josefa', 'Cemann')} ↔ ¬{makeVar('Ehe', 'Fritz', 'Klara')}\" ) \n",
    "    # Wenn Josefas Mann nicht Erich heisst, dann ist Inge mit Fritz verheiratet.\n",
    "    Clauses |= parseAndNormalize( f\" ¬{makeVar('Ehe', 'Erich', 'Josefa')} → {makeVar('Ehe', 'Fritz', 'Inge')}\" )\n",
    "    # Wenn Luises Mann Fritz heisst, dann ist der Vorname von Klaras Mann nicht Gustav.\n",
    "    Clauses |= parseAndNormalize( f\" {makeVar('Ehe', 'Fritz', 'Luise')} → ¬{makeVar('Ehe', 'Gustav', 'Klara')}\" )\n",
    "    # Wenn die Frau von Fritz Inge heisst, dann ist Erich nicht mit Josefa verheiratet.\n",
    "    Clauses |= parseAndNormalize( f\" {makeVar('Ehe', 'Fritz', 'Inge')} → ¬{makeVar('Ehe', 'Erich', 'Josefa')}\" )\n",
    "    # Wenn Fritz nicht mit Luise verheiratet ist, dann heisst Gustavs Frau Klara.\n",
    "    Clauses |= parseAndNormalize( f\" ¬{makeVar('Ehe', 'Fritz', 'Luise')} → {makeVar('Ehe', 'Gustav', 'Klara')}\" )\n",
    "    # Entweder ist Demann mit Luise verheiratet, oder Cemann heisst Gustav.\n",
    "    Clauses |= exclusiveOr(isWifeOf('Luise', 'Demann'), makeVar('Name', 'Gustav', 'Cemann'))\n",
    "    return Clauses"
   ]
  },
  {
   "cell_type": "code",
   "execution_count": 55,
   "metadata": {},
   "outputs": [
    {
     "data": {
      "text/plain": [
       "{frozenset({'Name<Erich,Amann>',\n",
       "            'Name<Fritz,Amann>',\n",
       "            'Name<Gustav,Amann>',\n",
       "            'Name<Heiner,Amann>'}),\n",
       " frozenset({'Name<Gustav,Amann>',\n",
       "            'Name<Gustav,Bemann>',\n",
       "            'Name<Gustav,Cemann>',\n",
       "            'Name<Gustav,Demann>'}),\n",
       " frozenset({('¬', 'Ehe<Gustav,Luise>'),\n",
       "            ('¬', 'Ehe<Heiner,Luise>'),\n",
       "            ('¬', 'Name<Gustav,Cemann>'),\n",
       "            'Name<Erich,Demann>',\n",
       "            'Name<Fritz,Demann>'}),\n",
       " frozenset({'Ehe<Fritz,Inge>',\n",
       "            'Ehe<Fritz,Josefa>',\n",
       "            'Ehe<Fritz,Klara>',\n",
       "            'Ehe<Fritz,Luise>'}),\n",
       " frozenset({('¬', 'Name<Gustav,Bemann>'),\n",
       "            'Ehe<Gustav,Inge>',\n",
       "            'Name<Heiner,Amann>'}),\n",
       " frozenset({('¬', 'Ehe<Gustav,Inge>'),\n",
       "            ('¬', 'Name<Heiner,Amann>'),\n",
       "            'Name<Erich,Bemann>',\n",
       "            'Name<Fritz,Bemann>',\n",
       "            'Name<Heiner,Bemann>'}),\n",
       " frozenset({('¬', 'Ehe<Heiner,Josefa>'), ('¬', 'Ehe<Heiner,Klara>')}),\n",
       " frozenset({'Name<Fritz,Amann>',\n",
       "            'Name<Fritz,Bemann>',\n",
       "            'Name<Fritz,Cemann>',\n",
       "            'Name<Fritz,Demann>'}),\n",
       " frozenset({('¬', 'Ehe<Erich,Josefa>'),\n",
       "            ('¬', 'Ehe<Fritz,Klara>'),\n",
       "            ('¬', 'Ehe<Gustav,Josefa>'),\n",
       "            'Name<Fritz,Cemann>',\n",
       "            'Name<Heiner,Cemann>'}),\n",
       " frozenset({('¬', 'Name<Gustav,Amann>'), ('¬', 'Name<Gustav,Cemann>')}),\n",
       " frozenset({('¬', 'Ehe<Fritz,Klara>'),\n",
       "            ('¬', 'Ehe<Heiner,Josefa>'),\n",
       "            'Name<Erich,Cemann>',\n",
       "            'Name<Fritz,Cemann>',\n",
       "            'Name<Gustav,Cemann>'}),\n",
       " frozenset({('¬', 'Ehe<Erich,Klara>'), ('¬', 'Ehe<Erich,Luise>')}),\n",
       " frozenset({('¬', 'Ehe<Gustav,Josefa>'), ('¬', 'Ehe<Gustav,Luise>')}),\n",
       " frozenset({('¬', 'Name<Fritz,Bemann>'), ('¬', 'Name<Gustav,Bemann>')}),\n",
       " frozenset({('¬', 'Name<Erich,Demann>'), ('¬', 'Name<Heiner,Demann>')}),\n",
       " frozenset({('¬', 'Ehe<Fritz,Inge>'),\n",
       "            ('¬', 'Ehe<Gustav,Inge>'),\n",
       "            ('¬', 'Name<Heiner,Amann>'),\n",
       "            'Name<Erich,Bemann>',\n",
       "            'Name<Heiner,Bemann>'}),\n",
       " frozenset({('¬', 'Ehe<Erich,Inge>'),\n",
       "            ('¬', 'Name<Heiner,Amann>'),\n",
       "            'Name<Fritz,Bemann>',\n",
       "            'Name<Gustav,Bemann>',\n",
       "            'Name<Heiner,Bemann>'}),\n",
       " frozenset({('¬', 'Name<Fritz,Bemann>'), ('¬', 'Name<Heiner,Bemann>')}),\n",
       " frozenset({('¬', 'Name<Erich,Amann>'), ('¬', 'Name<Erich,Demann>')}),\n",
       " frozenset({('¬', 'Ehe<Fritz,Inge>'),\n",
       "            ('¬', 'Name<Heiner,Amann>'),\n",
       "            'Name<Erich,Bemann>',\n",
       "            'Name<Gustav,Bemann>',\n",
       "            'Name<Heiner,Bemann>'}),\n",
       " frozenset({('¬', 'Name<Heiner,Cemann>'),\n",
       "            'Ehe<Fritz,Klara>',\n",
       "            'Ehe<Heiner,Josefa>'}),\n",
       " frozenset({('¬', 'Ehe<Erich,Luise>'),\n",
       "            ('¬', 'Ehe<Fritz,Luise>'),\n",
       "            ('¬', 'Ehe<Gustav,Luise>'),\n",
       "            ('¬', 'Name<Gustav,Cemann>'),\n",
       "            'Name<Heiner,Demann>'}),\n",
       " frozenset({('¬', 'Ehe<Heiner,Inge>'), ('¬', 'Ehe<Heiner,Luise>')}),\n",
       " frozenset({('¬', 'Name<Fritz,Cemann>'), ('¬', 'Name<Gustav,Cemann>')}),\n",
       " frozenset({('¬', 'Name<Erich,Bemann>'), ('¬', 'Name<Fritz,Bemann>')}),\n",
       " frozenset({('¬', 'Ehe<Heiner,Luise>'),\n",
       "            ('¬', 'Name<Gustav,Cemann>'),\n",
       "            'Name<Erich,Demann>',\n",
       "            'Name<Fritz,Demann>',\n",
       "            'Name<Gustav,Demann>'}),\n",
       " frozenset({('¬', 'Name<Heiner,Amann>'),\n",
       "            'Name<Erich,Bemann>',\n",
       "            'Name<Fritz,Bemann>',\n",
       "            'Name<Gustav,Bemann>',\n",
       "            'Name<Heiner,Bemann>'}),\n",
       " frozenset({('¬', 'Ehe<Erich,Inge>'),\n",
       "            ('¬', 'Ehe<Fritz,Inge>'),\n",
       "            ('¬', 'Ehe<Gustav,Inge>'),\n",
       "            ('¬', 'Name<Heiner,Amann>'),\n",
       "            'Name<Heiner,Bemann>'}),\n",
       " frozenset({'Ehe<Erich,Luise>',\n",
       "            'Ehe<Fritz,Luise>',\n",
       "            'Ehe<Gustav,Luise>',\n",
       "            'Ehe<Heiner,Luise>'}),\n",
       " frozenset({('¬', 'Name<Erich,Cemann>'), ('¬', 'Name<Heiner,Cemann>')}),\n",
       " frozenset({'Ehe<Heiner,Inge>',\n",
       "            'Ehe<Heiner,Josefa>',\n",
       "            'Ehe<Heiner,Klara>',\n",
       "            'Ehe<Heiner,Luise>'}),\n",
       " frozenset({('¬', 'Ehe<Erich,Josefa>'), ('¬', 'Ehe<Fritz,Inge>')}),\n",
       " frozenset({('¬', 'Name<Fritz,Cemann>'), ('¬', 'Name<Heiner,Cemann>')}),\n",
       " frozenset({('¬', 'Ehe<Erich,Luise>'), ('¬', 'Ehe<Heiner,Luise>')}),\n",
       " frozenset({'Name<Erich,Bemann>',\n",
       "            'Name<Fritz,Bemann>',\n",
       "            'Name<Gustav,Bemann>',\n",
       "            'Name<Heiner,Bemann>'}),\n",
       " frozenset({('¬', 'Ehe<Erich,Inge>'),\n",
       "            ('¬', 'Ehe<Fritz,Inge>'),\n",
       "            ('¬', 'Name<Heiner,Amann>'),\n",
       "            'Name<Gustav,Bemann>',\n",
       "            'Name<Heiner,Bemann>'}),\n",
       " frozenset({('¬', 'Ehe<Heiner,Klara>'), ('¬', 'Ehe<Heiner,Luise>')}),\n",
       " frozenset({'Name<Erich,Demann>',\n",
       "            'Name<Fritz,Demann>',\n",
       "            'Name<Gustav,Demann>',\n",
       "            'Name<Heiner,Demann>'}),\n",
       " frozenset({('¬', 'Ehe<Erich,Klara>'), ('¬', 'Ehe<Heiner,Klara>')}),\n",
       " frozenset({('¬', 'Ehe<Fritz,Inge>'), ('¬', 'Ehe<Fritz,Luise>')}),\n",
       " frozenset({'Name<Erich,Cemann>',\n",
       "            'Name<Fritz,Cemann>',\n",
       "            'Name<Gustav,Cemann>',\n",
       "            'Name<Heiner,Cemann>'}),\n",
       " frozenset({('¬', 'Ehe<Erich,Inge>'), ('¬', 'Ehe<Erich,Luise>')}),\n",
       " frozenset({('¬', 'Ehe<Gustav,Klara>'), ('¬', 'Ehe<Heiner,Klara>')}),\n",
       " frozenset({('¬', 'Ehe<Erich,Josefa>'),\n",
       "            ('¬', 'Ehe<Fritz,Josefa>'),\n",
       "            ('¬', 'Ehe<Fritz,Klara>'),\n",
       "            ('¬', 'Ehe<Gustav,Josefa>'),\n",
       "            ('¬', 'Ehe<Heiner,Josefa>')}),\n",
       " frozenset({('¬', 'Ehe<Fritz,Luise>'),\n",
       "            ('¬', 'Ehe<Heiner,Luise>'),\n",
       "            ('¬', 'Name<Gustav,Cemann>'),\n",
       "            'Name<Erich,Demann>',\n",
       "            'Name<Gustav,Demann>'}),\n",
       " frozenset({('¬', 'Ehe<Fritz,Inge>'), ('¬', 'Ehe<Heiner,Inge>')}),\n",
       " frozenset({('¬', 'Ehe<Erich,Inge>'),\n",
       "            ('¬', 'Ehe<Fritz,Inge>'),\n",
       "            ('¬', 'Ehe<Heiner,Inge>'),\n",
       "            ('¬', 'Name<Heiner,Amann>'),\n",
       "            'Name<Gustav,Bemann>'}),\n",
       " frozenset({('¬', 'Ehe<Fritz,Klara>'),\n",
       "            'Name<Erich,Cemann>',\n",
       "            'Name<Fritz,Cemann>',\n",
       "            'Name<Gustav,Cemann>',\n",
       "            'Name<Heiner,Cemann>'}),\n",
       " frozenset({('¬', 'Ehe<Erich,Luise>'),\n",
       "            ('¬', 'Ehe<Gustav,Luise>'),\n",
       "            ('¬', 'Ehe<Heiner,Luise>'),\n",
       "            ('¬', 'Name<Gustav,Cemann>'),\n",
       "            'Name<Fritz,Demann>'}),\n",
       " frozenset({('¬', 'Name<Fritz,Amann>'), ('¬', 'Name<Heiner,Amann>')}),\n",
       " frozenset({('¬', 'Name<Gustav,Bemann>'), ('¬', 'Name<Gustav,Cemann>')}),\n",
       " frozenset({'Ehe<Erich,Klara>',\n",
       "            'Ehe<Fritz,Klara>',\n",
       "            'Ehe<Gustav,Klara>',\n",
       "            'Ehe<Heiner,Klara>'}),\n",
       " frozenset({('¬', 'Ehe<Erich,Inge>'),\n",
       "            ('¬', 'Ehe<Gustav,Inge>'),\n",
       "            ('¬', 'Name<Heiner,Amann>'),\n",
       "            'Name<Fritz,Bemann>',\n",
       "            'Name<Heiner,Bemann>'}),\n",
       " frozenset({('¬', 'Ehe<Fritz,Inge>'), ('¬', 'Ehe<Fritz,Klara>')}),\n",
       " frozenset({('¬', 'Ehe<Erich,Josefa>'), ('¬', 'Ehe<Gustav,Josefa>')}),\n",
       " frozenset({('¬', 'Name<Erich,Amann>'), ('¬', 'Name<Fritz,Amann>')}),\n",
       " frozenset({'Ehe<Erich,Inge>',\n",
       "            'Ehe<Erich,Josefa>',\n",
       "            'Ehe<Erich,Klara>',\n",
       "            'Ehe<Erich,Luise>'}),\n",
       " frozenset({('¬', 'Ehe<Erich,Josefa>'),\n",
       "            ('¬', 'Ehe<Fritz,Klara>'),\n",
       "            ('¬', 'Ehe<Heiner,Josefa>'),\n",
       "            'Name<Fritz,Cemann>',\n",
       "            'Name<Gustav,Cemann>'}),\n",
       " frozenset({('¬', 'Name<Erich,Amann>'), ('¬', 'Name<Heiner,Amann>')}),\n",
       " frozenset({('¬', 'Name<Heiner,Amann>'), ('¬', 'Name<Heiner,Demann>')}),\n",
       " frozenset({('¬', 'Ehe<Gustav,Luise>'),\n",
       "            ('¬', 'Name<Gustav,Cemann>'),\n",
       "            'Name<Erich,Demann>',\n",
       "            'Name<Fritz,Demann>',\n",
       "            'Name<Heiner,Demann>'}),\n",
       " frozenset({'Name<Erich,Amann>',\n",
       "            'Name<Erich,Bemann>',\n",
       "            'Name<Erich,Cemann>',\n",
       "            'Name<Erich,Demann>'}),\n",
       " frozenset({('¬', 'Ehe<Fritz,Klara>'), ('¬', 'Ehe<Heiner,Klara>')}),\n",
       " frozenset({('¬', 'Name<Heiner,Amann>'), ('¬', 'Name<Heiner,Bemann>')}),\n",
       " frozenset({('¬', 'Ehe<Erich,Luise>'),\n",
       "            ('¬', 'Ehe<Fritz,Luise>'),\n",
       "            ('¬', 'Ehe<Heiner,Luise>'),\n",
       "            ('¬', 'Name<Gustav,Cemann>'),\n",
       "            'Name<Gustav,Demann>'}),\n",
       " frozenset({'Ehe<Gustav,Inge>',\n",
       "            'Ehe<Gustav,Josefa>',\n",
       "            'Ehe<Gustav,Klara>',\n",
       "            'Ehe<Gustav,Luise>'}),\n",
       " frozenset({('¬', 'Ehe<Erich,Klara>'), ('¬', 'Ehe<Gustav,Klara>')}),\n",
       " frozenset({('¬', 'Name<Gustav,Demann>'), ('¬', 'Name<Heiner,Demann>')}),\n",
       " frozenset({('¬', 'Name<Fritz,Amann>'), ('¬', 'Name<Fritz,Cemann>')}),\n",
       " frozenset({'Name<Heiner,Amann>',\n",
       "            'Name<Heiner,Bemann>',\n",
       "            'Name<Heiner,Cemann>',\n",
       "            'Name<Heiner,Demann>'}),\n",
       " frozenset({('¬', 'Name<Erich,Bemann>'), ('¬', 'Name<Gustav,Bemann>')}),\n",
       " frozenset({('¬', 'Name<Heiner,Demann>'),\n",
       "            'Ehe<Heiner,Luise>',\n",
       "            'Name<Gustav,Cemann>'}),\n",
       " frozenset({('¬', 'Ehe<Fritz,Inge>'),\n",
       "            ('¬', 'Ehe<Gustav,Inge>'),\n",
       "            ('¬', 'Ehe<Heiner,Inge>'),\n",
       "            ('¬', 'Name<Heiner,Amann>'),\n",
       "            'Name<Erich,Bemann>'}),\n",
       " frozenset({('¬', 'Ehe<Fritz,Luise>'),\n",
       "            ('¬', 'Name<Gustav,Cemann>'),\n",
       "            'Name<Erich,Demann>',\n",
       "            'Name<Gustav,Demann>',\n",
       "            'Name<Heiner,Demann>'}),\n",
       " frozenset({('¬', 'Name<Erich,Demann>'), ('¬', 'Name<Gustav,Demann>')}),\n",
       " frozenset({('¬', 'Ehe<Fritz,Klara>'), ('¬', 'Ehe<Fritz,Luise>')}),\n",
       " frozenset({('¬', 'Name<Erich,Cemann>'),\n",
       "            'Ehe<Erich,Josefa>',\n",
       "            'Ehe<Fritz,Klara>'}),\n",
       " frozenset({('¬', 'Name<Gustav,Cemann>'),\n",
       "            'Ehe<Fritz,Klara>',\n",
       "            'Ehe<Gustav,Josefa>'}),\n",
       " frozenset({('¬', 'Ehe<Erich,Luise>'),\n",
       "            ('¬', 'Ehe<Gustav,Luise>'),\n",
       "            ('¬', 'Name<Gustav,Cemann>'),\n",
       "            'Name<Fritz,Demann>',\n",
       "            'Name<Heiner,Demann>'}),\n",
       " frozenset({('¬', 'Ehe<Fritz,Josefa>'), ('¬', 'Ehe<Fritz,Klara>')}),\n",
       " frozenset({('¬', 'Ehe<Gustav,Klara>'), ('¬', 'Ehe<Gustav,Luise>')}),\n",
       " frozenset({('¬', 'Name<Erich,Demann>'),\n",
       "            'Ehe<Erich,Luise>',\n",
       "            'Name<Gustav,Cemann>'}),\n",
       " frozenset({('¬', 'Ehe<Erich,Luise>'),\n",
       "            ('¬', 'Ehe<Heiner,Luise>'),\n",
       "            ('¬', 'Name<Gustav,Cemann>'),\n",
       "            'Name<Fritz,Demann>',\n",
       "            'Name<Gustav,Demann>'}),\n",
       " frozenset({('¬', 'Name<Heiner,Cemann>'), ('¬', 'Name<Heiner,Demann>')}),\n",
       " frozenset({'Ehe<Fritz,Luise>', 'Ehe<Gustav,Klara>'}),\n",
       " frozenset({('¬', 'Name<Fritz,Bemann>'), ('¬', 'Name<Fritz,Demann>')}),\n",
       " frozenset({('¬', 'Name<Heiner,Amann>'), ('¬', 'Name<Heiner,Cemann>')}),\n",
       " frozenset({('¬', 'Name<Erich,Cemann>'), ('¬', 'Name<Fritz,Cemann>')}),\n",
       " frozenset({('¬', 'Ehe<Erich,Inge>'), ('¬', 'Ehe<Fritz,Inge>')}),\n",
       " frozenset({('¬', 'Name<Fritz,Cemann>'),\n",
       "            'Ehe<Fritz,Josefa>',\n",
       "            'Ehe<Fritz,Klara>'}),\n",
       " frozenset({('¬', 'Name<Fritz,Amann>'), ('¬', 'Name<Gustav,Amann>')}),\n",
       " frozenset({('¬', 'Name<Gustav,Cemann>'),\n",
       "            'Name<Erich,Demann>',\n",
       "            'Name<Fritz,Demann>',\n",
       "            'Name<Gustav,Demann>',\n",
       "            'Name<Heiner,Demann>'}),\n",
       " frozenset({('¬', 'Name<Gustav,Bemann>'), ('¬', 'Name<Gustav,Demann>')}),\n",
       " frozenset({('¬', 'Name<Gustav,Cemann>'), ('¬', 'Name<Gustav,Demann>')}),\n",
       " frozenset({('¬', 'Name<Fritz,Cemann>'), ('¬', 'Name<Fritz,Demann>')}),\n",
       " frozenset({('¬', 'Name<Erich,Bemann>'), ('¬', 'Name<Erich,Demann>')}),\n",
       " frozenset({'Ehe<Erich,Josefa>',\n",
       "            'Ehe<Fritz,Josefa>',\n",
       "            'Ehe<Gustav,Josefa>',\n",
       "            'Ehe<Heiner,Josefa>'}),\n",
       " frozenset({('¬', 'Ehe<Heiner,Inge>'), ('¬', 'Ehe<Heiner,Josefa>')}),\n",
       " frozenset({('¬', 'Ehe<Fritz,Luise>'), ('¬', 'Ehe<Gustav,Klara>')}),\n",
       " frozenset({('¬', 'Ehe<Erich,Inge>'),\n",
       "            ('¬', 'Ehe<Gustav,Inge>'),\n",
       "            ('¬', 'Ehe<Heiner,Inge>'),\n",
       "            ('¬', 'Name<Heiner,Amann>'),\n",
       "            'Name<Fritz,Bemann>'}),\n",
       " frozenset({('¬', 'Name<Erich,Bemann>'), ('¬', 'Name<Erich,Cemann>')}),\n",
       " frozenset({('¬', 'Ehe<Erich,Josefa>'), ('¬', 'Ehe<Fritz,Josefa>')}),\n",
       " frozenset({('¬', 'Ehe<Fritz,Josefa>'), ('¬', 'Ehe<Gustav,Josefa>')}),\n",
       " frozenset({('¬', 'Ehe<Erich,Josefa>'),\n",
       "            ('¬', 'Ehe<Fritz,Klara>'),\n",
       "            'Name<Fritz,Cemann>',\n",
       "            'Name<Gustav,Cemann>',\n",
       "            'Name<Heiner,Cemann>'}),\n",
       " frozenset({('¬', 'Name<Erich,Cemann>'), ('¬', 'Name<Erich,Demann>')}),\n",
       " frozenset({('¬', 'Ehe<Fritz,Luise>'), ('¬', 'Ehe<Heiner,Luise>')}),\n",
       " frozenset({('¬', 'Ehe<Erich,Josefa>'),\n",
       "            ('¬', 'Ehe<Fritz,Josefa>'),\n",
       "            ('¬', 'Ehe<Fritz,Klara>'),\n",
       "            'Name<Gustav,Cemann>',\n",
       "            'Name<Heiner,Cemann>'}),\n",
       " frozenset({('¬', 'Ehe<Erich,Inge>'), ('¬', 'Ehe<Erich,Josefa>')}),\n",
       " frozenset({('¬', 'Name<Heiner,Bemann>'), ('¬', 'Name<Heiner,Demann>')}),\n",
       " frozenset({('¬', 'Name<Erich,Demann>'), ('¬', 'Name<Fritz,Demann>')}),\n",
       " frozenset({('¬', 'Name<Fritz,Amann>'), ('¬', 'Name<Fritz,Bemann>')}),\n",
       " frozenset({('¬', 'Name<Fritz,Demann>'),\n",
       "            'Ehe<Fritz,Luise>',\n",
       "            'Name<Gustav,Cemann>'}),\n",
       " frozenset({('¬', 'Ehe<Erich,Luise>'),\n",
       "            ('¬', 'Name<Gustav,Cemann>'),\n",
       "            'Name<Fritz,Demann>',\n",
       "            'Name<Gustav,Demann>',\n",
       "            'Name<Heiner,Demann>'}),\n",
       " frozenset({('¬', 'Name<Erich,Bemann>'), ('¬', 'Name<Heiner,Bemann>')}),\n",
       " frozenset({('¬', 'Ehe<Gustav,Luise>'), ('¬', 'Ehe<Heiner,Luise>')}),\n",
       " frozenset({('¬', 'Name<Heiner,Bemann>'),\n",
       "            'Ehe<Heiner,Inge>',\n",
       "            'Name<Heiner,Amann>'}),\n",
       " frozenset({('¬', 'Ehe<Erich,Inge>'),\n",
       "            ('¬', 'Ehe<Heiner,Inge>'),\n",
       "            ('¬', 'Name<Heiner,Amann>'),\n",
       "            'Name<Fritz,Bemann>',\n",
       "            'Name<Gustav,Bemann>'}),\n",
       " frozenset({('¬', 'Ehe<Fritz,Klara>'), ('¬', 'Ehe<Gustav,Klara>')}),\n",
       " frozenset({('¬', 'Name<Heiner,Bemann>'), ('¬', 'Name<Heiner,Cemann>')}),\n",
       " frozenset({('¬', 'Name<Gustav,Amann>'), ('¬', 'Name<Gustav,Demann>')}),\n",
       " frozenset({('¬', 'Ehe<Erich,Inge>'), ('¬', 'Ehe<Gustav,Inge>')}),\n",
       " frozenset({('¬', 'Name<Erich,Bemann>'),\n",
       "            'Ehe<Erich,Inge>',\n",
       "            'Name<Heiner,Amann>'}),\n",
       " frozenset({('¬', 'Ehe<Fritz,Josefa>'),\n",
       "            ('¬', 'Ehe<Fritz,Klara>'),\n",
       "            'Name<Erich,Cemann>',\n",
       "            'Name<Gustav,Cemann>',\n",
       "            'Name<Heiner,Cemann>'}),\n",
       " frozenset({('¬', 'Ehe<Fritz,Inge>'), ('¬', 'Ehe<Fritz,Josefa>')}),\n",
       " frozenset({('¬', 'Name<Erich,Cemann>'), ('¬', 'Name<Gustav,Cemann>')}),\n",
       " frozenset({('¬', 'Name<Fritz,Bemann>'),\n",
       "            'Ehe<Fritz,Inge>',\n",
       "            'Name<Heiner,Amann>'}),\n",
       " frozenset({'Ehe<Erich,Inge>',\n",
       "            'Ehe<Fritz,Inge>',\n",
       "            'Ehe<Gustav,Inge>',\n",
       "            'Ehe<Heiner,Inge>'}),\n",
       " frozenset({('¬', 'Ehe<Gustav,Inge>'), ('¬', 'Ehe<Gustav,Josefa>')}),\n",
       " frozenset({('¬', 'Name<Gustav,Demann>'),\n",
       "            'Ehe<Gustav,Luise>',\n",
       "            'Name<Gustav,Cemann>'}),\n",
       " frozenset({('¬', 'Ehe<Gustav,Inge>'),\n",
       "            ('¬', 'Ehe<Heiner,Inge>'),\n",
       "            ('¬', 'Name<Heiner,Amann>'),\n",
       "            'Name<Erich,Bemann>',\n",
       "            'Name<Fritz,Bemann>'}),\n",
       " frozenset({('¬', 'Name<Erich,Amann>'), ('¬', 'Name<Gustav,Amann>')}),\n",
       " frozenset({('¬', 'Ehe<Fritz,Luise>'),\n",
       "            ('¬', 'Ehe<Gustav,Luise>'),\n",
       "            ('¬', 'Ehe<Heiner,Luise>'),\n",
       "            ('¬', 'Name<Gustav,Cemann>'),\n",
       "            'Name<Erich,Demann>'}),\n",
       " frozenset({('¬', 'Ehe<Erich,Josefa>'),\n",
       "            ('¬', 'Ehe<Fritz,Klara>'),\n",
       "            ('¬', 'Ehe<Gustav,Josefa>'),\n",
       "            ('¬', 'Ehe<Heiner,Josefa>'),\n",
       "            'Name<Fritz,Cemann>'}),\n",
       " frozenset({('¬', 'Name<Gustav,Amann>'), ('¬', 'Name<Heiner,Amann>')}),\n",
       " frozenset({('¬', 'Ehe<Heiner,Inge>'),\n",
       "            ('¬', 'Name<Heiner,Amann>'),\n",
       "            'Name<Erich,Bemann>',\n",
       "            'Name<Fritz,Bemann>',\n",
       "            'Name<Gustav,Bemann>'}),\n",
       " frozenset({('¬', 'Ehe<Heiner,Josefa>'), ('¬', 'Ehe<Heiner,Luise>')}),\n",
       " frozenset({('¬', 'Name<Gustav,Bemann>'), ('¬', 'Name<Heiner,Bemann>')}),\n",
       " frozenset({('¬', 'Ehe<Gustav,Inge>'), ('¬', 'Ehe<Gustav,Luise>')}),\n",
       " frozenset({('¬', 'Ehe<Erich,Luise>'),\n",
       "            ('¬', 'Ehe<Fritz,Luise>'),\n",
       "            ('¬', 'Name<Gustav,Cemann>'),\n",
       "            'Name<Gustav,Demann>',\n",
       "            'Name<Heiner,Demann>'}),\n",
       " frozenset({('¬', 'Ehe<Fritz,Josefa>'),\n",
       "            ('¬', 'Ehe<Fritz,Klara>'),\n",
       "            ('¬', 'Ehe<Gustav,Josefa>'),\n",
       "            'Name<Erich,Cemann>',\n",
       "            'Name<Heiner,Cemann>'}),\n",
       " frozenset({('¬', 'Name<Fritz,Demann>'), ('¬', 'Name<Heiner,Demann>')}),\n",
       " frozenset({('¬', 'Ehe<Fritz,Inge>'), ('¬', 'Ehe<Gustav,Inge>')}),\n",
       " frozenset({('¬', 'Ehe<Gustav,Josefa>'), ('¬', 'Ehe<Heiner,Josefa>')}),\n",
       " frozenset({('¬', 'Ehe<Fritz,Klara>'),\n",
       "            ('¬', 'Ehe<Gustav,Josefa>'),\n",
       "            ('¬', 'Ehe<Heiner,Josefa>'),\n",
       "            'Name<Erich,Cemann>',\n",
       "            'Name<Fritz,Cemann>'}),\n",
       " frozenset({('¬', 'Ehe<Fritz,Josefa>'), ('¬', 'Ehe<Fritz,Luise>')}),\n",
       " frozenset({('¬', 'Ehe<Erich,Luise>'),\n",
       "            ('¬', 'Ehe<Fritz,Luise>'),\n",
       "            ('¬', 'Ehe<Gustav,Luise>'),\n",
       "            ('¬', 'Ehe<Heiner,Luise>'),\n",
       "            ('¬', 'Name<Gustav,Cemann>')}),\n",
       " frozenset({('¬', 'Name<Fritz,Amann>'), ('¬', 'Name<Fritz,Demann>')}),\n",
       " frozenset({('¬', 'Ehe<Erich,Josefa>'), ('¬', 'Ehe<Erich,Klara>')}),\n",
       " frozenset({('¬', 'Ehe<Fritz,Josefa>'),\n",
       "            ('¬', 'Ehe<Fritz,Klara>'),\n",
       "            ('¬', 'Ehe<Gustav,Josefa>'),\n",
       "            ('¬', 'Ehe<Heiner,Josefa>'),\n",
       "            'Name<Erich,Cemann>'}),\n",
       " frozenset({('¬', 'Ehe<Fritz,Josefa>'),\n",
       "            ('¬', 'Ehe<Fritz,Klara>'),\n",
       "            ('¬', 'Ehe<Heiner,Josefa>'),\n",
       "            'Name<Erich,Cemann>',\n",
       "            'Name<Gustav,Cemann>'}),\n",
       " frozenset({('¬', 'Name<Erich,Amann>'), ('¬', 'Name<Erich,Cemann>')}),\n",
       " frozenset({('¬', 'Ehe<Erich,Josefa>'),\n",
       "            ('¬', 'Ehe<Fritz,Josefa>'),\n",
       "            ('¬', 'Ehe<Fritz,Klara>'),\n",
       "            ('¬', 'Ehe<Gustav,Josefa>'),\n",
       "            'Name<Heiner,Cemann>'}),\n",
       " frozenset({('¬', 'Ehe<Gustav,Inge>'), ('¬', 'Ehe<Heiner,Inge>')}),\n",
       " frozenset({('¬', 'Ehe<Fritz,Luise>'),\n",
       "            ('¬', 'Ehe<Gustav,Luise>'),\n",
       "            ('¬', 'Name<Gustav,Cemann>'),\n",
       "            'Name<Erich,Demann>',\n",
       "            'Name<Heiner,Demann>'}),\n",
       " frozenset({('¬', 'Ehe<Heiner,Inge>'), ('¬', 'Ehe<Heiner,Klara>')}),\n",
       " frozenset({('¬', 'Name<Gustav,Cemann>'), ('¬', 'Name<Heiner,Cemann>')}),\n",
       " frozenset({('¬', 'Name<Gustav,Amann>'), ('¬', 'Name<Gustav,Bemann>')}),\n",
       " frozenset({('¬', 'Ehe<Erich,Josefa>'), ('¬', 'Ehe<Erich,Luise>')}),\n",
       " frozenset({('¬', 'Name<Erich,Amann>'), ('¬', 'Name<Erich,Bemann>')}),\n",
       " frozenset({('¬', 'Ehe<Gustav,Inge>'), ('¬', 'Ehe<Gustav,Klara>')}),\n",
       " frozenset({('¬', 'Ehe<Erich,Luise>'), ('¬', 'Ehe<Fritz,Luise>')}),\n",
       " frozenset({('¬', 'Ehe<Fritz,Luise>'), ('¬', 'Ehe<Gustav,Luise>')}),\n",
       " frozenset({('¬', 'Name<Fritz,Bemann>'), ('¬', 'Name<Fritz,Cemann>')}),\n",
       " frozenset({('¬', 'Ehe<Erich,Klara>'), ('¬', 'Ehe<Fritz,Klara>')}),\n",
       " frozenset({('¬', 'Ehe<Erich,Inge>'),\n",
       "            ('¬', 'Ehe<Fritz,Inge>'),\n",
       "            ('¬', 'Ehe<Gustav,Inge>'),\n",
       "            ('¬', 'Ehe<Heiner,Inge>'),\n",
       "            ('¬', 'Name<Heiner,Amann>')}),\n",
       " frozenset({('¬', 'Ehe<Fritz,Josefa>'), ('¬', 'Ehe<Heiner,Josefa>')}),\n",
       " frozenset({('¬', 'Ehe<Gustav,Josefa>'), ('¬', 'Ehe<Gustav,Klara>')}),\n",
       " frozenset({('¬', 'Ehe<Erich,Inge>'), ('¬', 'Ehe<Erich,Klara>')}),\n",
       " frozenset({('¬', 'Ehe<Fritz,Klara>'),\n",
       "            ('¬', 'Ehe<Gustav,Josefa>'),\n",
       "            'Name<Erich,Cemann>',\n",
       "            'Name<Fritz,Cemann>',\n",
       "            'Name<Heiner,Cemann>'}),\n",
       " frozenset({('¬', 'Ehe<Erich,Luise>'), ('¬', 'Ehe<Gustav,Luise>')}),\n",
       " frozenset({'Ehe<Erich,Josefa>', 'Ehe<Fritz,Inge>'}),\n",
       " frozenset({('¬', 'Ehe<Erich,Inge>'), ('¬', 'Ehe<Heiner,Inge>')}),\n",
       " frozenset({('¬', 'Name<Fritz,Demann>'), ('¬', 'Name<Gustav,Demann>')}),\n",
       " frozenset({('¬', 'Ehe<Erich,Josefa>'), ('¬', 'Ehe<Heiner,Josefa>')}),\n",
       " frozenset({('¬', 'Ehe<Erich,Josefa>'),\n",
       "            ('¬', 'Ehe<Fritz,Josefa>'),\n",
       "            ('¬', 'Ehe<Fritz,Klara>'),\n",
       "            ('¬', 'Ehe<Heiner,Josefa>'),\n",
       "            'Name<Gustav,Cemann>'}),\n",
       " frozenset({('¬', 'Ehe<Fritz,Inge>'),\n",
       "            ('¬', 'Ehe<Heiner,Inge>'),\n",
       "            ('¬', 'Name<Heiner,Amann>'),\n",
       "            'Name<Erich,Bemann>',\n",
       "            'Name<Gustav,Bemann>'})}"
      ]
     },
     "execution_count": 55,
     "metadata": {},
     "output_type": "execute_result"
    }
   ],
   "source": [
    "Clauses = computeClauses()\n",
    "Clauses"
   ]
  },
  {
   "cell_type": "markdown",
   "metadata": {},
   "source": [
    "There are 176 different clauses."
   ]
  },
  {
   "cell_type": "code",
   "execution_count": 56,
   "metadata": {},
   "outputs": [
    {
     "data": {
      "text/plain": [
       "176"
      ]
     },
     "execution_count": 56,
     "metadata": {},
     "output_type": "execute_result"
    }
   ],
   "source": [
    "len(Clauses)"
   ]
  },
  {
   "cell_type": "code",
   "execution_count": 57,
   "metadata": {},
   "outputs": [],
   "source": [
    "def compute_solution():\n",
    "    Clauses = computeClauses()\n",
    "    Result  = solve(Clauses, set())\n",
    "    return Result"
   ]
  },
  {
   "cell_type": "code",
   "execution_count": 58,
   "metadata": {},
   "outputs": [],
   "source": [
    "Solution = compute_solution()"
   ]
  },
  {
   "cell_type": "code",
   "execution_count": 59,
   "metadata": {},
   "outputs": [],
   "source": [
    "import re\n",
    "\n",
    "def extractFirst(s):\n",
    "        m = re.search('<([A-Za-z]+),', s)\n",
    "        return m.group(1)\n",
    "\n",
    "def extractSecond(s):\n",
    "        m = re.search(',([A-Za-z]+)>', s)\n",
    "        return m.group(1)"
   ]
  },
  {
   "cell_type": "code",
   "execution_count": 60,
   "metadata": {},
   "outputs": [],
   "source": [
    "def displaySolution(Solution):\n",
    "    Married = {}\n",
    "    Names   = {}\n",
    "    for Unit in Solution:\n",
    "        for l in Unit:\n",
    "            if isinstance(l, str):\n",
    "                if l[:3] == \"Ehe\":\n",
    "                    x = extractFirst(l)\n",
    "                    y = extractSecond(l)\n",
    "                    Married[x] = y\n",
    "                elif l[:4] == \"Name\":\n",
    "                    x = extractFirst(l)\n",
    "                    y = extractSecond(l)\n",
    "                    Names[x] = y\n",
    "    for x in Married:\n",
    "        print(f\"{x} {Names[x]} is married to {Married[x]}.\")"
   ]
  },
  {
   "cell_type": "code",
   "execution_count": 61,
   "metadata": {},
   "outputs": [
    {
     "name": "stdout",
     "output_type": "stream",
     "text": [
      "Erich Demann is married to Luise.\n",
      "Fritz Bemann is married to Inge.\n",
      "Gustav Amann is married to Klara.\n",
      "Heiner Cemann is married to Josefa.\n"
     ]
    }
   ],
   "source": [
    "displaySolution(Solution)"
   ]
  },
  {
   "cell_type": "markdown",
   "metadata": {},
   "source": [
    "## Checking the Uniqueness of the Solution"
   ]
  },
  {
   "cell_type": "code",
   "execution_count": 62,
   "metadata": {},
   "outputs": [],
   "source": [
    "def arb(S):\n",
    "    for x in S:\n",
    "        return x"
   ]
  },
  {
   "cell_type": "markdown",
   "metadata": {},
   "source": [
    "Given a set of unit clauses $U$, the function $\\texttt{checkUniqueness}(U)$ returns a clause that is the negation of the set $U$."
   ]
  },
  {
   "cell_type": "code",
   "execution_count": 63,
   "metadata": {},
   "outputs": [],
   "source": [
    "def negateSolution(UnitClauses):\n",
    "    return { complement(arb(unit)) for unit in UnitClauses }"
   ]
  },
  {
   "cell_type": "code",
   "execution_count": 64,
   "metadata": {},
   "outputs": [
    {
     "data": {
      "text/plain": [
       "{('¬', 'a'), 'b'}"
      ]
     },
     "execution_count": 64,
     "metadata": {},
     "output_type": "execute_result"
    }
   ],
   "source": [
    "negateSolution({ frozenset({'a'}), frozenset({('¬', 'b')}) }) "
   ]
  },
  {
   "cell_type": "code",
   "execution_count": 65,
   "metadata": {},
   "outputs": [],
   "source": [
    "def checkUniqueness(Solution, Clauses):\n",
    "    negation = negateSolution(Solution)\n",
    "    Clauses.add(frozenset(negation))\n",
    "    alternative = solve(Clauses, set())\n",
    "    if alternative == { frozenset() }:\n",
    "        print(\"Well done: The solution is unique!\")\n",
    "    else:\n",
    "        print(\"ERROR: The solution is not unique!\")"
   ]
  },
  {
   "cell_type": "code",
   "execution_count": 66,
   "metadata": {},
   "outputs": [
    {
     "name": "stdout",
     "output_type": "stream",
     "text": [
      "Well done: The solution is unique!\n"
     ]
    }
   ],
   "source": [
    "checkUniqueness(Solution, Clauses)"
   ]
  },
  {
   "cell_type": "code",
   "execution_count": null,
   "metadata": {},
   "outputs": [],
   "source": []
  }
 ],
 "metadata": {
  "hide_input": false,
  "kernelspec": {
   "display_name": "Python 3",
   "language": "python",
   "name": "python3"
  },
  "language_info": {
   "codemirror_mode": {
    "name": "ipython",
    "version": 3
   },
   "file_extension": ".py",
   "mimetype": "text/x-python",
   "name": "python",
   "nbconvert_exporter": "python",
   "pygments_lexer": "ipython3",
   "version": "3.8.2"
  },
  "toc": {
   "base_numbering": 1,
   "nav_menu": {},
   "number_sections": true,
   "sideBar": true,
   "skip_h1_title": false,
   "title_cell": "Table of Contents",
   "title_sidebar": "Contents",
   "toc_cell": false,
   "toc_position": {},
   "toc_section_display": true,
   "toc_window_display": false
  },
  "varInspector": {
   "cols": {
    "lenName": 16,
    "lenType": 16,
    "lenVar": 40
   },
   "kernels_config": {
    "python": {
     "delete_cmd_postfix": "",
     "delete_cmd_prefix": "del ",
     "library": "var_list.py",
     "varRefreshCmd": "print(var_dic_list())"
    },
    "r": {
     "delete_cmd_postfix": ") ",
     "delete_cmd_prefix": "rm(",
     "library": "var_list.r",
     "varRefreshCmd": "cat(var_dic_list()) "
    }
   },
   "types_to_exclude": [
    "module",
    "function",
    "builtin_function_or_method",
    "instance",
    "_Feature"
   ],
   "window_display": false
  }
 },
 "nbformat": 4,
 "nbformat_minor": 2
}
