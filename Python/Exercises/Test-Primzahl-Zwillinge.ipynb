{
 "cells": [
  {
   "cell_type": "code",
   "execution_count": 13,
   "metadata": {},
   "outputs": [
    {
     "data": {
      "text/plain": [
       "(False, (17, 19), True)"
      ]
     },
     "execution_count": 13,
     "metadata": {},
     "output_type": "execute_result"
    }
   ],
   "source": [
    "def isPrime(n):\n",
    "    if n <= 1:\n",
    "        return False\n",
    "    \n",
    "    return { x for x in range(2, n) if n % x == 0 } == set()\n",
    "\n",
    "def getNextPrimeTwin(n):\n",
    "    if isPrime(n+1) and isPrime(n+3):\n",
    "        return (n+1, n+3)\n",
    "    return getNextPrimeTwin(n+1)\n",
    "\n",
    "def hasNextPrimeTwin(n):\n",
    "    if isPrime(n+1) and isPrime(n+3):\n",
    "        return True\n",
    "    return hasNextPrimeTwin(n+1)\n",
    "\n",
    "isPrime(4), getNextPrimeTwin(11), hasNextPrimeTwin(11)"
   ]
  },
  {
   "cell_type": "code",
   "execution_count": null,
   "metadata": {},
   "outputs": [],
   "source": []
  },
  {
   "cell_type": "code",
   "execution_count": null,
   "metadata": {},
   "outputs": [],
   "source": []
  }
 ],
 "metadata": {
  "kernelspec": {
   "display_name": "Python 3",
   "language": "python",
   "name": "python3"
  },
  "language_info": {
   "codemirror_mode": {
    "name": "ipython",
    "version": 3
   },
   "file_extension": ".py",
   "mimetype": "text/x-python",
   "name": "python",
   "nbconvert_exporter": "python",
   "pygments_lexer": "ipython3",
   "version": "3.8.2"
  }
 },
 "nbformat": 4,
 "nbformat_minor": 4
}
