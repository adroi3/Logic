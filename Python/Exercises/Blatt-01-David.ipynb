{
 "cells": [
  {
   "cell_type": "code",
   "execution_count": null,
   "metadata": {},
   "outputs": [],
   "source": [
    "from IPython.core.display import HTML\n",
    "with open ('../style.css', 'r') as file:\n",
    "    css = file.read()\n",
    "HTML(css)"
   ]
  },
  {
   "cell_type": "markdown",
   "metadata": {},
   "source": [
    "# Aufgaben-Blatt Nr. 1"
   ]
  },
  {
   "cell_type": "markdown",
   "metadata": {},
   "source": [
    "## Aufgabe 1:"
   ]
  },
  {
   "cell_type": "markdown",
   "metadata": {},
   "source": [
    "Eine Zahl $m\\in \\mathbb{N}$ ist ein *echter Teiler* einer Zahl\n",
    "$n \\in \\mathbb{N}$ genau dann, wenn $m$ ein Teiler von $n$ ist und wenn außerdem $m < n$ gilt.\n",
    "\n",
    "Eine Zahl $n \\in \\mathbb{N}$ heißt *perfekt*, wenn $n$ gleich der Summe aller echten Teiler von\n",
    "$n$ ist. Zum Beispiel ist die Zahl $6$ perfekt, denn  die Menge der echten Teiler\n",
    "von 6 ist $\\{1,2,3\\}$ und es gilt $1 + 2 + 3 = 6$.\n",
    "Ziel der Aufgabe ist die Berechnung der Menge aller perfekten Zahlen, die kleiner als $10,000$ sind."
   ]
  },
  {
   "cell_type": "markdown",
   "metadata": {},
   "source": [
    "Implementieren Sie eine Prozedur `echteTeiler`, so dass der Aufruf\n",
    "$\\texttt{echteTeiler}(n)$ für eine natürliche Zahl $n$ die Menge aller echten Teiler von $n$ berechnet.  Beispielsweise soll gelten:\n",
    "$$ \\texttt{echteTeiler}(6) = \\{1, 2, 3\\} $$"
   ]
  },
  {
   "cell_type": "markdown",
   "metadata": {},
   "source": [
    "<hr style=\"height:5px;border-width:0;color:gray;background-color:green\">\n",
    "<p style=\"background-color:yellow; border:3px; border-style:solid; border-color:#FF0000; padding: 1em;\"><b style=\"color:blue;background-color:orange;font-weight:900\">Hinweis</b>: Versuchen Sie, bei der Lösung dieser Aufgabe <u>ohne</u> <tt>for</tt>-Schleifen\n",
    "oder <tt>while</tt>-Schleifen auszukommen. Sie sollen statt dessen mit \n",
    "<b style=\"color:blue;background-color:yellow\">Mengen</b> \n",
    "arbeiten. Dieser Hinweis gilt auch für die folgenden Aufgaben.\n",
    "</p>\n",
    "<hr style=\"height:5px;border-width:0;color:gray;background-color:green\">"
   ]
  },
  {
   "cell_type": "code",
   "execution_count": 5,
   "metadata": {},
   "outputs": [],
   "source": [
    "def echteTeiler(n):\n",
    "    'Diese Funktion berechnet die Menge aller echten Teiler der Zahl n.'\n",
    "    'your code here'\n",
    "    \n",
    "    return { x for x in range(1, n) if n % x == 0 }"
   ]
  },
  {
   "cell_type": "code",
   "execution_count": 4,
   "metadata": {},
   "outputs": [
    {
     "data": {
      "text/plain": [
       "{1, 2, 3}"
      ]
     },
     "execution_count": 4,
     "metadata": {},
     "output_type": "execute_result"
    }
   ],
   "source": [
    "echteTeiler(6)"
   ]
  },
  {
   "cell_type": "markdown",
   "metadata": {},
   "source": [
    "Implementieren Sie eine Funktion `isPerfect`, so dass der Aufruf\n",
    "$\\texttt{isPerfect}(n)$ für eine natürliche Zahl $n$ genau dann das Ergebnis \n",
    "`True` zurück gibt, wenn $n$ eine perfekte Zahl ist."
   ]
  },
  {
   "cell_type": "code",
   "execution_count": 6,
   "metadata": {},
   "outputs": [],
   "source": [
    "def isPerfect(n):\n",
    "    'Returns True if n is perfect, else False.'\n",
    "    'your code here'\n",
    "    \n",
    "    teiler = echteTeiler(n)\n",
    "    \n",
    "    return sum(teiler) == n"
   ]
  },
  {
   "cell_type": "code",
   "execution_count": 10,
   "metadata": {},
   "outputs": [
    {
     "data": {
      "text/plain": [
       "True"
      ]
     },
     "execution_count": 10,
     "metadata": {},
     "output_type": "execute_result"
    }
   ],
   "source": [
    "isPerfect(28)"
   ]
  },
  {
   "cell_type": "markdown",
   "metadata": {},
   "source": [
    "Berechnen Sie die Menge aller perfekten Zahlen, die kleiner als $10\\,000$ sind."
   ]
  },
  {
   "cell_type": "code",
   "execution_count": 13,
   "metadata": {},
   "outputs": [],
   "source": [
    "def perfectNumbers(n):\n",
    "    'This function computes the set of all perfect numbers less than n.'\n",
    "    'your code here'\n",
    "    \n",
    "    return { x for x in range(1, n) if isPerfect(x) }"
   ]
  },
  {
   "cell_type": "markdown",
   "metadata": {},
   "source": [
    "Beim Ausführen der nächsten Zeile sollte die Zahl `6`berechnet werden."
   ]
  },
  {
   "cell_type": "code",
   "execution_count": 14,
   "metadata": {},
   "outputs": [
    {
     "data": {
      "text/plain": [
       "{6}"
      ]
     },
     "execution_count": 14,
     "metadata": {},
     "output_type": "execute_result"
    }
   ],
   "source": [
    "perfectNumbers(10)"
   ]
  },
  {
   "cell_type": "code",
   "execution_count": 17,
   "metadata": {},
   "outputs": [
    {
     "data": {
      "text/plain": [
       "{6, 28, 496, 8128}"
      ]
     },
     "execution_count": 17,
     "metadata": {},
     "output_type": "execute_result"
    }
   ],
   "source": [
    "perfectNumbers(10000)"
   ]
  },
  {
   "cell_type": "markdown",
   "metadata": {},
   "source": [
    "## Aufgabe 2:"
   ]
  },
  {
   "cell_type": "markdown",
   "metadata": {},
   "source": [
    "Ziel dieser Aufgabe ist die Implementierung einer Funktion `ggt`, die für zwei\n",
    "natürliche Zahlen $m$ und $n$ den größten gemeinsamen Teiler dieser Zahlen berechnet.  Die Funktion `ggt` soll mit Hilfe mehrerer Hilffunktionen berechnet werden."
   ]
  },
  {
   "cell_type": "code",
   "execution_count": 22,
   "metadata": {},
   "outputs": [
    {
     "data": {
      "text/plain": [
       "{1, 2, 3, 6}"
      ]
     },
     "execution_count": 22,
     "metadata": {},
     "output_type": "execute_result"
    }
   ],
   "source": [
    "def teiler(n):\n",
    "    'This function computes the set of all natural number that divide n.'\n",
    "    'your code here'\n",
    "    \n",
    "    return { x for x in range(1, n+1) if n % x == 0 }\n",
    "    \n",
    "teiler(6)"
   ]
  },
  {
   "cell_type": "markdown",
   "metadata": {},
   "source": [
    "Implementieren Sie eine Funktion `gt`, so dass der Aufruf $\\texttt{gt}(m,n)$ \n",
    "für zwei natürliche Zahlen $m$ und $n$ die Menge aller *gemeinsamen Teiler*\n",
    "von $m$ und $n$ berechnet. \n",
    "\n",
    "**Hinweis**: Berechnen Sie zunächst die Menge der Teiler von $m$ und \n",
    "die Menge der Teiler von $n$.  Überlegen Sie, wie die Mengenlehre Ihnen \n",
    "weiterhilft, wenn Sie diese beiden Mengen berechnet haben."
   ]
  },
  {
   "cell_type": "code",
   "execution_count": 25,
   "metadata": {},
   "outputs": [
    {
     "data": {
      "text/plain": [
       "{1, 3}"
      ]
     },
     "execution_count": 25,
     "metadata": {},
     "output_type": "execute_result"
    }
   ],
   "source": [
    "def gt(m, n):\n",
    "    '''This function calculates the set of numbers that \n",
    "       are divisors of both m and n.\n",
    "    '''   \n",
    "    'your code here'\n",
    "    \n",
    "    return teiler(m) & teiler(n)\n",
    "\n",
    "gt(3, 6)"
   ]
  },
  {
   "cell_type": "markdown",
   "metadata": {},
   "source": [
    "Implementieren Sie nun eine Funktion `ggt`, so dass der Aufruf \n",
    "$\\texttt{ggt}(m,n)$ den größten gemeinsamen Teiler\n",
    "der beiden Zahlen $m$ und $n$ berechnet. "
   ]
  },
  {
   "cell_type": "code",
   "execution_count": 29,
   "metadata": {},
   "outputs": [
    {
     "data": {
      "text/plain": [
       "4"
      ]
     },
     "execution_count": 29,
     "metadata": {},
     "output_type": "execute_result"
    }
   ],
   "source": [
    "def ggt(m, n):\n",
    "    'This function return the greatest common divisor of m and n.'\n",
    "    'your code here'\n",
    "    \n",
    "    return max(gt(m, n))\n",
    "    \n",
    "ggt(4, 8)"
   ]
  },
  {
   "cell_type": "markdown",
   "metadata": {},
   "source": [
    "## Aufgabe 3:"
   ]
  },
  {
   "cell_type": "markdown",
   "metadata": {},
   "source": [
    "Ziel dieser Aufgabe ist die Implementierung einer Funktion `kgv`, die für zwei\n",
    "natürliche Zahlen $m$ und $n$ das kleinste gemeinsame Vielfache dieser Zahlen berechnet.  Die Funktion `kgv` soll mit Hilfe geeigneter Hilffunktionen berechnet werden."
   ]
  },
  {
   "cell_type": "code",
   "execution_count": 38,
   "metadata": {},
   "outputs": [
    {
     "data": {
      "text/plain": [
       "8"
      ]
     },
     "execution_count": 38,
     "metadata": {},
     "output_type": "execute_result"
    }
   ],
   "source": [
    "def kgv(m, n):\n",
    "    'This function return the smallest common multiple of m and n.'\n",
    "    'your code here'\n",
    "    \n",
    "    return min({ x for x in range(m, n*m+1) if x % m == 0 } & { x for x in range(n, n*m+1) if x % n == 0 })\n",
    "\n",
    "kgv(4, 8)"
   ]
  },
  {
   "cell_type": "markdown",
   "metadata": {},
   "source": [
    "## Aufgabe 4:"
   ]
  },
  {
   "cell_type": "markdown",
   "metadata": {},
   "source": [
    "Implementieren Sie eine Funktion `subsets`, so dass \n",
    "$\\texttt{subsets}(M, k)$ für eine Menge $M$ und eine natürliche Zahl $k$ \n",
    "die Menge aller der Teilmengen von $M$ berechnet, die genau $k$ Elemente haben.\n",
    "\n",
    "**Hinweis**:  Versuchen Sie, die Funktion  $\\texttt{subsets}(M, k)$ rekursiv \n",
    "durch Rekursion nach $k$ zu implementieren.  "
   ]
  },
  {
   "cell_type": "code",
   "execution_count": 7,
   "metadata": {},
   "outputs": [
    {
     "data": {
      "text/plain": [
       "{frozenset({1, 6}), frozenset({3, 6}), frozenset({1, 3})}"
      ]
     },
     "execution_count": 7,
     "metadata": {},
     "output_type": "execute_result"
    }
   ],
   "source": [
    "def subsets(M, k):\n",
    "    if k == 0:\n",
    "        return { frozenset() }\n",
    "    sub = subsets(M, k-1)\n",
    "    return { y|{x} for x in M\n",
    "                    for y in sub\n",
    "                   if x not in y }\n",
    "\n",
    "a = { frozenset() }\n",
    "{ y|{x} for y in a\n",
    "    for x in { 1, 2 }}\n",
    "\n",
    "subsets({ 1, 3, 6 }, 2)"
   ]
  },
  {
   "cell_type": "markdown",
   "metadata": {},
   "source": [
    "Geben Sie eine Implementierung der Funktion `power` an, bei der Sie die \n",
    "Funktion `subsets` verwenden.  Für eine Menge $M$ soll die Funktion \n",
    "$\\texttt{power}(M)$ die Potenz-Menge $2^M$ berechnen."
   ]
  },
  {
   "cell_type": "markdown",
   "metadata": {},
   "source": [
    "## Aufgabe 5:"
   ]
  },
  {
   "cell_type": "markdown",
   "metadata": {},
   "source": [
    "Ein Tupel der Form $\\langle a, b, c \\rangle$ wird als \n",
    "*geordnetes <a href=\"http://de.wikipedia.org/wiki/Pythagoreisches_Tripel\">pythagoreisches Tripel</a>*\n",
    "bezeichnet, wenn sowohl\n",
    "$$ a^2 + b^2 = c^2 \\quad \\mbox{als auch} \\quad a < b $$\n",
    "gilt.  Beispielsweise ist $\\langle 3,4,5 \\rangle$ ein geordnetes pythagoreisches Tripel, denn einerseits ist \n",
    "$3^2 + 4^2 = 5^2$ und andererseits gilt $3 < 4$.\n",
    "\n",
    "Implementieren Sie eine Prozedur $\\texttt{pythagoras}$, so dass der Aufruf\n",
    "$$\\texttt{pythagoras}(n)$$\n",
    "für eine natürliche Zahl $n$ die Menge aller geordneten  pythagoreischen Tripel $\\langle a,b,c \\rangle$\n",
    "berechnet, für die $c \\leq n$ ist."
   ]
  },
  {
   "cell_type": "code",
   "execution_count": 50,
   "metadata": {},
   "outputs": [
    {
     "data": {
      "text/plain": [
       "{(3, 4, 5),\n",
       " (5, 12, 13),\n",
       " (6, 8, 10),\n",
       " (7, 24, 25),\n",
       " (8, 15, 17),\n",
       " (9, 12, 15),\n",
       " (9, 40, 41),\n",
       " (10, 24, 26),\n",
       " (12, 16, 20),\n",
       " (12, 35, 37),\n",
       " (14, 48, 50),\n",
       " (15, 20, 25),\n",
       " (15, 36, 39),\n",
       " (16, 30, 34),\n",
       " (18, 24, 30),\n",
       " (20, 21, 29),\n",
       " (21, 28, 35),\n",
       " (24, 32, 40),\n",
       " (27, 36, 45),\n",
       " (30, 40, 50)}"
      ]
     },
     "execution_count": 50,
     "metadata": {},
     "output_type": "execute_result"
    }
   ],
   "source": [
    "def pythagoras(n):\n",
    "    \"your code here\"\n",
    "    return { (a, b, c) for c in range(1, n+1)\n",
    "                for a in range(1, c+1)\n",
    "                for b in range(1, c+1)\n",
    "                if c**2 == a**2 + b**2 and a < b }\n",
    "\n",
    "pythagoras(50)"
   ]
  },
  {
   "cell_type": "markdown",
   "metadata": {},
   "source": [
    "Ein pythagoreisches Tripel $\\langle a,b,c \\rangle$ ist ein \n",
    "<em>reduziertes</em> Tripel, wenn\n",
    "die Zahlen $a$, $b$ und $c$ keinen <em>nicht-trivialen</em> gemeinsamen Teiler haben.  Ein <em>nicht-trivaler</em> gemeinsamer Teiler ist ein Teiler, der größer als $1$ ist.\n",
    "\n",
    "Implementieren Sie eine Funktion `isReduced`, die als Argumente drei natürliche Zahlen $a$, $b$ und $c$ erhält und die genau dann $\\texttt{True}$ als Ergebnis zurück liefert,\n",
    "wenn das Tripel $\\langle a, b, c\\rangle$ reduziert ist."
   ]
  },
  {
   "cell_type": "code",
   "execution_count": 54,
   "metadata": {},
   "outputs": [
    {
     "data": {
      "text/plain": [
       "False"
      ]
     },
     "execution_count": 54,
     "metadata": {},
     "output_type": "execute_result"
    }
   ],
   "source": [
    "def isReduced(a, b, c):\n",
    "    \"your code here\"\n",
    "    \n",
    "    return a**2 + b**2 == c**2 and ggt(a,b) == 1 and ggt(a,c) == 1 and ggt(b,c) == 1\n",
    "\n",
    "isReduced(6, 8, 10) #isReduced(3, 4, 5)"
   ]
  },
  {
   "cell_type": "markdown",
   "metadata": {},
   "source": [
    "Implementieren Sie eine Prozedur `reducedPythagoras`, so dass der Aufruf\n",
    "      $$\\texttt{reducedPythagoras}(n)$$\n",
    "die Menge aller geordneten pythagoreischen Tripel $\\langle a,b,c \\rangle$ berechnet, die reduziert sind.  Berechnen Sie mit dieser Prozedur alle reduzierten geordneten pythagoreischen \n",
    "Tripel $\\langle a,b,c \\rangle$, für die $c \\leq 50$ ist. "
   ]
  },
  {
   "cell_type": "code",
   "execution_count": 55,
   "metadata": {},
   "outputs": [],
   "source": [
    "def reducedPythagoras(n):\n",
    "    \"your code here\"\n",
    "    \n",
    "    return { (a, b, c) for (a, b, c) in pythagoras(n) if isReduced(a, b, c) }"
   ]
  },
  {
   "cell_type": "code",
   "execution_count": 56,
   "metadata": {},
   "outputs": [
    {
     "data": {
      "text/plain": [
       "{(3, 4, 5),\n",
       " (5, 12, 13),\n",
       " (7, 24, 25),\n",
       " (8, 15, 17),\n",
       " (9, 40, 41),\n",
       " (12, 35, 37),\n",
       " (20, 21, 29)}"
      ]
     },
     "execution_count": 56,
     "metadata": {},
     "output_type": "execute_result"
    }
   ],
   "source": [
    "reducedPythagoras(50)"
   ]
  },
  {
   "cell_type": "markdown",
   "metadata": {},
   "source": [
    "## Aufgabe 6:"
   ]
  },
  {
   "cell_type": "markdown",
   "metadata": {},
   "source": [
    "Nehmen Sie an, ein Spieler hat im Poker \n",
    "(<a href=\"https://de.wikipedia.org/wiki/Texas_Hold’em\">Texas Hold'em</a>) \n",
    "die beiden\n",
    "Karten $\\langle 8, \\texttt{'♠'}\\rangle$ und $\\langle 9, \\texttt{'♠'}\\rangle$ erhalten.  Schreiben Sie ein\n",
    "Programm, dass die folgenden Fragen beantworten.\n",
    "<ol>\n",
    "<li>  Wie groß ist die Wahrscheinlichkeit, dass im Flop wenigsten zwei weitere Karten\n",
    "      der Farbe $\\texttt{'♠'}$ liegen?\n",
    "      </li>\n",
    "<li>  Wie groß ist die Wahrscheinlichkeit, dass alle drei Karten im Flop\n",
    "      die Farbe $\\texttt{'♠'}$ haben?\n",
    "      </li>\n",
    "</ol>"
   ]
  },
  {
   "cell_type": "code",
   "execution_count": 183,
   "metadata": {},
   "outputs": [
    {
     "data": {
      "text/plain": [
       "0.11785714285714285"
      ]
     },
     "execution_count": 183,
     "metadata": {},
     "output_type": "execute_result"
    }
   ],
   "source": [
    "Values = { '2', '3', '4', '5', '6', '7', '8', '9', 'T', \n",
    "           'J', 'Q', 'K', 'A' \n",
    "         }\n",
    "\n",
    "Suits = { '♣', '♥', '♦', '♠' }\n",
    "\n",
    "Deck = { (v, s) for v in Values for s in Suits }\n",
    "\n",
    "Hole = { ('8', '♠'), ('9', '♠') }\n",
    "\n",
    "Rest = Deck - Hole\n",
    "\n",
    "Flops = { (c1, c2, c3) for c1 in Rest \n",
    "                       for c2 in Rest \n",
    "                       for c3 in Rest \n",
    "                       if len({c1, c2, c3}) == 3 \n",
    "        }\n",
    "\n",
    "Trips = { (c1, c2, c3) for (c1, c2, c3) in Flops if len(list(filter(lambda x: x == '♠', [ c1[1], c2[1], c3[1] ]))) >= 2 }\n",
    "Trips1 = { (c1, c2, c3) for (c1, c2, c3) in Flops if len(list(filter(lambda x: x == '♠', [ c1[1], c2[1], c3[1] ]))) == 3 }\n",
    "#Trips = { (c1, c2, c3) for (c1, c2, c3) in Flops if 2 <= len({ c1[1], c2[1], c3[1] } & { '♠' }) <= 3 }\n",
    "\n",
    "Trips\n",
    "\n",
    "len(Trips)/len(Flops)\n",
    "#len(Trips1)/len(Flops)"
   ]
  },
  {
   "cell_type": "markdown",
   "metadata": {},
   "source": [
    "## Aufgabe 7:"
   ]
  },
  {
   "cell_type": "markdown",
   "metadata": {},
   "source": [
    "Ein <a href=\"https://de.wikipedia.org/wiki/Anagramm\">Anagramm</a> eines gegebenen Wortes $v$ ist ein Wort $w$, dass\n",
    "aus dem Wort $v$ durch Umstellung von Buchstaben entsteht.  Beispielsweise ist das Wort \n",
    "$\\texttt{\"atlas\"}$ ein\n",
    "Anagramm des Wortes \"$\\texttt{salat}$\".  Implementieren Sie eine Funktion $\\texttt{anagram}(s)$, die für ein\n",
    "gegebenes Wort $s$ alle Wörter berechnet, die sich aus dem Wort $s$ durch Umstellung von Buchstaben\n",
    "ergeben.  Die Menge dieser Wörter soll dann als Ergebnis zurück gegeben werden.  Es ist nicht gefordert, dass\n",
    "die Anagramme sinnvolle Wörter der deutschen Sprache sind.  Beispielsweise ist auch das Wort \"$\\texttt{talas}$\"\n",
    "ein Anagramm des Wortes \"$\\texttt{salat}$\".\n"
   ]
  },
  {
   "cell_type": "code",
   "execution_count": 22,
   "metadata": {},
   "outputs": [
    {
     "name": "stdout",
     "output_type": "stream",
     "text": [
      "{'Tse', 'seT', 'esT'}\n"
     ]
    }
   ],
   "source": [
    "def anagram(s):\n",
    "    if len(s) < 2:\n",
    "        return s\n",
    "    else:\n",
    "        return { s[x]+y for x in range(len(s))\n",
    "                            for y in anagram(s[:x] + s[x+1:])\n",
    "                               if s[x]+y != s }\n",
    "\n",
    "print(anagram(\"Tes\"))"
   ]
  },
  {
   "cell_type": "markdown",
   "metadata": {},
   "source": [
    "## Aufgabe 8:"
   ]
  },
  {
   "cell_type": "markdown",
   "metadata": {},
   "source": [
    "Nehmen Sie an, dass Sie $n$ Würfel haben, deren Seiten mit den Zahlen 1 bis 6 bedruckt sind.  Weiter ist eine\n",
    "feste Zahl $s$ vorgegeben.  Implementieren Sie eine Funktion $\\texttt{numberDiceRolls}$, so dass der Aufruf\n",
    "$$ \\texttt{numberDiceRolls}(n, s) $$ \n",
    "die Anzahl der Möglichkeiten berechnet, mit $n$ Würfeln in der Summe die Zahl $s$ zu würfeln.  Beispielsweise\n",
    "soll $\\texttt{numberDiceRolls}(3, 5)$ den Wert 6 liefern, denn es gibt 6 Möglichkeiten, um mit drei Würfeln in\n",
    "der Summe eine 5 zu würfeln:\n",
    "$$\\langle1, 1, 3\\rangle, \\langle1, 2, 2\\rangle, \\langle1, 3, 1\\rangle, \\langle2, 1, 2\\rangle, \\langle2, 2,\n",
    "1\\rangle, \\langle3, 1, 1\\rangle$$\n",
    "\n",
    "**Hinweis**:  Implementieren Sie die Funktion $\\texttt{numberDiceRolls}(n, s)$ *rekursiv*."
   ]
  },
  {
   "cell_type": "code",
   "execution_count": 58,
   "metadata": {},
   "outputs": [
    {
     "name": "stdout",
     "output_type": "stream",
     "text": [
      "6\n",
      "1\n",
      "0\n"
     ]
    },
    {
     "data": {
      "text/plain": [
       "{(1, 1, 3), (1, 2, 2), (1, 3, 1), (2, 1, 2), (2, 2, 1), (3, 1, 1)}"
      ]
     },
     "execution_count": 58,
     "metadata": {},
     "output_type": "execute_result"
    }
   ],
   "source": [
    "def echteAddierer(n):\n",
    "    return { (x, y) for x in range(1, n)\n",
    "                       for y in range(1, n)\n",
    "                           if x + y == n }\n",
    "    \n",
    "def possibleDicerolls(n, s):\n",
    "    if n == 1:\n",
    "        return { (s, ) }\n",
    "    \n",
    "    if n == 2:\n",
    "        initialResult = echteAddierer(s)\n",
    "\n",
    "        return initialResult\n",
    "    \n",
    "    subPossibleDicerolls = possibleDicerolls(n-1, s)\n",
    "    \n",
    "    result = { x[0:y] + z + x[y+1::]\n",
    "                for x in subPossibleDicerolls\n",
    "                for y in range(len(x))\n",
    "                for z in echteAddierer(x[y]) }\n",
    "\n",
    "    return result\n",
    "\n",
    "def numberDiceRolls(n, s):    \n",
    "    return len(possibleDicerolls(n, s))\n",
    "\n",
    "print(numberDiceRolls(3, 5))\n",
    "print(numberDiceRolls(1, 5))\n",
    "print(numberDiceRolls(2, 1))\n",
    "\n",
    "possibleDicerolls(3, 5)"
   ]
  },
  {
   "cell_type": "code",
   "execution_count": null,
   "metadata": {},
   "outputs": [],
   "source": []
  }
 ],
 "metadata": {
  "@webio": {
   "lastCommId": null,
   "lastKernelId": null
  },
  "hide_input": false,
  "kernelspec": {
   "display_name": "Python 3",
   "language": "python",
   "name": "python3"
  },
  "language_info": {
   "codemirror_mode": {
    "name": "ipython",
    "version": 3
   },
   "file_extension": ".py",
   "mimetype": "text/x-python",
   "name": "python",
   "nbconvert_exporter": "python",
   "pygments_lexer": "ipython3",
   "version": "3.8.2"
  },
  "toc": {
   "base_numbering": 1,
   "nav_menu": {},
   "number_sections": true,
   "sideBar": true,
   "skip_h1_title": false,
   "title_cell": "Table of Contents",
   "title_sidebar": "Contents",
   "toc_cell": false,
   "toc_position": {},
   "toc_section_display": true,
   "toc_window_display": false
  },
  "varInspector": {
   "cols": {
    "lenName": 16,
    "lenType": 16,
    "lenVar": 40
   },
   "kernels_config": {
    "python": {
     "delete_cmd_postfix": "",
     "delete_cmd_prefix": "del ",
     "library": "var_list.py",
     "varRefreshCmd": "print(var_dic_list())"
    },
    "r": {
     "delete_cmd_postfix": ") ",
     "delete_cmd_prefix": "rm(",
     "library": "var_list.r",
     "varRefreshCmd": "cat(var_dic_list()) "
    }
   },
   "types_to_exclude": [
    "module",
    "function",
    "builtin_function_or_method",
    "instance",
    "_Feature"
   ],
   "window_display": false
  }
 },
 "nbformat": 4,
 "nbformat_minor": 2
}
