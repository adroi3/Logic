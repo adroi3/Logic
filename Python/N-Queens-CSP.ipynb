{
 "cells": [
  {
   "cell_type": "code",
   "execution_count": null,
   "metadata": {
    "scrolled": true
   },
   "outputs": [],
   "source": [
    "from IPython.core.display import HTML\n",
    "with open('style.css', 'r') as file:\n",
    "    css = file.read()\n",
    "HTML(css)"
   ]
  },
  {
   "cell_type": "markdown",
   "metadata": {},
   "source": [
    "# The 8-Queens Problem"
   ]
  },
  {
   "cell_type": "markdown",
   "metadata": {},
   "source": [
    "The <a href=\"https://en.wikipedia.org/wiki/Eight_queens_puzzle\">eight queens puzzle</a> is the problem of placing eight chess queens on a chessboard so that no two queens can capture each other.  In <a href=\"https://en.wikipedia.org/wiki/Chess\">chess</a> a queen can capture another piece if this piece is either\n",
    "<ol>\n",
    "    <li>in the same row,</li>\n",
    "    <li>in the same column, or</li>\n",
    "    <li>in the same diagonal.</li>\n",
    "</ol>\n",
    "The image below shows a queen in row 3, column 4.  All the locations where a piece can be captured by this queen are marked with an arrow.\n",
    "\n",
    "<img src=\"queen-captures.png\">\n",
    "\n",
    "We will solve this puzzle by encoding it as a *constrant satisfaction problem*.\n",
    "- The set of values is $\\{1,\\cdots,8\\}$.  These values are interpreted as columns.\n",
    "- We will use 8 variables $Q_1$, $\\cdots$, $Q_n$.  If $Q_i = j$, then the interpretation \n",
    "  is that there is a queen at the position $(i, j)$, i.e. the queen in row $i$ is \n",
    "  placed in column $j$. \n",
    "- The condition \n",
    "  $$ \\bigl\\{ \\texttt{Q}_i \\not= \\texttt{Q}_j \\bigm| \n",
    "      i \\in \\{1,\\cdots,8\\} \\wedge j \\in \\{1,\\cdots,8\\} \\wedge j < i \\bigr\\} \n",
    "  $$\n",
    "  specifies that there is at most on queen in a given column.\n",
    "- The condition\n",
    "  $$ \\bigl\\{ |i  - j| \\not= |\\texttt{Q}_i - \\texttt{Q}_j| \\bigm| \n",
    "     i \\in \\{1,\\cdots,8\\} \\wedge j \\in \\{1,\\cdots,8\\} \\wedge j < i \\bigr\\}\n",
    "  $$\n",
    "  specifies that there is at most one queen in a given diagonal."
   ]
  },
  {
   "cell_type": "code",
   "execution_count": null,
   "metadata": {},
   "outputs": [],
   "source": [
    "def queens_CSP():\n",
    "        \"Returns a CSP coding the 8 queens problem.\"\n",
    "        S            = range(1, 8+1)          # used as indices\n",
    "        Variables    = { f'Q{i}' for i in S }\n",
    "        Values       = { 1, 2, 3, 4, 5, 6, 7, 8 }\n",
    "        SameRow      = { f'Q{i} != Q{j}' for i in S for j in S if i < j }\n",
    "        SameDiagonal = { f'abs(Q{i}-Q{j}) != {j-i}' for i in S for j in S if i < j }\n",
    "        return (Variables, Values, SameRow | SameDiagonal)"
   ]
  },
  {
   "cell_type": "code",
   "execution_count": null,
   "metadata": {},
   "outputs": [],
   "source": [
    "%run Backtracking-Constraint-Solver.ipynb"
   ]
  },
  {
   "cell_type": "markdown",
   "metadata": {},
   "source": [
    "Next, we create a *CSP* that encodes the *8-queens-puzzle*."
   ]
  },
  {
   "cell_type": "code",
   "execution_count": null,
   "metadata": {},
   "outputs": [],
   "source": [
    "CSP = queens_CSP()\n",
    "CSP"
   ]
  },
  {
   "cell_type": "markdown",
   "metadata": {},
   "source": [
    "This *CSP* has 8 variables and 56 constraints.  When we solved the same problem using propositional logic and the *Davis-Putnam algorithm*, we had used 64 propositional variables and 512 clauses."
   ]
  },
  {
   "cell_type": "code",
   "execution_count": null,
   "metadata": {},
   "outputs": [],
   "source": [
    "len(CSP[0]), len(CSP[2])"
   ]
  },
  {
   "cell_type": "markdown",
   "metadata": {},
   "source": [
    "On my desktop computer (2017 iMac with 3.4 GHz Quad-Core Intel i5) it takes about 45 ms to solve the problem. "
   ]
  },
  {
   "cell_type": "code",
   "execution_count": null,
   "metadata": {},
   "outputs": [],
   "source": [
    "%%time\n",
    "Solution = solve(CSP)\n",
    "Solution"
   ]
  },
  {
   "cell_type": "code",
   "execution_count": null,
   "metadata": {},
   "outputs": [],
   "source": [
    "import chess"
   ]
  },
  {
   "cell_type": "markdown",
   "metadata": {},
   "source": [
    "This function takes a solution and displays it as a chess board with n queens using the library `python-chess`."
   ]
  },
  {
   "cell_type": "code",
   "execution_count": null,
   "metadata": {},
   "outputs": [],
   "source": [
    "def show_solution(Solution):\n",
    "    board = chess.Board(None)  # create empty chess board\n",
    "    queen = chess.Piece(chess.QUEEN, True)\n",
    "    for row in range(1, 8+1):\n",
    "        for col in range(1, 8+1):\n",
    "            field_number = (row - 1) * 8 + col - 1\n",
    "            if Solution['Q' + str(row)] == col:\n",
    "                board.set_piece_at(field_number, queen)\n",
    "    display(board)"
   ]
  },
  {
   "cell_type": "code",
   "execution_count": null,
   "metadata": {
    "scrolled": false
   },
   "outputs": [],
   "source": [
    "show_solution(Solution)"
   ]
  },
  {
   "cell_type": "code",
   "execution_count": null,
   "metadata": {},
   "outputs": [],
   "source": []
  }
 ],
 "metadata": {
  "hide_input": false,
  "kernelspec": {
   "display_name": "Python 3",
   "language": "python",
   "name": "python3"
  },
  "language_info": {
   "codemirror_mode": {
    "name": "ipython",
    "version": 3
   },
   "file_extension": ".py",
   "mimetype": "text/x-python",
   "name": "python",
   "nbconvert_exporter": "python",
   "pygments_lexer": "ipython3",
   "version": "3.8.5"
  },
  "toc": {
   "base_numbering": 1,
   "nav_menu": {},
   "number_sections": true,
   "sideBar": true,
   "skip_h1_title": false,
   "title_cell": "Table of Contents",
   "title_sidebar": "Contents",
   "toc_cell": false,
   "toc_position": {},
   "toc_section_display": true,
   "toc_window_display": false
  },
  "varInspector": {
   "cols": {
    "lenName": 16,
    "lenType": 16,
    "lenVar": 40
   },
   "kernels_config": {
    "python": {
     "delete_cmd_postfix": "",
     "delete_cmd_prefix": "del ",
     "library": "var_list.py",
     "varRefreshCmd": "print(var_dic_list())"
    },
    "r": {
     "delete_cmd_postfix": ") ",
     "delete_cmd_prefix": "rm(",
     "library": "var_list.r",
     "varRefreshCmd": "cat(var_dic_list()) "
    }
   },
   "types_to_exclude": [
    "module",
    "function",
    "builtin_function_or_method",
    "instance",
    "_Feature"
   ],
   "window_display": false
  }
 },
 "nbformat": 4,
 "nbformat_minor": 2
}
