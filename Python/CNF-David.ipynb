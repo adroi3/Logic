{
 "cells": [
  {
   "cell_type": "code",
   "execution_count": 1,
   "metadata": {},
   "outputs": [
    {
     "data": {
      "text/html": [
       "<link href='http://fonts.googleapis.com/css?family=Alegreya+Sans:100,300,400,500,700,800,900,100italic,300italic,400italic,500italic,700italic,800italic,900italic' rel='stylesheet' type='text/css'>\n",
       "<link href='http://fonts.googleapis.com/css?family=Arvo:400,700,400italic' rel='stylesheet' type='text/css'>\n",
       "<link href='http://fonts.googleapis.com/css?family=PT+Mono' rel='stylesheet' type='text/css'>\n",
       "<link href='http://fonts.googleapis.com/css?family=Shadows+Into+Light' rel='stylesheet' type='text/css'>\n",
       "<link href='http://fonts.googleapis.com/css?family=Philosopher:400,700,400italic,700italic' rel='stylesheet' type='text/css'>\n",
       "\n",
       "<style>\n",
       "\n",
       "@font-face {\n",
       "    font-family: \"Computer Modern\";\n",
       "    src: url('http://mirrors.ctan.org/fonts/cm-unicode/fonts/otf/cmunss.otf');\n",
       "}\n",
       "\n",
       ".container { width: 100% }\n",
       "\n",
       "/* Formatting for header cells */\n",
       ".text_cell_render h1 {\n",
       "    font-family: 'Philosopher', sans-serif;\n",
       "    font-weight: 400;\n",
       "    font-size: 2.2em;\n",
       "    line-height: 100%;\n",
       "    color: rgb(0, 80, 120);\n",
       "    margin-bottom: 0.1em;\n",
       "    margin-top: 0.1em;\n",
       "    display: block;\n",
       "}\t\n",
       ".text_cell_render h2 {\n",
       "    font-family: 'Philosopher', serif;\n",
       "    font-weight: 400;\n",
       "    font-size: 1.9em;\n",
       "    line-height: 100%;\n",
       "    color: rgb(200,100,0);\n",
       "    margin-bottom: 0.1em;\n",
       "    margin-top: 0.1em;\n",
       "    display: block;\n",
       "}\t\n",
       "\n",
       ".text_cell_render h3 {\n",
       "    font-family: 'Philosopher', serif;\n",
       "    margin-top:12px;\n",
       "    margin-bottom: 3px;\n",
       "    font-style: italic;\n",
       "    color: rgb(94,127,192);\n",
       "}\n",
       "\n",
       ".text_cell_render h4 {\n",
       "    font-family: 'Philosopher', serif;\n",
       "}\n",
       "\n",
       ".text_cell_render h5 {\n",
       "    font-family: 'Alegreya Sans', sans-serif;\n",
       "    font-weight: 300;\n",
       "    font-size: 16pt;\n",
       "    color: grey;\n",
       "    font-style: italic;\n",
       "    margin-bottom: .1em;\n",
       "    margin-top: 0.1em;\n",
       "    display: block;\n",
       "}\n",
       "\n",
       ".text_cell_render h6 {\n",
       "    font-family: 'PT Mono', sans-serif;\n",
       "    font-weight: 300;\n",
       "    font-size: 10pt;\n",
       "    color: grey;\n",
       "    margin-bottom: 1px;\n",
       "    margin-top: 1px;\n",
       "}\n",
       "\n",
       ".text_cell_render em {\n",
       "    font-family: 'Philosopher', sans-serif;\n",
       "    color:        blue;\n",
       "    background-color: rgb(255,220,180);\n",
       "    font-size:    110%;\n",
       "    margin-left:   2px;\n",
       "    margin-right:  2px;\n",
       "    font-weight:   100;\n",
       "}\n",
       "\n",
       ".text_cell_render b {\n",
       "    color:            rgb(255,195,195);\n",
       "    background-color: rgb(0,0,0);\n",
       "    font-size:    110%;\n",
       "    margin-left:   2px;\n",
       "    margin-right:  2px;\n",
       "    font-weight:   650;\n",
       "}\n",
       "\n",
       ".text_cell_render tt {\n",
       "    font-size:    120%;\n",
       "    margin-left:   2px;\n",
       "    margin-right:  2px;\n",
       "    font-weight:   150;\n",
       "}\n",
       "\n",
       ".Codemirror {\n",
       "    font-family: \"PT Mono\";\n",
       "    font-size: 100%;\n",
       "}\n",
       "\n",
       "</style>\n",
       "\n"
      ],
      "text/plain": [
       "<IPython.core.display.HTML object>"
      ]
     },
     "execution_count": 1,
     "metadata": {},
     "output_type": "execute_result"
    }
   ],
   "source": [
    "from IPython.core.display import HTML\n",
    "with open('style.css') as file:\n",
    "    css = file.read()\n",
    "HTML(css)"
   ]
  },
  {
   "cell_type": "markdown",
   "metadata": {},
   "source": [
    "# How to Compute the Conjunctive Normal Form"
   ]
  },
  {
   "cell_type": "markdown",
   "metadata": {},
   "source": [
    "Formulas are represented as nested tuples.  In order to convert a string into a nested tuple we use the *parser*\n",
    "that is found in the module `propLogParser`."
   ]
  },
  {
   "cell_type": "code",
   "execution_count": 2,
   "metadata": {},
   "outputs": [],
   "source": [
    "import propLogParser as plp"
   ]
  },
  {
   "cell_type": "markdown",
   "metadata": {},
   "source": [
    "The function `eliminateBiconditional(f)` takes a formula `f` from propositional logic and eliminates all occurrences of the operator '↔' from this formula.  This is done by using the following equivalence:\n",
    "$$ (f \\leftrightarrow g) \\;\\Leftrightarrow\\; (f \\rightarrow g) \\wedge (g \\rightarrow f) $$"
   ]
  },
  {
   "cell_type": "code",
   "execution_count": 3,
   "metadata": {},
   "outputs": [],
   "source": [
    "def eliminateBiconditional(f):\n",
    "    'Eliminate the logical operator \"↔\" from the formula f.'\n",
    "    if isinstance(f, str):   # This case covers variables.\n",
    "        return f\n",
    "    if f[0] == '↔':\n",
    "        g, h = f[1:]\n",
    "        ge   = eliminateBiconditional(g)\n",
    "        he   = eliminateBiconditional(h)\n",
    "        return ('∧', ('→', ge, he), ('→', he, ge))\n",
    "    if f[0] == '⊤':\n",
    "        return f\n",
    "    if f[0] == '⊥':\n",
    "        return f\n",
    "    if f[0] == '¬':\n",
    "        g  = f[1]\n",
    "        ge = eliminateBiconditional(g)\n",
    "        return ('¬', ge)\n",
    "    else:   # This case covers '→', '∧', and '∨'.\n",
    "        op, g, h = f\n",
    "        ge       = eliminateBiconditional(g)\n",
    "        he       = eliminateBiconditional(h)\n",
    "        return (op, ge, he)"
   ]
  },
  {
   "cell_type": "markdown",
   "metadata": {},
   "source": [
    "The function $\\texttt{eliminateConditional}(f)$ takes a formula $f$ from propositional logic and eliminates all occurrences of the operator '→' from this formula.  This is done by using the following equivalence:\n",
    "$$ (f \\rightarrow g) \\;\\Leftrightarrow\\; (\\neg f \\vee g) $$"
   ]
  },
  {
   "cell_type": "code",
   "execution_count": 4,
   "metadata": {},
   "outputs": [],
   "source": [
    "def eliminateConditional(f):\n",
    "    'Eliminate the logical operator \"→\" from f.'\n",
    "    if isinstance(f, str): \n",
    "        return f\n",
    "    if f[0] == '⊤':\n",
    "        return f\n",
    "    if f[0] == '⊥':\n",
    "        return f\n",
    "    if f[0] == '→':\n",
    "        g, h = f[1:]\n",
    "        ge   = eliminateConditional(g)\n",
    "        he   = eliminateConditional(h)\n",
    "        return ('∨', ('¬', ge), he)\n",
    "    if f[0] == '¬':\n",
    "        g  = f[1]\n",
    "        ge = eliminateConditional(g)\n",
    "        return ('¬', ge)\n",
    "    else:      # This case covers '→', '∧', and '∨'.\n",
    "        op, g, h = f\n",
    "        ge       = eliminateConditional(g)\n",
    "        he       = eliminateConditional(h)\n",
    "        return (op, ge, he)"
   ]
  },
  {
   "cell_type": "markdown",
   "metadata": {},
   "source": [
    "The function $\\texttt{nnf}(f)$ computes the *negation normal form* of $f$, while $\\texttt{neg}(f)$ computes the *negation normal form* of $\\neg f$.  The expression $\\texttt{nnf}(f)$ is defined recursively as follows:\n",
    "<ol>\n",
    "    <li> $\\texttt{nnf}(\\neg \\texttt{F}) = \\texttt{neg}(\\texttt{F})$, </li>\n",
    "    <li> $\\texttt{nnf}(\\texttt{F}_1 \\wedge \\texttt{F}_2) = \n",
    "          \\texttt{nnf}(\\texttt{F}_1) \\wedge \\texttt{nnf}(\\texttt{F}_2)$,</li>\n",
    "    <li> $\\texttt{nnf}(\\texttt{F}_1 \\vee \\texttt{F}_2) = \n",
    "          \\texttt{nnf}(\\texttt{F}_1) \\vee \\texttt{nnf}(\\texttt{F}_2)$.</li>\n",
    "</ol>\n",
    "The auxiliary function $\\texttt{neg}$ is also defined recursively:\n",
    "<ol>\n",
    "    <li> $\\texttt{neg}(p) = \\texttt{nnf}(\\neg p) = \\neg p$ for all propositional variables $p$,</li>\n",
    "    <li> $\\texttt{neg}(\\neg F) = \\texttt{nnf}(\\neg \\neg F) = \\texttt{nnf}(F)$,</li>\n",
    "    <li> $$\\begin{array}[t]{cl}\n",
    "         & \\texttt{neg}\\bigl(F_1 \\wedge F_2 \\bigr) \\\\[0.1cm]\n",
    "       = & \\texttt{nnf}\\bigl(\\neg(F_1 \\wedge F_2)\\bigr) \\\\[0.1cm]\n",
    "       = & \\texttt{nnf}\\bigl(\\neg F_1 \\vee \\neg F_2\\bigr) \\\\[0.1cm]\n",
    "       = & \\texttt{nnf}\\bigl(\\neg F_1\\bigr) \\vee \\texttt{nnf}\\bigl(\\neg F_2\\bigr) \\\\[0.1cm]\n",
    "       = & \\texttt{neg}(F_1) \\vee \\texttt{neg}(F_2).\n",
    "       \\end{array}\n",
    "      $$\n",
    "      Therefore we have $\\texttt{neg}\\bigl(F_1 \\wedge F_2 \\bigr) = \\texttt{neg}(F_1) \\vee \\texttt{neg}(F_2)$.</li>\n",
    "     <li> $$\\begin{array}[t]{cl}\n",
    "         & \\texttt{neg}\\bigl(F_1 \\vee F_2 \\bigr)        \\\\[0.1cm]\n",
    "       = & \\texttt{nnf}\\bigl(\\neg(F_1 \\vee F_2) \\bigr)  \\\\[0.1cm]\n",
    "       = & \\texttt{nnf}\\bigl(\\neg F_1 \\wedge \\neg F_2 \\bigr)  \\\\[0.1cm]\n",
    "       = & \\texttt{nnf}\\bigl(\\neg F_1\\bigr) \\wedge \\texttt{nnf}\\bigl(\\neg F_2 \\bigr)  \\\\[0.1cm]\n",
    "       = & \\texttt{neg}(F_1) \\wedge \\texttt{neg}(F_2). \n",
    "       \\end{array}\n",
    "      $$\n",
    "      Therefore we have $\\texttt{neg}\\bigl(F_1 \\vee F_2 \\bigr) = \\texttt{neg}(F_1) \\wedge \\texttt{neg}(F_2)$.</li>\n",
    "</ol>"
   ]
  },
  {
   "cell_type": "code",
   "execution_count": 5,
   "metadata": {},
   "outputs": [],
   "source": [
    "def nnf(f):\n",
    "    'Compute the negation normal form of f.'\n",
    "    if isinstance(f, str): \n",
    "        return f\n",
    "    if f[0] == '⊤':\n",
    "        return f\n",
    "    if f[0] == '⊥':\n",
    "        return f\n",
    "    if f[0] == '¬':\n",
    "        g = f[1]\n",
    "        return neg(g)\n",
    "    if f[0] == '∧':\n",
    "        g, h = f[1:]\n",
    "        return ('∧', nnf(g), nnf(h))\n",
    "    if f[0] == '∨':\n",
    "        g, h = f[1:]\n",
    "        return ('∨', nnf(g), nnf(h))\n",
    "\n",
    "def neg(f):\n",
    "    'Compute the negation normal form of ¬f.'\n",
    "    if isinstance(f, str): \n",
    "        return ('¬', f)\n",
    "    if f[0] == '⊤':\n",
    "        return ('⊥',)\n",
    "    if f[0] == '⊥':\n",
    "        return ('⊤',)\n",
    "    if f[0] == '¬':\n",
    "        g = f[1]\n",
    "        return nnf(g)\n",
    "    if f[0] == '∧':\n",
    "        g, h = f[1:]\n",
    "        return ('∨', neg(g), neg(h))\n",
    "    if f[0] == '∨':\n",
    "        g, h = f[1:]\n",
    "        return ('∧', neg(g), neg(h))"
   ]
  },
  {
   "cell_type": "markdown",
   "metadata": {},
   "source": [
    "The function $\\texttt{cnf}(f)$ takes a formula $f$ that is in *negation normal form*, i.e. the negation operator is only applied to propositional variables and returns the *conjunctive normal form* of $f$ in *set notation*.  In order to achieve\n",
    "this it uses the distributive law\n",
    "$$ (f \\wedge g) \\vee (h \\wedge k) \\Leftrightarrow (f \\vee h) \\wedge (f \\vee k) \\wedge (g \\vee h) \\wedge (g \\vee k). $$"
   ]
  },
  {
   "cell_type": "code",
   "execution_count": 6,
   "metadata": {},
   "outputs": [],
   "source": [
    "def cnf(f):\n",
    "    if isinstance(f, str):         # f is a variable\n",
    "        return { frozenset({f}) }\n",
    "    if f[0] == '⊤':\n",
    "        return set()\n",
    "    if f[0] == '⊥':\n",
    "        return { frozenset() }\n",
    "    if f[0] == '¬':\n",
    "        return { frozenset({f}) }  # f is a negative literal\n",
    "    if f[0] == '∧':\n",
    "        g, h = f[1:]\n",
    "        return cnf(g) | cnf(h)\n",
    "    if f[0] == '∨':\n",
    "        g, h = f[1:]\n",
    "        return { k1 | k2 for k1 in cnf(g) for k2 in cnf(h) }"
   ]
  },
  {
   "cell_type": "markdown",
   "metadata": {},
   "source": [
    "The function $\\texttt{isTrivial}(C)$ checks whether the clause $C$ is *trivial*."
   ]
  },
  {
   "cell_type": "code",
   "execution_count": 7,
   "metadata": {},
   "outputs": [],
   "source": [
    "def isTrivial(Clause):\n",
    "    return any(('¬', p) in Clause for p in Clause)"
   ]
  },
  {
   "cell_type": "markdown",
   "metadata": {},
   "source": [
    "The function $\\texttt{simplify}(Cs)$ takes a set of clauses and removes all trivial clauses from $Cs$."
   ]
  },
  {
   "cell_type": "code",
   "execution_count": 8,
   "metadata": {},
   "outputs": [],
   "source": [
    "def simplify(Clauses):\n",
    "    return { C for C in Clauses if not isTrivial(C) }"
   ]
  },
  {
   "cell_type": "markdown",
   "metadata": {},
   "source": [
    "The function $f$ takes a propositional formula $f$ and transforms $f$ into *conjunctive normal form*."
   ]
  },
  {
   "cell_type": "code",
   "execution_count": 9,
   "metadata": {},
   "outputs": [],
   "source": [
    "def normalize (f):\n",
    "    n1 = eliminateBiconditional(f)\n",
    "    n2 = eliminateConditional(n1)\n",
    "    n3 = nnf(n2)\n",
    "    n4 = cnf(n3)\n",
    "    return simplify(n4)"
   ]
  },
  {
   "cell_type": "code",
   "execution_count": 10,
   "metadata": {},
   "outputs": [],
   "source": [
    "def test(s):\n",
    "    f = plp.LogicParser(s).parse()\n",
    "    print(f'The knf of {s} is:')\n",
    "    print(prettify(normalize(f)))"
   ]
  },
  {
   "cell_type": "code",
   "execution_count": 11,
   "metadata": {},
   "outputs": [],
   "source": [
    "def prettify(M):\n",
    "    \"\"\"Turn the set of frozen sets M into a string that looks like a set of sets.\n",
    "       M is assumed to be the power set of some set.\n",
    "    \"\"\"\n",
    "    if M == set():\n",
    "        return '{}'\n",
    "    result = \"{\"\n",
    "    for A in M:\n",
    "        if A == frozenset(): \n",
    "            result += \"{}, \"\n",
    "        else:\n",
    "            result += str(set(A)) + \", \" # A is converted from a frozen set to a set\n",
    "    result = result[:-2] # remove the trailing substring \", \"\n",
    "    result += \"}\"\n",
    "    return result"
   ]
  },
  {
   "cell_type": "code",
   "execution_count": 12,
   "metadata": {},
   "outputs": [
    {
     "name": "stdout",
     "output_type": "stream",
     "text": [
      "The knf of ¬(a ∧ b) ↔ ¬a ∨ ¬b is:\n",
      "{}\n"
     ]
    }
   ],
   "source": [
    "test('¬(a ∧ b) ↔ ¬a ∨ ¬b')"
   ]
  },
  {
   "cell_type": "code",
   "execution_count": 13,
   "metadata": {},
   "outputs": [
    {
     "name": "stdout",
     "output_type": "stream",
     "text": [
      "The knf of (a → b) ↔ (¬a ∧ ¬b) is:\n",
      "{{('¬', 'b')}, {('¬', 'b'), 'a'}, {('¬', 'b'), ('¬', 'a')}}\n"
     ]
    }
   ],
   "source": [
    "test('(a → b) ↔ (¬a ∧ ¬b)')"
   ]
  },
  {
   "cell_type": "code",
   "execution_count": 14,
   "metadata": {},
   "outputs": [
    {
     "name": "stdout",
     "output_type": "stream",
     "text": [
      "The knf of (p ∧ q → r) ∨ ¬r → ¬p is:\n",
      "{{'q', ('¬', 'p')}, {'r', ('¬', 'p')}, {('¬', 'r'), ('¬', 'p')}}\n"
     ]
    }
   ],
   "source": [
    "test('(p ∧ q → r) ∨ ¬r → ¬p')"
   ]
  },
  {
   "cell_type": "code",
   "execution_count": 15,
   "metadata": {},
   "outputs": [
    {
     "name": "stdout",
     "output_type": "stream",
     "text": [
      "The knf of ⊤ is:\n",
      "{}\n"
     ]
    }
   ],
   "source": [
    "test('⊤')"
   ]
  },
  {
   "cell_type": "code",
   "execution_count": 16,
   "metadata": {},
   "outputs": [
    {
     "name": "stdout",
     "output_type": "stream",
     "text": [
      "The knf of ⊥ is:\n",
      "{{}}\n"
     ]
    }
   ],
   "source": [
    "test('⊥')"
   ]
  },
  {
   "cell_type": "code",
   "execution_count": 17,
   "metadata": {},
   "outputs": [
    {
     "name": "stdout",
     "output_type": "stream",
     "text": [
      "The knf of (p → q) ↔ (¬p → ¬q) is:\n",
      "{{'q', ('¬', 'p')}, {('¬', 'q'), 'p'}}\n"
     ]
    }
   ],
   "source": [
    "test('(p → q) ↔ (¬p → ¬q)')"
   ]
  },
  {
   "cell_type": "code",
   "execution_count": 18,
   "metadata": {},
   "outputs": [
    {
     "name": "stdout",
     "output_type": "stream",
     "text": [
      "The knf of ( p → q ) ↔ (¬ q → ¬ p ) is:\n",
      "{}\n"
     ]
    }
   ],
   "source": [
    "test('( p → q ) ↔ (¬ q → ¬ p )')"
   ]
  },
  {
   "cell_type": "code",
   "execution_count": 19,
   "metadata": {},
   "outputs": [
    {
     "name": "stdout",
     "output_type": "stream",
     "text": [
      "The knf of ¬ r ∧ ( q ∨ p → r ) → ¬ q ∧ ¬ p is:\n",
      "{}\n"
     ]
    }
   ],
   "source": [
    "test('¬ r ∧ ( q ∨ p → r ) → ¬ q ∧ ¬ p')"
   ]
  },
  {
   "cell_type": "code",
   "execution_count": 20,
   "metadata": {},
   "outputs": [
    {
     "name": "stdout",
     "output_type": "stream",
     "text": [
      "The knf of p ∨ q → r is:\n",
      "{{'r', ('¬', 'p')}, {('¬', 'q'), 'r'}}\n"
     ]
    }
   ],
   "source": [
    "test('p ∨ q → r')"
   ]
  },
  {
   "cell_type": "code",
   "execution_count": 21,
   "metadata": {},
   "outputs": [
    {
     "name": "stdout",
     "output_type": "stream",
     "text": [
      "The knf of p ∨ q ↔ r is:\n",
      "{{'r', ('¬', 'p')}, {('¬', 'q'), 'r'}, {'p', 'q', ('¬', 'r')}}\n"
     ]
    }
   ],
   "source": [
    "test('p ∨ q ↔ r')"
   ]
  },
  {
   "cell_type": "code",
   "execution_count": null,
   "metadata": {},
   "outputs": [],
   "source": []
  }
 ],
 "metadata": {
  "kernelspec": {
   "display_name": "Python 3",
   "language": "python",
   "name": "python3"
  },
  "language_info": {
   "codemirror_mode": {
    "name": "ipython",
    "version": 3
   },
   "file_extension": ".py",
   "mimetype": "text/x-python",
   "name": "python",
   "nbconvert_exporter": "python",
   "pygments_lexer": "ipython3",
   "version": "3.8.2"
  },
  "toc": {
   "base_numbering": 1,
   "nav_menu": {},
   "number_sections": true,
   "sideBar": true,
   "skip_h1_title": false,
   "title_cell": "Table of Contents",
   "title_sidebar": "Contents",
   "toc_cell": false,
   "toc_position": {},
   "toc_section_display": true,
   "toc_window_display": false
  },
  "varInspector": {
   "cols": {
    "lenName": 16,
    "lenType": 16,
    "lenVar": 40
   },
   "kernels_config": {
    "python": {
     "delete_cmd_postfix": "",
     "delete_cmd_prefix": "del ",
     "library": "var_list.py",
     "varRefreshCmd": "print(var_dic_list())"
    },
    "r": {
     "delete_cmd_postfix": ") ",
     "delete_cmd_prefix": "rm(",
     "library": "var_list.r",
     "varRefreshCmd": "cat(var_dic_list()) "
    }
   },
   "types_to_exclude": [
    "module",
    "function",
    "builtin_function_or_method",
    "instance",
    "_Feature"
   ],
   "window_display": false
  }
 },
 "nbformat": 4,
 "nbformat_minor": 2
}
