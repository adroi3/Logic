{
 "cells": [
  {
   "cell_type": "code",
   "execution_count": null,
   "metadata": {},
   "outputs": [],
   "source": [
    "from IPython.core.display import HTML\n",
    "with open('style.css', 'r') as file:\n",
    "    css = file.read()\n",
    "HTML(css)"
   ]
  },
  {
   "cell_type": "markdown",
   "metadata": {},
   "source": [
    "# Solving the Wolf-Goat-Cabbage Problem"
   ]
  },
  {
   "cell_type": "markdown",
   "metadata": {},
   "source": [
    "An agricultural economist has to sell a *wolf*, a *goat*, and a *cabbage* on a market place.  In order to\n",
    "reach the market place, she has to cross a river.  The boat that she can use is so small that it can\n",
    "only accommodate either the goat, the wolf, or the cabbage in addition to the agricultural economist.\n",
    "Now if the agricultural economist leaves the wolf alone with the goat, the wolf will eat the goat.\n",
    "If, instead, the agricultural economist leaves the goat with the cabbage, the goat will eat the cabbage.\n",
    "Is it possible for the agricultural economist to develop a schedule that allows her to cross the river\n",
    "without either the goat or the cabbage being eaten?"
   ]
  },
  {
   "cell_type": "code",
   "execution_count": 1,
   "metadata": {},
   "outputs": [],
   "source": [
    "%run Breadth-First-Search.ipynb"
   ]
  },
  {
   "cell_type": "markdown",
   "metadata": {},
   "source": [
    "The function $\\texttt{power}(M)$ defined below computes the power set of the set $M$, i.e. we have:\n",
    "$$ \\texttt{power}(M) = 2^M = \\bigl\\{A \\mid A \\subseteq M \\} $$"
   ]
  },
  {
   "cell_type": "code",
   "execution_count": 2,
   "metadata": {},
   "outputs": [],
   "source": [
    "def power(M):\n",
    "    \"This function computes the power set of the set M.\"\n",
    "    if M == set():\n",
    "        return { frozenset() }\n",
    "    else:\n",
    "        C  = set(M)  # C is a copy of M as we don't want to change the set M\n",
    "        x  = C.pop() # pop removes the element x from the set C\n",
    "        P1 = power(C)\n",
    "        P2 = { A | {x} for A in P1 }\n",
    "        return P1 | P2"
   ]
  },
  {
   "cell_type": "markdown",
   "metadata": {},
   "source": [
    "## Problem Specific Code"
   ]
  },
  {
   "cell_type": "markdown",
   "metadata": {},
   "source": [
    "There is a problem if the wolf is alone with the goat or if the goat is alone with the cabbage."
   ]
  },
  {
   "cell_type": "code",
   "execution_count": 3,
   "metadata": {},
   "outputs": [],
   "source": [
    "def problem(S):\n",
    "    '''\n",
    "    S is a set of objects that are at one shore of the river.\n",
    "    This function returns <tt>True</tt> if there is a problem.\n",
    "    '''\n",
    "    return ('farmer' not in S) and             \\\n",
    "           (('goat' in S and 'cabbage' in S) or   # goat eats cabbage\n",
    "            ('wolf' in S and 'goat'    in S)   )  # wolf eats goat"
   ]
  },
  {
   "cell_type": "markdown",
   "metadata": {},
   "source": [
    "At the start, everything is on the left shore.  \n",
    "Note that we have to use `frozenset`s here as the states will be stored in tuples that are itself stored in sets."
   ]
  },
  {
   "cell_type": "code",
   "execution_count": 4,
   "metadata": {},
   "outputs": [],
   "source": [
    "All = frozenset({ 'farmer', 'wolf', 'goat', 'cabbage' })"
   ]
  },
  {
   "cell_type": "markdown",
   "metadata": {},
   "source": [
    "<tt>States</tt> is the set of all states that do not have a problem."
   ]
  },
  {
   "cell_type": "code",
   "execution_count": 5,
   "metadata": {},
   "outputs": [
    {
     "data": {
      "text/plain": [
       "{frozenset(),\n",
       " frozenset({'wolf'}),\n",
       " frozenset({'cabbage', 'farmer', 'wolf'}),\n",
       " frozenset({'goat'}),\n",
       " frozenset({'cabbage'}),\n",
       " frozenset({'farmer', 'goat'}),\n",
       " frozenset({'cabbage', 'farmer', 'goat'}),\n",
       " frozenset({'farmer', 'goat', 'wolf'}),\n",
       " frozenset({'cabbage', 'wolf'}),\n",
       " frozenset({'cabbage', 'farmer', 'goat', 'wolf'})}"
      ]
     },
     "execution_count": 5,
     "metadata": {},
     "output_type": "execute_result"
    }
   ],
   "source": [
    "States = { S for S in power(All) if not problem(S) and \n",
    "                                    not problem(All - S) \n",
    "         }\n",
    "States"
   ]
  },
  {
   "cell_type": "markdown",
   "metadata": {},
   "source": [
    "<tt>R1</tt> decribes the transitions where the boat crosses the river from left to right."
   ]
  },
  {
   "cell_type": "code",
   "execution_count": 25,
   "metadata": {},
   "outputs": [
    {
     "data": {
      "text/plain": [
       "{(frozenset({'farmer', 'goat'}), frozenset()),\n",
       " (frozenset({'farmer', 'goat'}), frozenset({'goat'})),\n",
       " (frozenset({'farmer', 'goat', 'wolf'}), frozenset({'wolf'})),\n",
       " (frozenset({'cabbage', 'farmer', 'goat'}), frozenset({'goat'})),\n",
       " (frozenset({'farmer', 'goat', 'wolf'}), frozenset({'goat'})),\n",
       " (frozenset({'cabbage', 'farmer', 'wolf'}), frozenset({'wolf'})),\n",
       " (frozenset({'cabbage', 'farmer', 'wolf'}), frozenset({'cabbage'})),\n",
       " (frozenset({'cabbage', 'farmer', 'wolf'}), frozenset({'cabbage', 'wolf'})),\n",
       " (frozenset({'cabbage', 'farmer', 'goat'}), frozenset({'cabbage'})),\n",
       " (frozenset({'cabbage', 'farmer', 'goat', 'wolf'}),\n",
       "  frozenset({'cabbage', 'wolf'}))}"
      ]
     },
     "execution_count": 25,
     "metadata": {},
     "output_type": "execute_result"
    }
   ],
   "source": [
    "R1 = { (S, S - B) for S in States \n",
    "                  for B in power(S)\n",
    "                  if S - B in States and 'farmer' in B and len(B) <= 2\n",
    "     }\n",
    "R1"
   ]
  },
  {
   "cell_type": "markdown",
   "metadata": {},
   "source": [
    "<tt>R2</tt> is the inverse of <tt>R1</tt>."
   ]
  },
  {
   "cell_type": "code",
   "execution_count": 26,
   "metadata": {},
   "outputs": [],
   "source": [
    "R2 = { (S2, S1) for (S1, S2) in R1 }"
   ]
  },
  {
   "cell_type": "code",
   "execution_count": 27,
   "metadata": {},
   "outputs": [
    {
     "data": {
      "text/plain": [
       "{(frozenset(), frozenset({'farmer', 'goat'})),\n",
       " (frozenset({'cabbage'}), frozenset({'cabbage', 'farmer', 'goat'})),\n",
       " (frozenset({'goat'}), frozenset({'farmer', 'goat'})),\n",
       " (frozenset({'goat'}), frozenset({'farmer', 'goat', 'wolf'})),\n",
       " (frozenset({'goat'}), frozenset({'cabbage', 'farmer', 'goat'})),\n",
       " (frozenset({'farmer', 'goat'}), frozenset()),\n",
       " (frozenset({'farmer', 'goat', 'wolf'}), frozenset({'wolf'})),\n",
       " (frozenset({'cabbage', 'farmer', 'goat'}), frozenset({'goat'})),\n",
       " (frozenset({'wolf'}), frozenset({'cabbage', 'farmer', 'wolf'})),\n",
       " (frozenset({'farmer', 'goat'}), frozenset({'goat'})),\n",
       " (frozenset({'wolf'}), frozenset({'farmer', 'goat', 'wolf'})),\n",
       " (frozenset({'cabbage'}), frozenset({'cabbage', 'farmer', 'wolf'})),\n",
       " (frozenset({'cabbage', 'wolf'}), frozenset({'cabbage', 'farmer', 'wolf'})),\n",
       " (frozenset({'cabbage', 'wolf'}),\n",
       "  frozenset({'cabbage', 'farmer', 'goat', 'wolf'})),\n",
       " (frozenset({'cabbage', 'farmer', 'wolf'}), frozenset({'wolf'})),\n",
       " (frozenset({'cabbage', 'farmer', 'wolf'}), frozenset({'cabbage', 'wolf'})),\n",
       " (frozenset({'cabbage', 'farmer', 'goat'}), frozenset({'cabbage'})),\n",
       " (frozenset({'farmer', 'goat', 'wolf'}), frozenset({'goat'})),\n",
       " (frozenset({'cabbage', 'farmer', 'wolf'}), frozenset({'cabbage'})),\n",
       " (frozenset({'cabbage', 'farmer', 'goat', 'wolf'}),\n",
       "  frozenset({'cabbage', 'wolf'}))}"
      ]
     },
     "execution_count": 27,
     "metadata": {},
     "output_type": "execute_result"
    }
   ],
   "source": [
    "R = R1 | R2\n",
    "R"
   ]
  },
  {
   "cell_type": "code",
   "execution_count": 9,
   "metadata": {},
   "outputs": [
    {
     "data": {
      "image/svg+xml": [
       "<?xml version=\"1.0\" encoding=\"UTF-8\" standalone=\"no\"?>\n",
       "<!DOCTYPE svg PUBLIC \"-//W3C//DTD SVG 1.1//EN\"\n",
       " \"http://www.w3.org/Graphics/SVG/1.1/DTD/svg11.dtd\">\n",
       "<!-- Generated by graphviz version 2.40.1 (20161225.0304)\n",
       " -->\n",
       "<!-- Title: %3 Pages: 1 -->\n",
       "<svg width=\"1398pt\" height=\"152pt\"\n",
       " viewBox=\"0.00 0.00 1397.80 152.00\" xmlns=\"http://www.w3.org/2000/svg\" xmlns:xlink=\"http://www.w3.org/1999/xlink\">\n",
       "<g id=\"graph0\" class=\"graph\" transform=\"scale(1 1) rotate(0) translate(4 148)\">\n",
       "<title>%3</title>\n",
       "<polygon fill=\"#ffffff\" stroke=\"transparent\" points=\"-4,4 -4,-148 1393.7958,-148 1393.7958,4 -4,4\"/>\n",
       "<!-- {&#39;farmer&#39;, &#39;cabbage&#39;, &#39;goat&#39;} -->\n",
       "<g id=\"node1\" class=\"node\">\n",
       "<title>{&#39;farmer&#39;, &#39;cabbage&#39;, &#39;goat&#39;}</title>\n",
       "<ellipse fill=\"none\" stroke=\"#000000\" cx=\"105.9406\" cy=\"-44\" rx=\"105.8812\" ry=\"18\"/>\n",
       "<text text-anchor=\"middle\" x=\"105.9406\" y=\"-40.3\" font-family=\"Times,serif\" font-size=\"14.00\" fill=\"#000000\">{&#39;farmer&#39;, &#39;cabbage&#39;, &#39;goat&#39;}</text>\n",
       "</g>\n",
       "<!-- {&#39;goat&#39;} -->\n",
       "<g id=\"node7\" class=\"node\">\n",
       "<title>{&#39;goat&#39;}</title>\n",
       "<ellipse fill=\"none\" stroke=\"#000000\" cx=\"285.5779\" cy=\"-72\" rx=\"37.8943\" ry=\"18\"/>\n",
       "<text text-anchor=\"middle\" x=\"285.5779\" y=\"-68.3\" font-family=\"Times,serif\" font-size=\"14.00\" fill=\"#000000\">{&#39;goat&#39;}</text>\n",
       "</g>\n",
       "<!-- {&#39;farmer&#39;, &#39;cabbage&#39;, &#39;goat&#39;}&#45;&gt;{&#39;goat&#39;} -->\n",
       "<g id=\"edge3\" class=\"edge\">\n",
       "<title>{&#39;farmer&#39;, &#39;cabbage&#39;, &#39;goat&#39;}&#45;&gt;{&#39;goat&#39;}</title>\n",
       "<path fill=\"none\" stroke=\"#000000\" d=\"M200.7566,-52.0382C216.0634,-54.4811 231.176,-57.1558 244.309,-59.784\"/>\n",
       "<polygon fill=\"#000000\" stroke=\"#000000\" points=\"243.88,-63.2696 254.3828,-61.8765 245.3037,-56.4159 243.88,-63.2696\"/>\n",
       "</g>\n",
       "<!-- {&#39;cabbage&#39;} -->\n",
       "<g id=\"node8\" class=\"node\">\n",
       "<title>{&#39;cabbage&#39;}</title>\n",
       "<ellipse fill=\"none\" stroke=\"#000000\" cx=\"1018.4256\" cy=\"-18\" rx=\"51.1914\" ry=\"18\"/>\n",
       "<text text-anchor=\"middle\" x=\"1018.4256\" y=\"-14.3\" font-family=\"Times,serif\" font-size=\"14.00\" fill=\"#000000\">{&#39;cabbage&#39;}</text>\n",
       "</g>\n",
       "<!-- {&#39;farmer&#39;, &#39;cabbage&#39;, &#39;goat&#39;}&#45;&gt;{&#39;cabbage&#39;} -->\n",
       "<g id=\"edge13\" class=\"edge\">\n",
       "<title>{&#39;farmer&#39;, &#39;cabbage&#39;, &#39;goat&#39;}&#45;&gt;{&#39;cabbage&#39;}</title>\n",
       "<path fill=\"none\" stroke=\"#000000\" d=\"M169.0128,-29.5058C238.3292,-19.1485 353.0231,-8 452.2163,-8 452.2163,-8 452.2163,-8 619.5046,-8 740.4682,-8 882.0634,-8.4655 959.8322,-11.6195\"/>\n",
       "<polygon fill=\"#000000\" stroke=\"#000000\" points=\"959.7701,-15.12 969.9136,-12.0607 960.0762,-8.1267 959.7701,-15.12\"/>\n",
       "</g>\n",
       "<!-- {&#39;farmer&#39;, &#39;cabbage&#39;, &#39;wolf&#39;} -->\n",
       "<g id=\"node2\" class=\"node\">\n",
       "<title>{&#39;farmer&#39;, &#39;cabbage&#39;, &#39;wolf&#39;}</title>\n",
       "<ellipse fill=\"none\" stroke=\"#000000\" cx=\"800.4418\" cy=\"-72\" rx=\"106.6812\" ry=\"18\"/>\n",
       "<text text-anchor=\"middle\" x=\"800.4418\" y=\"-68.3\" font-family=\"Times,serif\" font-size=\"14.00\" fill=\"#000000\">{&#39;farmer&#39;, &#39;cabbage&#39;, &#39;wolf&#39;}</text>\n",
       "</g>\n",
       "<!-- {&#39;cabbage&#39;, &#39;wolf&#39;} -->\n",
       "<g id=\"node4\" class=\"node\">\n",
       "<title>{&#39;cabbage&#39;, &#39;wolf&#39;}</title>\n",
       "<ellipse fill=\"none\" stroke=\"#000000\" cx=\"1018.4256\" cy=\"-72\" rx=\"75.2868\" ry=\"18\"/>\n",
       "<text text-anchor=\"middle\" x=\"1018.4256\" y=\"-68.3\" font-family=\"Times,serif\" font-size=\"14.00\" fill=\"#000000\">{&#39;cabbage&#39;, &#39;wolf&#39;}</text>\n",
       "</g>\n",
       "<!-- {&#39;farmer&#39;, &#39;cabbage&#39;, &#39;wolf&#39;}&#45;&gt;{&#39;cabbage&#39;, &#39;wolf&#39;} -->\n",
       "<g id=\"edge12\" class=\"edge\">\n",
       "<title>{&#39;farmer&#39;, &#39;cabbage&#39;, &#39;wolf&#39;}&#45;&gt;{&#39;cabbage&#39;, &#39;wolf&#39;}</title>\n",
       "<path fill=\"none\" stroke=\"#000000\" d=\"M899.5471,-65.2747C912.2876,-65.2108 925.2098,-65.2708 937.6096,-65.4546\"/>\n",
       "<polygon fill=\"#000000\" stroke=\"#000000\" points=\"937.8262,-68.9589 947.8871,-65.6382 937.9512,-61.96 937.8262,-68.9589\"/>\n",
       "</g>\n",
       "<!-- {&#39;wolf&#39;} -->\n",
       "<g id=\"node6\" class=\"node\">\n",
       "<title>{&#39;wolf&#39;}</title>\n",
       "<ellipse fill=\"none\" stroke=\"#000000\" cx=\"619.5046\" cy=\"-72\" rx=\"38.1938\" ry=\"18\"/>\n",
       "<text text-anchor=\"middle\" x=\"619.5046\" y=\"-68.3\" font-family=\"Times,serif\" font-size=\"14.00\" fill=\"#000000\">{&#39;wolf&#39;}</text>\n",
       "</g>\n",
       "<!-- {&#39;farmer&#39;, &#39;cabbage&#39;, &#39;wolf&#39;}&#45;&gt;{&#39;wolf&#39;} -->\n",
       "<g id=\"edge19\" class=\"edge\">\n",
       "<title>{&#39;farmer&#39;, &#39;cabbage&#39;, &#39;wolf&#39;}&#45;&gt;{&#39;wolf&#39;}</title>\n",
       "<path fill=\"none\" stroke=\"#000000\" d=\"M701.3502,-78.7227C689.1196,-78.6449 677.1011,-78.4014 666.1998,-77.992\"/>\n",
       "<polygon fill=\"#000000\" stroke=\"#000000\" points=\"666.2641,-74.4915 656.1199,-77.5486 665.9565,-81.4848 666.2641,-74.4915\"/>\n",
       "</g>\n",
       "<!-- {&#39;farmer&#39;, &#39;cabbage&#39;, &#39;wolf&#39;}&#45;&gt;{&#39;cabbage&#39;} -->\n",
       "<g id=\"edge20\" class=\"edge\">\n",
       "<title>{&#39;farmer&#39;, &#39;cabbage&#39;, &#39;wolf&#39;}&#45;&gt;{&#39;cabbage&#39;}</title>\n",
       "<path fill=\"none\" stroke=\"#000000\" d=\"M844.554,-55.5236C877.8723,-45.8579 923.9086,-34.2863 960.2411,-26.3631\"/>\n",
       "<polygon fill=\"#000000\" stroke=\"#000000\" points=\"961.1663,-29.7445 970.2127,-24.2298 959.7018,-22.8994 961.1663,-29.7445\"/>\n",
       "</g>\n",
       "<!-- {&#39;farmer&#39;, &#39;goat&#39;} -->\n",
       "<g id=\"node3\" class=\"node\">\n",
       "<title>{&#39;farmer&#39;, &#39;goat&#39;}</title>\n",
       "<ellipse fill=\"none\" stroke=\"#000000\" cx=\"452.2163\" cy=\"-126\" rx=\"69.5877\" ry=\"18\"/>\n",
       "<text text-anchor=\"middle\" x=\"452.2163\" y=\"-122.3\" font-family=\"Times,serif\" font-size=\"14.00\" fill=\"#000000\">{&#39;farmer&#39;, &#39;goat&#39;}</text>\n",
       "</g>\n",
       "<!-- {&#39;farmer&#39;, &#39;goat&#39;}&#45;&gt;{&#39;goat&#39;} -->\n",
       "<g id=\"edge5\" class=\"edge\">\n",
       "<title>{&#39;farmer&#39;, &#39;goat&#39;}&#45;&gt;{&#39;goat&#39;}</title>\n",
       "<path fill=\"none\" stroke=\"#000000\" d=\"M390.5413,-117.5923C380.0696,-114.6099 369.333,-111.2993 359.2745,-108 344.5842,-103.1814 328.4392,-97.3304 315.0146,-91.5252\"/>\n",
       "<polygon fill=\"#000000\" stroke=\"#000000\" points=\"316.3313,-88.279 305.7799,-87.3215 313.4312,-94.65 316.3313,-88.279\"/>\n",
       "</g>\n",
       "<!-- set() -->\n",
       "<g id=\"node10\" class=\"node\">\n",
       "<title>set()</title>\n",
       "<ellipse fill=\"none\" stroke=\"#000000\" cx=\"619.5046\" cy=\"-126\" rx=\"27\" ry=\"18\"/>\n",
       "<text text-anchor=\"middle\" x=\"619.5046\" y=\"-122.3\" font-family=\"Times,serif\" font-size=\"14.00\" fill=\"#000000\">set()</text>\n",
       "</g>\n",
       "<!-- {&#39;farmer&#39;, &#39;goat&#39;}&#45;&gt;set() -->\n",
       "<g id=\"edge14\" class=\"edge\">\n",
       "<title>{&#39;farmer&#39;, &#39;goat&#39;}&#45;&gt;set()</title>\n",
       "<path fill=\"none\" stroke=\"#000000\" d=\"M517.3733,-119.3987C539.8214,-119.0321 564.1395,-119.3433 583.4132,-120.3322\"/>\n",
       "<polygon fill=\"#000000\" stroke=\"#000000\" points=\"583.3633,-123.8356 593.558,-120.9513 583.7898,-116.8486 583.3633,-123.8356\"/>\n",
       "</g>\n",
       "<!-- {&#39;cabbage&#39;, &#39;wolf&#39;}&#45;&gt;{&#39;farmer&#39;, &#39;cabbage&#39;, &#39;wolf&#39;} -->\n",
       "<g id=\"edge9\" class=\"edge\">\n",
       "<title>{&#39;cabbage&#39;, &#39;wolf&#39;}&#45;&gt;{&#39;farmer&#39;, &#39;cabbage&#39;, &#39;wolf&#39;}</title>\n",
       "<path fill=\"none\" stroke=\"#000000\" d=\"M947.8871,-78.3618C935.7145,-78.6176 922.808,-78.747 909.8928,-78.7499\"/>\n",
       "<polygon fill=\"#000000\" stroke=\"#000000\" points=\"909.5555,-75.2492 899.5471,-78.7253 909.5387,-82.2492 909.5555,-75.2492\"/>\n",
       "</g>\n",
       "<!-- {&#39;farmer&#39;, &#39;cabbage&#39;, &#39;goat&#39;, &#39;wolf&#39;} -->\n",
       "<g id=\"node5\" class=\"node\">\n",
       "<title>{&#39;farmer&#39;, &#39;cabbage&#39;, &#39;goat&#39;, &#39;wolf&#39;}</title>\n",
       "<ellipse fill=\"none\" stroke=\"#000000\" cx=\"1259.8074\" cy=\"-72\" rx=\"129.9769\" ry=\"18\"/>\n",
       "<text text-anchor=\"middle\" x=\"1259.8074\" y=\"-68.3\" font-family=\"Times,serif\" font-size=\"14.00\" fill=\"#000000\">{&#39;farmer&#39;, &#39;cabbage&#39;, &#39;goat&#39;, &#39;wolf&#39;}</text>\n",
       "</g>\n",
       "<!-- {&#39;cabbage&#39;, &#39;wolf&#39;}&#45;&gt;{&#39;farmer&#39;, &#39;cabbage&#39;, &#39;goat&#39;, &#39;wolf&#39;} -->\n",
       "<g id=\"edge6\" class=\"edge\">\n",
       "<title>{&#39;cabbage&#39;, &#39;wolf&#39;}&#45;&gt;{&#39;farmer&#39;, &#39;cabbage&#39;, &#39;goat&#39;, &#39;wolf&#39;}</title>\n",
       "<path fill=\"none\" stroke=\"#000000\" d=\"M1089.2171,-65.7914C1101.8664,-65.5009 1115.4033,-65.3274 1129.1136,-65.2706\"/>\n",
       "<polygon fill=\"#000000\" stroke=\"#000000\" points=\"1129.1245,-68.7707 1139.1172,-65.25 1129.1099,-61.7707 1129.1245,-68.7707\"/>\n",
       "</g>\n",
       "<!-- {&#39;farmer&#39;, &#39;cabbage&#39;, &#39;goat&#39;, &#39;wolf&#39;}&#45;&gt;{&#39;cabbage&#39;, &#39;wolf&#39;} -->\n",
       "<g id=\"edge7\" class=\"edge\">\n",
       "<title>{&#39;farmer&#39;, &#39;cabbage&#39;, &#39;goat&#39;, &#39;wolf&#39;}&#45;&gt;{&#39;cabbage&#39;, &#39;wolf&#39;}</title>\n",
       "<path fill=\"none\" stroke=\"#000000\" d=\"M1139.1172,-78.75C1125.6319,-78.75 1112.1466,-78.6376 1099.3348,-78.4129\"/>\n",
       "<polygon fill=\"#000000\" stroke=\"#000000\" points=\"1099.2858,-74.9113 1089.2171,-78.2086 1099.1444,-81.9099 1099.2858,-74.9113\"/>\n",
       "</g>\n",
       "<!-- {&#39;wolf&#39;}&#45;&gt;{&#39;farmer&#39;, &#39;cabbage&#39;, &#39;wolf&#39;} -->\n",
       "<g id=\"edge4\" class=\"edge\">\n",
       "<title>{&#39;wolf&#39;}&#45;&gt;{&#39;farmer&#39;, &#39;cabbage&#39;, &#39;wolf&#39;}</title>\n",
       "<path fill=\"none\" stroke=\"#000000\" d=\"M656.1199,-66.4514C666.6309,-65.9147 678.6668,-65.5579 691.2058,-65.3808\"/>\n",
       "<polygon fill=\"#000000\" stroke=\"#000000\" points=\"691.3864,-68.8792 701.3502,-65.2773 691.315,-61.8796 691.3864,-68.8792\"/>\n",
       "</g>\n",
       "<!-- {&#39;farmer&#39;, &#39;goat&#39;, &#39;wolf&#39;} -->\n",
       "<g id=\"node9\" class=\"node\">\n",
       "<title>{&#39;farmer&#39;, &#39;goat&#39;, &#39;wolf&#39;}</title>\n",
       "<ellipse fill=\"none\" stroke=\"#000000\" cx=\"452.2163\" cy=\"-72\" rx=\"92.8835\" ry=\"18\"/>\n",
       "<text text-anchor=\"middle\" x=\"452.2163\" y=\"-68.3\" font-family=\"Times,serif\" font-size=\"14.00\" fill=\"#000000\">{&#39;farmer&#39;, &#39;goat&#39;, &#39;wolf&#39;}</text>\n",
       "</g>\n",
       "<!-- {&#39;wolf&#39;}&#45;&gt;{&#39;farmer&#39;, &#39;goat&#39;, &#39;wolf&#39;} -->\n",
       "<g id=\"edge8\" class=\"edge\">\n",
       "<title>{&#39;wolf&#39;}&#45;&gt;{&#39;farmer&#39;, &#39;goat&#39;, &#39;wolf&#39;}</title>\n",
       "<path fill=\"none\" stroke=\"#000000\" d=\"M583.0831,-77.6846C572.7962,-78.2068 561.0921,-78.537 549.0127,-78.6753\"/>\n",
       "<polygon fill=\"#000000\" stroke=\"#000000\" points=\"548.7759,-75.1767 538.8005,-78.7463 548.8246,-82.1766 548.7759,-75.1767\"/>\n",
       "</g>\n",
       "<!-- {&#39;goat&#39;}&#45;&gt;{&#39;farmer&#39;, &#39;cabbage&#39;, &#39;goat&#39;} -->\n",
       "<g id=\"edge18\" class=\"edge\">\n",
       "<title>{&#39;goat&#39;}&#45;&gt;{&#39;farmer&#39;, &#39;cabbage&#39;, &#39;goat&#39;}</title>\n",
       "<path fill=\"none\" stroke=\"#000000\" d=\"M247.7446,-71.726C226.1219,-69.4184 198.3696,-65.4038 173.1582,-61.0335\"/>\n",
       "<polygon fill=\"#000000\" stroke=\"#000000\" points=\"173.7309,-57.5806 163.2728,-59.2776 172.5066,-64.4727 173.7309,-57.5806\"/>\n",
       "</g>\n",
       "<!-- {&#39;goat&#39;}&#45;&gt;{&#39;farmer&#39;, &#39;goat&#39;} -->\n",
       "<g id=\"edge10\" class=\"edge\">\n",
       "<title>{&#39;goat&#39;}&#45;&gt;{&#39;farmer&#39;, &#39;goat&#39;}</title>\n",
       "<path fill=\"none\" stroke=\"#000000\" d=\"M321.7655,-77.2777C333.6545,-81.2071 346.9744,-85.9654 359.2745,-90 376.3305,-95.5945 395.3363,-101.2216 411.6945,-106.5338\"/>\n",
       "<polygon fill=\"#000000\" stroke=\"#000000\" points=\"410.9029,-109.9591 421.4965,-109.7977 413.1144,-103.3176 410.9029,-109.9591\"/>\n",
       "</g>\n",
       "<!-- {&#39;goat&#39;}&#45;&gt;{&#39;farmer&#39;, &#39;goat&#39;, &#39;wolf&#39;} -->\n",
       "<g id=\"edge11\" class=\"edge\">\n",
       "<title>{&#39;goat&#39;}&#45;&gt;{&#39;farmer&#39;, &#39;goat&#39;, &#39;wolf&#39;}</title>\n",
       "<path fill=\"none\" stroke=\"#000000\" d=\"M321.7359,-66.3216C331.9812,-65.7974 343.645,-65.4656 355.6865,-65.326\"/>\n",
       "<polygon fill=\"#000000\" stroke=\"#000000\" points=\"355.8924,-68.8247 365.8674,-65.254 355.8428,-61.8249 355.8924,-68.8247\"/>\n",
       "</g>\n",
       "<!-- {&#39;cabbage&#39;}&#45;&gt;{&#39;farmer&#39;, &#39;cabbage&#39;, &#39;goat&#39;} -->\n",
       "<g id=\"edge1\" class=\"edge\">\n",
       "<title>{&#39;cabbage&#39;}&#45;&gt;{&#39;farmer&#39;, &#39;cabbage&#39;, &#39;goat&#39;}</title>\n",
       "<path fill=\"none\" stroke=\"#000000\" d=\"M969.2947,-23.5637C894.0038,-26.5054 745.553,-26 619.5046,-26 452.2163,-26 452.2163,-26 452.2163,-26 374.2129,-26 286.6238,-32.8941 219.0539,-38.5538\"/>\n",
       "<polygon fill=\"#000000\" stroke=\"#000000\" points=\"218.4819,-35.0895 208.8101,-39.4146 219.0681,-42.0649 218.4819,-35.0895\"/>\n",
       "</g>\n",
       "<!-- {&#39;cabbage&#39;}&#45;&gt;{&#39;farmer&#39;, &#39;cabbage&#39;, &#39;wolf&#39;} -->\n",
       "<g id=\"edge16\" class=\"edge\">\n",
       "<title>{&#39;cabbage&#39;}&#45;&gt;{&#39;farmer&#39;, &#39;cabbage&#39;, &#39;wolf&#39;}</title>\n",
       "<path fill=\"none\" stroke=\"#000000\" d=\"M984.214,-31.5459C958.2063,-39.4145 921.2294,-49.0924 887.2547,-57.1185\"/>\n",
       "<polygon fill=\"#000000\" stroke=\"#000000\" points=\"886.2371,-53.7619 877.2947,-59.4437 887.8286,-60.5786 886.2371,-53.7619\"/>\n",
       "</g>\n",
       "<!-- {&#39;farmer&#39;, &#39;goat&#39;, &#39;wolf&#39;}&#45;&gt;{&#39;wolf&#39;} -->\n",
       "<g id=\"edge2\" class=\"edge\">\n",
       "<title>{&#39;farmer&#39;, &#39;goat&#39;, &#39;wolf&#39;}&#45;&gt;{&#39;wolf&#39;}</title>\n",
       "<path fill=\"none\" stroke=\"#000000\" d=\"M538.8005,-65.2537C550.5202,-65.2833 562.1628,-65.4897 572.8065,-65.8731\"/>\n",
       "<polygon fill=\"#000000\" stroke=\"#000000\" points=\"572.9418,-69.382 583.0831,-66.3154 573.2428,-62.3885 572.9418,-69.382\"/>\n",
       "</g>\n",
       "<!-- {&#39;farmer&#39;, &#39;goat&#39;, &#39;wolf&#39;}&#45;&gt;{&#39;goat&#39;} -->\n",
       "<g id=\"edge17\" class=\"edge\">\n",
       "<title>{&#39;farmer&#39;, &#39;goat&#39;, &#39;wolf&#39;}&#45;&gt;{&#39;goat&#39;}</title>\n",
       "<path fill=\"none\" stroke=\"#000000\" d=\"M365.8674,-78.746C354.1828,-78.7154 342.5777,-78.5076 331.973,-78.1225\"/>\n",
       "<polygon fill=\"#000000\" stroke=\"#000000\" points=\"331.8782,-74.6152 321.7359,-77.6784 331.5748,-81.6086 331.8782,-74.6152\"/>\n",
       "</g>\n",
       "<!-- set()&#45;&gt;{&#39;farmer&#39;, &#39;goat&#39;} -->\n",
       "<g id=\"edge15\" class=\"edge\">\n",
       "<title>set()&#45;&gt;{&#39;farmer&#39;, &#39;goat&#39;}</title>\n",
       "<path fill=\"none\" stroke=\"#000000\" d=\"M593.558,-131.0487C575.7538,-132.3345 551.1476,-132.8915 527.4509,-132.7196\"/>\n",
       "<polygon fill=\"#000000\" stroke=\"#000000\" points=\"527.4138,-129.219 517.3733,-132.6013 527.3315,-136.2185 527.4138,-129.219\"/>\n",
       "</g>\n",
       "</g>\n",
       "</svg>\n"
      ],
      "text/plain": [
       "<graphviz.dot.Digraph at 0x7ff75047b730>"
      ]
     },
     "execution_count": 9,
     "metadata": {},
     "output_type": "execute_result"
    }
   ],
   "source": [
    "dot = dot_graph(R)\n",
    "dot"
   ]
  },
  {
   "cell_type": "code",
   "execution_count": 30,
   "metadata": {},
   "outputs": [
    {
     "data": {
      "text/plain": [
       "'wolf-goat-cabbage.pdf'"
      ]
     },
     "execution_count": 30,
     "metadata": {},
     "output_type": "execute_result"
    }
   ],
   "source": [
    "dot.render('wolf-goat-cabbage')"
   ]
  },
  {
   "cell_type": "markdown",
   "metadata": {},
   "source": [
    "At the beginning everything is on the left shore and nothing is on the right shore.   The goal is to have everybody on the right shore.  In that case, the left shore will be empty."
   ]
  },
  {
   "cell_type": "code",
   "execution_count": 29,
   "metadata": {},
   "outputs": [
    {
     "data": {
      "text/plain": [
       "(frozenset({'cabbage', 'farmer', 'goat', 'wolf'}),\n",
       " frozenset({'cabbage', 'wolf'}),\n",
       " frozenset({'cabbage', 'farmer', 'wolf'}),\n",
       " frozenset({'cabbage'}),\n",
       " frozenset({'cabbage', 'farmer', 'goat'}),\n",
       " frozenset({'goat'}),\n",
       " frozenset({'farmer', 'goat'}),\n",
       " frozenset())"
      ]
     },
     "execution_count": 29,
     "metadata": {},
     "output_type": "execute_result"
    }
   ],
   "source": [
    "start = All\n",
    "goal  = frozenset()\n",
    "Path  = search(R, start, goal)\n",
    "Path"
   ]
  },
  {
   "cell_type": "markdown",
   "metadata": {},
   "source": [
    "## Auxiliary Code for Pretty Printing"
   ]
  },
  {
   "cell_type": "markdown",
   "metadata": {},
   "source": [
    "The following code is used for printing the path that has been found.  We won't discuss the details of these functions."
   ]
  },
  {
   "cell_type": "code",
   "execution_count": 31,
   "metadata": {},
   "outputs": [
    {
     "name": "stdout",
     "output_type": "stream",
     "text": [
      "{'farmer', 'cabbage', 'goat', 'wolf'}                                   {}\n",
      "                         >>>>  {'farmer', 'goat'}  >>>> \n",
      "{'cabbage', 'wolf'}                                     {'farmer', 'goat'}\n",
      "                         <<<<  {'farmer'}  <<<< \n",
      "{'farmer', 'cabbage', 'wolf'}                                     {'goat'}\n",
      "                         >>>>  {'farmer', 'wolf'}  >>>> \n",
      "{'cabbage'}                                     {'farmer', 'goat', 'wolf'}\n",
      "                         <<<<  {'farmer', 'goat'}  <<<< \n",
      "{'farmer', 'cabbage', 'goat'}                                     {'wolf'}\n",
      "                         >>>>  {'farmer', 'cabbage'}  >>>> \n",
      "{'goat'}                                     {'farmer', 'cabbage', 'wolf'}\n",
      "                         <<<<  {'farmer'}  <<<< \n",
      "{'farmer', 'goat'}                                     {'cabbage', 'wolf'}\n",
      "                         >>>>  {'farmer', 'goat'}  >>>> \n",
      "{}                                   {'farmer', 'cabbage', 'goat', 'wolf'}\n"
     ]
    }
   ],
   "source": [
    "def mkPair(S, All):\n",
    "    \"Given the left shore, compute both the left shore and the right shore.\"\n",
    "    return (S, All - S);\n",
    "\n",
    "def my_str(s):\n",
    "    \"Print frozen sets as sets.\"\n",
    "    if len(s) == 0:\n",
    "        return \"{}\"\n",
    "    else:\n",
    "        return str(set(s))\n",
    "    \n",
    "def printPath(Path, All):\n",
    "    \"print the path one transition at a time\"\n",
    "    for i in range(len(Path)):\n",
    "        (S1, S2) = mkPair(Path[i], All)\n",
    "        if (len(S1) == 0 or len(S2) == 0):\n",
    "            print(my_str(S1), 33 * \" \", my_str(S2))\n",
    "        else:\n",
    "            print(my_str(S1), 35 * \" \", my_str(S2))\n",
    "        if i + 1 == len(Path): \n",
    "            break\n",
    "        (T1, T2) = mkPair(Path[i+1], All)        \n",
    "        if \"farmer\" in S1:\n",
    "            B = S1 - T1  # the boat crossing from left to right\n",
    "            print(\"                         >>>> \", set(B), \" >>>> \")\n",
    "        else:\n",
    "            B = S2 - T2  # the boat crossing from right to left\n",
    "            print(\"                         <<<< \", set(B), \" <<<< \")\n",
    "printPath(Path, All)"
   ]
  },
  {
   "cell_type": "code",
   "execution_count": null,
   "metadata": {},
   "outputs": [],
   "source": []
  }
 ],
 "metadata": {
  "@webio": {
   "lastCommId": null,
   "lastKernelId": null
  },
  "hide_input": false,
  "kernelspec": {
   "display_name": "Python 3",
   "language": "python",
   "name": "python3"
  },
  "language_info": {
   "codemirror_mode": {
    "name": "ipython",
    "version": 3
   },
   "file_extension": ".py",
   "mimetype": "text/x-python",
   "name": "python",
   "nbconvert_exporter": "python",
   "pygments_lexer": "ipython3",
   "version": "3.8.2"
  },
  "toc": {
   "base_numbering": 1,
   "nav_menu": {},
   "number_sections": true,
   "sideBar": true,
   "skip_h1_title": false,
   "title_cell": "Table of Contents",
   "title_sidebar": "Contents",
   "toc_cell": false,
   "toc_position": {},
   "toc_section_display": true,
   "toc_window_display": false
  },
  "varInspector": {
   "cols": {
    "lenName": 16,
    "lenType": 16,
    "lenVar": 40
   },
   "kernels_config": {
    "python": {
     "delete_cmd_postfix": "",
     "delete_cmd_prefix": "del ",
     "library": "var_list.py",
     "varRefreshCmd": "print(var_dic_list())"
    },
    "r": {
     "delete_cmd_postfix": ") ",
     "delete_cmd_prefix": "rm(",
     "library": "var_list.r",
     "varRefreshCmd": "cat(var_dic_list()) "
    }
   },
   "types_to_exclude": [
    "module",
    "function",
    "builtin_function_or_method",
    "instance",
    "_Feature"
   ],
   "window_display": false
  }
 },
 "nbformat": 4,
 "nbformat_minor": 2
}
